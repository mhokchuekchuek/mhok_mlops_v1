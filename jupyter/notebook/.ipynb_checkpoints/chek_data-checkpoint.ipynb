{
 "cells": [
  {
   "cell_type": "code",
   "execution_count": 1,
   "id": "ca654ad5-50ca-4cbd-9886-0fda41a752c4",
   "metadata": {},
   "outputs": [],
   "source": [
    "import pandas as pd\n",
    "df = pd.read_csv(\"/ml_data/ddproperty_final.csv\")"
   ]
  },
  {
   "cell_type": "code",
   "execution_count": 29,
   "id": "22c3f1c5-6f9e-4726-83df-b591f7e7f738",
   "metadata": {},
   "outputs": [
    {
     "data": {
      "text/html": [
       "<div>\n",
       "<style scoped>\n",
       "    .dataframe tbody tr th:only-of-type {\n",
       "        vertical-align: middle;\n",
       "    }\n",
       "\n",
       "    .dataframe tbody tr th {\n",
       "        vertical-align: top;\n",
       "    }\n",
       "\n",
       "    .dataframe thead th {\n",
       "        text-align: right;\n",
       "    }\n",
       "</style>\n",
       "<table border=\"1\" class=\"dataframe\">\n",
       "  <thead>\n",
       "    <tr style=\"text-align: right;\">\n",
       "      <th></th>\n",
       "      <th>Unnamed: 0</th>\n",
       "      <th>price</th>\n",
       "      <th>bedroom</th>\n",
       "      <th>bathroom</th>\n",
       "      <th>sqm</th>\n",
       "      <th>developer</th>\n",
       "      <th>built_year</th>\n",
       "      <th>district</th>\n",
       "      <th>luxuary</th>\n",
       "      <th>public</th>\n",
       "      <th>BRT_distance</th>\n",
       "      <th>BTS_distance</th>\n",
       "      <th>MRT_distance</th>\n",
       "      <th>APL_distance</th>\n",
       "      <th>feature</th>\n",
       "    </tr>\n",
       "  </thead>\n",
       "  <tbody>\n",
       "    <tr>\n",
       "      <th>0</th>\n",
       "      <td>0</td>\n",
       "      <td>8925000</td>\n",
       "      <td>1</td>\n",
       "      <td>1</td>\n",
       "      <td>33.00</td>\n",
       "      <td>Sansiri - แสนสิริ จำกัด (มหาชน)</td>\n",
       "      <td>2018</td>\n",
       "      <td>Ratchathewi</td>\n",
       "      <td>3</td>\n",
       "      <td>2</td>\n",
       "      <td>no</td>\n",
       "      <td>220</td>\n",
       "      <td>no</td>\n",
       "      <td>no</td>\n",
       "      <td>[pool, Multi-purpose hall, sauna, Library, sec...</td>\n",
       "    </tr>\n",
       "    <tr>\n",
       "      <th>1</th>\n",
       "      <td>1</td>\n",
       "      <td>3300000</td>\n",
       "      <td>0</td>\n",
       "      <td>1</td>\n",
       "      <td>33.51</td>\n",
       "      <td>no</td>\n",
       "      <td>2012</td>\n",
       "      <td>Ratchathewi</td>\n",
       "      <td>1</td>\n",
       "      <td>1</td>\n",
       "      <td>no</td>\n",
       "      <td>810</td>\n",
       "      <td>760</td>\n",
       "      <td>570</td>\n",
       "      <td>[pool, Mini-Mart, sauna, security, fitness]</td>\n",
       "    </tr>\n",
       "    <tr>\n",
       "      <th>2</th>\n",
       "      <td>2</td>\n",
       "      <td>8290000</td>\n",
       "      <td>1</td>\n",
       "      <td>1</td>\n",
       "      <td>60.00</td>\n",
       "      <td>Supalai - ศุภาลัย จำกัด (มหาชน)</td>\n",
       "      <td>2015</td>\n",
       "      <td>Ratchathewi</td>\n",
       "      <td>1</td>\n",
       "      <td>0</td>\n",
       "      <td>no</td>\n",
       "      <td>no</td>\n",
       "      <td>no</td>\n",
       "      <td>370</td>\n",
       "      <td>[pool, sauna, security, fitness]</td>\n",
       "    </tr>\n",
       "    <tr>\n",
       "      <th>3</th>\n",
       "      <td>3</td>\n",
       "      <td>9900000</td>\n",
       "      <td>2</td>\n",
       "      <td>2</td>\n",
       "      <td>66.00</td>\n",
       "      <td>no</td>\n",
       "      <td>2012</td>\n",
       "      <td>Ratchathewi</td>\n",
       "      <td>1</td>\n",
       "      <td>0</td>\n",
       "      <td>no</td>\n",
       "      <td>170</td>\n",
       "      <td>180</td>\n",
       "      <td>140</td>\n",
       "      <td>[cook, Maidsroom, Water Heater, Corner Unit, v...</td>\n",
       "    </tr>\n",
       "    <tr>\n",
       "      <th>4</th>\n",
       "      <td>4</td>\n",
       "      <td>8320000</td>\n",
       "      <td>1</td>\n",
       "      <td>1</td>\n",
       "      <td>35.00</td>\n",
       "      <td>Sansiri - แสนสิริ จำกัด (มหาชน)</td>\n",
       "      <td>2018</td>\n",
       "      <td>Ratchathewi</td>\n",
       "      <td>3</td>\n",
       "      <td>2</td>\n",
       "      <td>no</td>\n",
       "      <td>220</td>\n",
       "      <td>no</td>\n",
       "      <td>no</td>\n",
       "      <td>[pool, Multi-purpose hall, sauna, Library, sec...</td>\n",
       "    </tr>\n",
       "    <tr>\n",
       "      <th>...</th>\n",
       "      <td>...</td>\n",
       "      <td>...</td>\n",
       "      <td>...</td>\n",
       "      <td>...</td>\n",
       "      <td>...</td>\n",
       "      <td>...</td>\n",
       "      <td>...</td>\n",
       "      <td>...</td>\n",
       "      <td>...</td>\n",
       "      <td>...</td>\n",
       "      <td>...</td>\n",
       "      <td>...</td>\n",
       "      <td>...</td>\n",
       "      <td>...</td>\n",
       "      <td>...</td>\n",
       "    </tr>\n",
       "    <tr>\n",
       "      <th>7709</th>\n",
       "      <td>7709</td>\n",
       "      <td>3900000</td>\n",
       "      <td>1</td>\n",
       "      <td>1</td>\n",
       "      <td>32.89</td>\n",
       "      <td>Pruksa Real Estate - พฤกษา เรียลเอสเตท จำกัด (...</td>\n",
       "      <td>2017</td>\n",
       "      <td>Chatuchak</td>\n",
       "      <td>0</td>\n",
       "      <td>0</td>\n",
       "      <td>no</td>\n",
       "      <td>no</td>\n",
       "      <td>40</td>\n",
       "      <td>no</td>\n",
       "      <td>[Renovated]</td>\n",
       "    </tr>\n",
       "    <tr>\n",
       "      <th>7710</th>\n",
       "      <td>7710</td>\n",
       "      <td>6300000</td>\n",
       "      <td>1</td>\n",
       "      <td>1</td>\n",
       "      <td>35.00</td>\n",
       "      <td>AP Thailand - เอพี (ไทยแลนด์) จำกัด (มหาชน)</td>\n",
       "      <td>2020</td>\n",
       "      <td>Chatuchak</td>\n",
       "      <td>0</td>\n",
       "      <td>0</td>\n",
       "      <td>no</td>\n",
       "      <td>120</td>\n",
       "      <td>500</td>\n",
       "      <td>no</td>\n",
       "      <td>[Private Garden, Air-Conditioning]</td>\n",
       "    </tr>\n",
       "    <tr>\n",
       "      <th>7711</th>\n",
       "      <td>7711</td>\n",
       "      <td>2850000</td>\n",
       "      <td>1</td>\n",
       "      <td>1</td>\n",
       "      <td>41.00</td>\n",
       "      <td>AP Thailand - เอพี (ไทยแลนด์) จำกัด (มหาชน)</td>\n",
       "      <td>2013</td>\n",
       "      <td>Chatuchak</td>\n",
       "      <td>0</td>\n",
       "      <td>0</td>\n",
       "      <td>no</td>\n",
       "      <td>no</td>\n",
       "      <td>560</td>\n",
       "      <td>no</td>\n",
       "      <td>[pool, security, car park, fitness]</td>\n",
       "    </tr>\n",
       "    <tr>\n",
       "      <th>7712</th>\n",
       "      <td>7712</td>\n",
       "      <td>49456400</td>\n",
       "      <td>3</td>\n",
       "      <td>3</td>\n",
       "      <td>290.00</td>\n",
       "      <td>Major Development - เมเจอร์ ดีเวลลอปเม้นท์ จำก...</td>\n",
       "      <td>2014</td>\n",
       "      <td>Chatuchak</td>\n",
       "      <td>0</td>\n",
       "      <td>1</td>\n",
       "      <td>no</td>\n",
       "      <td>no</td>\n",
       "      <td>550</td>\n",
       "      <td>no</td>\n",
       "      <td>[pool, BBQ pits, security, car park, fitness]</td>\n",
       "    </tr>\n",
       "    <tr>\n",
       "      <th>7713</th>\n",
       "      <td>7713</td>\n",
       "      <td>7450000</td>\n",
       "      <td>1</td>\n",
       "      <td>1</td>\n",
       "      <td>34.00</td>\n",
       "      <td>Sansiri - แสนสิริ จำกัด (มหาชน)</td>\n",
       "      <td>2018</td>\n",
       "      <td>Chatuchak</td>\n",
       "      <td>2</td>\n",
       "      <td>2</td>\n",
       "      <td>no</td>\n",
       "      <td>500</td>\n",
       "      <td>380</td>\n",
       "      <td>no</td>\n",
       "      <td>[pool, sauna, security, Lounge, Jacuzzi, car p...</td>\n",
       "    </tr>\n",
       "  </tbody>\n",
       "</table>\n",
       "<p>7714 rows × 15 columns</p>\n",
       "</div>"
      ],
      "text/plain": [
       "      Unnamed: 0     price  bedroom  bathroom     sqm  \\\n",
       "0              0   8925000        1         1   33.00   \n",
       "1              1   3300000        0         1   33.51   \n",
       "2              2   8290000        1         1   60.00   \n",
       "3              3   9900000        2         2   66.00   \n",
       "4              4   8320000        1         1   35.00   \n",
       "...          ...       ...      ...       ...     ...   \n",
       "7709        7709   3900000        1         1   32.89   \n",
       "7710        7710   6300000        1         1   35.00   \n",
       "7711        7711   2850000        1         1   41.00   \n",
       "7712        7712  49456400        3         3  290.00   \n",
       "7713        7713   7450000        1         1   34.00   \n",
       "\n",
       "                                              developer  built_year  \\\n",
       "0                       Sansiri - แสนสิริ จำกัด (มหาชน)        2018   \n",
       "1                                                    no        2012   \n",
       "2                       Supalai - ศุภาลัย จำกัด (มหาชน)        2015   \n",
       "3                                                    no        2012   \n",
       "4                       Sansiri - แสนสิริ จำกัด (มหาชน)        2018   \n",
       "...                                                 ...         ...   \n",
       "7709  Pruksa Real Estate - พฤกษา เรียลเอสเตท จำกัด (...        2017   \n",
       "7710        AP Thailand - เอพี (ไทยแลนด์) จำกัด (มหาชน)        2020   \n",
       "7711        AP Thailand - เอพี (ไทยแลนด์) จำกัด (มหาชน)        2013   \n",
       "7712  Major Development - เมเจอร์ ดีเวลลอปเม้นท์ จำก...        2014   \n",
       "7713                    Sansiri - แสนสิริ จำกัด (มหาชน)        2018   \n",
       "\n",
       "         district  luxuary  public BRT_distance BTS_distance MRT_distance  \\\n",
       "0     Ratchathewi        3       2           no          220           no   \n",
       "1     Ratchathewi        1       1           no          810          760   \n",
       "2     Ratchathewi        1       0           no           no           no   \n",
       "3     Ratchathewi        1       0           no          170          180   \n",
       "4     Ratchathewi        3       2           no          220           no   \n",
       "...           ...      ...     ...          ...          ...          ...   \n",
       "7709    Chatuchak        0       0           no           no           40   \n",
       "7710    Chatuchak        0       0           no          120          500   \n",
       "7711    Chatuchak        0       0           no           no          560   \n",
       "7712    Chatuchak        0       1           no           no          550   \n",
       "7713    Chatuchak        2       2           no          500          380   \n",
       "\n",
       "     APL_distance                                            feature  \n",
       "0              no  [pool, Multi-purpose hall, sauna, Library, sec...  \n",
       "1             570        [pool, Mini-Mart, sauna, security, fitness]  \n",
       "2             370                   [pool, sauna, security, fitness]  \n",
       "3             140  [cook, Maidsroom, Water Heater, Corner Unit, v...  \n",
       "4              no  [pool, Multi-purpose hall, sauna, Library, sec...  \n",
       "...           ...                                                ...  \n",
       "7709           no                                        [Renovated]  \n",
       "7710           no                 [Private Garden, Air-Conditioning]  \n",
       "7711           no                [pool, security, car park, fitness]  \n",
       "7712           no      [pool, BBQ pits, security, car park, fitness]  \n",
       "7713           no  [pool, sauna, security, Lounge, Jacuzzi, car p...  \n",
       "\n",
       "[7714 rows x 15 columns]"
      ]
     },
     "execution_count": 29,
     "metadata": {},
     "output_type": "execute_result"
    }
   ],
   "source": [
    "df"
   ]
  },
  {
   "cell_type": "code",
   "execution_count": 5,
   "id": "09f2dd13-1c94-476f-bbd9-c2a4f7301826",
   "metadata": {},
   "outputs": [
    {
     "data": {
      "text/plain": [
       "[\"['pool'\",\n",
       " \" 'Multi-purpose hall'\",\n",
       " \" 'sauna'\",\n",
       " \" 'Library'\",\n",
       " \" 'security'\",\n",
       " \" 'Jacuzzi'\",\n",
       " \" 'car park'\",\n",
       " \" 'fitness']\"]"
      ]
     },
     "execution_count": 5,
     "metadata": {},
     "output_type": "execute_result"
    }
   ],
   "source": [
    "df[\"feature\"][0].split(\",\")"
   ]
  },
  {
   "cell_type": "code",
   "execution_count": 35,
   "id": "9173a9e8-decb-4fed-9e34-2a21ebd2b717",
   "metadata": {},
   "outputs": [],
   "source": [
    "import re\n",
    "\n",
    "def str_to_list(x):\n",
    "    list_x = []\n",
    "    if x.split(\",\"):\n",
    "        list_x.append(re.sub(\"[\\[\\'\\]]\", \"\", x).strip())\n",
    "    else:\n",
    "        list_x.append(re.sub(\"[\\[\\'\\]]\", \"\", x).strip())\n",
    "    return list_x\n",
    "\n",
    "def str_to_int(x):\n",
    "    if x == \"no\":\n",
    "        return 10000\n",
    "    return x\n",
    "\n",
    "def change_type_columns_feature(df_ja):\n",
    "    df_ja[\"feature\"] = df_ja[\"feature\"].apply(str_to_list)\n",
    "\n",
    "def change_no_to_int(df_ja):\n",
    "    for i in [\"BRT_distance\", \"BTS_distance\", \"MRT_distance\", \"APL_distance\"]:\n",
    "        df_ja[i] = df_ja[i].apply(str_to_int) \n",
    "    "
   ]
  },
  {
   "cell_type": "code",
   "execution_count": 25,
   "id": "702e29ed-8d11-4299-870e-44efa97376d2",
   "metadata": {},
   "outputs": [],
   "source": [
    "df[\"feature\"] = df[\"feature\"].apply(str_to_list)"
   ]
  },
  {
   "cell_type": "code",
   "execution_count": 26,
   "id": "52203e13-27ba-4576-b541-7ef1d7f61fed",
   "metadata": {},
   "outputs": [
    {
     "data": {
      "text/plain": [
       "'pool'"
      ]
     },
     "execution_count": 26,
     "metadata": {},
     "output_type": "execute_result"
    }
   ],
   "source": [
    "import re\n",
    "re.sub(\"[\\[\\']\", \"\", a)"
   ]
  },
  {
   "cell_type": "code",
   "execution_count": 27,
   "id": "077144ab-c130-4dc3-ab30-76c1aca42ee4",
   "metadata": {},
   "outputs": [
    {
     "data": {
      "text/plain": [
       "array([list(['Renovated'])], dtype=object)"
      ]
     },
     "execution_count": 27,
     "metadata": {},
     "output_type": "execute_result"
    }
   ],
   "source": [
    "df[df.index == 7709][\"feature\"].values"
   ]
  },
  {
   "cell_type": "code",
   "execution_count": 28,
   "id": "e059ca5d-18be-4f9d-abda-d74d21fb8f42",
   "metadata": {},
   "outputs": [
    {
     "data": {
      "text/plain": [
       "['pool, Multi-purpose hall, sauna, Library, security, Jacuzzi, car park, fitness']"
      ]
     },
     "execution_count": 28,
     "metadata": {},
     "output_type": "execute_result"
    }
   ],
   "source": [
    "df[\"feature\"][0]"
   ]
  },
  {
   "cell_type": "code",
   "execution_count": 37,
   "id": "2e3c8895-861f-46af-bd7d-ffe4efc2d1fc",
   "metadata": {},
   "outputs": [
    {
     "data": {
      "text/plain": [
       "['BRT_distance', 'BTS_distance', 'MRT_distance', 'APL_distance']"
      ]
     },
     "execution_count": 37,
     "metadata": {},
     "output_type": "execute_result"
    }
   ],
   "source": [
    "[\"BRT_distance\", \"BTS_distance\", \"MRT_distance\", \"APL_distance\"]"
   ]
  },
  {
   "cell_type": "code",
   "execution_count": 40,
   "id": "06872705-461a-4671-ace4-35f94f2860c9",
   "metadata": {},
   "outputs": [],
   "source": [
    "df[\"BRT_distance\"] = df[\"BRT_distance\"].apply(str_to_int)"
   ]
  },
  {
   "cell_type": "code",
   "execution_count": 41,
   "id": "9e1d6ede-d748-4aae-881d-6a53402c19ee",
   "metadata": {},
   "outputs": [
    {
     "data": {
      "text/plain": [
       "0       10000\n",
       "1       10000\n",
       "2       10000\n",
       "3       10000\n",
       "4       10000\n",
       "        ...  \n",
       "7709    10000\n",
       "7710    10000\n",
       "7711    10000\n",
       "7712    10000\n",
       "7713    10000\n",
       "Name: BRT_distance, Length: 7714, dtype: object"
      ]
     },
     "execution_count": 41,
     "metadata": {},
     "output_type": "execute_result"
    }
   ],
   "source": [
    "df[\"BRT_distance\"]"
   ]
  },
  {
   "cell_type": "code",
   "execution_count": 42,
   "id": "2d0e8f92-e35d-49d3-a48e-4192790fbd35",
   "metadata": {},
   "outputs": [],
   "source": [
    "def f(x):\n",
    "    return pd.Series([str_to_int(x)])"
   ]
  },
  {
   "cell_type": "code",
   "execution_count": null,
   "id": "79d20257-fd92-4c95-9d38-b19b5ef428b4",
   "metadata": {},
   "outputs": [],
   "source": [
    "df[\"BRT_distance\"] = df[\"BRT_distance\"].apply(f)"
   ]
  }
 ],
 "metadata": {
  "kernelspec": {
   "display_name": "Python 3 (ipykernel)",
   "language": "python",
   "name": "python3"
  },
  "language_info": {
   "codemirror_mode": {
    "name": "ipython",
    "version": 3
   },
   "file_extension": ".py",
   "mimetype": "text/x-python",
   "name": "python",
   "nbconvert_exporter": "python",
   "pygments_lexer": "ipython3",
   "version": "3.9.13"
  }
 },
 "nbformat": 4,
 "nbformat_minor": 5
}
