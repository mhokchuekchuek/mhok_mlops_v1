{
 "cells": [
  {
   "cell_type": "markdown",
   "id": "511d18aa-caae-4f8a-9cf2-bf68e89c23f5",
   "metadata": {},
   "source": [
    "**how to use eda**\n",
    "1) import data\n",
    "2) เข้า ใช้ function eda + ตั้งชื่อ file\n",
    "3) runnn"
   ]
  },
  {
   "cell_type": "markdown",
   "id": "9ca310fc-0cdf-4b0f-bae0-eb347dcb0662",
   "metadata": {
    "tags": []
   },
   "source": [
    "# import data"
   ]
  },
  {
   "cell_type": "code",
   "execution_count": 2,
   "id": "68c299c1-1221-421f-96b4-f413e1d98c7a",
   "metadata": {},
   "outputs": [],
   "source": [
    "import pandas as pd\n",
    "csv_url = (\"http://archive.ics.uci.edu/ml/machine-learning-databases/wine-quality/winequality-red.csv\")\n",
    "data = pd.read_csv(csv_url, sep=\";\")"
   ]
  },
  {
   "cell_type": "markdown",
   "id": "bae29c07-6dd0-4e3b-8e9c-46a4721aeb7f",
   "metadata": {},
   "source": [
    "# เข้า ใช้ function eda + ตั้งชื่อ file"
   ]
  },
  {
   "cell_type": "code",
   "execution_count": 3,
   "id": "28b4d9b9-d705-4401-bba4-4dac43608f83",
   "metadata": {},
   "outputs": [],
   "source": [
    "from script.eda.eda_ja import eda\n",
    "eda(data, \"wine_quality\")"
   ]
  },
  {
   "cell_type": "markdown",
   "id": "03b39bdc-04a1-437b-836c-854ccb0653f3",
   "metadata": {},
   "source": [
    "# runnnnnn"
   ]
  },
  {
   "cell_type": "code",
   "execution_count": 5,
   "id": "c2252fde-ca06-4d36-8905-0c0ebdf42745",
   "metadata": {},
   "outputs": [
    {
     "name": "stderr",
     "output_type": "stream",
     "text": [
      "sh: 1: lsof: not found\n",
      "sh: 1: kill: Usage: kill [-s sigspec | -signum | -sigspec] [pid | job]... or\n",
      "kill -l [exitstatus]\n"
     ]
    },
    {
     "name": "stdout",
     "output_type": "stream",
     "text": [
      " * Serving Flask app 'app'\n",
      " * Debug mode: off\n"
     ]
    },
    {
     "name": "stderr",
     "output_type": "stream",
     "text": [
      "WARNING: This is a development server. Do not use it in a production deployment. Use a production WSGI server instead.\n",
      " * Running on all addresses (0.0.0.0)\n",
      " * Running on http://127.0.0.1:8081\n",
      " * Running on http://172.26.0.4:8081\n",
      "Press CTRL+C to quit\n"
     ]
    },
    {
     "data": {
      "text/plain": [
       "2"
      ]
     },
     "execution_count": 5,
     "metadata": {},
     "output_type": "execute_result"
    }
   ],
   "source": [
    "from script.eda.run import runner\n",
    "runner()"
   ]
  },
  {
   "cell_type": "code",
   "execution_count": null,
   "id": "8d7f3869-fdbd-4f85-bc24-6785b6e0f9de",
   "metadata": {},
   "outputs": [],
   "source": []
  }
 ],
 "metadata": {
  "kernelspec": {
   "display_name": "Python 3 (ipykernel)",
   "language": "python",
   "name": "python3"
  },
  "language_info": {
   "codemirror_mode": {
    "name": "ipython",
    "version": 3
   },
   "file_extension": ".py",
   "mimetype": "text/x-python",
   "name": "python",
   "nbconvert_exporter": "python",
   "pygments_lexer": "ipython3",
   "version": "3.9.13"
  }
 },
 "nbformat": 4,
 "nbformat_minor": 5
}
