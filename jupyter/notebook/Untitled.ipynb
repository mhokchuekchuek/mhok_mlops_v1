{
 "cells": [
  {
   "cell_type": "code",
   "execution_count": 1,
   "id": "2a962be3-54e6-4640-b41f-c10541eb7e02",
   "metadata": {},
   "outputs": [],
   "source": [
    "import joblib\n",
    "model = joblib.load(\"/artifact/mlruns/813623427044464195/69402f2e004a4032b669f7800a476315/artifacts/model/model.pkl\")"
   ]
  },
  {
   "cell_type": "code",
   "execution_count": 2,
   "id": "49e3ac5a-8db5-410c-96ff-dfb7e93228d0",
   "metadata": {},
   "outputs": [],
   "source": [
    "all_columns = []\n",
    "cat_feature = []\n",
    "for i in range(len(model[\"preprocessor\"].transformers_)):\n",
    "    if model[\"preprocessor\"].transformers_[i][0] == \"num\":\n",
    "        all_columns.extend(model[\"preprocessor\"].transformers[i][2])\n",
    "    else:\n",
    "        for j in range(len(model['preprocessor'].transformers_[1][1].categories_)):\n",
    "            all_columns.extend(list(model['preprocessor'].transformers_[1][1].categories_[j]))\n",
    "            cat_feature.append(list(model['preprocessor'].transformers_[1][1].categories_[j]))"
   ]
  },
  {
   "cell_type": "code",
   "execution_count": 5,
   "id": "994d0fea-e24f-4448-b344-01dec88bc4c5",
   "metadata": {},
   "outputs": [
    {
     "data": {
      "text/plain": [
       "True"
      ]
     },
     "execution_count": 5,
     "metadata": {},
     "output_type": "execute_result"
    }
   ],
   "source": [
    "\"Pathum Wan\" in all_columns"
   ]
  },
  {
   "cell_type": "code",
   "execution_count": null,
   "id": "c4fa93f9-146c-4e07-bd0f-bb729af4b05d",
   "metadata": {},
   "outputs": [],
   "source": []
  }
 ],
 "metadata": {
  "kernelspec": {
   "display_name": "Python 3 (ipykernel)",
   "language": "python",
   "name": "python3"
  },
  "language_info": {
   "codemirror_mode": {
    "name": "ipython",
    "version": 3
   },
   "file_extension": ".py",
   "mimetype": "text/x-python",
   "name": "python",
   "nbconvert_exporter": "python",
   "pygments_lexer": "ipython3",
   "version": "3.9.13"
  }
 },
 "nbformat": 4,
 "nbformat_minor": 5
}
