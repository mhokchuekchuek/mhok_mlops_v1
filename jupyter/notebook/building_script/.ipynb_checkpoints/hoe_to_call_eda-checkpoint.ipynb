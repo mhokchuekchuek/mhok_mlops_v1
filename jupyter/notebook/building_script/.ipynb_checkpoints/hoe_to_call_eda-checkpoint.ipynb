{
 "cells": [
  {
   "cell_type": "markdown",
   "id": "511d18aa-caae-4f8a-9cf2-bf68e89c23f5",
   "metadata": {},
   "source": [
    "**how to use eda**\n",
    "1) import data\n",
    "2) เข้า ใช้ function eda + ตั้งชื่อ file\n",
    "3) runnn"
   ]
  },
  {
   "cell_type": "markdown",
   "id": "9ca310fc-0cdf-4b0f-bae0-eb347dcb0662",
   "metadata": {
    "tags": []
   },
   "source": [
    "# import data"
   ]
  },
  {
   "cell_type": "code",
   "execution_count": 1,
   "id": "68c299c1-1221-421f-96b4-f413e1d98c7a",
   "metadata": {},
   "outputs": [],
   "source": [
    "import pandas as pd\n",
    "csv_url = (\"http://archive.ics.uci.edu/ml/machine-learning-databases/wine-quality/winequality-red.csv\")\n",
    "data = pd.read_csv(csv_url, sep=\";\")"
   ]
  },
  {
   "cell_type": "markdown",
   "id": "bae29c07-6dd0-4e3b-8e9c-46a4721aeb7f",
   "metadata": {},
   "source": [
    "# เข้า ใช้ function eda + ตั้งชื่อ file"
   ]
  },
  {
   "cell_type": "code",
   "execution_count": 3,
   "id": "28b4d9b9-d705-4401-bba4-4dac43608f83",
   "metadata": {},
   "outputs": [
    {
     "data": {
      "application/vnd.jupyter.widget-view+json": {
       "model_id": "3aa37170a4bd4436a69a2939c8804246",
       "version_major": 2,
       "version_minor": 0
      },
      "text/plain": [
       "Summarize dataset:   0%|          | 0/5 [00:00<?, ?it/s]"
      ]
     },
     "metadata": {},
     "output_type": "display_data"
    },
    {
     "name": "stderr",
     "output_type": "stream",
     "text": [
      "/usr/local/lib/python3.9/site-packages/multimethod/__init__.py:315: FutureWarning: iteritems is deprecated and will be removed in a future version. Use .items instead.\n",
      "  return func(*args, **kwargs)\n",
      "/usr/local/lib/python3.9/site-packages/multimethod/__init__.py:315: FutureWarning: In a future version, `df.iloc[:, i] = newvals` will attempt to set the values inplace instead of always setting a new array. To retain the old behavior, use either `df[df.columns[i]] = newvals` or, if columns are non-unique, `df.isetitem(i, newvals)`\n",
      "  return func(*args, **kwargs)\n"
     ]
    },
    {
     "data": {
      "application/vnd.jupyter.widget-view+json": {
       "model_id": "5ebd2b1d8d944514afce8107568fd872",
       "version_major": 2,
       "version_minor": 0
      },
      "text/plain": [
       "Generate report structure:   0%|          | 0/1 [00:00<?, ?it/s]"
      ]
     },
     "metadata": {},
     "output_type": "display_data"
    },
    {
     "data": {
      "application/vnd.jupyter.widget-view+json": {
       "model_id": "b0e8a7eef57741cbabc4f924c300d862",
       "version_major": 2,
       "version_minor": 0
      },
      "text/plain": [
       "Render HTML:   0%|          | 0/1 [00:00<?, ?it/s]"
      ]
     },
     "metadata": {},
     "output_type": "display_data"
    },
    {
     "data": {
      "application/vnd.jupyter.widget-view+json": {
       "model_id": "0c8bf25cde4240dc8b6e643febad74bf",
       "version_major": 2,
       "version_minor": 0
      },
      "text/plain": [
       "Export report to file:   0%|          | 0/1 [00:00<?, ?it/s]"
      ]
     },
     "metadata": {},
     "output_type": "display_data"
    }
   ],
   "source": [
    "from script.eda.eda_ja import eda\n",
    "eda(data, \"wine_quality\", overwrite = True)"
   ]
  },
  {
   "cell_type": "markdown",
   "id": "03b39bdc-04a1-437b-836c-854ccb0653f3",
   "metadata": {},
   "source": [
    "# runnnnnn"
   ]
  },
  {
   "cell_type": "code",
   "execution_count": 1,
   "id": "c2252fde-ca06-4d36-8905-0c0ebdf42745",
   "metadata": {},
   "outputs": [
    {
     "name": "stderr",
     "output_type": "stream",
     "text": [
      "sh: 1: lsof: not found\n",
      "sh: 1: kill: Usage: kill [-s sigspec | -signum | -sigspec] [pid | job]... or\n",
      "kill -l [exitstatus]\n",
      " * Running on all addresses.\n",
      "   WARNING: This is a development server. Do not use it in a production deployment.\n",
      " * Running on http://172.19.0.3:8081/ (Press CTRL+C to quit)\n"
     ]
    },
    {
     "name": "stdout",
     "output_type": "stream",
     "text": [
      " * Serving Flask app 'app' (lazy loading)\n",
      " * Environment: production\n",
      "   WARNING: This is a development server. Do not use it in a production deployment.\n",
      "   Use a production WSGI server instead.\n",
      " * Debug mode: off\n"
     ]
    },
    {
     "name": "stderr",
     "output_type": "stream",
     "text": [
      "172.19.0.1 - - [16/Dec/2022 17:02:16] \"GET / HTTP/1.1\" 200 -\n",
      "172.19.0.1 - - [16/Dec/2022 17:02:19] \"GET /favicon.ico HTTP/1.1\" 404 -\n"
     ]
    },
    {
     "data": {
      "text/plain": [
       "2"
      ]
     },
     "execution_count": 1,
     "metadata": {},
     "output_type": "execute_result"
    }
   ],
   "source": [
    "from script.eda.run import runner\n",
    "runner()"
   ]
  },
  {
   "cell_type": "code",
   "execution_count": null,
   "id": "8d7f3869-fdbd-4f85-bc24-6785b6e0f9de",
   "metadata": {},
   "outputs": [],
   "source": []
  }
 ],
 "metadata": {
  "kernelspec": {
   "display_name": "Python 3 (ipykernel)",
   "language": "python",
   "name": "python3"
  },
  "language_info": {
   "codemirror_mode": {
    "name": "ipython",
    "version": 3
   },
   "file_extension": ".py",
   "mimetype": "text/x-python",
   "name": "python",
   "nbconvert_exporter": "python",
   "pygments_lexer": "ipython3",
   "version": "3.9.13"
  }
 },
 "nbformat": 4,
 "nbformat_minor": 5
}
