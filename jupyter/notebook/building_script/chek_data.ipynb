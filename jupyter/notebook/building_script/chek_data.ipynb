{
 "cells": [
  {
   "cell_type": "code",
   "execution_count": 3,
   "id": "ca654ad5-50ca-4cbd-9886-0fda41a752c4",
   "metadata": {},
   "outputs": [],
   "source": [
    "import pandas as pd\n",
    "df = pd.read_csv(\"/ml_data/ddproperty_final.csv\")"
   ]
  },
  {
   "cell_type": "code",
   "execution_count": 4,
   "id": "22c3f1c5-6f9e-4726-83df-b591f7e7f738",
   "metadata": {},
   "outputs": [
    {
     "data": {
      "text/plain": [
       "Unnamed: 0        int64\n",
       "price             int64\n",
       "bedroom           int64\n",
       "bathroom          int64\n",
       "sqm             float64\n",
       "developer        object\n",
       "built_year        int64\n",
       "district         object\n",
       "luxuary           int64\n",
       "public            int64\n",
       "BRT_distance     object\n",
       "BTS_distance     object\n",
       "MRT_distance     object\n",
       "APL_distance     object\n",
       "feature          object\n",
       "dtype: object"
      ]
     },
     "execution_count": 4,
     "metadata": {},
     "output_type": "execute_result"
    }
   ],
   "source": [
    "df.dtypes"
   ]
  },
  {
   "cell_type": "code",
   "execution_count": 68,
   "id": "09f2dd13-1c94-476f-bbd9-c2a4f7301826",
   "metadata": {},
   "outputs": [
    {
     "data": {
      "text/plain": [
       "[\"['pool'\",\n",
       " \" 'Multi-purpose hall'\",\n",
       " \" 'sauna'\",\n",
       " \" 'Library'\",\n",
       " \" 'security'\",\n",
       " \" 'Jacuzzi'\",\n",
       " \" 'car park'\",\n",
       " \" 'fitness']\"]"
      ]
     },
     "execution_count": 68,
     "metadata": {},
     "output_type": "execute_result"
    }
   ],
   "source": [
    "df[\"feature\"][0].split(\",\")"
   ]
  },
  {
   "cell_type": "code",
   "execution_count": 69,
   "id": "9173a9e8-decb-4fed-9e34-2a21ebd2b717",
   "metadata": {},
   "outputs": [],
   "source": [
    "import re\n",
    "\n",
    "def str_to_list(x):\n",
    "    list_x = []\n",
    "    if x.split(\",\"):\n",
    "        for i in x.split(\",\"):\n",
    "            list_x.append(re.sub(\"[\\[\\'\\]]\", \"\", i).strip())\n",
    "    else:\n",
    "        list_x.append(re.sub(\"[\\[\\'\\]]\", \"\", x).strip())\n",
    "    return list_x\n",
    "\n",
    "def str_to_int(x):\n",
    "    if x == \"no\":\n",
    "        return 10000\n",
    "    return x\n",
    "\n",
    "def change_type_columns_feature(df_ja):\n",
    "    df_ja[\"feature\"] = df_ja[\"feature\"].apply(str_to_list)\n",
    "\n",
    "def change_no_to_int(df_ja):\n",
    "    for i in [\"BRT_distance\", \"BTS_distance\", \"MRT_distance\", \"APL_distance\"]:\n",
    "        df_ja[i] = df_ja[i].apply(str_to_int) \n",
    "    "
   ]
  },
  {
   "cell_type": "code",
   "execution_count": 70,
   "id": "702e29ed-8d11-4299-870e-44efa97376d2",
   "metadata": {},
   "outputs": [],
   "source": [
    "df[\"feature\"] = df[\"feature\"].apply(str_to_list)"
   ]
  },
  {
   "cell_type": "code",
   "execution_count": 71,
   "id": "52203e13-27ba-4576-b541-7ef1d7f61fed",
   "metadata": {},
   "outputs": [
    {
     "data": {
      "text/plain": [
       "'pool'"
      ]
     },
     "execution_count": 71,
     "metadata": {},
     "output_type": "execute_result"
    }
   ],
   "source": [
    "import re\n",
    "re.sub(\"[\\[\\']\", \"\", a)"
   ]
  },
  {
   "cell_type": "code",
   "execution_count": 72,
   "id": "077144ab-c130-4dc3-ab30-76c1aca42ee4",
   "metadata": {},
   "outputs": [
    {
     "data": {
      "text/plain": [
       "array([list(['Renovated'])], dtype=object)"
      ]
     },
     "execution_count": 72,
     "metadata": {},
     "output_type": "execute_result"
    }
   ],
   "source": [
    "df[df.index == 7709][\"feature\"].values"
   ]
  },
  {
   "cell_type": "code",
   "execution_count": 73,
   "id": "e059ca5d-18be-4f9d-abda-d74d21fb8f42",
   "metadata": {},
   "outputs": [
    {
     "data": {
      "text/plain": [
       "['pool',\n",
       " 'Multi-purpose hall',\n",
       " 'sauna',\n",
       " 'Library',\n",
       " 'security',\n",
       " 'Jacuzzi',\n",
       " 'car park',\n",
       " 'fitness']"
      ]
     },
     "execution_count": 73,
     "metadata": {},
     "output_type": "execute_result"
    }
   ],
   "source": [
    "df[\"feature\"][0]"
   ]
  },
  {
   "cell_type": "code",
   "execution_count": 74,
   "id": "2e3c8895-861f-46af-bd7d-ffe4efc2d1fc",
   "metadata": {},
   "outputs": [
    {
     "data": {
      "text/plain": [
       "['BRT_distance', 'BTS_distance', 'MRT_distance', 'APL_distance']"
      ]
     },
     "execution_count": 74,
     "metadata": {},
     "output_type": "execute_result"
    }
   ],
   "source": [
    "[\"BRT_distance\", \"BTS_distance\", \"MRT_distance\", \"APL_distance\"]"
   ]
  },
  {
   "cell_type": "code",
   "execution_count": 75,
   "id": "06872705-461a-4671-ace4-35f94f2860c9",
   "metadata": {},
   "outputs": [],
   "source": [
    "df[\"BRT_distance\"] = df[\"BRT_distance\"].apply(str_to_int)"
   ]
  },
  {
   "cell_type": "code",
   "execution_count": 76,
   "id": "9e1d6ede-d748-4aae-881d-6a53402c19ee",
   "metadata": {},
   "outputs": [
    {
     "data": {
      "text/plain": [
       "0       10000\n",
       "1       10000\n",
       "2       10000\n",
       "3       10000\n",
       "4       10000\n",
       "        ...  \n",
       "7709    10000\n",
       "7710    10000\n",
       "7711    10000\n",
       "7712    10000\n",
       "7713    10000\n",
       "Name: BRT_distance, Length: 7714, dtype: object"
      ]
     },
     "execution_count": 76,
     "metadata": {},
     "output_type": "execute_result"
    }
   ],
   "source": [
    "df[\"BRT_distance\"]"
   ]
  },
  {
   "cell_type": "code",
   "execution_count": 77,
   "id": "2d0e8f92-e35d-49d3-a48e-4192790fbd35",
   "metadata": {},
   "outputs": [],
   "source": [
    "def f(x):\n",
    "    return pd.Series([str_to_int(x), str_to_int(x),str_to_int(x),str_to_int(x)])"
   ]
  },
  {
   "cell_type": "code",
   "execution_count": 78,
   "id": "79d20257-fd92-4c95-9d38-b19b5ef428b4",
   "metadata": {
    "tags": []
   },
   "outputs": [
    {
     "data": {
      "text/html": [
       "<div>\n",
       "<style scoped>\n",
       "    .dataframe tbody tr th:only-of-type {\n",
       "        vertical-align: middle;\n",
       "    }\n",
       "\n",
       "    .dataframe tbody tr th {\n",
       "        vertical-align: top;\n",
       "    }\n",
       "\n",
       "    .dataframe thead th {\n",
       "        text-align: right;\n",
       "    }\n",
       "</style>\n",
       "<table border=\"1\" class=\"dataframe\">\n",
       "  <thead>\n",
       "    <tr style=\"text-align: right;\">\n",
       "      <th></th>\n",
       "      <th>Air-Conditioning</th>\n",
       "      <th>Audio System</th>\n",
       "      <th>BBQ pits</th>\n",
       "      <th>Basketball court</th>\n",
       "      <th>Bathtub</th>\n",
       "      <th>Bed</th>\n",
       "      <th>Billiards room</th>\n",
       "      <th>Broadband Internet</th>\n",
       "      <th>Club</th>\n",
       "      <th>Clubhouse</th>\n",
       "      <th>...</th>\n",
       "      <th>car park</th>\n",
       "      <th>cook</th>\n",
       "      <th>fitness</th>\n",
       "      <th>furniture</th>\n",
       "      <th>nan</th>\n",
       "      <th>pool</th>\n",
       "      <th>sauna</th>\n",
       "      <th>security</th>\n",
       "      <th>tv</th>\n",
       "      <th>view</th>\n",
       "    </tr>\n",
       "  </thead>\n",
       "  <tbody>\n",
       "    <tr>\n",
       "      <th>0</th>\n",
       "      <td>0</td>\n",
       "      <td>0</td>\n",
       "      <td>0</td>\n",
       "      <td>0</td>\n",
       "      <td>0</td>\n",
       "      <td>0</td>\n",
       "      <td>0</td>\n",
       "      <td>0</td>\n",
       "      <td>0</td>\n",
       "      <td>0</td>\n",
       "      <td>...</td>\n",
       "      <td>1</td>\n",
       "      <td>0</td>\n",
       "      <td>1</td>\n",
       "      <td>0</td>\n",
       "      <td>0</td>\n",
       "      <td>1</td>\n",
       "      <td>1</td>\n",
       "      <td>1</td>\n",
       "      <td>0</td>\n",
       "      <td>0</td>\n",
       "    </tr>\n",
       "    <tr>\n",
       "      <th>1</th>\n",
       "      <td>0</td>\n",
       "      <td>0</td>\n",
       "      <td>0</td>\n",
       "      <td>0</td>\n",
       "      <td>0</td>\n",
       "      <td>0</td>\n",
       "      <td>0</td>\n",
       "      <td>0</td>\n",
       "      <td>0</td>\n",
       "      <td>0</td>\n",
       "      <td>...</td>\n",
       "      <td>0</td>\n",
       "      <td>0</td>\n",
       "      <td>1</td>\n",
       "      <td>0</td>\n",
       "      <td>0</td>\n",
       "      <td>1</td>\n",
       "      <td>1</td>\n",
       "      <td>1</td>\n",
       "      <td>0</td>\n",
       "      <td>0</td>\n",
       "    </tr>\n",
       "    <tr>\n",
       "      <th>2</th>\n",
       "      <td>0</td>\n",
       "      <td>0</td>\n",
       "      <td>0</td>\n",
       "      <td>0</td>\n",
       "      <td>0</td>\n",
       "      <td>0</td>\n",
       "      <td>0</td>\n",
       "      <td>0</td>\n",
       "      <td>0</td>\n",
       "      <td>0</td>\n",
       "      <td>...</td>\n",
       "      <td>0</td>\n",
       "      <td>0</td>\n",
       "      <td>1</td>\n",
       "      <td>0</td>\n",
       "      <td>0</td>\n",
       "      <td>1</td>\n",
       "      <td>1</td>\n",
       "      <td>1</td>\n",
       "      <td>0</td>\n",
       "      <td>0</td>\n",
       "    </tr>\n",
       "    <tr>\n",
       "      <th>3</th>\n",
       "      <td>1</td>\n",
       "      <td>0</td>\n",
       "      <td>0</td>\n",
       "      <td>0</td>\n",
       "      <td>0</td>\n",
       "      <td>0</td>\n",
       "      <td>0</td>\n",
       "      <td>0</td>\n",
       "      <td>0</td>\n",
       "      <td>0</td>\n",
       "      <td>...</td>\n",
       "      <td>0</td>\n",
       "      <td>1</td>\n",
       "      <td>0</td>\n",
       "      <td>0</td>\n",
       "      <td>0</td>\n",
       "      <td>0</td>\n",
       "      <td>0</td>\n",
       "      <td>0</td>\n",
       "      <td>0</td>\n",
       "      <td>1</td>\n",
       "    </tr>\n",
       "    <tr>\n",
       "      <th>4</th>\n",
       "      <td>0</td>\n",
       "      <td>0</td>\n",
       "      <td>0</td>\n",
       "      <td>0</td>\n",
       "      <td>0</td>\n",
       "      <td>0</td>\n",
       "      <td>0</td>\n",
       "      <td>0</td>\n",
       "      <td>0</td>\n",
       "      <td>0</td>\n",
       "      <td>...</td>\n",
       "      <td>1</td>\n",
       "      <td>0</td>\n",
       "      <td>1</td>\n",
       "      <td>0</td>\n",
       "      <td>0</td>\n",
       "      <td>1</td>\n",
       "      <td>1</td>\n",
       "      <td>1</td>\n",
       "      <td>0</td>\n",
       "      <td>0</td>\n",
       "    </tr>\n",
       "    <tr>\n",
       "      <th>...</th>\n",
       "      <td>...</td>\n",
       "      <td>...</td>\n",
       "      <td>...</td>\n",
       "      <td>...</td>\n",
       "      <td>...</td>\n",
       "      <td>...</td>\n",
       "      <td>...</td>\n",
       "      <td>...</td>\n",
       "      <td>...</td>\n",
       "      <td>...</td>\n",
       "      <td>...</td>\n",
       "      <td>...</td>\n",
       "      <td>...</td>\n",
       "      <td>...</td>\n",
       "      <td>...</td>\n",
       "      <td>...</td>\n",
       "      <td>...</td>\n",
       "      <td>...</td>\n",
       "      <td>...</td>\n",
       "      <td>...</td>\n",
       "      <td>...</td>\n",
       "    </tr>\n",
       "    <tr>\n",
       "      <th>7709</th>\n",
       "      <td>0</td>\n",
       "      <td>0</td>\n",
       "      <td>0</td>\n",
       "      <td>0</td>\n",
       "      <td>0</td>\n",
       "      <td>0</td>\n",
       "      <td>0</td>\n",
       "      <td>0</td>\n",
       "      <td>0</td>\n",
       "      <td>0</td>\n",
       "      <td>...</td>\n",
       "      <td>0</td>\n",
       "      <td>0</td>\n",
       "      <td>0</td>\n",
       "      <td>0</td>\n",
       "      <td>0</td>\n",
       "      <td>0</td>\n",
       "      <td>0</td>\n",
       "      <td>0</td>\n",
       "      <td>0</td>\n",
       "      <td>0</td>\n",
       "    </tr>\n",
       "    <tr>\n",
       "      <th>7710</th>\n",
       "      <td>1</td>\n",
       "      <td>0</td>\n",
       "      <td>0</td>\n",
       "      <td>0</td>\n",
       "      <td>0</td>\n",
       "      <td>0</td>\n",
       "      <td>0</td>\n",
       "      <td>0</td>\n",
       "      <td>0</td>\n",
       "      <td>0</td>\n",
       "      <td>...</td>\n",
       "      <td>0</td>\n",
       "      <td>0</td>\n",
       "      <td>0</td>\n",
       "      <td>0</td>\n",
       "      <td>0</td>\n",
       "      <td>0</td>\n",
       "      <td>0</td>\n",
       "      <td>0</td>\n",
       "      <td>0</td>\n",
       "      <td>0</td>\n",
       "    </tr>\n",
       "    <tr>\n",
       "      <th>7711</th>\n",
       "      <td>0</td>\n",
       "      <td>0</td>\n",
       "      <td>0</td>\n",
       "      <td>0</td>\n",
       "      <td>0</td>\n",
       "      <td>0</td>\n",
       "      <td>0</td>\n",
       "      <td>0</td>\n",
       "      <td>0</td>\n",
       "      <td>0</td>\n",
       "      <td>...</td>\n",
       "      <td>1</td>\n",
       "      <td>0</td>\n",
       "      <td>1</td>\n",
       "      <td>0</td>\n",
       "      <td>0</td>\n",
       "      <td>1</td>\n",
       "      <td>0</td>\n",
       "      <td>1</td>\n",
       "      <td>0</td>\n",
       "      <td>0</td>\n",
       "    </tr>\n",
       "    <tr>\n",
       "      <th>7712</th>\n",
       "      <td>0</td>\n",
       "      <td>0</td>\n",
       "      <td>1</td>\n",
       "      <td>0</td>\n",
       "      <td>0</td>\n",
       "      <td>0</td>\n",
       "      <td>0</td>\n",
       "      <td>0</td>\n",
       "      <td>0</td>\n",
       "      <td>0</td>\n",
       "      <td>...</td>\n",
       "      <td>1</td>\n",
       "      <td>0</td>\n",
       "      <td>1</td>\n",
       "      <td>0</td>\n",
       "      <td>0</td>\n",
       "      <td>1</td>\n",
       "      <td>0</td>\n",
       "      <td>1</td>\n",
       "      <td>0</td>\n",
       "      <td>0</td>\n",
       "    </tr>\n",
       "    <tr>\n",
       "      <th>7713</th>\n",
       "      <td>0</td>\n",
       "      <td>0</td>\n",
       "      <td>0</td>\n",
       "      <td>0</td>\n",
       "      <td>0</td>\n",
       "      <td>0</td>\n",
       "      <td>0</td>\n",
       "      <td>0</td>\n",
       "      <td>0</td>\n",
       "      <td>0</td>\n",
       "      <td>...</td>\n",
       "      <td>1</td>\n",
       "      <td>0</td>\n",
       "      <td>1</td>\n",
       "      <td>0</td>\n",
       "      <td>0</td>\n",
       "      <td>1</td>\n",
       "      <td>1</td>\n",
       "      <td>1</td>\n",
       "      <td>0</td>\n",
       "      <td>0</td>\n",
       "    </tr>\n",
       "  </tbody>\n",
       "</table>\n",
       "<p>7714 rows × 69 columns</p>\n",
       "</div>"
      ],
      "text/plain": [
       "      Air-Conditioning  Audio System  BBQ pits  Basketball court  Bathtub  \\\n",
       "0                    0             0         0                 0        0   \n",
       "1                    0             0         0                 0        0   \n",
       "2                    0             0         0                 0        0   \n",
       "3                    1             0         0                 0        0   \n",
       "4                    0             0         0                 0        0   \n",
       "...                ...           ...       ...               ...      ...   \n",
       "7709                 0             0         0                 0        0   \n",
       "7710                 1             0         0                 0        0   \n",
       "7711                 0             0         0                 0        0   \n",
       "7712                 0             0         1                 0        0   \n",
       "7713                 0             0         0                 0        0   \n",
       "\n",
       "      Bed  Billiards room  Broadband Internet  Club  Clubhouse  ...  car park  \\\n",
       "0       0               0                   0     0          0  ...         1   \n",
       "1       0               0                   0     0          0  ...         0   \n",
       "2       0               0                   0     0          0  ...         0   \n",
       "3       0               0                   0     0          0  ...         0   \n",
       "4       0               0                   0     0          0  ...         1   \n",
       "...   ...             ...                 ...   ...        ...  ...       ...   \n",
       "7709    0               0                   0     0          0  ...         0   \n",
       "7710    0               0                   0     0          0  ...         0   \n",
       "7711    0               0                   0     0          0  ...         1   \n",
       "7712    0               0                   0     0          0  ...         1   \n",
       "7713    0               0                   0     0          0  ...         1   \n",
       "\n",
       "      cook  fitness  furniture  nan  pool  sauna  security  tv  view  \n",
       "0        0        1          0    0     1      1         1   0     0  \n",
       "1        0        1          0    0     1      1         1   0     0  \n",
       "2        0        1          0    0     1      1         1   0     0  \n",
       "3        1        0          0    0     0      0         0   0     1  \n",
       "4        0        1          0    0     1      1         1   0     0  \n",
       "...    ...      ...        ...  ...   ...    ...       ...  ..   ...  \n",
       "7709     0        0          0    0     0      0         0   0     0  \n",
       "7710     0        0          0    0     0      0         0   0     0  \n",
       "7711     0        1          0    0     1      0         1   0     0  \n",
       "7712     0        1          0    0     1      0         1   0     0  \n",
       "7713     0        1          0    0     1      1         1   0     0  \n",
       "\n",
       "[7714 rows x 69 columns]"
      ]
     },
     "execution_count": 78,
     "metadata": {},
     "output_type": "execute_result"
    }
   ],
   "source": [
    "from sklearn.preprocessing import MultiLabelBinarizer\n",
    "mlb = MultiLabelBinarizer()\n",
    "\n",
    "pd.DataFrame(mlb.fit_transform(df[\"feature\"]),columns=mlb.classes_, index=df.index)"
   ]
  },
  {
   "cell_type": "code",
   "execution_count": 79,
   "id": "741b8731-2635-4c18-a14c-9cbc9c7c020c",
   "metadata": {},
   "outputs": [
    {
     "data": {
      "text/plain": [
       "'Air-Conditioning'"
      ]
     },
     "execution_count": 79,
     "metadata": {},
     "output_type": "execute_result"
    }
   ],
   "source": [
    "mlb.classes_[0]"
   ]
  },
  {
   "cell_type": "code",
   "execution_count": 81,
   "id": "89441369-6b6a-4f46-bb8f-f4451c31a6bc",
   "metadata": {},
   "outputs": [
    {
     "name": "stderr",
     "output_type": "stream",
     "text": [
      "/tmp/ipykernel_165/2191938189.py:1: FutureWarning: Using the level keyword in DataFrame and Series aggregations is deprecated and will be removed in a future version. Use groupby instead. df.sum(level=1) should use df.groupby(level=1).sum().\n",
      "  a = pd.get_dummies(df['feature'].explode()).sum(level=0)\n"
     ]
    }
   ],
   "source": [
    "a = pd.get_dummies(df['feature'].explode()).sum(level=0)"
   ]
  },
  {
   "cell_type": "code",
   "execution_count": 89,
   "id": "8e7f6be1-03a2-4521-8ce2-df9feb8221a2",
   "metadata": {},
   "outputs": [],
   "source": [
    "jaa = pd.concat([df, a], axis = 1).drop(columns = [\"Unnamed: 0\", \"feature\"])"
   ]
  },
  {
   "cell_type": "code",
   "execution_count": 93,
   "id": "d0cffab5-9131-4123-89a6-3f4e164552c4",
   "metadata": {},
   "outputs": [
    {
     "data": {
      "text/plain": [
       "0"
      ]
     },
     "execution_count": 93,
     "metadata": {},
     "output_type": "execute_result"
    }
   ],
   "source": [
    "jaa.isna().sum().sum()"
   ]
  },
  {
   "cell_type": "code",
   "execution_count": null,
   "id": "64521643-9d9b-41d7-838c-792f397d159e",
   "metadata": {},
   "outputs": [],
   "source": []
  }
 ],
 "metadata": {
  "kernelspec": {
   "display_name": "Python 3 (ipykernel)",
   "language": "python",
   "name": "python3"
  },
  "language_info": {
   "codemirror_mode": {
    "name": "ipython",
    "version": 3
   },
   "file_extension": ".py",
   "mimetype": "text/x-python",
   "name": "python",
   "nbconvert_exporter": "python",
   "pygments_lexer": "ipython3",
   "version": "3.9.13"
  }
 },
 "nbformat": 4,
 "nbformat_minor": 5
}
