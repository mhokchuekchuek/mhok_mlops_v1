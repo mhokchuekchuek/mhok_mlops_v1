{
 "cells": [
  {
   "cell_type": "code",
   "execution_count": 1,
   "id": "982f1b0c-00e1-48ce-8a7c-10d130b784a0",
   "metadata": {},
   "outputs": [
    {
     "name": "stdout",
     "output_type": "stream",
     "text": [
      "alembic==1.8.1\n",
      "altair==4.2.0\n",
      "anyio==3.6.2\n",
      "argon2-cffi==21.3.0\n",
      "argon2-cffi-bindings==21.2.0\n",
      "attrs==22.1.0\n",
      "autopage==0.5.1\n",
      "Babel==2.11.0\n",
      "backcall==0.2.0\n",
      "beautifulsoup4==4.11.1\n",
      "bleach==5.0.1\n",
      "blinker==1.5\n",
      "CacheControl==0.12.11\n",
      "cachetools==5.2.0\n",
      "category-encoders==2.5.0\n",
      "certifi==2022.9.24\n",
      "cffi==1.15.1\n",
      "charset-normalizer==2.1.1\n",
      "cleo==2.0.1\n",
      "click==8.1.3\n",
      "cliff==4.1.0\n",
      "cloudpickle==2.2.0\n",
      "cmaes==0.9.0\n",
      "cmd2==2.4.2\n",
      "colorama==0.4.6\n",
      "colorlog==6.7.0\n",
      "commonmark==0.9.1\n",
      "crashtest==0.4.1\n",
      "cryptography==38.0.3\n",
      "cycler==0.11.0\n",
      "daal==2021.7.0\n",
      "daal4py==2021.7.0\n",
      "databricks-cli==0.17.3\n",
      "dataclasses==0.6\n",
      "debugpy==1.6.3\n",
      "decorator==5.1.1\n",
      "deepchecks==0.10.0\n",
      "defusedxml==0.7.1\n",
      "distlib==0.3.6\n",
      "docker==6.0.1\n",
      "dulwich==0.20.50\n",
      "entrypoints==0.4\n",
      "evidently==0.2.1\n",
      "fastjsonschema==2.16.2\n",
      "filelock==3.8.2\n",
      "Flask==2.1.3\n",
      "fonttools==4.38.0\n",
      "future==0.18.2\n",
      "gitdb==4.0.9\n",
      "GitPython==3.1.29\n",
      "great-expectations==0.15.34\n",
      "greenlet==1.1.2\n",
      "gunicorn==20.1.0\n",
      "html5lib==1.1\n",
      "htmlmin==0.1.12\n",
      "hyperopt==0.2.7\n",
      "idna==3.4\n",
      "ImageHash==4.3.1\n",
      "importlib-metadata==4.13.0\n",
      "ipykernel==6.6.0\n",
      "ipython==7.31.1\n",
      "ipython-genutils==0.2.0\n",
      "ipywidgets==7.7.2\n",
      "itsdangerous==2.0.1\n",
      "jaraco.classes==3.2.3\n",
      "jedi==0.18.1\n",
      "jeepney==0.8.0\n",
      "Jinja2==3.1.2\n",
      "joblib==1.2.0\n",
      "json5==0.9.10\n",
      "jsonpatch==1.32\n",
      "jsonpickle==3.0.0\n",
      "jsonpointer==2.3\n",
      "jsonschema==4.7.2\n",
      "jupyter-contrib-core==0.4.2\n",
      "jupyter-contrib-nbextensions==0.5.1\n",
      "jupyter-highlight-selected-word==0.2.0\n",
      "jupyter-latex-envs==1.4.6\n",
      "jupyter-nbextensions-configurator==0.6.1\n",
      "jupyter-server==1.23.2\n",
      "jupyter_client==7.4.7\n",
      "jupyter_core==5.0.0\n",
      "jupyterlab==3.5.0\n",
      "jupyterlab-pygments==0.2.2\n",
      "jupyterlab-widgets==1.1.1\n",
      "jupyterlab_server==2.16.3\n",
      "keyring==23.13.1\n",
      "kiwisolver==1.4.4\n",
      "lightgbm==3.3.3\n",
      "llvmlite==0.39.1\n",
      "lockfile==0.12.2\n",
      "lxml==4.9.1\n",
      "makefun==1.15.0\n",
      "Mako==1.2.4\n",
      "Markdown==3.4.1\n",
      "MarkupSafe==2.0.1\n",
      "marshmallow==3.19.0\n",
      "matplotlib==3.5.3\n",
      "matplotlib-inline==0.1.6\n",
      "missingno==0.5.1\n",
      "mistune==2.0.4\n",
      "mlflow==2.0.1\n",
      "more-itertools==9.0.0\n",
      "msgpack==1.0.4\n",
      "multimethod==1.9\n",
      "nbclassic==0.4.8\n",
      "nbclient==0.7.0\n",
      "nbconvert==7.2.5\n",
      "nbformat==5.7.0\n",
      "nest-asyncio==1.5.6\n",
      "networkx==2.5\n",
      "notebook==6.5.2\n",
      "notebook_shim==0.2.2\n",
      "numba==0.56.4\n",
      "numpy==1.22.3\n",
      "oauthlib==3.2.2\n",
      "optuna==3.0.3\n",
      "packaging==21.3\n",
      "pandas==1.5.1\n",
      "pandas-profiling==3.4.0\n",
      "pandocfilters==1.5.0\n",
      "parso==0.8.3\n",
      "patsy==0.5.3\n",
      "pbr==5.11.0\n",
      "pexpect==4.8.0\n",
      "phik==0.12.2\n",
      "pickleshare==0.7.5\n",
      "Pillow==9.3.0\n",
      "pivottablejs==0.9.0\n",
      "pkginfo==1.9.2\n",
      "platformdirs==2.5.4\n",
      "plotly==5.11.0\n",
      "poetry==1.3.1\n",
      "poetry-core==1.4.0\n",
      "poetry-plugin-export==1.2.0\n",
      "prettytable==3.5.0\n",
      "prometheus-client==0.15.0\n",
      "prompt-toolkit==3.0.33\n",
      "protobuf==3.20.3\n",
      "ptyprocess==0.7.0\n",
      "py4j==0.10.9.7\n",
      "pyarrow==10.0.0\n",
      "pycparser==2.21\n",
      "pydantic==1.10.2\n",
      "pydeck==0.8.0\n",
      "Pygments==2.13.0\n",
      "PyJWT==2.6.0\n",
      "Pympler==1.0.1\n",
      "PyNomaly==0.3.3\n",
      "pyparsing==3.0.9\n",
      "pyperclip==1.8.2\n",
      "pyrsistent==0.19.2\n",
      "python-dateutil==2.8.2\n",
      "python-utils==3.4.5\n",
      "pytz==2022.6\n",
      "pytz-deprecation-shim==0.1.0.post0\n",
      "PyWavelets==1.4.1\n",
      "PyYAML==5.4.1\n",
      "pyzmq==23.2.1\n",
      "querystring-parser==1.2.4\n",
      "rapidfuzz==2.13.7\n",
      "requests==2.28.1\n",
      "requests-toolbelt==0.10.1\n",
      "rich==12.6.0\n",
      "ruamel.yaml==0.17.17\n",
      "ruamel.yaml.clib==0.2.7\n",
      "scikit-learn==1.0.2\n",
      "scikit-learn-intelex==2021.7.0\n",
      "scipy==1.8.1\n",
      "seaborn==0.12.1\n",
      "SecretStorage==3.3.3\n",
      "semver==2.13.0\n",
      "Send2Trash==1.8.0\n",
      "shap==0.41.0\n",
      "shellingham==1.5.0\n",
      "simple-http-server==0.19.3\n",
      "six==1.16.0\n",
      "slicer==0.0.7\n",
      "smmap==5.0.0\n",
      "sniffio==1.3.0\n",
      "soupsieve==2.3.2.post1\n",
      "SQLAlchemy==1.4.44\n",
      "sqlparse==0.4.3\n",
      "statsmodels==0.13.5\n",
      "stevedore==4.1.1\n",
      "streamlit==1.15.1\n",
      "tabulate==0.9.0\n",
      "tangled-up-in-unicode==0.2.0\n",
      "tbb==2021.7.1\n",
      "tenacity==8.1.0\n",
      "terminado==0.17.0\n",
      "threadpoolctl==3.1.0\n",
      "tinycss2==1.2.1\n",
      "toml==0.10.2\n",
      "tomli==2.0.1\n",
      "tomlkit==0.11.6\n",
      "toolz==0.12.0\n",
      "tornado==6.2\n",
      "tqdm==4.64.1\n",
      "traitlets==5.5.0\n",
      "trove-classifiers==2022.12.22\n",
      "typing_extensions==4.4.0\n",
      "tzdata==2022.6\n",
      "tzlocal==4.2\n",
      "urllib3==1.26.12\n",
      "validators==0.20.0\n",
      "virtualenv==20.17.1\n",
      "visions==0.7.5\n",
      "watchdog==2.1.9\n",
      "wcwidth==0.2.5\n",
      "webencodings==0.5.1\n",
      "websocket-client==1.4.2\n",
      "Werkzeug==2.0.3\n",
      "widgetsnbextension==3.6.1\n",
      "xgboost==1.7.2\n",
      "zipp==3.10.0\n",
      "Note: you may need to restart the kernel to use updated packages.\n"
     ]
    }
   ],
   "source": [
    "pip freeze"
   ]
  },
  {
   "cell_type": "markdown",
   "id": "629de046-9a94-4fe3-a119-62a347595881",
   "metadata": {},
   "source": [
    "# preparation"
   ]
  },
  {
   "cell_type": "code",
   "execution_count": 2,
   "id": "fab88c2c-762b-4208-8561-d8bde546042d",
   "metadata": {
    "tags": []
   },
   "outputs": [],
   "source": [
    "from script.data_preparation.data_prep import preparation"
   ]
  },
  {
   "cell_type": "code",
   "execution_count": 3,
   "id": "d304e565-e1fd-460b-9161-9b81519c89ba",
   "metadata": {},
   "outputs": [],
   "source": [
    "# import data\n",
    "import pandas as pd\n",
    "csv_url = (\"http://archive.ics.uci.edu/ml/machine-learning-databases/wine-quality/winequality-red.csv\")\n",
    "data = pd.read_csv(csv_url, sep=\";\")"
   ]
  },
  {
   "cell_type": "code",
   "execution_count": 4,
   "id": "c791fe90-b497-4f77-8c8b-f3c2ebbf08aa",
   "metadata": {},
   "outputs": [
    {
     "data": {
      "text/plain": [
       "typing.Union[ForwardRef('regression'), ForwardRef('classification')]"
      ]
     },
     "execution_count": 4,
     "metadata": {},
     "output_type": "execute_result"
    }
   ],
   "source": [
    "from typing import Union\n",
    "Union[\"regression\", \"classification\"]"
   ]
  },
  {
   "cell_type": "code",
   "execution_count": 5,
   "id": "8bb06412-6f97-4fcf-a3fd-cb3017908daf",
   "metadata": {},
   "outputs": [],
   "source": [
    "from script.utils.split import split_data"
   ]
  },
  {
   "cell_type": "code",
   "execution_count": 6,
   "id": "3bb6eeef-7fe8-477b-9e20-a1e0e10b4a52",
   "metadata": {},
   "outputs": [
    {
     "ename": "NameError",
     "evalue": "name 'data_ja' is not defined",
     "output_type": "error",
     "traceback": [
      "\u001b[0;31m---------------------------------------------------------------------------\u001b[0m",
      "\u001b[0;31mNameError\u001b[0m                                 Traceback (most recent call last)",
      "\u001b[0;32m/tmp/ipykernel_6799/3993794815.py\u001b[0m in \u001b[0;36m<module>\u001b[0;34m\u001b[0m\n\u001b[1;32m      1\u001b[0m \u001b[0;32mimport\u001b[0m \u001b[0mnumpy\u001b[0m \u001b[0;32mas\u001b[0m \u001b[0mnp\u001b[0m\u001b[0;34m\u001b[0m\u001b[0;34m\u001b[0m\u001b[0m\n\u001b[0;32m----> 2\u001b[0;31m \u001b[0mdata_ja\u001b[0m\u001b[0;34m.\u001b[0m\u001b[0miloc\u001b[0m\u001b[0;34m[\u001b[0m\u001b[0;36m0\u001b[0m\u001b[0;34m:\u001b[0m\u001b[0;36m100\u001b[0m\u001b[0;34m,\u001b[0m\u001b[0;34m:\u001b[0m\u001b[0;34m]\u001b[0m \u001b[0;34m=\u001b[0m \u001b[0mnp\u001b[0m\u001b[0;34m.\u001b[0m\u001b[0mnan\u001b[0m\u001b[0;34m\u001b[0m\u001b[0;34m\u001b[0m\u001b[0m\n\u001b[0m",
      "\u001b[0;31mNameError\u001b[0m: name 'data_ja' is not defined"
     ]
    }
   ],
   "source": [
    "import numpy as np\n",
    "data_ja.iloc[0:100,:] = np.nan"
   ]
  },
  {
   "cell_type": "code",
   "execution_count": null,
   "id": "297722cc-cb66-4573-879c-62f8b81e1923",
   "metadata": {},
   "outputs": [],
   "source": [
    "X_train, X_test, y_train, y_test= split_data(preparation(data_ja, \"quality\"), \"classification\", \"quality\")"
   ]
  },
  {
   "cell_type": "code",
   "execution_count": null,
   "id": "5476f06d-1fc4-414e-bc1e-71c522c55ef2",
   "metadata": {},
   "outputs": [],
   "source": [
    "y_train.isna().sum()"
   ]
  },
  {
   "cell_type": "code",
   "execution_count": null,
   "id": "97074025-03c1-4c93-923d-e8a7afc33730",
   "metadata": {},
   "outputs": [],
   "source": [
    "from script.model.train import *"
   ]
  },
  {
   "cell_type": "code",
   "execution_count": null,
   "id": "04c297d0-35e7-4d4a-8ffc-cd2389f6c44d",
   "metadata": {},
   "outputs": [],
   "source": [
    "from sklearn.linear_model import LogisticRegression\n",
    "params = {\"C\":10}\n",
    "model_dict = { \"model\": \"LogisticRegression\", \"params\": {\"C\":10}}"
   ]
  },
  {
   "cell_type": "code",
   "execution_count": null,
   "id": "9a6938a8-d341-4d10-a0b4-c9e0b5cfab7c",
   "metadata": {},
   "outputs": [],
   "source": [
    "y_train"
   ]
  },
  {
   "cell_type": "code",
   "execution_count": null,
   "id": "490398fa-5aee-4d0e-8c11-af4a977eff11",
   "metadata": {},
   "outputs": [],
   "source": [
    "model_ja = train(X_train, y_train, model_dict)"
   ]
  },
  {
   "cell_type": "code",
   "execution_count": null,
   "id": "43505882-ac92-4d1a-912e-47d2f39ba3bf",
   "metadata": {},
   "outputs": [],
   "source": [
    "model_ja"
   ]
  },
  {
   "cell_type": "code",
   "execution_count": null,
   "id": "504f7c03-9742-4911-b5df-80b54819f6b9",
   "metadata": {},
   "outputs": [],
   "source": [
    "pred= model_ja.predict(X_test)"
   ]
  },
  {
   "cell_type": "code",
   "execution_count": null,
   "id": "eca1a37d-a745-40dc-8e73-e085776d3c32",
   "metadata": {},
   "outputs": [],
   "source": [
    "from sklearn.metrics import confusion_matrix,classification_report\n",
    "print(classification_report(pred, y_test))"
   ]
  },
  {
   "cell_type": "markdown",
   "id": "a7711ee2-9218-4a01-babb-9f3e2165f159",
   "metadata": {},
   "source": [
    "# hyperparams "
   ]
  },
  {
   "cell_type": "code",
   "execution_count": null,
   "id": "b90f4e55-204a-44b8-b466-c1fc5ba1c70d",
   "metadata": {},
   "outputs": [],
   "source": [
    "# Defining Search Space\n",
    "import pandas as pd\n",
    "import numpy as np\n",
    "import scipy.stats as stats\n",
    "import math\n",
    "from tqdm import tqdm\n",
    "from sklearn.preprocessing import RobustScaler\n",
    "from sklearn.base import BaseEstimator, TransformerMixin\n",
    "from sklearn.svm import SVC\n",
    "from sklearn.neighbors import KNeighborsClassifier\n",
    "from sklearn.pipeline import FeatureUnion, Pipeline\n",
    "from sklearn.linear_model import LogisticRegression\n",
    "from sklearn.discriminant_analysis import QuadraticDiscriminantAnalysis\n",
    "from sklearn.linear_model import LogisticRegression\n",
    "from sklearn.metrics import classification_report\n",
    "from sklearn.model_selection import KFold, cross_val_score, train_test_split\n",
    "from hyperopt import Trials, STATUS_OK, tpe, hp, fmin, STATUS_FAIL, space_eval\n",
    "\n",
    "import warnings\n",
    "warnings.filterwarnings('ignore')\n"
   ]
  },
  {
   "cell_type": "code",
   "execution_count": null,
   "id": "e1b98df0-fc81-4fe9-941e-c93bd055dc1f",
   "metadata": {},
   "outputs": [],
   "source": [
    "# a = [\n",
    "#     {\n",
    "#     'model':\"KNeighborsClassifier\",\n",
    "#     'params':{\n",
    "#         'n_neighbors': hp.choice('n_neighbors', range(2,10)),\n",
    "#         'algorithm': hp.choice('algorithm',\n",
    "#                                       ['auto', 'ball_tree', 'kd_tree']),\n",
    "#         'metric': hp.choice('metric', ['chebyshev', 'minkowski'])\n",
    "#     }\n",
    "#     },\n",
    "\n",
    "#     {\n",
    "#     'model': \"LogisticRegression\",\n",
    "#     'params': {\n",
    "#         'C': hp.choice('C', np.arange(0.005,1.0,0.01))\n",
    "\n",
    "#     }\n",
    "#     }\n",
    "# ]"
   ]
  },
  {
   "cell_type": "code",
   "execution_count": null,
   "id": "e7b9b431-a8c9-4bc8-aa81-60ceb3e6caa6",
   "metadata": {},
   "outputs": [],
   "source": [
    "a = [\n",
    "    {\n",
    "    'model':\"KNeighborsClassifier\",\n",
    "    'params':{}},\n",
    "    {\n",
    "    'model': \"LogisticRegression\",\n",
    "    'params': {}},\n",
    "    {\n",
    "    'model': \"DecisionTreeClassifier\",\n",
    "    'params': {}},\n",
    "    {\n",
    "    'model': \"RandomForestClassifier\",\n",
    "    'params': {}}\n",
    "]"
   ]
  },
  {
   "cell_type": "code",
   "execution_count": null,
   "id": "9197489f-e17e-4b39-9a0e-6a2a10c29807",
   "metadata": {},
   "outputs": [],
   "source": [
    "hp.choice('n_neighbors', range(2,10))"
   ]
  },
  {
   "cell_type": "code",
   "execution_count": null,
   "id": "4d89145c-39ff-4c40-83bb-0dc1ded7f513",
   "metadata": {},
   "outputs": [],
   "source": [
    "KNeighborsClassifier.__name__"
   ]
  },
  {
   "cell_type": "code",
   "execution_count": null,
   "id": "0fe61446-1b5b-49fe-bd6c-66e682895e54",
   "metadata": {},
   "outputs": [],
   "source": [
    "from script.model.hyperparams_v2 import *"
   ]
  },
  {
   "cell_type": "code",
   "execution_count": null,
   "id": "52ade916-4796-491d-bd5f-22ad01788a02",
   "metadata": {
    "tags": []
   },
   "outputs": [],
   "source": [
    "mlflow_train(a, X_train, y_train, \"f1_macro\", transform = True, overwrite = False)"
   ]
  },
  {
   "cell_type": "code",
   "execution_count": null,
   "id": "6ed619e0-53b3-4cfd-aba3-b1b77438851a",
   "metadata": {},
   "outputs": [],
   "source": [
    "transformer(data)"
   ]
  },
  {
   "cell_type": "code",
   "execution_count": null,
   "id": "8f85ffd7-4bea-42b8-958d-3a24a44f9e34",
   "metadata": {},
   "outputs": [],
   "source": [
    "from deepchecks.tabular import Dataset\n",
    "\n",
    "# Categorical features can be heuristically inferred, however we\n",
    "# recommend to state them explicitly to avoid misclassification.\n",
    "\n",
    "# Metadata attributes are optional. Some checks will run only if specific attributes are declared.\n",
    "\n",
    "train_ds = Dataset(X_train, label=y_train, cat_features=[])\n",
    "test_ds = Dataset(X_test, label=y_test, cat_features=[])"
   ]
  },
  {
   "cell_type": "code",
   "execution_count": null,
   "id": "f8827f1f-ca76-49fa-ba5a-7d526397ec73",
   "metadata": {},
   "outputs": [],
   "source": [
    "from deepchecks.tabular.suites import model_evaluation\n",
    "evaluation_suite = model_evaluation()\n",
    "suite_result = evaluation_suite.run(train_ds, test_ds, model_ja)\n",
    "# Note: the result can be saved as html using suite_result.save_as_html()\n",
    "# or exported to json using suite_result.to_json()\n",
    "suite_result.show()"
   ]
  },
  {
   "cell_type": "code",
   "execution_count": null,
   "id": "9a211684-49a3-4dfd-9ffe-7f02b3336ecc",
   "metadata": {},
   "outputs": [],
   "source": []
  }
 ],
 "metadata": {
  "kernelspec": {
   "display_name": "Python 3 (ipykernel)",
   "language": "python",
   "name": "python3"
  },
  "language_info": {
   "codemirror_mode": {
    "name": "ipython",
    "version": 3
   },
   "file_extension": ".py",
   "mimetype": "text/x-python",
   "name": "python",
   "nbconvert_exporter": "python",
   "pygments_lexer": "ipython3",
   "version": "3.9.13"
  }
 },
 "nbformat": 4,
 "nbformat_minor": 5
}
