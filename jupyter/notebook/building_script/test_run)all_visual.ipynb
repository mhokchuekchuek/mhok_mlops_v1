{
 "cells": [
  {
   "cell_type": "code",
   "execution_count": null,
   "id": "0f71b217-93a0-43e2-94ab-72346ddbf1d8",
   "metadata": {},
   "outputs": [
    {
     "name": "stderr",
     "output_type": "stream",
     "text": [
      "sh: 1: lsof: not found\n",
      "sh: 1: kill: Usage: kill [-s sigspec | -signum | -sigspec] [pid | job]... or\n",
      "kill -l [exitstatus]\n",
      "sh: 1: lsof: not found\n",
      "sh: 1: kill: Usage: kill [-s sigspec | -signum | -sigspec] [pid | job]... or\n",
      "kill -l [exitstatus]\n"
     ]
    },
    {
     "name": "stdout",
     "output_type": "stream",
     "text": [
      " * Serving Flask app 'app' (lazy loading)\n",
      " * Environment: production\n",
      "   WARNING: This is a development server. Do not use it in a production deployment.\n",
      "   Use a production WSGI server instead.\n",
      " * Debug mode: off\n"
     ]
    },
    {
     "name": "stderr",
     "output_type": "stream",
     "text": [
      " * Running on all addresses.\n",
      "   WARNING: This is a development server. Do not use it in a production deployment.\n",
      " * Running on http://172.19.0.3:8080/ (Press CTRL+C to quit)\n",
      "172.19.0.1 - - [20/Dec/2022 17:20:57] \"GET / HTTP/1.1\" 200 -\n",
      "172.19.0.1 - - [20/Dec/2022 17:21:02] \"GET /static/images/iterative-dev-loop.png HTTP/1.1\" 404 -\n",
      "172.19.0.1 - - [20/Dec/2022 17:21:02] \"GET /static/images/validation_failed_unexpected_values.gif HTTP/1.1\" 404 -\n",
      "172.19.0.1 - - [20/Dec/2022 17:21:02] \"GET /static/images/glossary_scroller.gif HTTP/1.1\" 404 -\n",
      "172.19.0.1 - - [20/Dec/2022 17:21:04] \"GET /static/images/favicon.ico HTTP/1.1\" 404 -\n"
     ]
    }
   ],
   "source": [
    "from script.run.run_visual import runner\n",
    "runner()"
   ]
  },
  {
   "cell_type": "code",
   "execution_count": null,
   "id": "e50d8d12-1fe2-48f7-a56a-e7210ab36ae2",
   "metadata": {},
   "outputs": [],
   "source": []
  }
 ],
 "metadata": {
  "kernelspec": {
   "display_name": "Python 3 (ipykernel)",
   "language": "python",
   "name": "python3"
  },
  "language_info": {
   "codemirror_mode": {
    "name": "ipython",
    "version": 3
   },
   "file_extension": ".py",
   "mimetype": "text/x-python",
   "name": "python",
   "nbconvert_exporter": "python",
   "pygments_lexer": "ipython3",
   "version": "3.9.13"
  }
 },
 "nbformat": 4,
 "nbformat_minor": 5
}
