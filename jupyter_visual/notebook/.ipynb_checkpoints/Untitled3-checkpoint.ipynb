{
 "cells": [
  {
   "cell_type": "code",
   "execution_count": 102,
   "id": "6cacaf06-9591-45af-a894-f352cfd156fb",
   "metadata": {},
   "outputs": [],
   "source": [
    "import pandas as pd\n",
    "df = pd.read_csv(\"/ml_data/ana.csv\")"
   ]
  },
  {
   "cell_type": "code",
   "execution_count": 104,
   "id": "7315027d-6704-4209-af56-fa7b1363f868",
   "metadata": {},
   "outputs": [],
   "source": [
    "df2 =df.groupby(['timestamp', 'device']).mean().reset_index()"
   ]
  },
  {
   "cell_type": "code",
   "execution_count": 105,
   "id": "e22e0685-26c3-4722-9ee8-6bdba7779c98",
   "metadata": {},
   "outputs": [
    {
     "data": {
      "text/html": [
       "<div>\n",
       "<style scoped>\n",
       "    .dataframe tbody tr th:only-of-type {\n",
       "        vertical-align: middle;\n",
       "    }\n",
       "\n",
       "    .dataframe tbody tr th {\n",
       "        vertical-align: top;\n",
       "    }\n",
       "\n",
       "    .dataframe thead th {\n",
       "        text-align: right;\n",
       "    }\n",
       "</style>\n",
       "<table border=\"1\" class=\"dataframe\">\n",
       "  <thead>\n",
       "    <tr style=\"text-align: right;\">\n",
       "      <th></th>\n",
       "      <th>temperature</th>\n",
       "      <th>humidity</th>\n",
       "    </tr>\n",
       "  </thead>\n",
       "  <tbody>\n",
       "    <tr>\n",
       "      <th>count</th>\n",
       "      <td>38896.000000</td>\n",
       "      <td>38896.000000</td>\n",
       "    </tr>\n",
       "    <tr>\n",
       "      <th>mean</th>\n",
       "      <td>35.524455</td>\n",
       "      <td>94.376740</td>\n",
       "    </tr>\n",
       "    <tr>\n",
       "      <th>std</th>\n",
       "      <td>61.967829</td>\n",
       "      <td>54.568197</td>\n",
       "    </tr>\n",
       "    <tr>\n",
       "      <th>min</th>\n",
       "      <td>0.307826</td>\n",
       "      <td>0.000000</td>\n",
       "    </tr>\n",
       "    <tr>\n",
       "      <th>25%</th>\n",
       "      <td>25.233637</td>\n",
       "      <td>82.254061</td>\n",
       "    </tr>\n",
       "    <tr>\n",
       "      <th>50%</th>\n",
       "      <td>26.864318</td>\n",
       "      <td>90.526436</td>\n",
       "    </tr>\n",
       "    <tr>\n",
       "      <th>75%</th>\n",
       "      <td>28.648790</td>\n",
       "      <td>99.333195</td>\n",
       "    </tr>\n",
       "    <tr>\n",
       "      <th>max</th>\n",
       "      <td>655.400000</td>\n",
       "      <td>654.927440</td>\n",
       "    </tr>\n",
       "  </tbody>\n",
       "</table>\n",
       "</div>"
      ],
      "text/plain": [
       "        temperature      humidity\n",
       "count  38896.000000  38896.000000\n",
       "mean      35.524455     94.376740\n",
       "std       61.967829     54.568197\n",
       "min        0.307826      0.000000\n",
       "25%       25.233637     82.254061\n",
       "50%       26.864318     90.526436\n",
       "75%       28.648790     99.333195\n",
       "max      655.400000    654.927440"
      ]
     },
     "execution_count": 105,
     "metadata": {},
     "output_type": "execute_result"
    }
   ],
   "source": [
    "df2[[\"temperature\", \"humidity\"]].describe()"
   ]
  },
  {
   "cell_type": "code",
   "execution_count": 125,
   "id": "3171a744-21f8-4653-af0f-01a440bd0e35",
   "metadata": {},
   "outputs": [],
   "source": [
    "def check_outlier(x):\n",
    "    if x > 40:\n",
    "        return True\n",
    "    return False\n",
    "\n",
    "def check_outlier_2(x):\n",
    "    if x > 100:\n",
    "        return True\n",
    "    return False"
   ]
  },
  {
   "cell_type": "code",
   "execution_count": 134,
   "id": "7e9e3f5a-03d2-4311-abde-d77a2f4d5c93",
   "metadata": {},
   "outputs": [],
   "source": [
    "df2[\"outlier\"] = df2[\"temperature\"].apply(check_outlier)\n",
    "df2[\"outlier_2\"] = df2[\"humidity\"].apply(check_outlier_2)"
   ]
  },
  {
   "cell_type": "code",
   "execution_count": 135,
   "id": "26e60e0e-8a1f-47a5-8893-15424d953925",
   "metadata": {},
   "outputs": [
    {
     "data": {
      "text/plain": [
       "7822"
      ]
     },
     "execution_count": 135,
     "metadata": {},
     "output_type": "execute_result"
    }
   ],
   "source": [
    "df2[\"device\"].nunique()"
   ]
  },
  {
   "cell_type": "code",
   "execution_count": 136,
   "id": "81e66968-d00e-4658-989b-fa00eec7673c",
   "metadata": {},
   "outputs": [],
   "source": [
    "import matplotlib.pyplot as plt\n",
    "import seaborn as sns"
   ]
  },
  {
   "cell_type": "code",
   "execution_count": 137,
   "id": "d7c547b6-6502-4541-a338-c14c4c1b12f1",
   "metadata": {},
   "outputs": [
    {
     "data": {
      "text/plain": [
       "2678"
      ]
     },
     "execution_count": 137,
     "metadata": {},
     "output_type": "execute_result"
    }
   ],
   "source": [
    "len(df2[df2[\"outlier\"] == True])"
   ]
  },
  {
   "cell_type": "code",
   "execution_count": 138,
   "id": "b3eb19a6-abef-41d2-bad3-8fbb1ae93866",
   "metadata": {},
   "outputs": [
    {
     "data": {
      "text/plain": [
       "36218"
      ]
     },
     "execution_count": 138,
     "metadata": {},
     "output_type": "execute_result"
    }
   ],
   "source": [
    "len(df2[df2[\"outlier\"] == False])"
   ]
  },
  {
   "cell_type": "code",
   "execution_count": 187,
   "id": "58933e6b-bbde-4b83-b298-fe37342a274d",
   "metadata": {},
   "outputs": [
    {
     "data": {
      "image/png": "[encoded data removed]",
      "text/plain": [
       "<Figure size 600x1000 with 1 Axes>"
      ]
     },
     "metadata": {},
     "output_type": "display_data"
    }
   ],
   "source": [
    "import matplotlib.pyplot as plt\n",
    "import seaborn as sns\n",
    "fig, ax = plt.subplots(figsize=(6, 10), subplot_kw=dict(aspect=\"equal\"))\n",
    "data = [len(df2[df2[\"outlier\"] == True]), len(df2)]\n",
    "labels = ['error', 'non-error']\n",
    "colors = sns.color_palette('pastel')[0:5]\n",
    "ax.pie(data, labels = labels, colors = colors, autopct='%.0f%%')\n",
    "ax.set_title('proportion of error in temperature')\n",
    "ax.legend(loc=\"lower right\", bbox_to_anchor=(1, 0.75, 0.25, 10))\n",
    "plt.show()"
   ]
  },
  {
   "cell_type": "code",
   "execution_count": 188,
   "id": "3490f378-dd63-40a3-bb7d-e8601cef3ad6",
   "metadata": {
    "tags": []
   },
   "outputs": [
    {
     "data": {
      "image/png": "[encoded data removed]",
      "text/plain": [
       "<Figure size 600x1000 with 1 Axes>"
      ]
     },
     "metadata": {},
     "output_type": "display_data"
    }
   ],
   "source": [
    "import matplotlib.pyplot as plt\n",
    "import seaborn as sns\n",
    "fig, ax = plt.subplots(figsize=(6, 10), subplot_kw=dict(aspect=\"equal\"))\n",
    "data = [len(df2[df2[\"outlier_2\"] == True]), len(df2)]\n",
    "labels = ['error', 'non-error']\n",
    "colors = sns.color_palette('pastel')[0:5]\n",
    "ax.pie(data, labels = labels, colors = colors, autopct='%.0f%%')\n",
    "ax.set_title('proportion of error in humidity')\n",
    "ax.legend(loc=\"lower right\", bbox_to_anchor=(1, 0.75, 0.25, 10))\n",
    "plt.show()"
   ]
  },
  {
   "cell_type": "code",
   "execution_count": 145,
   "id": "7cecc547-7e5b-4d8b-be56-b9ce76f1a97b",
   "metadata": {},
   "outputs": [
    {
     "data": {
      "text/html": [
       "<div>\n",
       "<style scoped>\n",
       "    .dataframe tbody tr th:only-of-type {\n",
       "        vertical-align: middle;\n",
       "    }\n",
       "\n",
       "    .dataframe tbody tr th {\n",
       "        vertical-align: top;\n",
       "    }\n",
       "\n",
       "    .dataframe thead th {\n",
       "        text-align: right;\n",
       "    }\n",
       "</style>\n",
       "<table border=\"1\" class=\"dataframe\">\n",
       "  <thead>\n",
       "    <tr style=\"text-align: right;\">\n",
       "      <th></th>\n",
       "      <th>timestamp</th>\n",
       "      <th>device</th>\n",
       "      <th>temperature</th>\n",
       "      <th>humidity</th>\n",
       "      <th>outlier</th>\n",
       "      <th>outlier_2</th>\n",
       "    </tr>\n",
       "  </thead>\n",
       "  <tbody>\n",
       "    <tr>\n",
       "      <th>66</th>\n",
       "      <td>2022-12-02</td>\n",
       "      <td>AA180186</td>\n",
       "      <td>655.400000</td>\n",
       "      <td>654.825611</td>\n",
       "      <td>True</td>\n",
       "      <td>True</td>\n",
       "    </tr>\n",
       "    <tr>\n",
       "      <th>88</th>\n",
       "      <td>2022-12-02</td>\n",
       "      <td>AA180208</td>\n",
       "      <td>655.400000</td>\n",
       "      <td>654.870052</td>\n",
       "      <td>True</td>\n",
       "      <td>True</td>\n",
       "    </tr>\n",
       "    <tr>\n",
       "      <th>162</th>\n",
       "      <td>2022-12-02</td>\n",
       "      <td>AA180283</td>\n",
       "      <td>655.400000</td>\n",
       "      <td>654.873199</td>\n",
       "      <td>True</td>\n",
       "      <td>True</td>\n",
       "    </tr>\n",
       "    <tr>\n",
       "      <th>172</th>\n",
       "      <td>2022-12-02</td>\n",
       "      <td>AA180293</td>\n",
       "      <td>391.296602</td>\n",
       "      <td>422.630390</td>\n",
       "      <td>True</td>\n",
       "      <td>True</td>\n",
       "    </tr>\n",
       "    <tr>\n",
       "      <th>189</th>\n",
       "      <td>2022-12-02</td>\n",
       "      <td>AA180310</td>\n",
       "      <td>118.039783</td>\n",
       "      <td>181.673043</td>\n",
       "      <td>True</td>\n",
       "      <td>True</td>\n",
       "    </tr>\n",
       "    <tr>\n",
       "      <th>...</th>\n",
       "      <td>...</td>\n",
       "      <td>...</td>\n",
       "      <td>...</td>\n",
       "      <td>...</td>\n",
       "      <td>...</td>\n",
       "      <td>...</td>\n",
       "    </tr>\n",
       "    <tr>\n",
       "      <th>38564</th>\n",
       "      <td>2022-12-06</td>\n",
       "      <td>AA197756</td>\n",
       "      <td>192.674286</td>\n",
       "      <td>241.808667</td>\n",
       "      <td>True</td>\n",
       "      <td>True</td>\n",
       "    </tr>\n",
       "    <tr>\n",
       "      <th>38628</th>\n",
       "      <td>2022-12-06</td>\n",
       "      <td>AA197821</td>\n",
       "      <td>198.606667</td>\n",
       "      <td>247.128333</td>\n",
       "      <td>True</td>\n",
       "      <td>True</td>\n",
       "    </tr>\n",
       "    <tr>\n",
       "      <th>38645</th>\n",
       "      <td>2022-12-06</td>\n",
       "      <td>AA197839</td>\n",
       "      <td>239.436567</td>\n",
       "      <td>264.098499</td>\n",
       "      <td>True</td>\n",
       "      <td>True</td>\n",
       "    </tr>\n",
       "    <tr>\n",
       "      <th>38765</th>\n",
       "      <td>2022-12-06</td>\n",
       "      <td>AA197967</td>\n",
       "      <td>185.520000</td>\n",
       "      <td>231.355667</td>\n",
       "      <td>True</td>\n",
       "      <td>True</td>\n",
       "    </tr>\n",
       "    <tr>\n",
       "      <th>38895</th>\n",
       "      <td>2022-12-06</td>\n",
       "      <td>AA216071</td>\n",
       "      <td>210.288095</td>\n",
       "      <td>256.405556</td>\n",
       "      <td>True</td>\n",
       "      <td>True</td>\n",
       "    </tr>\n",
       "  </tbody>\n",
       "</table>\n",
       "<p>735 rows × 6 columns</p>\n",
       "</div>"
      ],
      "text/plain": [
       "        timestamp    device  temperature    humidity  outlier  outlier_2\n",
       "66     2022-12-02  AA180186   655.400000  654.825611     True       True\n",
       "88     2022-12-02  AA180208   655.400000  654.870052     True       True\n",
       "162    2022-12-02  AA180283   655.400000  654.873199     True       True\n",
       "172    2022-12-02  AA180293   391.296602  422.630390     True       True\n",
       "189    2022-12-02  AA180310   118.039783  181.673043     True       True\n",
       "...           ...       ...          ...         ...      ...        ...\n",
       "38564  2022-12-06  AA197756   192.674286  241.808667     True       True\n",
       "38628  2022-12-06  AA197821   198.606667  247.128333     True       True\n",
       "38645  2022-12-06  AA197839   239.436567  264.098499     True       True\n",
       "38765  2022-12-06  AA197967   185.520000  231.355667     True       True\n",
       "38895  2022-12-06  AA216071   210.288095  256.405556     True       True\n",
       "\n",
       "[735 rows x 6 columns]"
      ]
     },
     "execution_count": 145,
     "metadata": {},
     "output_type": "execute_result"
    }
   ],
   "source": [
    "df2[df2[\"outlier_2\"] == True]"
   ]
  },
  {
   "cell_type": "code",
   "execution_count": 152,
   "id": "be947359-c7aa-4dbd-a084-3619aea510f6",
   "metadata": {},
   "outputs": [],
   "source": [
    "def change_bool(x):\n",
    "    if x == True:\n",
    "        return 1\n",
    "    return 0"
   ]
  },
  {
   "cell_type": "code",
   "execution_count": null,
   "id": "5994b87a-0f55-4f48-8a9f-ab2d693cc4fb",
   "metadata": {},
   "outputs": [],
   "source": [
    "df2[\"outlier_eiei\"]"
   ]
  },
  {
   "cell_type": "code",
   "execution_count": 153,
   "id": "b8144673-56be-4989-8f10-c346c41857f0",
   "metadata": {},
   "outputs": [],
   "source": [
    "df2[\"outlier_3\"] = df2[\"outlier\"].apply(change_bool) + df2[\"outlier_2\"].apply(change_bool)"
   ]
  },
  {
   "cell_type": "code",
   "execution_count": 175,
   "id": "242827a5-7c41-4299-978d-a5748fe99e5d",
   "metadata": {},
   "outputs": [
    {
     "data": {
      "text/html": [
       "<div>\n",
       "<style scoped>\n",
       "    .dataframe tbody tr th:only-of-type {\n",
       "        vertical-align: middle;\n",
       "    }\n",
       "\n",
       "    .dataframe tbody tr th {\n",
       "        vertical-align: top;\n",
       "    }\n",
       "\n",
       "    .dataframe thead th {\n",
       "        text-align: right;\n",
       "    }\n",
       "</style>\n",
       "<table border=\"1\" class=\"dataframe\">\n",
       "  <thead>\n",
       "    <tr style=\"text-align: right;\">\n",
       "      <th></th>\n",
       "      <th>timestamp</th>\n",
       "      <th>device</th>\n",
       "      <th>temperature</th>\n",
       "      <th>humidity</th>\n",
       "      <th>outlier</th>\n",
       "      <th>outlier_2</th>\n",
       "      <th>outlier_3</th>\n",
       "    </tr>\n",
       "  </thead>\n",
       "  <tbody>\n",
       "    <tr>\n",
       "      <th>66</th>\n",
       "      <td>2022-12-02</td>\n",
       "      <td>AA180186</td>\n",
       "      <td>655.400000</td>\n",
       "      <td>654.825611</td>\n",
       "      <td>True</td>\n",
       "      <td>True</td>\n",
       "      <td>2</td>\n",
       "    </tr>\n",
       "    <tr>\n",
       "      <th>88</th>\n",
       "      <td>2022-12-02</td>\n",
       "      <td>AA180208</td>\n",
       "      <td>655.400000</td>\n",
       "      <td>654.870052</td>\n",
       "      <td>True</td>\n",
       "      <td>True</td>\n",
       "      <td>2</td>\n",
       "    </tr>\n",
       "    <tr>\n",
       "      <th>162</th>\n",
       "      <td>2022-12-02</td>\n",
       "      <td>AA180283</td>\n",
       "      <td>655.400000</td>\n",
       "      <td>654.873199</td>\n",
       "      <td>True</td>\n",
       "      <td>True</td>\n",
       "      <td>2</td>\n",
       "    </tr>\n",
       "    <tr>\n",
       "      <th>172</th>\n",
       "      <td>2022-12-02</td>\n",
       "      <td>AA180293</td>\n",
       "      <td>391.296602</td>\n",
       "      <td>422.630390</td>\n",
       "      <td>True</td>\n",
       "      <td>True</td>\n",
       "      <td>2</td>\n",
       "    </tr>\n",
       "    <tr>\n",
       "      <th>189</th>\n",
       "      <td>2022-12-02</td>\n",
       "      <td>AA180310</td>\n",
       "      <td>118.039783</td>\n",
       "      <td>181.673043</td>\n",
       "      <td>True</td>\n",
       "      <td>True</td>\n",
       "      <td>2</td>\n",
       "    </tr>\n",
       "    <tr>\n",
       "      <th>...</th>\n",
       "      <td>...</td>\n",
       "      <td>...</td>\n",
       "      <td>...</td>\n",
       "      <td>...</td>\n",
       "      <td>...</td>\n",
       "      <td>...</td>\n",
       "      <td>...</td>\n",
       "    </tr>\n",
       "    <tr>\n",
       "      <th>38564</th>\n",
       "      <td>2022-12-06</td>\n",
       "      <td>AA197756</td>\n",
       "      <td>192.674286</td>\n",
       "      <td>241.808667</td>\n",
       "      <td>True</td>\n",
       "      <td>True</td>\n",
       "      <td>2</td>\n",
       "    </tr>\n",
       "    <tr>\n",
       "      <th>38628</th>\n",
       "      <td>2022-12-06</td>\n",
       "      <td>AA197821</td>\n",
       "      <td>198.606667</td>\n",
       "      <td>247.128333</td>\n",
       "      <td>True</td>\n",
       "      <td>True</td>\n",
       "      <td>2</td>\n",
       "    </tr>\n",
       "    <tr>\n",
       "      <th>38645</th>\n",
       "      <td>2022-12-06</td>\n",
       "      <td>AA197839</td>\n",
       "      <td>239.436567</td>\n",
       "      <td>264.098499</td>\n",
       "      <td>True</td>\n",
       "      <td>True</td>\n",
       "      <td>2</td>\n",
       "    </tr>\n",
       "    <tr>\n",
       "      <th>38765</th>\n",
       "      <td>2022-12-06</td>\n",
       "      <td>AA197967</td>\n",
       "      <td>185.520000</td>\n",
       "      <td>231.355667</td>\n",
       "      <td>True</td>\n",
       "      <td>True</td>\n",
       "      <td>2</td>\n",
       "    </tr>\n",
       "    <tr>\n",
       "      <th>38895</th>\n",
       "      <td>2022-12-06</td>\n",
       "      <td>AA216071</td>\n",
       "      <td>210.288095</td>\n",
       "      <td>256.405556</td>\n",
       "      <td>True</td>\n",
       "      <td>True</td>\n",
       "      <td>2</td>\n",
       "    </tr>\n",
       "  </tbody>\n",
       "</table>\n",
       "<p>697 rows × 7 columns</p>\n",
       "</div>"
      ],
      "text/plain": [
       "        timestamp    device  temperature    humidity  outlier  outlier_2  \\\n",
       "66     2022-12-02  AA180186   655.400000  654.825611     True       True   \n",
       "88     2022-12-02  AA180208   655.400000  654.870052     True       True   \n",
       "162    2022-12-02  AA180283   655.400000  654.873199     True       True   \n",
       "172    2022-12-02  AA180293   391.296602  422.630390     True       True   \n",
       "189    2022-12-02  AA180310   118.039783  181.673043     True       True   \n",
       "...           ...       ...          ...         ...      ...        ...   \n",
       "38564  2022-12-06  AA197756   192.674286  241.808667     True       True   \n",
       "38628  2022-12-06  AA197821   198.606667  247.128333     True       True   \n",
       "38645  2022-12-06  AA197839   239.436567  264.098499     True       True   \n",
       "38765  2022-12-06  AA197967   185.520000  231.355667     True       True   \n",
       "38895  2022-12-06  AA216071   210.288095  256.405556     True       True   \n",
       "\n",
       "       outlier_3  \n",
       "66             2  \n",
       "88             2  \n",
       "162            2  \n",
       "172            2  \n",
       "189            2  \n",
       "...          ...  \n",
       "38564          2  \n",
       "38628          2  \n",
       "38645          2  \n",
       "38765          2  \n",
       "38895          2  \n",
       "\n",
       "[697 rows x 7 columns]"
      ]
     },
     "execution_count": 175,
     "metadata": {},
     "output_type": "execute_result"
    }
   ],
   "source": [
    "df2[df2[\"outlier_3\"] == 2]"
   ]
  },
  {
   "cell_type": "code",
   "execution_count": 181,
   "id": "6deebb70-20f8-4002-9796-b03c3da41a54",
   "metadata": {},
   "outputs": [
    {
     "data": {
      "text/plain": [
       "2716"
      ]
     },
     "execution_count": 181,
     "metadata": {},
     "output_type": "execute_result"
    }
   ],
   "source": [
    "697 + 38 + 1981"
   ]
  },
  {
   "cell_type": "code",
   "execution_count": 177,
   "id": "dd82e373-ca72-48a5-82b8-50a3d13fdc36",
   "metadata": {},
   "outputs": [
    {
     "data": {
      "text/plain": [
       "38"
      ]
     },
     "execution_count": 177,
     "metadata": {},
     "output_type": "execute_result"
    }
   ],
   "source": [
    "len(df2[(df2[\"outlier_2\"] == True) & (df2[\"outlier_3\"] != 2)])"
   ]
  },
  {
   "cell_type": "code",
   "execution_count": 178,
   "id": "5f8d9830-7971-41f4-86a6-84417b583b59",
   "metadata": {},
   "outputs": [
    {
     "data": {
      "text/plain": [
       "1981"
      ]
     },
     "execution_count": 178,
     "metadata": {},
     "output_type": "execute_result"
    }
   ],
   "source": [
    "len(df2[(df2[\"outlier\"] == True) & (df2[\"outlier_3\"] != 2)])"
   ]
  },
  {
   "cell_type": "code",
   "execution_count": 180,
   "id": "d6b9c49e-7488-4aa2-91d7-dde906108ae6",
   "metadata": {},
   "outputs": [
    {
     "data": {
      "text/plain": [
       "2716"
      ]
     },
     "execution_count": 180,
     "metadata": {},
     "output_type": "execute_result"
    }
   ],
   "source": [
    "len(df2[(df2[\"outlier_2\"] == True) |(df2[\"outlier\"] == True)])"
   ]
  },
  {
   "cell_type": "code",
   "execution_count": 165,
   "id": "43c6436b-4de6-4eda-8d83-0dfd59a174a2",
   "metadata": {},
   "outputs": [],
   "source": [
    "df2[df2[\"outlier_3\"] == 2][[\"timestamp\", \"device\", \"temperature\", \"humidity\"]].to_csv(\"outlier_humidity_and_temp.csv\", index=False)"
   ]
  },
  {
   "cell_type": "code",
   "execution_count": 169,
   "id": "e435c488-74f6-4858-b56a-18e068599f3d",
   "metadata": {},
   "outputs": [],
   "source": [
    "df2[(df2[\"outlier_2\"] == True) & (df2[\"outlier_3\"] != 2)][[\"timestamp\", \"device\", \"temperature\", \"humidity\"]].to_csv(\"outlier_humidity.csv\", index=False)"
   ]
  },
  {
   "cell_type": "code",
   "execution_count": 170,
   "id": "6a88d160-3295-4a14-826b-3a00a3ac604e",
   "metadata": {},
   "outputs": [],
   "source": [
    "df2[(df2[\"outlier\"] == True) & (df2[\"outlier_3\"] != 2)][[\"timestamp\", \"device\", \"temperature\", \"humidity\"]].to_csv(\"outlier_temp.csv\", index=False)"
   ]
  },
  {
   "cell_type": "code",
   "execution_count": 189,
   "id": "5c9e76ad-07c0-4741-9911-f0c19e5204e4",
   "metadata": {},
   "outputs": [
    {
     "data": {
      "image/png": "[encoded data removed]",
      "text/plain": [
       "<Figure size 600x1000 with 1 Axes>"
      ]
     },
     "metadata": {},
     "output_type": "display_data"
    }
   ],
   "source": [
    "import matplotlib.pyplot as plt\n",
    "import seaborn as sns\n",
    "fig, ax = plt.subplots(figsize=(6, 10), subplot_kw=dict(aspect=\"equal\"))\n",
    "data = [2716, len(df2)]\n",
    "labels = ['error', 'non-error']\n",
    "colors = sns.color_palette('pastel')[0:5]\n",
    "ax.pie(data, labels = labels, colors = colors, autopct='%.0f%%')\n",
    "ax.set_title('proportion of error in humidity and temperature')\n",
    "ax.legend(loc=\"lower right\", bbox_to_anchor=(1, 0.75, 0.25, 10))\n",
    "plt.show()"
   ]
  },
  {
   "cell_type": "code",
   "execution_count": 114,
   "id": "24981148-cb63-49e4-a4e9-2ba34d8008c0",
   "metadata": {},
   "outputs": [
    {
     "data": {
      "text/html": [
       "<div>\n",
       "<style scoped>\n",
       "    .dataframe tbody tr th:only-of-type {\n",
       "        vertical-align: middle;\n",
       "    }\n",
       "\n",
       "    .dataframe tbody tr th {\n",
       "        vertical-align: top;\n",
       "    }\n",
       "\n",
       "    .dataframe thead th {\n",
       "        text-align: right;\n",
       "    }\n",
       "</style>\n",
       "<table border=\"1\" class=\"dataframe\">\n",
       "  <thead>\n",
       "    <tr style=\"text-align: right;\">\n",
       "      <th></th>\n",
       "      <th>humidity</th>\n",
       "      <th>temperature</th>\n",
       "    </tr>\n",
       "  </thead>\n",
       "  <tbody>\n",
       "    <tr>\n",
       "      <th>humidity</th>\n",
       "      <td>1.000000</td>\n",
       "      <td>-0.042054</td>\n",
       "    </tr>\n",
       "    <tr>\n",
       "      <th>temperature</th>\n",
       "      <td>-0.042054</td>\n",
       "      <td>1.000000</td>\n",
       "    </tr>\n",
       "  </tbody>\n",
       "</table>\n",
       "</div>"
      ],
      "text/plain": [
       "             humidity  temperature\n",
       "humidity     1.000000    -0.042054\n",
       "temperature -0.042054     1.000000"
      ]
     },
     "execution_count": 114,
     "metadata": {},
     "output_type": "execute_result"
    }
   ],
   "source": [
    "df2[df2[\"humidity\"] < 100][[\"humidity\", \"temperature\"]].corr()"
   ]
  },
  {
   "cell_type": "code",
   "execution_count": 194,
   "id": "4b980c09-3457-49b6-af24-2217f371e93c",
   "metadata": {},
   "outputs": [
    {
     "data": {
      "text/plain": [
       "Text(0.5, 1.0, 'Example Plot')"
      ]
     },
     "execution_count": 194,
     "metadata": {},
     "output_type": "execute_result"
    },
    {
     "data": {
      "image/png": "[encoded data removed]",
      "text/plain": [
       "<Figure size 640x480 with 1 Axes>"
      ]
     },
     "metadata": {},
     "output_type": "display_data"
    }
   ],
   "source": [
    "import seaborn as sns\n",
    "sns.scatterplot(x=\"temperature\", y=\"humidity\", data=df2[df2[\"outlier_3\"] == 2], sizes=(40, 400))\n",
    "plt.title('Example Plot')"
   ]
  },
  {
   "cell_type": "code",
   "execution_count": null,
   "id": "83bb7d07-0c8f-4d84-92cc-c3458a452b75",
   "metadata": {},
   "outputs": [],
   "source": [
    "import seaborn as sns\n",
    "sns.scatterplot(x=\"temperature\", y=\"humidity\", data=df2[(df2[\"outlier_2\"] == True) & (df2[df2[\"outlier_3\"] != 2])], sizes=(40, 400))\n",
    "plt.title('Example Plot')"
   ]
  },
  {
   "cell_type": "code",
   "execution_count": 120,
   "id": "bdf44235-cec2-40a6-86d0-c9279b4ea033",
   "metadata": {},
   "outputs": [
    {
     "data": {
      "text/plain": [
       "Text(0.5, 1.0, 'Scatter plot between humidity and temperature')"
      ]
     },
     "execution_count": 120,
     "metadata": {},
     "output_type": "execute_result"
    },
    {
     "data": {
      "image/png": "[encoded data removed]",
      "text/plain": [
       "<Figure size 640x480 with 1 Axes>"
      ]
     },
     "metadata": {},
     "output_type": "display_data"
    }
   ],
   "source": [
    "import seaborn as sns\n",
    "sns.scatterplot(x=\"temperature\", y=\"humidity\", data=df2)\n",
    "plt.title('Scatter plot between humidity and temperature')"
   ]
  },
  {
   "cell_type": "code",
   "execution_count": 121,
   "id": "bb577de0-0110-42fe-a7e8-8a3d357372cf",
   "metadata": {},
   "outputs": [
    {
     "data": {
      "text/plain": [
       "<AxesSubplot: xlabel='temperature', ylabel='humidity'>"
      ]
     },
     "execution_count": 121,
     "metadata": {},
     "output_type": "execute_result"
    },
    {
     "data": {
      "image/png": "[encoded data removed]",
      "text/plain": [
       "<Figure size 640x480 with 1 Axes>"
      ]
     },
     "metadata": {},
     "output_type": "display_data"
    }
   ],
   "source": [
    "import seaborn as sns\n",
    "sns.scatterplot(x=\"temperature\", y=\"humidity\", data=df2[df2[\"temperature\"] >= 40])"
   ]
  },
  {
   "cell_type": "code",
   "execution_count": 74,
   "id": "4a8e99dc-0701-47b1-9643-8626e87e9c1e",
   "metadata": {},
   "outputs": [
    {
     "data": {
      "text/html": [
       "<div>\n",
       "<style scoped>\n",
       "    .dataframe tbody tr th:only-of-type {\n",
       "        vertical-align: middle;\n",
       "    }\n",
       "\n",
       "    .dataframe tbody tr th {\n",
       "        vertical-align: top;\n",
       "    }\n",
       "\n",
       "    .dataframe thead th {\n",
       "        text-align: right;\n",
       "    }\n",
       "</style>\n",
       "<table border=\"1\" class=\"dataframe\">\n",
       "  <thead>\n",
       "    <tr style=\"text-align: right;\">\n",
       "      <th></th>\n",
       "      <th>device</th>\n",
       "      <th>date</th>\n",
       "      <th>humidity</th>\n",
       "      <th>temperature</th>\n",
       "    </tr>\n",
       "  </thead>\n",
       "  <tbody>\n",
       "    <tr>\n",
       "      <th>6177</th>\n",
       "      <td>AA183378</td>\n",
       "      <td>2022-12-03</td>\n",
       "      <td>100.0</td>\n",
       "      <td>510.9</td>\n",
       "    </tr>\n",
       "    <tr>\n",
       "      <th>6180</th>\n",
       "      <td>AA183378</td>\n",
       "      <td>2022-12-03</td>\n",
       "      <td>654.4</td>\n",
       "      <td>655.4</td>\n",
       "    </tr>\n",
       "    <tr>\n",
       "      <th>6190</th>\n",
       "      <td>AA183378</td>\n",
       "      <td>2022-12-03</td>\n",
       "      <td>654.9</td>\n",
       "      <td>655.4</td>\n",
       "    </tr>\n",
       "    <tr>\n",
       "      <th>6191</th>\n",
       "      <td>AA183378</td>\n",
       "      <td>2022-12-03</td>\n",
       "      <td>654.5</td>\n",
       "      <td>655.4</td>\n",
       "    </tr>\n",
       "    <tr>\n",
       "      <th>6192</th>\n",
       "      <td>AA183378</td>\n",
       "      <td>2022-12-03</td>\n",
       "      <td>655.2</td>\n",
       "      <td>655.4</td>\n",
       "    </tr>\n",
       "    <tr>\n",
       "      <th>...</th>\n",
       "      <td>...</td>\n",
       "      <td>...</td>\n",
       "      <td>...</td>\n",
       "      <td>...</td>\n",
       "    </tr>\n",
       "    <tr>\n",
       "      <th>74888</th>\n",
       "      <td>AA196363</td>\n",
       "      <td>2022-12-06</td>\n",
       "      <td>655.2</td>\n",
       "      <td>655.4</td>\n",
       "    </tr>\n",
       "    <tr>\n",
       "      <th>74889</th>\n",
       "      <td>AA196363</td>\n",
       "      <td>2022-12-06</td>\n",
       "      <td>655.1</td>\n",
       "      <td>655.4</td>\n",
       "    </tr>\n",
       "    <tr>\n",
       "      <th>74890</th>\n",
       "      <td>AA196363</td>\n",
       "      <td>2022-12-06</td>\n",
       "      <td>654.5</td>\n",
       "      <td>655.4</td>\n",
       "    </tr>\n",
       "    <tr>\n",
       "      <th>74891</th>\n",
       "      <td>AA196363</td>\n",
       "      <td>2022-12-06</td>\n",
       "      <td>655.3</td>\n",
       "      <td>655.4</td>\n",
       "    </tr>\n",
       "    <tr>\n",
       "      <th>96481</th>\n",
       "      <td>AA194385</td>\n",
       "      <td>2022-12-03</td>\n",
       "      <td>654.4</td>\n",
       "      <td>655.4</td>\n",
       "    </tr>\n",
       "  </tbody>\n",
       "</table>\n",
       "<p>737 rows × 4 columns</p>\n",
       "</div>"
      ],
      "text/plain": [
       "         device        date  humidity  temperature\n",
       "6177   AA183378  2022-12-03     100.0        510.9\n",
       "6180   AA183378  2022-12-03     654.4        655.4\n",
       "6190   AA183378  2022-12-03     654.9        655.4\n",
       "6191   AA183378  2022-12-03     654.5        655.4\n",
       "6192   AA183378  2022-12-03     655.2        655.4\n",
       "...         ...         ...       ...          ...\n",
       "74888  AA196363  2022-12-06     655.2        655.4\n",
       "74889  AA196363  2022-12-06     655.1        655.4\n",
       "74890  AA196363  2022-12-06     654.5        655.4\n",
       "74891  AA196363  2022-12-06     655.3        655.4\n",
       "96481  AA194385  2022-12-03     654.4        655.4\n",
       "\n",
       "[737 rows x 4 columns]"
      ]
     },
     "execution_count": 74,
     "metadata": {},
     "output_type": "execute_result"
    }
   ],
   "source": [
    "df[(df[\"humidity\"] >= 100) & (df[\"temperature\"]>=100)]"
   ]
  },
  {
   "cell_type": "code",
   "execution_count": 76,
   "id": "9f9a9e07-2a8d-411f-9b20-9210ab03243d",
   "metadata": {},
   "outputs": [
    {
     "data": {
      "text/html": [
       "<div>\n",
       "<style scoped>\n",
       "    .dataframe tbody tr th:only-of-type {\n",
       "        vertical-align: middle;\n",
       "    }\n",
       "\n",
       "    .dataframe tbody tr th {\n",
       "        vertical-align: top;\n",
       "    }\n",
       "\n",
       "    .dataframe thead th {\n",
       "        text-align: right;\n",
       "    }\n",
       "</style>\n",
       "<table border=\"1\" class=\"dataframe\">\n",
       "  <thead>\n",
       "    <tr style=\"text-align: right;\">\n",
       "      <th></th>\n",
       "      <th>device</th>\n",
       "      <th>date</th>\n",
       "      <th>humidity</th>\n",
       "      <th>temperature</th>\n",
       "    </tr>\n",
       "  </thead>\n",
       "  <tbody>\n",
       "    <tr>\n",
       "      <th>32</th>\n",
       "      <td>AA183080</td>\n",
       "      <td>2022-12-03</td>\n",
       "      <td>100.0</td>\n",
       "      <td>23.02</td>\n",
       "    </tr>\n",
       "    <tr>\n",
       "      <th>204</th>\n",
       "      <td>AA183080</td>\n",
       "      <td>2022-12-04</td>\n",
       "      <td>100.0</td>\n",
       "      <td>24.44</td>\n",
       "    </tr>\n",
       "    <tr>\n",
       "      <th>227</th>\n",
       "      <td>AA183080</td>\n",
       "      <td>2022-12-04</td>\n",
       "      <td>100.0</td>\n",
       "      <td>23.31</td>\n",
       "    </tr>\n",
       "    <tr>\n",
       "      <th>419</th>\n",
       "      <td>AA183080</td>\n",
       "      <td>2022-12-05</td>\n",
       "      <td>100.0</td>\n",
       "      <td>29.31</td>\n",
       "    </tr>\n",
       "    <tr>\n",
       "      <th>438</th>\n",
       "      <td>AA183080</td>\n",
       "      <td>2022-12-05</td>\n",
       "      <td>100.0</td>\n",
       "      <td>30.97</td>\n",
       "    </tr>\n",
       "    <tr>\n",
       "      <th>...</th>\n",
       "      <td>...</td>\n",
       "      <td>...</td>\n",
       "      <td>...</td>\n",
       "      <td>...</td>\n",
       "    </tr>\n",
       "    <tr>\n",
       "      <th>99144</th>\n",
       "      <td>AA195090</td>\n",
       "      <td>2022-12-04</td>\n",
       "      <td>100.0</td>\n",
       "      <td>22.99</td>\n",
       "    </tr>\n",
       "    <tr>\n",
       "      <th>99336</th>\n",
       "      <td>AA195090</td>\n",
       "      <td>2022-12-04</td>\n",
       "      <td>100.0</td>\n",
       "      <td>24.40</td>\n",
       "    </tr>\n",
       "    <tr>\n",
       "      <th>99397</th>\n",
       "      <td>AA195090</td>\n",
       "      <td>2022-12-05</td>\n",
       "      <td>100.0</td>\n",
       "      <td>22.78</td>\n",
       "    </tr>\n",
       "    <tr>\n",
       "      <th>99619</th>\n",
       "      <td>AA195090</td>\n",
       "      <td>2022-12-05</td>\n",
       "      <td>100.0</td>\n",
       "      <td>23.80</td>\n",
       "    </tr>\n",
       "    <tr>\n",
       "      <th>99623</th>\n",
       "      <td>AA195090</td>\n",
       "      <td>2022-12-05</td>\n",
       "      <td>100.0</td>\n",
       "      <td>23.73</td>\n",
       "    </tr>\n",
       "  </tbody>\n",
       "</table>\n",
       "<p>5496 rows × 4 columns</p>\n",
       "</div>"
      ],
      "text/plain": [
       "         device        date  humidity  temperature\n",
       "32     AA183080  2022-12-03     100.0        23.02\n",
       "204    AA183080  2022-12-04     100.0        24.44\n",
       "227    AA183080  2022-12-04     100.0        23.31\n",
       "419    AA183080  2022-12-05     100.0        29.31\n",
       "438    AA183080  2022-12-05     100.0        30.97\n",
       "...         ...         ...       ...          ...\n",
       "99144  AA195090  2022-12-04     100.0        22.99\n",
       "99336  AA195090  2022-12-04     100.0        24.40\n",
       "99397  AA195090  2022-12-05     100.0        22.78\n",
       "99619  AA195090  2022-12-05     100.0        23.80\n",
       "99623  AA195090  2022-12-05     100.0        23.73\n",
       "\n",
       "[5496 rows x 4 columns]"
      ]
     },
     "execution_count": 76,
     "metadata": {},
     "output_type": "execute_result"
    }
   ],
   "source": [
    "df[(df[\"humidity\"] >= 100) & (df[\"temperature\"]<100)]"
   ]
  },
  {
   "cell_type": "code",
   "execution_count": null,
   "id": "ebfff6a4-e601-4008-98d1-552afef5ad15",
   "metadata": {},
   "outputs": [],
   "source": []
  }
 ],
 "metadata": {
  "kernelspec": {
   "display_name": "Python 3 (ipykernel)",
   "language": "python",
   "name": "python3"
  },
  "language_info": {
   "codemirror_mode": {
    "name": "ipython",
    "version": 3
   },
   "file_extension": ".py",
   "mimetype": "text/x-python",
   "name": "python",
   "nbconvert_exporter": "python",
   "pygments_lexer": "ipython3",
   "version": "3.9.13"
  }
 },
 "nbformat": 4,
 "nbformat_minor": 5
}
