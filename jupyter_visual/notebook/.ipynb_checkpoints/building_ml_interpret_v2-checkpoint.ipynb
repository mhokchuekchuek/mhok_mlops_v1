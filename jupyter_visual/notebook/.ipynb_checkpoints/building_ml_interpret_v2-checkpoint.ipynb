{
 "cells": [
  {
   "cell_type": "markdown",
   "id": "17928309-8ebe-477d-a82a-1de192b9d7fd",
   "metadata": {},
   "source": [
    "# import_data"
   ]
  },
  {
   "cell_type": "code",
   "execution_count": 1,
   "id": "3b7f8a60-9b8b-443c-b8c5-3c5d9a424c5f",
   "metadata": {},
   "outputs": [],
   "source": [
    "import pandas as pd\n",
    "import joblib\n",
    "X_train = pd.read_csv(\"/ml_data/X_train.csv\").drop(columns = \"Unnamed: 0\")\n",
    "y_train = pd.read_csv(\"/ml_data/y_train.csv\").drop(columns = \"Unnamed: 0\")\n",
    "X_test = pd.read_csv(\"/ml_data/X_test.csv\").drop(columns = \"Unnamed: 0\")\n",
    "y_test = pd.read_csv(\"/ml_data/y_test.csv\").drop(columns = \"Unnamed: 0\")\n",
    "model = joblib.load(\"/artifact/mlruns/941649382202349625/e311be07056d4a4fa7413ec46830e13b/artifacts/model/model.pkl\")\n",
    "\n",
    "if str(model[1]) ==  'KNeighborsClassifier()':\n",
    "    pred_model = model[-1].predict_proba\n",
    "else:\n",
    "    pred_model = model[-1].predict"
   ]
  },
  {
   "cell_type": "code",
   "execution_count": null,
   "id": "7f389be6-c70c-4c34-9327-26dc922d19a5",
   "metadata": {},
   "outputs": [],
   "source": []
  },
  {
   "cell_type": "code",
   "execution_count": 2,
   "id": "12524cd8-4671-4d77-b81b-2c5c02bd554b",
   "metadata": {},
   "outputs": [
    {
     "data": {
      "text/plain": [
       "'KNeighborsClassifier()'"
      ]
     },
     "execution_count": 2,
     "metadata": {},
     "output_type": "execute_result"
    }
   ],
   "source": [
    "str(model[1]) "
   ]
  },
  {
   "cell_type": "markdown",
   "id": "1586a821-af32-4f6c-8025-2661ea77ed46",
   "metadata": {},
   "source": [
    "# local explainer"
   ]
  },
  {
   "cell_type": "code",
   "execution_count": null,
   "id": "a2e0e5ba-5496-4a9e-b806-7764ddd6137b",
   "metadata": {},
   "outputs": [],
   "source": [
    "from tqdm import tqdm_notebook"
   ]
  },
  {
   "cell_type": "code",
   "execution_count": 7,
   "id": "6210ff54-61dd-4456-a743-9015b55e9d92",
   "metadata": {},
   "outputs": [],
   "source": [
    "def _explainer(task, target):\n",
    "    if task == \"classification\":\n",
    "        class_names = y_train[target].unique()\n",
    "        feature_names = list(X_train.columns)\n",
    "\n",
    "        # Fit the Explainer on the training data set using the LimeTabularExplainer \n",
    "        explainer = LimeTabularExplainer(X_train.values, feature_names = feature_names, class_names = class_names, mode = task)\n",
    "    return explainer"
   ]
  },
  {
   "cell_type": "code",
   "execution_count": 4,
   "id": "73864455-cab7-41ca-80d4-2def009faffc",
   "metadata": {},
   "outputs": [],
   "source": [
    "import numpy as np\n",
    "import warnings\n",
    "from lime import submodular_pick\n",
    "from tqdm import tqdm_notebook\n",
    "from lime.lime_tabular import LimeTabularExplainer\n",
    "import pandas as pd\n",
    "import joblib\n",
    "\n",
    "X_train = pd.read_csv(\"/ml_data/X_train.csv\").drop(columns = \"Unnamed: 0\")\n",
    "y_train = pd.read_csv(\"/ml_data/y_train.csv\").drop(columns = \"Unnamed: 0\")\n",
    "X_test = pd.read_csv(\"/ml_data/X_test.csv\").drop(columns = \"Unnamed: 0\")\n",
    "y_test = pd.read_csv(\"/ml_data/y_test.csv\").drop(columns = \"Unnamed: 0\")\n",
    "feature_names = list(X_train.columns)\n",
    "model = joblib.load(\"/artifact/mlruns/941649382202349625/e311be07056d4a4fa7413ec46830e13b/artifacts/model/model.pkl\")\n",
    "task = \"classification\"\n",
    "target = \"quality\"\n",
    "\n",
    "explainer = _explainer(task, target)\n",
    "\n",
    "if str(model[1]) ==  'KNeighborsClassifier()':\n",
    "    pred_model = model[-1].predict_proba\n",
    "else:\n",
    "    pred_model = model[-1].predict\n",
    "    \n",
    "def check_file():\n",
    "    path = Path(\"/model_interpret\")\n",
    "    return path.is_file()\n",
    "    \n",
    "# def _explainer(task, target):\n",
    "#     if task == \"classification\":\n",
    "#         class_names = y_train[target].unique()\n",
    "#         feature_names = list(X_train.columns)\n",
    "\n",
    "#         # Fit the Explainer on the training data set using the LimeTabularExplainer \n",
    "#         explainer = LimeTabularExplainer(X_train.values, feature_names = feature_names, class_names = class_names, mode = task)\n",
    "#     return explainer\n",
    "\n",
    "def return_x(int_x):\n",
    "    return explaination.domain_mapper.exp_feature_names[int_x]\n",
    "\n",
    "def return_x_2(int_x):\n",
    "    return sp_obj.explanations[i].domain_mapper.exp_feature_names[int_x]\n",
    "\n",
    "def _to_csv_local(explanation):\n",
    "    all_df = []\n",
    "    cols = []\n",
    "    values = []\n",
    "    for x,y in list(explaination.local_exp.values())[0]:\n",
    "        cols.append(return_x(x))\n",
    "        values.append(y)\n",
    "    arr = np.array(values).reshape((1, len(list(explaination.local_exp.values())[0])))\n",
    "    return pd.DataFrame(arr , columns = cols)\n",
    "\n",
    "def _to_csv_global(explanation):\n",
    "    sp_obj = explanation\n",
    "    all_df = []\n",
    "    for i in range(0,5):\n",
    "        sp_obj.explanations[i].domain_mapper.exp_feature_names\n",
    "        cols = []\n",
    "        values = []\n",
    "        for x,y in list(sp_obj.explanations[i].local_exp.values())[0]:\n",
    "            cols.append(return_x(x))\n",
    "            values.append(y)\n",
    "        arr = np.array(values).reshape((1, len(list(sp_obj.explanations[i].local_exp.values())[0])))\n",
    "        all_df.append(pd.DataFrame(arr , columns = cols))\n",
    "    return pd.concat(all_df, ignore_index =True)\n",
    "\n",
    "def save_to_csv(task, target):\n",
    "    all_df_local = []\n",
    "    for i in tqdm_notebook(range(len(X_test))):\n",
    "        explaination = explainer.explain_instance(X_test.iloc[i], pred_model)\n",
    "        all_df_local.append(_to_csv_local(explaination))\n",
    "    \n",
    "    sp_obj = submodular_pick.SubmodularPick(explainer, X_train.values, pred_model, sample_size= 500, num_features= len(feature_names), num_exps_desired = 5)\n",
    "    all_df_global = _to_csv_global(sp_obj)\n",
    "    pd.concat(all_df_local, ignore_index = True).fillna(0).to_csv(\"/model_interpret/local.csv\")\n",
    "    all_df_global.fillna(0).to_csv(\"/model_interpret/global.csv\")\n"
   ]
  },
  {
   "cell_type": "code",
   "execution_count": 5,
   "id": "dfa80976-498b-4d56-a3f5-77255926f66e",
   "metadata": {},
   "outputs": [
    {
     "name": "stderr",
     "output_type": "stream",
     "text": [
      "/tmp/ipykernel_137/3644261539.py:66: TqdmDeprecationWarning: This function will be removed in tqdm==5.0.0\n",
      "Please use `tqdm.notebook.tqdm` instead of `tqdm.tqdm_notebook`\n",
      "  for i in tqdm_notebook(range(len(X_test))):\n"
     ]
    },
    {
     "data": {
      "application/vnd.jupyter.widget-view+json": {
       "model_id": "3c83a6994f6549489a9369d90dd8da40",
       "version_major": 2,
       "version_minor": 0
      },
      "text/plain": [
       "  0%|          | 0/252 [00:00<?, ?it/s]"
      ]
     },
     "metadata": {},
     "output_type": "display_data"
    },
    {
     "ename": "NameError",
     "evalue": "name 'explaination' is not defined",
     "output_type": "error",
     "traceback": [
      "\u001b[0;31m---------------------------------------------------------------------------\u001b[0m",
      "\u001b[0;31mNameError\u001b[0m                                 Traceback (most recent call last)",
      "\u001b[0;32m/tmp/ipykernel_137/1345052238.py\u001b[0m in \u001b[0;36m<module>\u001b[0;34m\u001b[0m\n\u001b[0;32m----> 1\u001b[0;31m \u001b[0msave_to_csv\u001b[0m\u001b[0;34m(\u001b[0m\u001b[0;34m\"classification\"\u001b[0m\u001b[0;34m,\u001b[0m \u001b[0;34m\"quality\"\u001b[0m\u001b[0;34m)\u001b[0m\u001b[0;34m\u001b[0m\u001b[0;34m\u001b[0m\u001b[0m\n\u001b[0m",
      "\u001b[0;32m/tmp/ipykernel_137/3644261539.py\u001b[0m in \u001b[0;36msave_to_csv\u001b[0;34m(task, target)\u001b[0m\n\u001b[1;32m     67\u001b[0m         \u001b[0mexplainer\u001b[0m \u001b[0;34m=\u001b[0m \u001b[0m_explainer\u001b[0m\u001b[0;34m(\u001b[0m\u001b[0mtask\u001b[0m\u001b[0;34m,\u001b[0m \u001b[0mtarget\u001b[0m\u001b[0;34m)\u001b[0m\u001b[0;34m\u001b[0m\u001b[0;34m\u001b[0m\u001b[0m\n\u001b[1;32m     68\u001b[0m         \u001b[0mexplaination\u001b[0m \u001b[0;34m=\u001b[0m \u001b[0mexplainer\u001b[0m\u001b[0;34m.\u001b[0m\u001b[0mexplain_instance\u001b[0m\u001b[0;34m(\u001b[0m\u001b[0mX_test\u001b[0m\u001b[0;34m.\u001b[0m\u001b[0miloc\u001b[0m\u001b[0;34m[\u001b[0m\u001b[0mi\u001b[0m\u001b[0;34m]\u001b[0m\u001b[0;34m,\u001b[0m \u001b[0mpred_model\u001b[0m\u001b[0;34m)\u001b[0m\u001b[0;34m\u001b[0m\u001b[0;34m\u001b[0m\u001b[0m\n\u001b[0;32m---> 69\u001b[0;31m         \u001b[0mall_df_local\u001b[0m\u001b[0;34m.\u001b[0m\u001b[0mappend\u001b[0m\u001b[0;34m(\u001b[0m\u001b[0m_to_csv_local\u001b[0m\u001b[0;34m(\u001b[0m\u001b[0mexplaination\u001b[0m\u001b[0;34m)\u001b[0m\u001b[0;34m)\u001b[0m\u001b[0;34m\u001b[0m\u001b[0;34m\u001b[0m\u001b[0m\n\u001b[0m\u001b[1;32m     70\u001b[0m \u001b[0;34m\u001b[0m\u001b[0m\n\u001b[1;32m     71\u001b[0m     \u001b[0mexplainer\u001b[0m \u001b[0;34m=\u001b[0m \u001b[0m_explainer\u001b[0m\u001b[0;34m(\u001b[0m\u001b[0mtask\u001b[0m\u001b[0;34m,\u001b[0m \u001b[0mtarget\u001b[0m\u001b[0;34m)\u001b[0m\u001b[0;34m\u001b[0m\u001b[0;34m\u001b[0m\u001b[0m\n",
      "\u001b[0;32m/tmp/ipykernel_137/3644261539.py\u001b[0m in \u001b[0;36m_to_csv_local\u001b[0;34m(explanation)\u001b[0m\n\u001b[1;32m     42\u001b[0m     \u001b[0mcols\u001b[0m \u001b[0;34m=\u001b[0m \u001b[0;34m[\u001b[0m\u001b[0;34m]\u001b[0m\u001b[0;34m\u001b[0m\u001b[0;34m\u001b[0m\u001b[0m\n\u001b[1;32m     43\u001b[0m     \u001b[0mvalues\u001b[0m \u001b[0;34m=\u001b[0m \u001b[0;34m[\u001b[0m\u001b[0;34m]\u001b[0m\u001b[0;34m\u001b[0m\u001b[0;34m\u001b[0m\u001b[0m\n\u001b[0;32m---> 44\u001b[0;31m     \u001b[0;32mfor\u001b[0m \u001b[0mx\u001b[0m\u001b[0;34m,\u001b[0m\u001b[0my\u001b[0m \u001b[0;32min\u001b[0m \u001b[0mlist\u001b[0m\u001b[0;34m(\u001b[0m\u001b[0mexplaination\u001b[0m\u001b[0;34m.\u001b[0m\u001b[0mlocal_exp\u001b[0m\u001b[0;34m.\u001b[0m\u001b[0mvalues\u001b[0m\u001b[0;34m(\u001b[0m\u001b[0;34m)\u001b[0m\u001b[0;34m)\u001b[0m\u001b[0;34m[\u001b[0m\u001b[0;36m0\u001b[0m\u001b[0;34m]\u001b[0m\u001b[0;34m:\u001b[0m\u001b[0;34m\u001b[0m\u001b[0;34m\u001b[0m\u001b[0m\n\u001b[0m\u001b[1;32m     45\u001b[0m         \u001b[0mcols\u001b[0m\u001b[0;34m.\u001b[0m\u001b[0mappend\u001b[0m\u001b[0;34m(\u001b[0m\u001b[0mreturn_x\u001b[0m\u001b[0;34m(\u001b[0m\u001b[0mx\u001b[0m\u001b[0;34m)\u001b[0m\u001b[0;34m)\u001b[0m\u001b[0;34m\u001b[0m\u001b[0;34m\u001b[0m\u001b[0m\n\u001b[1;32m     46\u001b[0m         \u001b[0mvalues\u001b[0m\u001b[0;34m.\u001b[0m\u001b[0mappend\u001b[0m\u001b[0;34m(\u001b[0m\u001b[0my\u001b[0m\u001b[0;34m)\u001b[0m\u001b[0;34m\u001b[0m\u001b[0;34m\u001b[0m\u001b[0m\n",
      "\u001b[0;31mNameError\u001b[0m: name 'explaination' is not defined"
     ]
    }
   ],
   "source": [
    "save_to_csv(\"classification\", \"quality\")"
   ]
  },
  {
   "cell_type": "code",
   "execution_count": 6,
   "id": "14a86976-9a15-4fe2-bf5e-db62329d0508",
   "metadata": {},
   "outputs": [
    {
     "data": {
      "text/html": [
       "<div>\n",
       "<style scoped>\n",
       "    .dataframe tbody tr th:only-of-type {\n",
       "        vertical-align: middle;\n",
       "    }\n",
       "\n",
       "    .dataframe tbody tr th {\n",
       "        vertical-align: top;\n",
       "    }\n",
       "\n",
       "    .dataframe thead th {\n",
       "        text-align: right;\n",
       "    }\n",
       "</style>\n",
       "<table border=\"1\" class=\"dataframe\">\n",
       "  <thead>\n",
       "    <tr style=\"text-align: right;\">\n",
       "      <th></th>\n",
       "      <th>chlorides</th>\n",
       "      <th>fixed acidity</th>\n",
       "      <th>sulphates</th>\n",
       "      <th>density</th>\n",
       "      <th>total sulfur dioxide</th>\n",
       "      <th>alcohol</th>\n",
       "      <th>residual sugar</th>\n",
       "      <th>free sulfur dioxide</th>\n",
       "      <th>citric acid</th>\n",
       "      <th>pH</th>\n",
       "    </tr>\n",
       "  </thead>\n",
       "  <tbody>\n",
       "    <tr>\n",
       "      <th>0</th>\n",
       "      <td>0.000253</td>\n",
       "      <td>0.000248</td>\n",
       "      <td>-0.000168</td>\n",
       "      <td>-0.00015</td>\n",
       "      <td>-0.000147</td>\n",
       "      <td>-0.000147</td>\n",
       "      <td>-0.000146</td>\n",
       "      <td>-0.000142</td>\n",
       "      <td>-0.000136</td>\n",
       "      <td>0.000062</td>\n",
       "    </tr>\n",
       "  </tbody>\n",
       "</table>\n",
       "</div>"
      ],
      "text/plain": [
       "   chlorides  fixed acidity  sulphates  density  total sulfur dioxide  \\\n",
       "0   0.000253       0.000248  -0.000168 -0.00015             -0.000147   \n",
       "\n",
       "    alcohol  residual sugar  free sulfur dioxide  citric acid        pH  \n",
       "0 -0.000147       -0.000146            -0.000142    -0.000136  0.000062  "
      ]
     },
     "execution_count": 6,
     "metadata": {},
     "output_type": "execute_result"
    }
   ],
   "source": [
    "explainer = _explainer(\"classification\", \"quality\")\n",
    "explaination = explainer.explain_instance(X_test.iloc[2], pred_model)\n",
    "_to_csv_local(explaination)"
   ]
  },
  {
   "cell_type": "code",
   "execution_count": null,
   "id": "cbd5036a-c84e-41c1-b313-53ffbaaeda6f",
   "metadata": {},
   "outputs": [],
   "source": []
  }
 ],
 "metadata": {
  "kernelspec": {
   "display_name": "Python 3 (ipykernel)",
   "language": "python",
   "name": "python3"
  },
  "language_info": {
   "codemirror_mode": {
    "name": "ipython",
    "version": 3
   },
   "file_extension": ".py",
   "mimetype": "text/x-python",
   "name": "python",
   "nbconvert_exporter": "python",
   "pygments_lexer": "ipython3",
   "version": "3.9.13"
  }
 },
 "nbformat": 4,
 "nbformat_minor": 5
}
