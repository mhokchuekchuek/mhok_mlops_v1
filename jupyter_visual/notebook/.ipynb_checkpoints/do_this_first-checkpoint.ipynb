{
 "cells": [
  {
   "cell_type": "markdown",
   "id": "26314267-713e-49ce-bcb8-d544a5fd2c16",
   "metadata": {},
   "source": [
    "# set artifact for visual \n",
    "    - task\n",
    "    - target columns\n",
    "    - model\n",
    "    - preprocess pipeline"
   ]
  },
  {
   "cell_type": "code",
   "execution_count": 1,
   "id": "eaa35993-3a14-4a50-8158-f2a7efdc079d",
   "metadata": {},
   "outputs": [],
   "source": [
    "from script.path import to_path  \n",
    "task = \"regression\"\n",
    "target = \"price\"\n",
    "model = \"/artifact/mlruns/286978358198217900/f303edb7e6134f009bef2f9578d6bde1/artifacts/model/model.pkl\"\n",
    "pipeline = \"/save_pipeline/pipeline_09_01_23_03:02:45.pkl\"\n",
    "to_path(task, target, model, pipeline)"
   ]
  },
  {
   "cell_type": "markdown",
   "id": "6f84ae36-cc73-4a9a-b6c2-5051fc73aac3",
   "metadata": {
    "tags": []
   },
   "source": [
    "# run_save_evaluate_file\n",
    "- after run this, your evalute's web app is on http://localhost:8501/\n",
    "## on evalute's web app include 3 things:\n",
    "\n",
    "- model_performance => comparing between train_set and test_set\n",
    "- error distribution, confusion_matrix  =>\n",
    "    - regression => error_distribution => check data point exceeded the specified difference values\n",
    "    - classification => confusion matrix => check false prediction with confusion matrix\n",
    "- dataset explorer => visualizationyour interested columns with some values such as different, y_true, y_pred"
   ]
  },
  {
   "cell_type": "code",
   "execution_count": 2,
   "id": "b6b3bbc7-ee38-47a7-9326-1957d7ba22e1",
   "metadata": {},
   "outputs": [],
   "source": [
    "import script.run_save.run_save_evaluate"
   ]
  },
  {
   "cell_type": "markdown",
   "id": "d2a411c8-fb16-4e3f-aee9-387f39173860",
   "metadata": {},
   "source": [
    "# run_save_interpret_file\n",
    "- after run this, your interpret's web app is on http://localhost:8502/\n",
    "## on interpret's web app\n",
    "- feature importance\n",
    "- dependency plot\n",
    "- dataset explorer"
   ]
  },
  {
   "cell_type": "code",
   "execution_count": 3,
   "id": "c464000f-6539-4fb1-a491-0cacf7cb48f4",
   "metadata": {},
   "outputs": [],
   "source": [
    "import script.run_save.run_save_interpret"
   ]
  },
  {
   "cell_type": "code",
   "execution_count": null,
   "id": "51eb85b2-ba2f-42af-8504-3bc053510fe2",
   "metadata": {},
   "outputs": [],
   "source": []
  }
 ],
 "metadata": {
  "kernelspec": {
   "display_name": "Python 3 (ipykernel)",
   "language": "python",
   "name": "python3"
  },
  "language_info": {
   "codemirror_mode": {
    "name": "ipython",
    "version": 3
   },
   "file_extension": ".py",
   "mimetype": "text/x-python",
   "name": "python",
   "nbconvert_exporter": "python",
   "pygments_lexer": "ipython3",
   "version": "3.9.13"
  }
 },
 "nbformat": 4,
 "nbformat_minor": 5
}
