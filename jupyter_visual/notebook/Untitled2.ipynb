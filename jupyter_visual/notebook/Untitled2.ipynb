{
 "cells": [
  {
   "cell_type": "code",
   "execution_count": 1,
   "id": "788e18a0-2957-408c-a01c-80e9648463c6",
   "metadata": {},
   "outputs": [
    {
     "name": "stdout",
     "output_type": "stream",
     "text": [
      "Requirement already satisfied: interpret-community in /usr/local/lib/python3.9/site-packages (0.27.0)\n",
      "Requirement already satisfied: scipy in /usr/local/lib/python3.9/site-packages (from interpret-community) (1.9.3)\n",
      "Requirement already satisfied: shap<=0.41.0,>=0.20.0 in /usr/local/lib/python3.9/site-packages (from interpret-community) (0.39.0)\n",
      "Requirement already satisfied: scikit-learn in /usr/local/lib/python3.9/site-packages (from interpret-community) (1.0.2)\n",
      "Requirement already satisfied: pandas in /usr/local/lib/python3.9/site-packages (from interpret-community) (1.5.2)\n",
      "Requirement already satisfied: packaging in /usr/local/lib/python3.9/site-packages (from interpret-community) (21.3)\n",
      "Requirement already satisfied: numpy in /usr/local/lib/python3.9/site-packages (from interpret-community) (1.22.3)\n",
      "Requirement already satisfied: ml-wrappers==0.2.2 in /usr/local/lib/python3.9/site-packages (from interpret-community) (0.2.2)\n",
      "Requirement already satisfied: interpret-core[required]<=0.2.7,>=0.1.20 in /usr/local/lib/python3.9/site-packages (from interpret-community) (0.2.7)\n",
      "Requirement already satisfied: joblib>=0.11 in /usr/local/lib/python3.9/site-packages (from interpret-core[required]<=0.2.7,>=0.1.20->interpret-community) (1.2.0)\n",
      "Requirement already satisfied: python-dateutil>=2.8.1 in /usr/local/lib/python3.9/site-packages (from pandas->interpret-community) (2.8.2)\n",
      "Requirement already satisfied: pytz>=2020.1 in /usr/local/lib/python3.9/site-packages (from pandas->interpret-community) (2022.6)\n",
      "Requirement already satisfied: threadpoolctl>=2.0.0 in /usr/local/lib/python3.9/site-packages (from scikit-learn->interpret-community) (3.1.0)\n",
      "Requirement already satisfied: cloudpickle in /usr/local/lib/python3.9/site-packages (from shap<=0.41.0,>=0.20.0->interpret-community) (2.2.0)\n",
      "Requirement already satisfied: numba in /usr/local/lib/python3.9/site-packages (from shap<=0.41.0,>=0.20.0->interpret-community) (0.53.1)\n",
      "Requirement already satisfied: tqdm>4.25.0 in /usr/local/lib/python3.9/site-packages (from shap<=0.41.0,>=0.20.0->interpret-community) (4.64.1)\n",
      "Requirement already satisfied: slicer==0.0.7 in /usr/local/lib/python3.9/site-packages (from shap<=0.41.0,>=0.20.0->interpret-community) (0.0.7)\n",
      "Requirement already satisfied: pyparsing!=3.0.5,>=2.0.2 in /usr/local/lib/python3.9/site-packages (from packaging->interpret-community) (3.0.9)\n",
      "Requirement already satisfied: six>=1.5 in /usr/local/lib/python3.9/site-packages (from python-dateutil>=2.8.1->pandas->interpret-community) (1.16.0)\n",
      "Requirement already satisfied: setuptools in /usr/local/lib/python3.9/site-packages (from numba->shap<=0.41.0,>=0.20.0->interpret-community) (65.6.3)\n",
      "Requirement already satisfied: llvmlite<0.37,>=0.36.0rc1 in /usr/local/lib/python3.9/site-packages (from numba->shap<=0.41.0,>=0.20.0->interpret-community) (0.36.0)\n",
      "\u001b[33mWARNING: Running pip as the 'root' user can result in broken permissions and conflicting behaviour with the system package manager. It is recommended to use a virtual environment instead: https://pip.pypa.io/warnings/venv\u001b[0m\u001b[33m\n",
      "\u001b[0mNote: you may need to restart the kernel to use updated packages.\n"
     ]
    }
   ],
   "source": [
    "pip install interpret-community"
   ]
  },
  {
   "cell_type": "code",
   "execution_count": null,
   "id": "db7062ec-537f-44e3-8f88-97a833f4db3f",
   "metadata": {},
   "outputs": [],
   "source": []
  }
 ],
 "metadata": {
  "kernelspec": {
   "display_name": "Python 3 (ipykernel)",
   "language": "python",
   "name": "python3"
  },
  "language_info": {
   "codemirror_mode": {
    "name": "ipython",
    "version": 3
   },
   "file_extension": ".py",
   "mimetype": "text/x-python",
   "name": "python",
   "nbconvert_exporter": "python",
   "pygments_lexer": "ipython3",
   "version": "3.9.13"
  }
 },
 "nbformat": 4,
 "nbformat_minor": 5
}
