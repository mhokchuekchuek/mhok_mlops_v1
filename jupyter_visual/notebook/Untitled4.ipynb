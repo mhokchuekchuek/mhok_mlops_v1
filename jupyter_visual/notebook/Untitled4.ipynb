{
 "cells": [
  {
   "cell_type": "code",
   "execution_count": 1,
   "id": "9c2b18f6-979a-4480-b84f-e0fcdad64211",
   "metadata": {},
   "outputs": [
    {
     "data": {
      "application/vnd.jupyter.widget-view+json": {
       "model_id": "a93ce0236e654274927a0b1cd057ee15",
       "version_major": 2,
       "version_minor": 0
      },
      "text/plain": [
       "  0%|          | 0/252 [00:00<?, ?it/s]"
      ]
     },
     "metadata": {},
     "output_type": "display_data"
    },
    {
     "ename": "NameError",
     "evalue": "name 'explaination' is not defined",
     "output_type": "error",
     "traceback": [
      "\u001b[0;31m---------------------------------------------------------------------------\u001b[0m",
      "\u001b[0;31mNameError\u001b[0m                                 Traceback (most recent call last)",
      "\u001b[0;32m/tmp/ipykernel_754/607262864.py\u001b[0m in \u001b[0;36m<module>\u001b[0;34m\u001b[0m\n\u001b[1;32m      1\u001b[0m \u001b[0;32mfrom\u001b[0m \u001b[0mscript\u001b[0m\u001b[0;34m.\u001b[0m\u001b[0msave_interpret\u001b[0m \u001b[0;32mimport\u001b[0m \u001b[0msave_to_csv\u001b[0m\u001b[0;34m\u001b[0m\u001b[0;34m\u001b[0m\u001b[0m\n\u001b[0;32m----> 2\u001b[0;31m \u001b[0msave_to_csv\u001b[0m\u001b[0;34m(\u001b[0m\u001b[0;34m\"classification\"\u001b[0m\u001b[0;34m,\u001b[0m \u001b[0;34m\"quality\"\u001b[0m\u001b[0;34m)\u001b[0m\u001b[0;34m\u001b[0m\u001b[0;34m\u001b[0m\u001b[0m\n\u001b[0m",
      "\u001b[0;32m/code/notebook/script/save_interpret.py\u001b[0m in \u001b[0;36msave_to_csv\u001b[0;34m(task, target)\u001b[0m\n\u001b[1;32m     69\u001b[0m         \u001b[0mexplainer\u001b[0m \u001b[0;34m=\u001b[0m \u001b[0m_explainer\u001b[0m\u001b[0;34m(\u001b[0m\u001b[0mtask\u001b[0m\u001b[0;34m,\u001b[0m \u001b[0mtarget\u001b[0m\u001b[0;34m)\u001b[0m\u001b[0;34m\u001b[0m\u001b[0;34m\u001b[0m\u001b[0m\n\u001b[1;32m     70\u001b[0m         \u001b[0mexplaination\u001b[0m \u001b[0;34m=\u001b[0m \u001b[0mexplainer\u001b[0m\u001b[0;34m.\u001b[0m\u001b[0mexplain_instance\u001b[0m\u001b[0;34m(\u001b[0m\u001b[0mX_test\u001b[0m\u001b[0;34m.\u001b[0m\u001b[0miloc\u001b[0m\u001b[0;34m[\u001b[0m\u001b[0mi\u001b[0m\u001b[0;34m]\u001b[0m\u001b[0;34m,\u001b[0m \u001b[0mpred_model\u001b[0m\u001b[0;34m)\u001b[0m\u001b[0;34m\u001b[0m\u001b[0;34m\u001b[0m\u001b[0m\n\u001b[0;32m---> 71\u001b[0;31m         \u001b[0mall_df_local\u001b[0m\u001b[0;34m.\u001b[0m\u001b[0mappend\u001b[0m\u001b[0;34m(\u001b[0m\u001b[0m_to_csv_local\u001b[0m\u001b[0;34m(\u001b[0m\u001b[0mexplaination\u001b[0m\u001b[0;34m)\u001b[0m\u001b[0;34m)\u001b[0m\u001b[0;34m\u001b[0m\u001b[0;34m\u001b[0m\u001b[0m\n\u001b[0m\u001b[1;32m     72\u001b[0m \u001b[0;34m\u001b[0m\u001b[0m\n\u001b[1;32m     73\u001b[0m     \u001b[0mexplainer\u001b[0m \u001b[0;34m=\u001b[0m \u001b[0m_explainer\u001b[0m\u001b[0;34m(\u001b[0m\u001b[0mtask\u001b[0m\u001b[0;34m,\u001b[0m \u001b[0mtarget\u001b[0m\u001b[0;34m)\u001b[0m\u001b[0;34m\u001b[0m\u001b[0;34m\u001b[0m\u001b[0m\n",
      "\u001b[0;32m/code/notebook/script/save_interpret.py\u001b[0m in \u001b[0;36m_to_csv_local\u001b[0;34m(explanation)\u001b[0m\n\u001b[1;32m     44\u001b[0m     \u001b[0mcols\u001b[0m \u001b[0;34m=\u001b[0m \u001b[0;34m[\u001b[0m\u001b[0;34m]\u001b[0m\u001b[0;34m\u001b[0m\u001b[0;34m\u001b[0m\u001b[0m\n\u001b[1;32m     45\u001b[0m     \u001b[0mvalues\u001b[0m \u001b[0;34m=\u001b[0m \u001b[0;34m[\u001b[0m\u001b[0;34m]\u001b[0m\u001b[0;34m\u001b[0m\u001b[0;34m\u001b[0m\u001b[0m\n\u001b[0;32m---> 46\u001b[0;31m     \u001b[0;32mfor\u001b[0m \u001b[0mx\u001b[0m\u001b[0;34m,\u001b[0m\u001b[0my\u001b[0m \u001b[0;32min\u001b[0m \u001b[0mlist\u001b[0m\u001b[0;34m(\u001b[0m\u001b[0mexplaination\u001b[0m\u001b[0;34m.\u001b[0m\u001b[0mlocal_exp\u001b[0m\u001b[0;34m.\u001b[0m\u001b[0mvalues\u001b[0m\u001b[0;34m(\u001b[0m\u001b[0;34m)\u001b[0m\u001b[0;34m)\u001b[0m\u001b[0;34m[\u001b[0m\u001b[0;36m0\u001b[0m\u001b[0;34m]\u001b[0m\u001b[0;34m:\u001b[0m\u001b[0;34m\u001b[0m\u001b[0;34m\u001b[0m\u001b[0m\n\u001b[0m\u001b[1;32m     47\u001b[0m         \u001b[0mcols\u001b[0m\u001b[0;34m.\u001b[0m\u001b[0mappend\u001b[0m\u001b[0;34m(\u001b[0m\u001b[0mreturn_x\u001b[0m\u001b[0;34m(\u001b[0m\u001b[0mx\u001b[0m\u001b[0;34m)\u001b[0m\u001b[0;34m)\u001b[0m\u001b[0;34m\u001b[0m\u001b[0;34m\u001b[0m\u001b[0m\n\u001b[1;32m     48\u001b[0m         \u001b[0mvalues\u001b[0m\u001b[0;34m.\u001b[0m\u001b[0mappend\u001b[0m\u001b[0;34m(\u001b[0m\u001b[0my\u001b[0m\u001b[0;34m)\u001b[0m\u001b[0;34m\u001b[0m\u001b[0;34m\u001b[0m\u001b[0m\n",
      "\u001b[0;31mNameError\u001b[0m: name 'explaination' is not defined"
     ]
    }
   ],
   "source": [
    "from script.save_interpret import save_to_csv\n",
    "save_to_csv(\"classification\", \"quality\")"
   ]
  },
  {
   "cell_type": "code",
   "execution_count": 2,
   "id": "87e9db26-90df-44e7-ba62-6b9efc1ea5df",
   "metadata": {},
   "outputs": [
    {
     "name": "stdout",
     "output_type": "stream",
     "text": [
      "1\n",
      "2\n",
      "3\n",
      "4\n",
      "5\n",
      "6\n"
     ]
    }
   ],
   "source": [
    "a = [(1,2),(3,4),(5,6)]\n",
    "for x,y in a:\n",
    "    print(x)\n",
    "    print(y)"
   ]
  },
  {
   "cell_type": "code",
   "execution_count": 79,
   "id": "7075baad-306c-4845-a03b-16cdd4f2d412",
   "metadata": {},
   "outputs": [
    {
     "data": {
      "text/plain": [
       "<bound method LGBMModel.predict of LGBMRegressor()>"
      ]
     },
     "execution_count": 79,
     "metadata": {},
     "output_type": "execute_result"
    }
   ],
   "source": [
    "from tqdm import tqdm\n",
    "pred_model = model[-1].predict\n",
    "pred_model"
   ]
  },
  {
   "cell_type": "code",
   "execution_count": 80,
   "id": "d9c7cd74-b700-4c5d-be6e-c9530c1cf87f",
   "metadata": {},
   "outputs": [
    {
     "data": {
      "text/plain": [
       "LGBMRegressor()"
      ]
     },
     "execution_count": 80,
     "metadata": {},
     "output_type": "execute_result"
    }
   ],
   "source": [
    " model[-1]"
   ]
  },
  {
   "cell_type": "code",
   "execution_count": 322,
   "id": "dc72e2c6-564b-43d0-b092-9b9ce4042d07",
   "metadata": {},
   "outputs": [],
   "source": [
    "import numpy as np\n",
    "import warnings\n",
    "from lime import submodular_pick\n",
    "from tqdm import tqdm\n",
    "from lime.lime_tabular import LimeTabularExplainer\n",
    "import pandas as pd\n",
    "import joblib\n",
    "\n",
    "X_train = pd.read_csv(\"/ml_data/X_train.csv\").drop(columns = \"Unnamed: 0\")\n",
    "y_train = pd.read_csv(\"/ml_data/y_train.csv\").drop(columns = \"Unnamed: 0\")\n",
    "X_test = pd.read_csv(\"/ml_data/X_test.csv\").drop(columns = \"Unnamed: 0\")\n",
    "y_test = pd.read_csv(\"/ml_data/y_test.csv\").drop(columns = \"Unnamed: 0\")\n",
    "feature_names = list(X_train.columns)\n",
    "model = joblib.load(\"/artifact/mlruns/813623427044464195/69402f2e004a4032b669f7800a476315/artifacts/model/model.pkl\")\n",
    "# model = joblib.load(\"/artifact/mlruns/941649382202349625/e311be07056d4a4fa7413ec46830e13b/artifacts/model/model.pkl\")\n",
    "task = \"regression\"\n",
    "target = \"price\"\n",
    "pipeline_name = \"non_remove_outlier median StandardScaler\"\n",
    "\n",
    "all_columns = []\n",
    "cat_feature = []\n",
    "for i in range(len(model[\"preprocessor\"].transformers_)):\n",
    "    if model[\"preprocessor\"].transformers_[i][0] == \"num\":\n",
    "        all_columns.extend(model[\"preprocessor\"].transformers[i][2])\n",
    "    else:\n",
    "        for j in range(len(model['preprocessor'].transformers_[1][1].categories_)):\n",
    "            all_columns.extend(list(model['preprocessor'].transformers_[1][1].categories_[j]))\n",
    "            cat_feature.append(list(model['preprocessor'].transformers_[1][1].categories_[j]))\n",
    "            \n",
    "def load_transform(file_name):\n",
    "    preprocessor = joblib.load(f'/save_pipeline/{file_name}.pkl')\n",
    "    return preprocessor\n",
    "    \n",
    "if str(model[1]) ==  'KNeighborsClassifier()':\n",
    "    pred_model = model[-1].predict_proba\n",
    "else:\n",
    "    pred_model = model[-1].predict\n",
    "\n",
    "def check_type(df)-> list[str]:\n",
    "    df_columns = list(df.columns)\n",
    "    numeric = []\n",
    "    catagories = []\n",
    "    for values in df.columns:\n",
    "        if df[values].dtypes == int or df[values].dtypes == float:\n",
    "            numeric.append(values)\n",
    "        else:\n",
    "            catagories.append(values)\n",
    "    return catagories\n",
    "\n",
    "    \n",
    "def check_file():\n",
    "    path = Path(\"/model_interpret\")\n",
    "    return path.is_file()\n",
    "    \n",
    "def _explainer(task, target):\n",
    "    if task == \"classification\":\n",
    "        class_names = y_train[target].unique()\n",
    "        # Fit the Explainer on the training data set using the LimeTabularExplainer \n",
    "        explainer = LimeTabularExplainer(load_transform(pipeline_name).fit_transform(X_train), feature_names = all_columns, class_names = class_names, mode = task, , categorical_features = cat_feature)\n",
    "    else:\n",
    "        explainer = LimeTabularExplainer(load_transform(pipeline_name).fit_transform(X_train), feature_names = all_columns, mode = \"regression\", class_names = [target], categorical_features = cat_feature)\n",
    "        \n",
    "    return explainer\n",
    "\n",
    "def return_x(explaination, int_x):\n",
    "    return explaination.domain_mapper.feature_names[int_x]\n",
    "\n",
    "def return_x_2(explaination,int_x, i):\n",
    "    return explaination.explanations[i].domain_mapper.feature_names[int_x]\n",
    "\n",
    "def _to_csv_local(lime_obj, num):\n",
    "    cols = [\"importance_values_\"+i for i in [lime_obj.domain_mapper.feature_names][0]]\n",
    "    values = lime_obj.domain_mapper.feature_values\n",
    "    arr = np.array(values).reshape((1, len(cols)))\n",
    "    df_x = pd.DataFrame(arr , columns = cols)\n",
    "    return pd.concat([X_test[X_test.index == num], df_x], axis = 1)\n",
    "    \n",
    "\n",
    "def _to_csv_global(lime_obj):\n",
    "    all_df = []\n",
    "    for i in range(0,5):\n",
    "        cols = lime_obj.explanations[i].domain_mapper.feature_names\n",
    "        values = lime_obj.explanations[i].domain_mapper.feature_values\n",
    "        arr = np.array(values).reshape((1, len(list(lime_obj.explanations[i].local_exp.values())[0])))\n",
    "        all_df.append(pd.DataFrame(arr , columns = cols))\n",
    "    return pd.concat(all_df, ignore_index =True)\n",
    "\n",
    "def save_to_csv(task, target):\n",
    "    all_df_local = []\n",
    "    num = -1\n",
    "    for i in tqdm(model[0].fit_transform(X_test)):\n",
    "        num+=1\n",
    "        explainer = _explainer(task, target)\n",
    "        explaination = explainer.explain_instance(i, pred_model)\n",
    "        all_df_local.append(_to_csv_local(explaination, num))\n",
    "        \n",
    "    explainer = _explainer(task, target)\n",
    "    sp_obj = submodular_pick.SubmodularPick(explainer, model[0].fit_transform(X_train), pred_model, num_features= len(all_columns), num_exps_desired = 5)\n",
    "    all_df_global = _to_csv_global(sp_obj)\n",
    "    pd.concat(all_df_local, ignore_index = True).fillna(0).to_csv(\"/model_interpret/local.csv\")\n",
    "    all_df_global.fillna(0).to_csv(\"/model_interpret/global.csv\")\n"
   ]
  },
  {
   "cell_type": "code",
   "execution_count": 323,
   "id": "c951fa47-3c4f-4fac-b347-9e2db8b27b15",
   "metadata": {},
   "outputs": [],
   "source": [
    "# all_df_local = []\n",
    "# for i in tqdm(model[0].fit_transform(X_test)):\n",
    "#     explainer = _explainer(task, target)\n",
    "#     explaination = explainer.explain_instance(i, pred_model)\n",
    "#     all_df_local.append(_to_csv_local(explaination))"
   ]
  },
  {
   "cell_type": "code",
   "execution_count": 324,
   "id": "e9631e2e-a83f-4d97-98c2-a5e7f7b11452",
   "metadata": {},
   "outputs": [
    {
     "data": {
      "text/plain": [
       "ColumnTransformer(transformers=[('num',\n",
       "                                 Pipeline(steps=[('imputer',\n",
       "                                                  SimpleImputer(strategy='median')),\n",
       "                                                 ('scaler', StandardScaler())]),\n",
       "                                 ['bedroom', 'bathroom', 'sqm', 'built_year',\n",
       "                                  'luxuary', 'public', 'BRT_distance',\n",
       "                                  'BTS_distance', 'MRT_distance',\n",
       "                                  'APL_distance', 'Air-Conditioning',\n",
       "                                  'Audio System', 'BBQ pits',\n",
       "                                  'Basketball court', 'Bathtub', 'Bed',\n",
       "                                  'Billiards room', 'Broadband Internet',\n",
       "                                  'Club', 'Clubhouse', 'Colonial Building',\n",
       "                                  'Corner Unit', 'DVD Player', 'Dishwasher',\n",
       "                                  'Driving range', 'Dryer', 'Fridge',\n",
       "                                  'Function room', 'Game room', 'Ground Floor', ...]),\n",
       "                                ('cat', OneHotEncoder(handle_unknown='ignore'),\n",
       "                                 ['developer', 'district'])])"
      ]
     },
     "execution_count": 324,
     "metadata": {},
     "output_type": "execute_result"
    }
   ],
   "source": [
    "model[0]"
   ]
  },
  {
   "cell_type": "code",
   "execution_count": 325,
   "id": "8de95768-4fb5-4965-85d2-39d60240fa2d",
   "metadata": {},
   "outputs": [
    {
     "data": {
      "text/plain": [
       "array([-1.92133845, -0.63431634, -0.75415444, -0.30528677, -0.63828218,\n",
       "       -0.48117823,  0.27562872,  1.57627616, -1.49369187,  0.37208382,\n",
       "       -0.73139576, -0.05612135, -0.20834357, -0.10153462, -0.17770466,\n",
       "        2.38856927, -0.02802759, -0.09751265, -0.21442251, -0.22425107,\n",
       "       -0.02802759, -0.17052613, -0.02802759, -0.05612135, -0.08894601,\n",
       "       -0.02802759,  2.61996136, -0.20420758, -0.18004141,  0.        ,\n",
       "       -0.02802759, -0.31949354,  0.        , -0.07949286, -0.04858339,\n",
       "       -0.31799936, -0.11277677, -0.09751265, -0.19135081, -0.39639612,\n",
       "       -0.27072868, -0.0627703 , -0.08434823, -0.12304244, -0.2870765 ,\n",
       "       -0.14990634, -0.09332428, -0.04858339,  0.        , -0.02802759,\n",
       "       -0.21839727, -0.02802759, -0.26737361, -0.32246881,  0.        ,\n",
       "        0.        , -0.06878853, -0.37354368, -0.05612135, -0.18004141,\n",
       "        0.        , -0.28867513, -0.06878853, -0.12304244, -0.08894601,\n",
       "       -0.12628921, -0.33420479, -0.44426166, -0.65074088, -0.7581449 ,\n",
       "       -0.44552758, -1.09387007, -0.4069389 , -0.04858339, -1.05987421,\n",
       "       -0.62880822, -1.2991396 , -0.38572359, -0.37354368,  0.        ,\n",
       "        0.        ,  0.        ,  0.        ,  0.        ,  0.        ,\n",
       "        0.        ,  0.        ,  0.        ,  0.        ,  0.        ,\n",
       "        0.        ,  0.        ,  0.        ,  0.        ,  0.        ,\n",
       "        1.        ,  0.        ,  0.        ,  1.        ,  0.        ,\n",
       "        0.        ,  0.        ,  0.        ,  0.        ,  0.        ,\n",
       "        0.        ])"
      ]
     },
     "execution_count": 325,
     "metadata": {},
     "output_type": "execute_result"
    }
   ],
   "source": [
    "model[0].fit_transform(X_test)[0]"
   ]
  },
  {
   "cell_type": "code",
   "execution_count": 327,
   "id": "5c591e24-f067-4347-8d63-17ea02ba8ad0",
   "metadata": {},
   "outputs": [
    {
     "name": "stdout",
     "output_type": "stream",
     "text": [
      "eiei\n"
     ]
    },
    {
     "ename": "TypeError",
     "evalue": "_to_csv_local() missing 1 required positional argument: 'num'",
     "output_type": "error",
     "traceback": [
      "\u001b[0;31m---------------------------------------------------------------------------\u001b[0m",
      "\u001b[0;31mTypeError\u001b[0m                                 Traceback (most recent call last)",
      "\u001b[0;32m/tmp/ipykernel_84/1680922197.py\u001b[0m in \u001b[0;36m<module>\u001b[0;34m\u001b[0m\n\u001b[1;32m      2\u001b[0m \u001b[0mexplaination\u001b[0m \u001b[0;34m=\u001b[0m \u001b[0mexplainer\u001b[0m\u001b[0;34m.\u001b[0m\u001b[0mexplain_instance\u001b[0m\u001b[0;34m(\u001b[0m\u001b[0mmodel\u001b[0m\u001b[0;34m[\u001b[0m\u001b[0;36m0\u001b[0m\u001b[0;34m]\u001b[0m\u001b[0;34m.\u001b[0m\u001b[0mfit_transform\u001b[0m\u001b[0;34m(\u001b[0m\u001b[0mX_test\u001b[0m\u001b[0;34m)\u001b[0m\u001b[0;34m[\u001b[0m\u001b[0;36m0\u001b[0m\u001b[0;34m]\u001b[0m\u001b[0;34m,\u001b[0m \u001b[0mpred_model\u001b[0m\u001b[0;34m)\u001b[0m\u001b[0;34m\u001b[0m\u001b[0;34m\u001b[0m\u001b[0m\n\u001b[1;32m      3\u001b[0m \u001b[0;31m# explaination.__dict__[\"domain_mapper\"].__dict___to_csv_local(explaination)\u001b[0m\u001b[0;34m\u001b[0m\u001b[0;34m\u001b[0m\u001b[0m\n\u001b[0;32m----> 4\u001b[0;31m \u001b[0m_to_csv_local\u001b[0m\u001b[0;34m(\u001b[0m\u001b[0mexplaination\u001b[0m\u001b[0;34m)\u001b[0m\u001b[0;34m\u001b[0m\u001b[0;34m\u001b[0m\u001b[0m\n\u001b[0m",
      "\u001b[0;31mTypeError\u001b[0m: _to_csv_local() missing 1 required positional argument: 'num'"
     ]
    }
   ],
   "source": [
    "explainer = _explainer(task, target)\n",
    "explaination = explainer.explain_instance(model[0].fit_transform(X_test)[0], pred_model)\n",
    "# explaination.__dict__[\"domain_mapper\"].__dict___to_csv_local(explaination)\n",
    "_to_csv_local(explaination)"
   ]
  },
  {
   "cell_type": "code",
   "execution_count": 328,
   "id": "3dbf37dd-bfe9-45b9-ad12-321d6ae99cc4",
   "metadata": {},
   "outputs": [
    {
     "ename": "NameError",
     "evalue": "name 'num' is not defined",
     "output_type": "error",
     "traceback": [
      "\u001b[0;31m---------------------------------------------------------------------------\u001b[0m",
      "\u001b[0;31mNameError\u001b[0m                                 Traceback (most recent call last)",
      "\u001b[0;32m/tmp/ipykernel_84/222807917.py\u001b[0m in \u001b[0;36m<module>\u001b[0;34m\u001b[0m\n\u001b[1;32m      5\u001b[0m \u001b[0marr\u001b[0m \u001b[0;34m=\u001b[0m \u001b[0mnp\u001b[0m\u001b[0;34m.\u001b[0m\u001b[0marray\u001b[0m\u001b[0;34m(\u001b[0m\u001b[0mvalues\u001b[0m\u001b[0;34m)\u001b[0m\u001b[0;34m.\u001b[0m\u001b[0mreshape\u001b[0m\u001b[0;34m(\u001b[0m\u001b[0;34m(\u001b[0m\u001b[0;36m1\u001b[0m\u001b[0;34m,\u001b[0m \u001b[0mlen\u001b[0m\u001b[0;34m(\u001b[0m\u001b[0mcols\u001b[0m\u001b[0;34m)\u001b[0m\u001b[0;34m)\u001b[0m\u001b[0;34m)\u001b[0m\u001b[0;34m\u001b[0m\u001b[0;34m\u001b[0m\u001b[0m\n\u001b[1;32m      6\u001b[0m \u001b[0mdf_x\u001b[0m \u001b[0;34m=\u001b[0m \u001b[0mpd\u001b[0m\u001b[0;34m.\u001b[0m\u001b[0mDataFrame\u001b[0m\u001b[0;34m(\u001b[0m\u001b[0marr\u001b[0m \u001b[0;34m,\u001b[0m \u001b[0mcolumns\u001b[0m \u001b[0;34m=\u001b[0m \u001b[0mcols\u001b[0m\u001b[0;34m)\u001b[0m\u001b[0;34m\u001b[0m\u001b[0;34m\u001b[0m\u001b[0m\n\u001b[0;32m----> 7\u001b[0;31m \u001b[0mpd\u001b[0m\u001b[0;34m.\u001b[0m\u001b[0mconcat\u001b[0m\u001b[0;34m(\u001b[0m\u001b[0;34m[\u001b[0m\u001b[0mX_test\u001b[0m\u001b[0;34m[\u001b[0m\u001b[0mX_test\u001b[0m\u001b[0;34m.\u001b[0m\u001b[0mindex\u001b[0m \u001b[0;34m==\u001b[0m \u001b[0mnum\u001b[0m\u001b[0;34m]\u001b[0m\u001b[0;34m,\u001b[0m \u001b[0mdf_x\u001b[0m\u001b[0;34m]\u001b[0m\u001b[0;34m,\u001b[0m \u001b[0maxis\u001b[0m \u001b[0;34m=\u001b[0m \u001b[0;36m1\u001b[0m\u001b[0;34m)\u001b[0m\u001b[0;34m\u001b[0m\u001b[0;34m\u001b[0m\u001b[0m\n\u001b[0m",
      "\u001b[0;31mNameError\u001b[0m: name 'num' is not defined"
     ]
    }
   ],
   "source": [
    "all_df = []\n",
    "lime_obj = explaination\n",
    "cols = [\"importance_values_\"+i for i in [lime_obj.domain_mapper.feature_names][0]]\n",
    "values = lime_obj.domain_mapper.feature_values\n",
    "arr = np.array(values).reshape((1, len(cols)))\n",
    "df_x = pd.DataFrame(arr , columns = cols)\n",
    "pd.concat([X_test[X_test.index == num], df_x], axis = 1)"
   ]
  },
  {
   "cell_type": "code",
   "execution_count": 329,
   "id": "c55ab1db-5c96-4bb1-9b03-b83822a4847b",
   "metadata": {},
   "outputs": [
    {
     "data": {
      "text/html": [
       "<div>\n",
       "<style scoped>\n",
       "    .dataframe tbody tr th:only-of-type {\n",
       "        vertical-align: middle;\n",
       "    }\n",
       "\n",
       "    .dataframe tbody tr th {\n",
       "        vertical-align: top;\n",
       "    }\n",
       "\n",
       "    .dataframe thead th {\n",
       "        text-align: right;\n",
       "    }\n",
       "</style>\n",
       "<table border=\"1\" class=\"dataframe\">\n",
       "  <thead>\n",
       "    <tr style=\"text-align: right;\">\n",
       "      <th></th>\n",
       "      <th>bedroom</th>\n",
       "      <th>bathroom</th>\n",
       "      <th>sqm</th>\n",
       "      <th>developer</th>\n",
       "      <th>built_year</th>\n",
       "      <th>district</th>\n",
       "      <th>luxuary</th>\n",
       "      <th>public</th>\n",
       "      <th>BRT_distance</th>\n",
       "      <th>BTS_distance</th>\n",
       "      <th>...</th>\n",
       "      <th>importance_values_Bang Rak</th>\n",
       "      <th>importance_values_Chatuchak</th>\n",
       "      <th>importance_values_Huai Khwang</th>\n",
       "      <th>importance_values_Khlong San</th>\n",
       "      <th>importance_values_Khlong Toei</th>\n",
       "      <th>importance_values_Pathum Wan</th>\n",
       "      <th>importance_values_Phra Khanong</th>\n",
       "      <th>importance_values_Ratchathewi</th>\n",
       "      <th>importance_values_Sathon</th>\n",
       "      <th>importance_values_Watthana</th>\n",
       "    </tr>\n",
       "  </thead>\n",
       "  <tbody>\n",
       "    <tr>\n",
       "      <th>0</th>\n",
       "      <td>0</td>\n",
       "      <td>1</td>\n",
       "      <td>30.0</td>\n",
       "      <td>no</td>\n",
       "      <td>2013</td>\n",
       "      <td>Huai Khwang</td>\n",
       "      <td>0</td>\n",
       "      <td>0</td>\n",
       "      <td>10000</td>\n",
       "      <td>10000</td>\n",
       "      <td>...</td>\n",
       "      <td>0.00</td>\n",
       "      <td>0.00</td>\n",
       "      <td>1.00</td>\n",
       "      <td>0.00</td>\n",
       "      <td>0.00</td>\n",
       "      <td>0.00</td>\n",
       "      <td>0.00</td>\n",
       "      <td>0.00</td>\n",
       "      <td>0.00</td>\n",
       "      <td>0.00</td>\n",
       "    </tr>\n",
       "  </tbody>\n",
       "</table>\n",
       "<p>1 rows × 187 columns</p>\n",
       "</div>"
      ],
      "text/plain": [
       "   bedroom  bathroom   sqm developer  built_year     district  luxuary  \\\n",
       "0        0         1  30.0        no        2013  Huai Khwang        0   \n",
       "\n",
       "   public  BRT_distance  BTS_distance  ...  importance_values_Bang Rak  \\\n",
       "0       0         10000         10000  ...                        0.00   \n",
       "\n",
       "   importance_values_Chatuchak  importance_values_Huai Khwang  \\\n",
       "0                         0.00                           1.00   \n",
       "\n",
       "   importance_values_Khlong San  importance_values_Khlong Toei  \\\n",
       "0                          0.00                           0.00   \n",
       "\n",
       "   importance_values_Pathum Wan  importance_values_Phra Khanong  \\\n",
       "0                          0.00                            0.00   \n",
       "\n",
       "   importance_values_Ratchathewi  importance_values_Sathon  \\\n",
       "0                           0.00                      0.00   \n",
       "\n",
       "   importance_values_Watthana  \n",
       "0                        0.00  \n",
       "\n",
       "[1 rows x 187 columns]"
      ]
     },
     "execution_count": 329,
     "metadata": {},
     "output_type": "execute_result"
    }
   ],
   "source": [
    "pd.concat([X_test[X_test.index == 0], df_x], axis = 1)"
   ]
  },
  {
   "cell_type": "code",
   "execution_count": 330,
   "id": "7c0a119f-1500-44c6-ad3c-cb4a1f1a1e8f",
   "metadata": {},
   "outputs": [
    {
     "name": "stdout",
     "output_type": "stream",
     "text": [
      "eiei\n"
     ]
    },
    {
     "name": "stderr",
     "output_type": "stream",
     "text": [
      "/usr/local/lib/python3.9/site-packages/lime/submodular_pick.py:82: UserWarning: Requested number of explanations larger than\n",
      "                           total number of explanations, returning all\n",
      "                           explanations instead.\n",
      "  warnings.warn(\"\"\"Requested number of explanations larger than\n"
     ]
    }
   ],
   "source": [
    "explainer = _explainer(task, target)\n",
    "sp_obj = submodular_pick.SubmodularPick(explainer, model[0].fit_transform(X_train), pred_model, num_features= len(all_columns), num_exps_desired = 5, sample_size=2)"
   ]
  },
  {
   "cell_type": "code",
   "execution_count": 331,
   "id": "4b8c4121-2fab-413b-8e20-571cdc697574",
   "metadata": {},
   "outputs": [],
   "source": [
    "lime_obj = sp_obj\n",
    "all_df = []\n",
    "for i in range(0,2):\n",
    "    cols = lime_obj.explanations[i].domain_mapper.feature_names\n",
    "    values = lime_obj.explanations[i].domain_mapper.feature_values\n",
    "    arr = np.array(values).reshape((1, len(list(lime_obj.explanations[i].local_exp.values())[0])))\n",
    "    all_df.append(pd.DataFrame(arr , columns = cols))"
   ]
  },
  {
   "cell_type": "code",
   "execution_count": 332,
   "id": "756f2a7a-a6c7-4b86-8546-ab6a76e17e3e",
   "metadata": {},
   "outputs": [
    {
     "data": {
      "text/plain": [
       "['bedroom',\n",
       " 'bathroom',\n",
       " 'sqm',\n",
       " 'built_year',\n",
       " 'luxuary',\n",
       " 'public',\n",
       " 'BRT_distance',\n",
       " 'BTS_distance',\n",
       " 'MRT_distance',\n",
       " 'APL_distance',\n",
       " 'Air-Conditioning',\n",
       " 'Audio System',\n",
       " 'BBQ pits',\n",
       " 'Basketball court',\n",
       " 'Bathtub',\n",
       " 'Bed',\n",
       " 'Billiards room',\n",
       " 'Broadband Internet',\n",
       " 'Club',\n",
       " 'Clubhouse',\n",
       " 'Colonial Building',\n",
       " 'Corner Unit',\n",
       " 'DVD Player',\n",
       " 'Dishwasher',\n",
       " 'Driving range',\n",
       " 'Dryer',\n",
       " 'Fridge',\n",
       " 'Function room',\n",
       " 'Game room',\n",
       " 'Ground Floor',\n",
       " 'Hairdryer',\n",
       " 'High Floor',\n",
       " 'ISDN',\n",
       " 'Internet Connection',\n",
       " 'Iron / Ironing Board',\n",
       " 'Jacuzzi',\n",
       " 'Karaoke',\n",
       " 'Kitchen',\n",
       " 'Launderette',\n",
       " 'Library',\n",
       " 'Lounge',\n",
       " 'Low Floor',\n",
       " 'Maidsroom',\n",
       " 'Mini golf range',\n",
       " 'Mini-Mart',\n",
       " 'Multi-purpose hall',\n",
       " 'Original Condition',\n",
       " 'Outdoor Patio',\n",
       " 'Own Chiller Plant',\n",
       " 'Pantry',\n",
       " 'Pavillion',\n",
       " 'Penthouse',\n",
       " 'Playground',\n",
       " 'Private Garden',\n",
       " 'Private Pool',\n",
       " 'Putting Green',\n",
       " 'Reflexology Path',\n",
       " 'Renovated',\n",
       " 'Roof Terrace',\n",
       " 'SCV/SMATV System',\n",
       " 'Sea View',\n",
       " 'Sky Lounge',\n",
       " 'Squash court',\n",
       " 'Tennis courts',\n",
       " 'Vacuum Cleaner',\n",
       " 'Walk-in-wardrobe',\n",
       " 'Washing Machine',\n",
       " 'Water Heater',\n",
       " 'balcony',\n",
       " 'car park',\n",
       " 'cook',\n",
       " 'fitness',\n",
       " 'furniture',\n",
       " 'nan',\n",
       " 'pool',\n",
       " 'sauna',\n",
       " 'security',\n",
       " 'tv',\n",
       " 'view',\n",
       " 'AP Thailand - เอพี (ไทยแลนด์) จำกัด (มหาชน)',\n",
       " 'Ananda Development - อนันดา ดีเวลลอปเม้นท์ จํากัด (มหาชน)',\n",
       " 'L.P.N. Development - แอล.พี.เอ็น.ดีเวลลอปเม้นท์ จำกัด (มหาชน)',\n",
       " 'Land and Houses - แลนด์ แอนด์ เฮ้าส์ จำกัด (มหาชน)',\n",
       " 'Magnolia Quality Development - แมกโนเลีย ควอลิตี้ ดีเวล็อปเม้นต์ คอร์ปอเรชั่น จำกัด',\n",
       " 'Major Development - เมเจอร์ ดีเวลลอปเม้นท์ จำกัด (มหาชน)',\n",
       " 'Noble Development - โนเบิล ดีเวลลอปเมนท์ จำกัด (มหาชน)',\n",
       " 'Pace Development - เพซ ดีเวลลอปเมนท์ คอร์ปอเรชั่น จำกัด (มหาชน)',\n",
       " 'Pruksa Real Estate - พฤกษา เรียลเอสเตท จำกัด (มหาชน)',\n",
       " 'Quality Houses - ควอลิตี้ เฮ้าส์ จำกัด (มหาชน)',\n",
       " 'Raimon Land - ไรมอน แลนด์ จำกัด (มหาชน)',\n",
       " 'SC Asset - เอสซี แอสเสท คอร์ปอเรชั่น จำกัด (มหาชน)',\n",
       " 'Sansiri - แสนสิริ จำกัด (มหาชน)',\n",
       " 'Supalai - ศุภาลัย จำกัด (มหาชน)',\n",
       " 'TCC Capital land - ทีซีซี แคปปิตอล แลนด์ จำกัด',\n",
       " 'The Icon Siam Superlux Residence - ดิ ไอคอนสยาม ซูเปอร์ลักซ์ เรสซิเดนซ์ คอร์ปอเรชั่น จำกัด',\n",
       " 'no',\n",
       " 'Bang Rak',\n",
       " 'Chatuchak',\n",
       " 'Huai Khwang',\n",
       " 'Khlong San',\n",
       " 'Khlong Toei',\n",
       " 'Pathum Wan',\n",
       " 'Phra Khanong',\n",
       " 'Ratchathewi',\n",
       " 'Sathon',\n",
       " 'Watthana']"
      ]
     },
     "execution_count": 332,
     "metadata": {},
     "output_type": "execute_result"
    }
   ],
   "source": [
    "lime_obj.explanations[i].domain_mapper.feature_names"
   ]
  },
  {
   "cell_type": "code",
   "execution_count": 333,
   "id": "750172d9-add9-446f-bae7-a1a4f9651c1b",
   "metadata": {},
   "outputs": [],
   "source": [
    "# pd.concat(all_df_local, ignore_index = True).fillna(0).to_csv(\"/model_interpret/local.csv\")"
   ]
  },
  {
   "cell_type": "code",
   "execution_count": 334,
   "id": "cc186e9c-e0ff-4a78-814f-bb3d7a2d774f",
   "metadata": {},
   "outputs": [
    {
     "name": "stderr",
     "output_type": "stream",
     "text": [
      "  0%|          | 0/1274 [00:00<?, ?it/s]"
     ]
    },
    {
     "name": "stdout",
     "output_type": "stream",
     "text": [
      "eiei\n"
     ]
    },
    {
     "name": "stderr",
     "output_type": "stream",
     "text": [
      "  0%|          | 1/1274 [00:00<08:52,  2.39it/s]"
     ]
    },
    {
     "name": "stdout",
     "output_type": "stream",
     "text": [
      "eiei\n"
     ]
    },
    {
     "name": "stderr",
     "output_type": "stream",
     "text": [
      "  0%|          | 3/1274 [00:01<09:32,  2.22it/s]"
     ]
    },
    {
     "name": "stdout",
     "output_type": "stream",
     "text": [
      "eiei\n"
     ]
    },
    {
     "name": "stderr",
     "output_type": "stream",
     "text": [
      "  0%|          | 4/1274 [00:01<09:37,  2.20it/s]"
     ]
    },
    {
     "name": "stdout",
     "output_type": "stream",
     "text": [
      "eiei\n",
      "eiei\n"
     ]
    },
    {
     "name": "stderr",
     "output_type": "stream",
     "text": [
      "  0%|          | 6/1274 [00:02<09:38,  2.19it/s]"
     ]
    },
    {
     "name": "stdout",
     "output_type": "stream",
     "text": [
      "eiei\n"
     ]
    },
    {
     "name": "stderr",
     "output_type": "stream",
     "text": [
      "  1%|          | 7/1274 [00:03<09:28,  2.23it/s]"
     ]
    },
    {
     "name": "stdout",
     "output_type": "stream",
     "text": [
      "eiei\n",
      "eiei\n"
     ]
    },
    {
     "name": "stderr",
     "output_type": "stream",
     "text": [
      "  1%|          | 8/1274 [00:03<09:37,  2.19it/s]"
     ]
    },
    {
     "name": "stdout",
     "output_type": "stream",
     "text": [
      "eiei\n"
     ]
    },
    {
     "name": "stderr",
     "output_type": "stream",
     "text": [
      "  1%|          | 9/1274 [00:04<09:32,  2.21it/s]"
     ]
    },
    {
     "name": "stdout",
     "output_type": "stream",
     "text": [
      "eiei\n"
     ]
    },
    {
     "name": "stderr",
     "output_type": "stream",
     "text": [
      "  1%|          | 10/1274 [00:04<09:36,  2.19it/s]"
     ]
    },
    {
     "name": "stdout",
     "output_type": "stream",
     "text": [
      "eiei\n"
     ]
    },
    {
     "name": "stderr",
     "output_type": "stream",
     "text": [
      "  1%|          | 11/1274 [00:05<09:45,  2.16it/s]"
     ]
    },
    {
     "name": "stdout",
     "output_type": "stream",
     "text": [
      "eiei\n"
     ]
    },
    {
     "name": "stderr",
     "output_type": "stream",
     "text": [
      "  1%|          | 12/1274 [00:05<10:06,  2.08it/s]"
     ]
    },
    {
     "name": "stdout",
     "output_type": "stream",
     "text": [
      "eiei\n"
     ]
    },
    {
     "name": "stderr",
     "output_type": "stream",
     "text": [
      "  1%|          | 14/1274 [00:06<10:24,  2.02it/s]"
     ]
    },
    {
     "name": "stdout",
     "output_type": "stream",
     "text": [
      "eiei\n"
     ]
    },
    {
     "name": "stderr",
     "output_type": "stream",
     "text": [
      "  1%|          | 15/1274 [00:07<10:04,  2.08it/s]"
     ]
    },
    {
     "name": "stdout",
     "output_type": "stream",
     "text": [
      "eiei\n"
     ]
    },
    {
     "name": "stderr",
     "output_type": "stream",
     "text": [
      "  1%|          | 15/1274 [00:07<10:08,  2.07it/s]\n"
     ]
    },
    {
     "ename": "KeyboardInterrupt",
     "evalue": "",
     "output_type": "error",
     "traceback": [
      "\u001b[0;31m---------------------------------------------------------------------------\u001b[0m",
      "\u001b[0;31mKeyboardInterrupt\u001b[0m                         Traceback (most recent call last)",
      "\u001b[0;32m/tmp/ipykernel_84/998802806.py\u001b[0m in \u001b[0;36m<module>\u001b[0;34m\u001b[0m\n\u001b[0;32m----> 1\u001b[0;31m \u001b[0msave_to_csv\u001b[0m\u001b[0;34m(\u001b[0m\u001b[0mtask\u001b[0m\u001b[0;34m,\u001b[0m \u001b[0mtarget\u001b[0m\u001b[0;34m)\u001b[0m\u001b[0;34m\u001b[0m\u001b[0;34m\u001b[0m\u001b[0m\n\u001b[0m",
      "\u001b[0;32m/tmp/ipykernel_84/4287374534.py\u001b[0m in \u001b[0;36msave_to_csv\u001b[0;34m(task, target)\u001b[0m\n\u001b[1;32m     93\u001b[0m     \u001b[0;32mfor\u001b[0m \u001b[0mi\u001b[0m \u001b[0;32min\u001b[0m \u001b[0mtqdm\u001b[0m\u001b[0;34m(\u001b[0m\u001b[0mmodel\u001b[0m\u001b[0;34m[\u001b[0m\u001b[0;36m0\u001b[0m\u001b[0;34m]\u001b[0m\u001b[0;34m.\u001b[0m\u001b[0mfit_transform\u001b[0m\u001b[0;34m(\u001b[0m\u001b[0mX_test\u001b[0m\u001b[0;34m)\u001b[0m\u001b[0;34m)\u001b[0m\u001b[0;34m:\u001b[0m\u001b[0;34m\u001b[0m\u001b[0;34m\u001b[0m\u001b[0m\n\u001b[1;32m     94\u001b[0m         \u001b[0mnum\u001b[0m\u001b[0;34m+=\u001b[0m\u001b[0;36m1\u001b[0m\u001b[0;34m\u001b[0m\u001b[0;34m\u001b[0m\u001b[0m\n\u001b[0;32m---> 95\u001b[0;31m         \u001b[0mexplainer\u001b[0m \u001b[0;34m=\u001b[0m \u001b[0m_explainer\u001b[0m\u001b[0;34m(\u001b[0m\u001b[0mtask\u001b[0m\u001b[0;34m,\u001b[0m \u001b[0mtarget\u001b[0m\u001b[0;34m)\u001b[0m\u001b[0;34m\u001b[0m\u001b[0;34m\u001b[0m\u001b[0m\n\u001b[0m\u001b[1;32m     96\u001b[0m         \u001b[0mexplaination\u001b[0m \u001b[0;34m=\u001b[0m \u001b[0mexplainer\u001b[0m\u001b[0;34m.\u001b[0m\u001b[0mexplain_instance\u001b[0m\u001b[0;34m(\u001b[0m\u001b[0mi\u001b[0m\u001b[0;34m,\u001b[0m \u001b[0mpred_model\u001b[0m\u001b[0;34m)\u001b[0m\u001b[0;34m\u001b[0m\u001b[0;34m\u001b[0m\u001b[0m\n\u001b[1;32m     97\u001b[0m         \u001b[0mall_df_local\u001b[0m\u001b[0;34m.\u001b[0m\u001b[0mappend\u001b[0m\u001b[0;34m(\u001b[0m\u001b[0m_to_csv_local\u001b[0m\u001b[0;34m(\u001b[0m\u001b[0mexplaination\u001b[0m\u001b[0;34m,\u001b[0m \u001b[0mnum\u001b[0m\u001b[0;34m)\u001b[0m\u001b[0;34m)\u001b[0m\u001b[0;34m\u001b[0m\u001b[0;34m\u001b[0m\u001b[0m\n",
      "\u001b[0;32m/tmp/ipykernel_84/4287374534.py\u001b[0m in \u001b[0;36m_explainer\u001b[0;34m(task, target)\u001b[0m\n\u001b[1;32m     60\u001b[0m         \u001b[0mprint\u001b[0m\u001b[0;34m(\u001b[0m\u001b[0;34m\"yaaa\"\u001b[0m\u001b[0;34m)\u001b[0m\u001b[0;34m\u001b[0m\u001b[0;34m\u001b[0m\u001b[0m\n\u001b[1;32m     61\u001b[0m     \u001b[0;32melse\u001b[0m\u001b[0;34m:\u001b[0m\u001b[0;34m\u001b[0m\u001b[0;34m\u001b[0m\u001b[0m\n\u001b[0;32m---> 62\u001b[0;31m         \u001b[0mexplainer\u001b[0m \u001b[0;34m=\u001b[0m \u001b[0mLimeTabularExplainer\u001b[0m\u001b[0;34m(\u001b[0m\u001b[0mload_transform\u001b[0m\u001b[0;34m(\u001b[0m\u001b[0mpipeline_name\u001b[0m\u001b[0;34m)\u001b[0m\u001b[0;34m.\u001b[0m\u001b[0mfit_transform\u001b[0m\u001b[0;34m(\u001b[0m\u001b[0mX_train\u001b[0m\u001b[0;34m)\u001b[0m\u001b[0;34m,\u001b[0m \u001b[0mfeature_names\u001b[0m \u001b[0;34m=\u001b[0m \u001b[0mall_columns\u001b[0m\u001b[0;34m,\u001b[0m \u001b[0mmode\u001b[0m \u001b[0;34m=\u001b[0m \u001b[0;34m\"regression\"\u001b[0m\u001b[0;34m,\u001b[0m \u001b[0mclass_names\u001b[0m \u001b[0;34m=\u001b[0m \u001b[0;34m[\u001b[0m\u001b[0mtarget\u001b[0m\u001b[0;34m]\u001b[0m\u001b[0;34m,\u001b[0m \u001b[0mcategorical_features\u001b[0m \u001b[0;34m=\u001b[0m \u001b[0mcat_feature\u001b[0m\u001b[0;34m)\u001b[0m\u001b[0;34m\u001b[0m\u001b[0;34m\u001b[0m\u001b[0m\n\u001b[0m\u001b[1;32m     63\u001b[0m         \u001b[0mprint\u001b[0m\u001b[0;34m(\u001b[0m\u001b[0;34m\"eiei\"\u001b[0m\u001b[0;34m)\u001b[0m\u001b[0;34m\u001b[0m\u001b[0;34m\u001b[0m\u001b[0m\n\u001b[1;32m     64\u001b[0m \u001b[0;34m\u001b[0m\u001b[0m\n",
      "\u001b[0;32m/usr/local/lib/python3.9/site-packages/lime/lime_tabular.py\u001b[0m in \u001b[0;36m__init__\u001b[0;34m(self, training_data, mode, training_labels, feature_names, categorical_features, categorical_names, kernel_width, kernel, verbose, class_names, feature_selection, discretize_continuous, discretizer, sample_around_instance, random_state, training_data_stats)\u001b[0m\n\u001b[1;32m    267\u001b[0m                     \u001b[0mcolumn\u001b[0m \u001b[0;34m=\u001b[0m \u001b[0mtraining_data\u001b[0m\u001b[0;34m[\u001b[0m\u001b[0;34m:\u001b[0m\u001b[0;34m,\u001b[0m \u001b[0mfeature\u001b[0m\u001b[0;34m]\u001b[0m\u001b[0;34m\u001b[0m\u001b[0;34m\u001b[0m\u001b[0m\n\u001b[1;32m    268\u001b[0m \u001b[0;34m\u001b[0m\u001b[0m\n\u001b[0;32m--> 269\u001b[0;31m                 \u001b[0mfeature_count\u001b[0m \u001b[0;34m=\u001b[0m \u001b[0mcollections\u001b[0m\u001b[0;34m.\u001b[0m\u001b[0mCounter\u001b[0m\u001b[0;34m(\u001b[0m\u001b[0mcolumn\u001b[0m\u001b[0;34m)\u001b[0m\u001b[0;34m\u001b[0m\u001b[0;34m\u001b[0m\u001b[0m\n\u001b[0m\u001b[1;32m    270\u001b[0m                 \u001b[0mvalues\u001b[0m\u001b[0;34m,\u001b[0m \u001b[0mfrequencies\u001b[0m \u001b[0;34m=\u001b[0m \u001b[0mmap\u001b[0m\u001b[0;34m(\u001b[0m\u001b[0mlist\u001b[0m\u001b[0;34m,\u001b[0m \u001b[0mzip\u001b[0m\u001b[0;34m(\u001b[0m\u001b[0;34m*\u001b[0m\u001b[0;34m(\u001b[0m\u001b[0msorted\u001b[0m\u001b[0;34m(\u001b[0m\u001b[0mfeature_count\u001b[0m\u001b[0;34m.\u001b[0m\u001b[0mitems\u001b[0m\u001b[0;34m(\u001b[0m\u001b[0;34m)\u001b[0m\u001b[0;34m)\u001b[0m\u001b[0;34m)\u001b[0m\u001b[0;34m)\u001b[0m\u001b[0;34m)\u001b[0m\u001b[0;34m\u001b[0m\u001b[0;34m\u001b[0m\u001b[0m\n\u001b[1;32m    271\u001b[0m             \u001b[0;32melse\u001b[0m\u001b[0;34m:\u001b[0m\u001b[0;34m\u001b[0m\u001b[0;34m\u001b[0m\u001b[0m\n",
      "\u001b[0;32m/usr/local/lib/python3.9/collections/__init__.py\u001b[0m in \u001b[0;36m__init__\u001b[0;34m(self, iterable, **kwds)\u001b[0m\n\u001b[1;32m    591\u001b[0m         '''\n\u001b[1;32m    592\u001b[0m         \u001b[0msuper\u001b[0m\u001b[0;34m(\u001b[0m\u001b[0;34m)\u001b[0m\u001b[0;34m.\u001b[0m\u001b[0m__init__\u001b[0m\u001b[0;34m(\u001b[0m\u001b[0;34m)\u001b[0m\u001b[0;34m\u001b[0m\u001b[0;34m\u001b[0m\u001b[0m\n\u001b[0;32m--> 593\u001b[0;31m         \u001b[0mself\u001b[0m\u001b[0;34m.\u001b[0m\u001b[0mupdate\u001b[0m\u001b[0;34m(\u001b[0m\u001b[0miterable\u001b[0m\u001b[0;34m,\u001b[0m \u001b[0;34m**\u001b[0m\u001b[0mkwds\u001b[0m\u001b[0;34m)\u001b[0m\u001b[0;34m\u001b[0m\u001b[0;34m\u001b[0m\u001b[0m\n\u001b[0m\u001b[1;32m    594\u001b[0m \u001b[0;34m\u001b[0m\u001b[0m\n\u001b[1;32m    595\u001b[0m     \u001b[0;32mdef\u001b[0m \u001b[0m__missing__\u001b[0m\u001b[0;34m(\u001b[0m\u001b[0mself\u001b[0m\u001b[0;34m,\u001b[0m \u001b[0mkey\u001b[0m\u001b[0;34m)\u001b[0m\u001b[0;34m:\u001b[0m\u001b[0;34m\u001b[0m\u001b[0;34m\u001b[0m\u001b[0m\n",
      "\u001b[0;32m/usr/local/lib/python3.9/collections/__init__.py\u001b[0m in \u001b[0;36mupdate\u001b[0;34m(self, iterable, **kwds)\u001b[0m\n\u001b[1;32m    677\u001b[0m                     \u001b[0msuper\u001b[0m\u001b[0;34m(\u001b[0m\u001b[0;34m)\u001b[0m\u001b[0;34m.\u001b[0m\u001b[0mupdate\u001b[0m\u001b[0;34m(\u001b[0m\u001b[0miterable\u001b[0m\u001b[0;34m)\u001b[0m\u001b[0;34m\u001b[0m\u001b[0;34m\u001b[0m\u001b[0m\n\u001b[1;32m    678\u001b[0m             \u001b[0;32melse\u001b[0m\u001b[0;34m:\u001b[0m\u001b[0;34m\u001b[0m\u001b[0;34m\u001b[0m\u001b[0m\n\u001b[0;32m--> 679\u001b[0;31m                 \u001b[0m_count_elements\u001b[0m\u001b[0;34m(\u001b[0m\u001b[0mself\u001b[0m\u001b[0;34m,\u001b[0m \u001b[0miterable\u001b[0m\u001b[0;34m)\u001b[0m\u001b[0;34m\u001b[0m\u001b[0;34m\u001b[0m\u001b[0m\n\u001b[0m\u001b[1;32m    680\u001b[0m         \u001b[0;32mif\u001b[0m \u001b[0mkwds\u001b[0m\u001b[0;34m:\u001b[0m\u001b[0;34m\u001b[0m\u001b[0;34m\u001b[0m\u001b[0m\n\u001b[1;32m    681\u001b[0m             \u001b[0mself\u001b[0m\u001b[0;34m.\u001b[0m\u001b[0mupdate\u001b[0m\u001b[0;34m(\u001b[0m\u001b[0mkwds\u001b[0m\u001b[0;34m)\u001b[0m\u001b[0;34m\u001b[0m\u001b[0;34m\u001b[0m\u001b[0m\n",
      "\u001b[0;31mKeyboardInterrupt\u001b[0m: "
     ]
    }
   ],
   "source": [
    "save_to_csv(task, target)"
   ]
  },
  {
   "cell_type": "code",
   "execution_count": 239,
   "id": "5d6d9882-d8e7-48af-8c17-46d33f1c70f9",
   "metadata": {},
   "outputs": [
    {
     "data": {
      "text/plain": [
       "{'categories': 'auto',\n",
       " 'sparse': True,\n",
       " 'dtype': numpy.float64,\n",
       " 'handle_unknown': 'ignore',\n",
       " 'drop': None,\n",
       " 'n_features_in_': 2,\n",
       " 'feature_names_in_': array(['developer', 'district'], dtype=object),\n",
       " 'categories_': [array(['AP Thailand - เอพี (ไทยแลนด์) จำกัด (มหาชน)',\n",
       "         'Ananda Development - อนันดา ดีเวลลอปเม้นท์ จํากัด (มหาชน)',\n",
       "         'L.P.N. Development - แอล.พี.เอ็น.ดีเวลลอปเม้นท์ จำกัด (มหาชน)',\n",
       "         'Land and Houses - แลนด์ แอนด์ เฮ้าส์ จำกัด (มหาชน)',\n",
       "         'Magnolia Quality Development - แมกโนเลีย ควอลิตี้ ดีเวล็อปเม้นต์ คอร์ปอเรชั่น จำกัด',\n",
       "         'Major Development - เมเจอร์ ดีเวลลอปเม้นท์ จำกัด (มหาชน)',\n",
       "         'Noble Development - โนเบิล ดีเวลลอปเมนท์ จำกัด (มหาชน)',\n",
       "         'Pace Development - เพซ ดีเวลลอปเมนท์ คอร์ปอเรชั่น จำกัด (มหาชน)',\n",
       "         'Pruksa Real Estate - พฤกษา เรียลเอสเตท จำกัด (มหาชน)',\n",
       "         'Quality Houses - ควอลิตี้ เฮ้าส์ จำกัด (มหาชน)',\n",
       "         'Raimon Land - ไรมอน แลนด์ จำกัด (มหาชน)',\n",
       "         'SC Asset - เอสซี แอสเสท คอร์ปอเรชั่น จำกัด (มหาชน)',\n",
       "         'Sansiri - แสนสิริ จำกัด (มหาชน)',\n",
       "         'Supalai - ศุภาลัย จำกัด (มหาชน)',\n",
       "         'TCC Capital land - ทีซีซี แคปปิตอล แลนด์ จำกัด',\n",
       "         'The Icon Siam Superlux Residence - ดิ ไอคอนสยาม ซูเปอร์ลักซ์ เรสซิเดนซ์ คอร์ปอเรชั่น จำกัด',\n",
       "         'no'], dtype=object),\n",
       "  array(['Bang Rak', 'Chatuchak', 'Huai Khwang', 'Khlong San',\n",
       "         'Khlong Toei', 'Pathum Wan', 'Phra Khanong', 'Ratchathewi',\n",
       "         'Sathon', 'Watthana'], dtype=object)],\n",
       " 'drop_idx_': None}"
      ]
     },
     "execution_count": 239,
     "metadata": {},
     "output_type": "execute_result"
    }
   ],
   "source": [
    "model['preprocessor'].transformers_[1][1].__dict__"
   ]
  },
  {
   "cell_type": "code",
   "execution_count": 137,
   "id": "347d0413-7506-4cb7-9a1e-07bdf8c10b59",
   "metadata": {},
   "outputs": [
    {
     "data": {
      "text/plain": [
       "['bedroom',\n",
       " 'bathroom',\n",
       " 'sqm',\n",
       " 'built_year',\n",
       " 'luxuary',\n",
       " 'public',\n",
       " 'BRT_distance',\n",
       " 'BTS_distance',\n",
       " 'MRT_distance',\n",
       " 'APL_distance',\n",
       " 'Air-Conditioning',\n",
       " 'Audio System',\n",
       " 'BBQ pits',\n",
       " 'Basketball court',\n",
       " 'Bathtub',\n",
       " 'Bed',\n",
       " 'Billiards room',\n",
       " 'Broadband Internet',\n",
       " 'Club',\n",
       " 'Clubhouse',\n",
       " 'Colonial Building',\n",
       " 'Corner Unit',\n",
       " 'DVD Player',\n",
       " 'Dishwasher',\n",
       " 'Driving range',\n",
       " 'Dryer',\n",
       " 'Fridge',\n",
       " 'Function room',\n",
       " 'Game room',\n",
       " 'Ground Floor',\n",
       " 'Hairdryer',\n",
       " 'High Floor',\n",
       " 'ISDN',\n",
       " 'Internet Connection',\n",
       " 'Iron / Ironing Board',\n",
       " 'Jacuzzi',\n",
       " 'Karaoke',\n",
       " 'Kitchen',\n",
       " 'Launderette',\n",
       " 'Library',\n",
       " 'Lounge',\n",
       " 'Low Floor',\n",
       " 'Maidsroom',\n",
       " 'Mini golf range',\n",
       " 'Mini-Mart',\n",
       " 'Multi-purpose hall',\n",
       " 'Original Condition',\n",
       " 'Outdoor Patio',\n",
       " 'Own Chiller Plant',\n",
       " 'Pantry',\n",
       " 'Pavillion',\n",
       " 'Penthouse',\n",
       " 'Playground',\n",
       " 'Private Garden',\n",
       " 'Private Pool',\n",
       " 'Putting Green',\n",
       " 'Reflexology Path',\n",
       " 'Renovated',\n",
       " 'Roof Terrace',\n",
       " 'SCV/SMATV System',\n",
       " 'Sea View',\n",
       " 'Sky Lounge',\n",
       " 'Squash court',\n",
       " 'Tennis courts',\n",
       " 'Vacuum Cleaner',\n",
       " 'Walk-in-wardrobe',\n",
       " 'Washing Machine',\n",
       " 'Water Heater',\n",
       " 'balcony',\n",
       " 'car park',\n",
       " 'cook',\n",
       " 'fitness',\n",
       " 'furniture',\n",
       " 'nan',\n",
       " 'pool',\n",
       " 'sauna',\n",
       " 'security',\n",
       " 'tv',\n",
       " 'view']"
      ]
     },
     "execution_count": 137,
     "metadata": {},
     "output_type": "execute_result"
    }
   ],
   "source": [
    "model[\"preprocessor\"].transformers[0][2]"
   ]
  },
  {
   "cell_type": "code",
   "execution_count": 150,
   "id": "15f99fb9-8f1b-4c0c-8c84-82cb3ccd144b",
   "metadata": {},
   "outputs": [
    {
     "data": {
      "text/plain": [
       "['bedroom',\n",
       " 'bathroom',\n",
       " 'sqm',\n",
       " 'built_year',\n",
       " 'luxuary',\n",
       " 'public',\n",
       " 'BRT_distance',\n",
       " 'BTS_distance',\n",
       " 'MRT_distance',\n",
       " 'APL_distance',\n",
       " 'Air-Conditioning',\n",
       " 'Audio System',\n",
       " 'BBQ pits',\n",
       " 'Basketball court',\n",
       " 'Bathtub',\n",
       " 'Bed',\n",
       " 'Billiards room',\n",
       " 'Broadband Internet',\n",
       " 'Club',\n",
       " 'Clubhouse',\n",
       " 'Colonial Building',\n",
       " 'Corner Unit',\n",
       " 'DVD Player',\n",
       " 'Dishwasher',\n",
       " 'Driving range',\n",
       " 'Dryer',\n",
       " 'Fridge',\n",
       " 'Function room',\n",
       " 'Game room',\n",
       " 'Ground Floor',\n",
       " 'Hairdryer',\n",
       " 'High Floor',\n",
       " 'ISDN',\n",
       " 'Internet Connection',\n",
       " 'Iron / Ironing Board',\n",
       " 'Jacuzzi',\n",
       " 'Karaoke',\n",
       " 'Kitchen',\n",
       " 'Launderette',\n",
       " 'Library',\n",
       " 'Lounge',\n",
       " 'Low Floor',\n",
       " 'Maidsroom',\n",
       " 'Mini golf range',\n",
       " 'Mini-Mart',\n",
       " 'Multi-purpose hall',\n",
       " 'Original Condition',\n",
       " 'Outdoor Patio',\n",
       " 'Own Chiller Plant',\n",
       " 'Pantry',\n",
       " 'Pavillion',\n",
       " 'Penthouse',\n",
       " 'Playground',\n",
       " 'Private Garden',\n",
       " 'Private Pool',\n",
       " 'Putting Green',\n",
       " 'Reflexology Path',\n",
       " 'Renovated',\n",
       " 'Roof Terrace',\n",
       " 'SCV/SMATV System',\n",
       " 'Sea View',\n",
       " 'Sky Lounge',\n",
       " 'Squash court',\n",
       " 'Tennis courts',\n",
       " 'Vacuum Cleaner',\n",
       " 'Walk-in-wardrobe',\n",
       " 'Washing Machine',\n",
       " 'Water Heater',\n",
       " 'balcony',\n",
       " 'car park',\n",
       " 'cook',\n",
       " 'fitness',\n",
       " 'furniture',\n",
       " 'nan',\n",
       " 'pool',\n",
       " 'sauna',\n",
       " 'security',\n",
       " 'tv',\n",
       " 'view']"
      ]
     },
     "execution_count": 150,
     "metadata": {},
     "output_type": "execute_result"
    }
   ],
   "source": [
    "model['preprocessor'].transformers_[0][2]"
   ]
  },
  {
   "cell_type": "code",
   "execution_count": 170,
   "id": "84effa32-ce27-4eef-a868-d445bddc4598",
   "metadata": {},
   "outputs": [],
   "source": [
    "all_columns = model[\"preprocessor\"].transformers[0][2] +list(model['preprocessor'].transformers_[1][1].categories_[0]) + list(model['preprocessor'].transformers_[1][1].categories_[1])"
   ]
  },
  {
   "cell_type": "code",
   "execution_count": 197,
   "id": "84ea70c1-4d13-4436-9f80-b5ed7b8c461c",
   "metadata": {},
   "outputs": [
    {
     "data": {
      "text/plain": [
       "[array(['AP Thailand - เอพี (ไทยแลนด์) จำกัด (มหาชน)',\n",
       "        'Ananda Development - อนันดา ดีเวลลอปเม้นท์ จํากัด (มหาชน)',\n",
       "        'L.P.N. Development - แอล.พี.เอ็น.ดีเวลลอปเม้นท์ จำกัด (มหาชน)',\n",
       "        'Land and Houses - แลนด์ แอนด์ เฮ้าส์ จำกัด (มหาชน)',\n",
       "        'Magnolia Quality Development - แมกโนเลีย ควอลิตี้ ดีเวล็อปเม้นต์ คอร์ปอเรชั่น จำกัด',\n",
       "        'Major Development - เมเจอร์ ดีเวลลอปเม้นท์ จำกัด (มหาชน)',\n",
       "        'Noble Development - โนเบิล ดีเวลลอปเมนท์ จำกัด (มหาชน)',\n",
       "        'Pace Development - เพซ ดีเวลลอปเมนท์ คอร์ปอเรชั่น จำกัด (มหาชน)',\n",
       "        'Pruksa Real Estate - พฤกษา เรียลเอสเตท จำกัด (มหาชน)',\n",
       "        'Quality Houses - ควอลิตี้ เฮ้าส์ จำกัด (มหาชน)',\n",
       "        'Raimon Land - ไรมอน แลนด์ จำกัด (มหาชน)',\n",
       "        'SC Asset - เอสซี แอสเสท คอร์ปอเรชั่น จำกัด (มหาชน)',\n",
       "        'Sansiri - แสนสิริ จำกัด (มหาชน)',\n",
       "        'Supalai - ศุภาลัย จำกัด (มหาชน)',\n",
       "        'TCC Capital land - ทีซีซี แคปปิตอล แลนด์ จำกัด',\n",
       "        'The Icon Siam Superlux Residence - ดิ ไอคอนสยาม ซูเปอร์ลักซ์ เรสซิเดนซ์ คอร์ปอเรชั่น จำกัด',\n",
       "        'no'], dtype=object),\n",
       " array(['Bang Rak', 'Chatuchak', 'Huai Khwang', 'Khlong San',\n",
       "        'Khlong Toei', 'Pathum Wan', 'Phra Khanong', 'Ratchathewi',\n",
       "        'Sathon', 'Watthana'], dtype=object)]"
      ]
     },
     "execution_count": 197,
     "metadata": {},
     "output_type": "execute_result"
    }
   ],
   "source": [
    "model['preprocessor'].transformers_[1][1].categories_"
   ]
  },
  {
   "cell_type": "code",
   "execution_count": 227,
   "id": "7f1e0348-2904-44d4-9a9f-84b41c34bcb5",
   "metadata": {},
   "outputs": [
    {
     "data": {
      "text/plain": [
       "ColumnTransformer(transformers=[('num',\n",
       "                                 Pipeline(steps=[('imputer',\n",
       "                                                  SimpleImputer(strategy='median')),\n",
       "                                                 ('scaler', StandardScaler())]),\n",
       "                                 ['bedroom', 'bathroom', 'sqm', 'built_year',\n",
       "                                  'luxuary', 'public', 'BRT_distance',\n",
       "                                  'BTS_distance', 'MRT_distance',\n",
       "                                  'APL_distance', 'Air-Conditioning',\n",
       "                                  'Audio System', 'BBQ pits',\n",
       "                                  'Basketball court', 'Bathtub', 'Bed',\n",
       "                                  'Billiards room', 'Broadband Internet',\n",
       "                                  'Club', 'Clubhouse', 'Colonial Building',\n",
       "                                  'Corner Unit', 'DVD Player', 'Dishwasher',\n",
       "                                  'Driving range', 'Dryer', 'Fridge',\n",
       "                                  'Function room', 'Game room', 'Ground Floor', ...]),\n",
       "                                ('cat', OneHotEncoder(handle_unknown='ignore'),\n",
       "                                 ['developer', 'district'])])"
      ]
     },
     "execution_count": 227,
     "metadata": {},
     "output_type": "execute_result"
    }
   ],
   "source": [
    "load_transform(pipeline_name)"
   ]
  },
  {
   "cell_type": "code",
   "execution_count": 177,
   "id": "ada534d4-e8a3-49de-a2ad-e47e01527431",
   "metadata": {},
   "outputs": [],
   "source": [
    "def _explainer(task, target):\n",
    "    feature_names = all_columns\n",
    "    if task == \"classification\":\n",
    "        class_names = y_train[target].unique()\n",
    "        # Fit the Explainer on the training data set using the LimeTabularExplainer \n",
    "        explainer = LimeTabularExplainer(load_transform(pipeline_name).fit_transform(X_train), feature_names = feature_names, class_names = class_names, mode = task, categorical_features = check_type(X_train))\n",
    "    else:\n",
    "        explainer = LimeTabularExplainer(load_transform(pipeline_name).fit_transform(X_train), feature_names = feature_names, mode = task)\n",
    "    return explainer"
   ]
  },
  {
   "cell_type": "code",
   "execution_count": 178,
   "id": "20bb6b6d-348a-433a-95a5-10d1f29abc8b",
   "metadata": {},
   "outputs": [
    {
     "data": {
      "text/plain": [
       "<lime.lime_tabular.LimeTabularExplainer at 0x7f7299f28d00>"
      ]
     },
     "execution_count": 178,
     "metadata": {},
     "output_type": "execute_result"
    }
   ],
   "source": [
    "_explainer(task, target)"
   ]
  },
  {
   "cell_type": "code",
   "execution_count": 198,
   "id": "f0d8a48c-365b-4362-a56e-6be00fd3c29b",
   "metadata": {},
   "outputs": [],
   "source": [
    "all_columns = []\n",
    "for i in range(len(model[\"preprocessor\"].transformers_)):\n",
    "    if model[\"preprocessor\"].transformers_[i][0] == \"num\":\n",
    "        all_columns.extend(model[\"preprocessor\"].transformers[i][2])\n",
    "    else:\n",
    "        for j in range(len(model['preprocessor'].transformers_[1][1].categories_)):\n",
    "            all_columns.extend(list(model['preprocessor'].transformers_[1][1].categories_[j]))"
   ]
  },
  {
   "cell_type": "code",
   "execution_count": 199,
   "id": "15cb1886-c1f3-42aa-84d5-56b28165fa98",
   "metadata": {},
   "outputs": [
    {
     "data": {
      "text/plain": [
       "['bedroom',\n",
       " 'bathroom',\n",
       " 'sqm',\n",
       " 'built_year',\n",
       " 'luxuary',\n",
       " 'public',\n",
       " 'BRT_distance',\n",
       " 'BTS_distance',\n",
       " 'MRT_distance',\n",
       " 'APL_distance',\n",
       " 'Air-Conditioning',\n",
       " 'Audio System',\n",
       " 'BBQ pits',\n",
       " 'Basketball court',\n",
       " 'Bathtub',\n",
       " 'Bed',\n",
       " 'Billiards room',\n",
       " 'Broadband Internet',\n",
       " 'Club',\n",
       " 'Clubhouse',\n",
       " 'Colonial Building',\n",
       " 'Corner Unit',\n",
       " 'DVD Player',\n",
       " 'Dishwasher',\n",
       " 'Driving range',\n",
       " 'Dryer',\n",
       " 'Fridge',\n",
       " 'Function room',\n",
       " 'Game room',\n",
       " 'Ground Floor',\n",
       " 'Hairdryer',\n",
       " 'High Floor',\n",
       " 'ISDN',\n",
       " 'Internet Connection',\n",
       " 'Iron / Ironing Board',\n",
       " 'Jacuzzi',\n",
       " 'Karaoke',\n",
       " 'Kitchen',\n",
       " 'Launderette',\n",
       " 'Library',\n",
       " 'Lounge',\n",
       " 'Low Floor',\n",
       " 'Maidsroom',\n",
       " 'Mini golf range',\n",
       " 'Mini-Mart',\n",
       " 'Multi-purpose hall',\n",
       " 'Original Condition',\n",
       " 'Outdoor Patio',\n",
       " 'Own Chiller Plant',\n",
       " 'Pantry',\n",
       " 'Pavillion',\n",
       " 'Penthouse',\n",
       " 'Playground',\n",
       " 'Private Garden',\n",
       " 'Private Pool',\n",
       " 'Putting Green',\n",
       " 'Reflexology Path',\n",
       " 'Renovated',\n",
       " 'Roof Terrace',\n",
       " 'SCV/SMATV System',\n",
       " 'Sea View',\n",
       " 'Sky Lounge',\n",
       " 'Squash court',\n",
       " 'Tennis courts',\n",
       " 'Vacuum Cleaner',\n",
       " 'Walk-in-wardrobe',\n",
       " 'Washing Machine',\n",
       " 'Water Heater',\n",
       " 'balcony',\n",
       " 'car park',\n",
       " 'cook',\n",
       " 'fitness',\n",
       " 'furniture',\n",
       " 'nan',\n",
       " 'pool',\n",
       " 'sauna',\n",
       " 'security',\n",
       " 'tv',\n",
       " 'view',\n",
       " 'AP Thailand - เอพี (ไทยแลนด์) จำกัด (มหาชน)',\n",
       " 'Ananda Development - อนันดา ดีเวลลอปเม้นท์ จํากัด (มหาชน)',\n",
       " 'L.P.N. Development - แอล.พี.เอ็น.ดีเวลลอปเม้นท์ จำกัด (มหาชน)',\n",
       " 'Land and Houses - แลนด์ แอนด์ เฮ้าส์ จำกัด (มหาชน)',\n",
       " 'Magnolia Quality Development - แมกโนเลีย ควอลิตี้ ดีเวล็อปเม้นต์ คอร์ปอเรชั่น จำกัด',\n",
       " 'Major Development - เมเจอร์ ดีเวลลอปเม้นท์ จำกัด (มหาชน)',\n",
       " 'Noble Development - โนเบิล ดีเวลลอปเมนท์ จำกัด (มหาชน)',\n",
       " 'Pace Development - เพซ ดีเวลลอปเมนท์ คอร์ปอเรชั่น จำกัด (มหาชน)',\n",
       " 'Pruksa Real Estate - พฤกษา เรียลเอสเตท จำกัด (มหาชน)',\n",
       " 'Quality Houses - ควอลิตี้ เฮ้าส์ จำกัด (มหาชน)',\n",
       " 'Raimon Land - ไรมอน แลนด์ จำกัด (มหาชน)',\n",
       " 'SC Asset - เอสซี แอสเสท คอร์ปอเรชั่น จำกัด (มหาชน)',\n",
       " 'Sansiri - แสนสิริ จำกัด (มหาชน)',\n",
       " 'Supalai - ศุภาลัย จำกัด (มหาชน)',\n",
       " 'TCC Capital land - ทีซีซี แคปปิตอล แลนด์ จำกัด',\n",
       " 'The Icon Siam Superlux Residence - ดิ ไอคอนสยาม ซูเปอร์ลักซ์ เรสซิเดนซ์ คอร์ปอเรชั่น จำกัด',\n",
       " 'no',\n",
       " 'Bang Rak',\n",
       " 'Chatuchak',\n",
       " 'Huai Khwang',\n",
       " 'Khlong San',\n",
       " 'Khlong Toei',\n",
       " 'Pathum Wan',\n",
       " 'Phra Khanong',\n",
       " 'Ratchathewi',\n",
       " 'Sathon',\n",
       " 'Watthana']"
      ]
     },
     "execution_count": 199,
     "metadata": {},
     "output_type": "execute_result"
    }
   ],
   "source": [
    "all_columns"
   ]
  },
  {
   "cell_type": "code",
   "execution_count": 189,
   "id": "516ce0a9-6607-4193-b94c-c94e634e8386",
   "metadata": {},
   "outputs": [
    {
     "data": {
      "text/plain": [
       "[('num',\n",
       "  Pipeline(steps=[('imputer', SimpleImputer(strategy='median')),\n",
       "                  ('scaler', StandardScaler())]),\n",
       "  ['bedroom',\n",
       "   'bathroom',\n",
       "   'sqm',\n",
       "   'built_year',\n",
       "   'luxuary',\n",
       "   'public',\n",
       "   'BRT_distance',\n",
       "   'BTS_distance',\n",
       "   'MRT_distance',\n",
       "   'APL_distance',\n",
       "   'Air-Conditioning',\n",
       "   'Audio System',\n",
       "   'BBQ pits',\n",
       "   'Basketball court',\n",
       "   'Bathtub',\n",
       "   'Bed',\n",
       "   'Billiards room',\n",
       "   'Broadband Internet',\n",
       "   'Club',\n",
       "   'Clubhouse',\n",
       "   'Colonial Building',\n",
       "   'Corner Unit',\n",
       "   'DVD Player',\n",
       "   'Dishwasher',\n",
       "   'Driving range',\n",
       "   'Dryer',\n",
       "   'Fridge',\n",
       "   'Function room',\n",
       "   'Game room',\n",
       "   'Ground Floor',\n",
       "   'Hairdryer',\n",
       "   'High Floor',\n",
       "   'ISDN',\n",
       "   'Internet Connection',\n",
       "   'Iron / Ironing Board',\n",
       "   'Jacuzzi',\n",
       "   'Karaoke',\n",
       "   'Kitchen',\n",
       "   'Launderette',\n",
       "   'Library',\n",
       "   'Lounge',\n",
       "   'Low Floor',\n",
       "   'Maidsroom',\n",
       "   'Mini golf range',\n",
       "   'Mini-Mart',\n",
       "   'Multi-purpose hall',\n",
       "   'Original Condition',\n",
       "   'Outdoor Patio',\n",
       "   'Own Chiller Plant',\n",
       "   'Pantry',\n",
       "   'Pavillion',\n",
       "   'Penthouse',\n",
       "   'Playground',\n",
       "   'Private Garden',\n",
       "   'Private Pool',\n",
       "   'Putting Green',\n",
       "   'Reflexology Path',\n",
       "   'Renovated',\n",
       "   'Roof Terrace',\n",
       "   'SCV/SMATV System',\n",
       "   'Sea View',\n",
       "   'Sky Lounge',\n",
       "   'Squash court',\n",
       "   'Tennis courts',\n",
       "   'Vacuum Cleaner',\n",
       "   'Walk-in-wardrobe',\n",
       "   'Washing Machine',\n",
       "   'Water Heater',\n",
       "   'balcony',\n",
       "   'car park',\n",
       "   'cook',\n",
       "   'fitness',\n",
       "   'furniture',\n",
       "   'nan',\n",
       "   'pool',\n",
       "   'sauna',\n",
       "   'security',\n",
       "   'tv',\n",
       "   'view']),\n",
       " ('cat', OneHotEncoder(handle_unknown='ignore'), ['developer', 'district'])]"
      ]
     },
     "execution_count": 189,
     "metadata": {},
     "output_type": "execute_result"
    }
   ],
   "source": [
    "model[\"preprocessor\"].transformers_"
   ]
  },
  {
   "cell_type": "code",
   "execution_count": null,
   "id": "42fa6513-0b04-4b96-960a-bea562938bad",
   "metadata": {},
   "outputs": [],
   "source": []
  }
 ],
 "metadata": {
  "kernelspec": {
   "display_name": "Python 3 (ipykernel)",
   "language": "python",
   "name": "python3"
  },
  "language_info": {
   "codemirror_mode": {
    "name": "ipython",
    "version": 3
   },
   "file_extension": ".py",
   "mimetype": "text/x-python",
   "name": "python",
   "nbconvert_exporter": "python",
   "pygments_lexer": "ipython3",
   "version": "3.9.13"
  }
 },
 "nbformat": 4,
 "nbformat_minor": 5
}
