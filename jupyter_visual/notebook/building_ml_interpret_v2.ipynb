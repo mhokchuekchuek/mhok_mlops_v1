{
 "cells": [
  {
   "cell_type": "markdown",
   "id": "17928309-8ebe-477d-a82a-1de192b9d7fd",
   "metadata": {},
   "source": [
    "# import_data"
   ]
  },
  {
   "cell_type": "code",
   "execution_count": 1,
   "id": "3b7f8a60-9b8b-443c-b8c5-3c5d9a424c5f",
   "metadata": {},
   "outputs": [],
   "source": [
    "import pandas as pd\n",
    "import joblib\n",
    "X_train = pd.read_csv(\"/ml_data/X_train.csv\").drop(columns = \"Unnamed: 0\")\n",
    "y_train = pd.read_csv(\"/ml_data/y_train.csv\").drop(columns = \"Unnamed: 0\")\n",
    "X_test = pd.read_csv(\"/ml_data/X_test.csv\").drop(columns = \"Unnamed: 0\")\n",
    "y_test = pd.read_csv(\"/ml_data/y_test.csv\").drop(columns = \"Unnamed: 0\")\n",
    "model = joblib.load(\"/artifact/mlruns/941649382202349625/e311be07056d4a4fa7413ec46830e13b/artifacts/model/model.pkl\")\n",
    "\n",
    "if str(model[1]) ==  'KNeighborsClassifier()':\n",
    "    pred_model = model[-1].predict_proba\n",
    "else:\n",
    "    pred_model = model[-1].predict"
   ]
  },
  {
   "cell_type": "code",
   "execution_count": null,
   "id": "7f389be6-c70c-4c34-9327-26dc922d19a5",
   "metadata": {},
   "outputs": [],
   "source": []
  },
  {
   "cell_type": "code",
   "execution_count": 2,
   "id": "12524cd8-4671-4d77-b81b-2c5c02bd554b",
   "metadata": {},
   "outputs": [
    {
     "data": {
      "text/plain": [
       "'KNeighborsClassifier()'"
      ]
     },
     "execution_count": 2,
     "metadata": {},
     "output_type": "execute_result"
    }
   ],
   "source": [
    "str(model[1]) "
   ]
  },
  {
   "cell_type": "markdown",
   "id": "1586a821-af32-4f6c-8025-2661ea77ed46",
   "metadata": {},
   "source": [
    "# local explainer"
   ]
  },
  {
   "cell_type": "code",
   "execution_count": 3,
   "id": "a2e0e5ba-5496-4a9e-b806-7764ddd6137b",
   "metadata": {},
   "outputs": [],
   "source": [
    "from tqdm import tqdm_notebook"
   ]
  },
  {
   "cell_type": "code",
   "execution_count": 1,
   "id": "6210ff54-61dd-4456-a743-9015b55e9d92",
   "metadata": {},
   "outputs": [],
   "source": [
    "def _explainer(task, target):\n",
    "    if task == \"classification\":\n",
    "        class_names = y_train[target].unique()\n",
    "        feature_names = list(X_train.columns)\n",
    "\n",
    "        # Fit the Explainer on the training data set using the LimeTabularExplainer \n",
    "        explainer = LimeTabularExplainer(X_train.values, feature_names = feature_names, class_names = class_names, mode = task)\n",
    "    return explainer"
   ]
  },
  {
   "cell_type": "code",
   "execution_count": 17,
   "id": "73864455-cab7-41ca-80d4-2def009faffc",
   "metadata": {},
   "outputs": [],
   "source": [
    "import numpy as np\n",
    "import warnings\n",
    "from lime import submodular_pick\n",
    "from tqdm import tqdm_notebook\n",
    "from lime.lime_tabular import LimeTabularExplainer\n",
    "import pandas as pd\n",
    "import joblib\n",
    "\n",
    "X_train = pd.read_csv(\"/ml_data/X_train.csv\").drop(columns = \"Unnamed: 0\")\n",
    "y_train = pd.read_csv(\"/ml_data/y_train.csv\").drop(columns = \"Unnamed: 0\")\n",
    "X_test = pd.read_csv(\"/ml_data/X_test.csv\").drop(columns = \"Unnamed: 0\")\n",
    "y_test = pd.read_csv(\"/ml_data/y_test.csv\").drop(columns = \"Unnamed: 0\")\n",
    "feature_names = list(X_train.columns)\n",
    "model = joblib.load(\"/artifact/mlruns/941649382202349625/e311be07056d4a4fa7413ec46830e13b/artifacts/model/model.pkl\")\n",
    "task = \"classification\"\n",
    "target = \"quality\"\n",
    "\n",
    "explainer = _explainer(task, target)\n",
    "\n",
    "if str(model[1]) ==  'KNeighborsClassifier()':\n",
    "    pred_model = model[-1].predict_proba\n",
    "else:\n",
    "    pred_model = model[-1].predict\n",
    "    \n",
    "def check_file():\n",
    "    path = Path(\"/model_interpret\")\n",
    "    return path.is_file()\n",
    "    \n",
    "# def _explainer(task, target):\n",
    "#     if task == \"classification\":\n",
    "#         class_names = y_train[target].unique()\n",
    "#         feature_names = list(X_train.columns)\n",
    "\n",
    "#         # Fit the Explainer on the training data set using the LimeTabularExplainer \n",
    "#         explainer = LimeTabularExplainer(X_train.values, feature_names = feature_names, class_names = class_names, mode = task)\n",
    "#     return explainer\n",
    "\n",
    "def return_x(int_x):\n",
    "    return explaination.domain_mapper.exp_feature_names[int_x]\n",
    "\n",
    "def return_x_2(int_x):\n",
    "    return sp_obj.explanations[i].domain_mapper.exp_feature_names[int_x]\n",
    "\n",
    "def _to_csv_local(explanation):\n",
    "    all_df = []\n",
    "    cols = []\n",
    "    values = []\n",
    "    for x,y in list(explaination.local_exp.values())[0]:\n",
    "        cols.append(return_x(x))\n",
    "        values.append(y)\n",
    "    arr = np.array(values).reshape((1, len(list(explaination.local_exp.values())[0])))\n",
    "    return pd.DataFrame(arr , columns = cols)\n",
    "\n",
    "def _to_csv_global(explanation):\n",
    "    sp_obj = explanation\n",
    "    all_df = []\n",
    "    for i in range(0,5):\n",
    "        sp_obj.explanations[i].domain_mapper.exp_feature_names\n",
    "        cols = []\n",
    "        values = []\n",
    "        for x,y in list(sp_obj.explanations[i].local_exp.values())[0]:\n",
    "            cols.append(return_x(x))\n",
    "            values.append(y)\n",
    "        arr = np.array(values).reshape((1, len(list(sp_obj.explanations[i].local_exp.values())[0])))\n",
    "        all_df.append(pd.DataFrame(arr , columns = cols))\n",
    "    return pd.concat(all_df, ignore_index =True)\n",
    "\n",
    "def save_to_csv(task, target):\n",
    "    all_df_local = []\n",
    "    for i in tqdm_notebook(range(len(X_test))):\n",
    "        explaination = explainer.explain_instance(X_test.iloc[i], pred_model)\n",
    "        all_df_local.append(_to_csv_local(explaination))\n",
    "\n",
    "    sp_obj = submodular_pick.SubmodularPick(explainer, X_train.values, pred_model, sample_size= 500, num_features= len(feature_names), num_exps_desired = 5)\n",
    "    all_df_global = _to_csv_global(sp_obj)\n",
    "    pd.concat(all_df_local, ignore_index = True).fillna(0).to_csv(\"/model_interpret/local.csv\")\n",
    "    all_df_global.fillna(0).to_csv(\"/model_interpret/global.csv\")\n"
   ]
  },
  {
   "cell_type": "code",
   "execution_count": 21,
   "id": "8e2c4de9-c362-405d-b4d8-60527b656918",
   "metadata": {},
   "outputs": [
    {
     "data": {
      "text/html": [
       "<div>\n",
       "<style scoped>\n",
       "    .dataframe tbody tr th:only-of-type {\n",
       "        vertical-align: middle;\n",
       "    }\n",
       "\n",
       "    .dataframe tbody tr th {\n",
       "        vertical-align: top;\n",
       "    }\n",
       "\n",
       "    .dataframe thead th {\n",
       "        text-align: right;\n",
       "    }\n",
       "</style>\n",
       "<table border=\"1\" class=\"dataframe\">\n",
       "  <thead>\n",
       "    <tr style=\"text-align: right;\">\n",
       "      <th></th>\n",
       "      <th>fixed acidity</th>\n",
       "      <th>chlorides</th>\n",
       "      <th>total sulfur dioxide</th>\n",
       "      <th>residual sugar</th>\n",
       "      <th>sulphates</th>\n",
       "      <th>free sulfur dioxide</th>\n",
       "      <th>alcohol</th>\n",
       "      <th>volatile acidity</th>\n",
       "      <th>pH</th>\n",
       "      <th>citric acid</th>\n",
       "    </tr>\n",
       "  </thead>\n",
       "  <tbody>\n",
       "    <tr>\n",
       "      <th>0</th>\n",
       "      <td>0.000378</td>\n",
       "      <td>0.000239</td>\n",
       "      <td>-0.000215</td>\n",
       "      <td>-0.000212</td>\n",
       "      <td>-0.000207</td>\n",
       "      <td>-0.000207</td>\n",
       "      <td>-0.000206</td>\n",
       "      <td>0.000037</td>\n",
       "      <td>-0.000035</td>\n",
       "      <td>0.000018</td>\n",
       "    </tr>\n",
       "  </tbody>\n",
       "</table>\n",
       "</div>"
      ],
      "text/plain": [
       "   fixed acidity  chlorides  total sulfur dioxide  residual sugar  sulphates  \\\n",
       "0       0.000378   0.000239             -0.000215       -0.000212  -0.000207   \n",
       "\n",
       "   free sulfur dioxide   alcohol  volatile acidity        pH  citric acid  \n",
       "0            -0.000207 -0.000206          0.000037 -0.000035     0.000018  "
      ]
     },
     "execution_count": 21,
     "metadata": {},
     "output_type": "execute_result"
    }
   ],
   "source": [
    "explaination = explainer.explain_instance(X_test.iloc[2], pred_model)\n",
    "\n",
    "_to_csv_local(explaination)"
   ]
  },
  {
   "cell_type": "code",
   "execution_count": 23,
   "id": "4b9bd7a1-3a7d-4045-871a-2dec2f34cde6",
   "metadata": {},
   "outputs": [],
   "source": [
    "jaa = explainer.explain_instance(X_test.iloc[2], pred_model).__dict__"
   ]
  },
  {
   "cell_type": "code",
   "execution_count": 29,
   "id": "b9d5eb0d-e6c9-475a-b811-d4f6bcf0cb1c",
   "metadata": {},
   "outputs": [
    {
     "data": {
      "text/plain": [
       "{'random_state': None,\n",
       " 'mode': 'classification',\n",
       " 'domain_mapper': <lime.lime_tabular.TableDomainMapper at 0x7f305c95d850>,\n",
       " 'local_exp': {1: [(6, -0.0005295314461779517),\n",
       "   (4, 0.0005221340236278763),\n",
       "   (3, -0.0005132399733361935),\n",
       "   (5, -0.0005020576927817447),\n",
       "   (7, -0.0003412891849203574),\n",
       "   (9, -0.00030490712222912736),\n",
       "   (10, -0.0003015177870110326),\n",
       "   (0, 0.00027561339943824064),\n",
       "   (8, 0.00020505698872843402),\n",
       "   (2, -0.00011090011420983774)]},\n",
       " 'intercept': {1: 0.0007951500250012664},\n",
       " 'score': 0.003877039840493035,\n",
       " 'local_pred': array([-0.00080549]),\n",
       " 'class_names': [5.0, 7.0, 6.0, 8.0, 3.0, 4.0],\n",
       " 'top_labels': None,\n",
       " 'predict_proba': array([0. , 0. , 0.4, 0.4, 0.2, 0. ])}"
      ]
     },
     "execution_count": 29,
     "metadata": {},
     "output_type": "execute_result"
    }
   ],
   "source": [
    "jaa"
   ]
  },
  {
   "cell_type": "code",
   "execution_count": 35,
   "id": "9386c61b-419d-4f48-841d-7ec202ffb969",
   "metadata": {},
   "outputs": [
    {
     "data": {
      "text/plain": [
       "{'exp_feature_names': ['fixed acidity',\n",
       "  'volatile acidity',\n",
       "  'citric acid',\n",
       "  'residual sugar',\n",
       "  'chlorides',\n",
       "  'free sulfur dioxide',\n",
       "  'total sulfur dioxide',\n",
       "  'density',\n",
       "  'pH',\n",
       "  'sulphates',\n",
       "  'alcohol'],\n",
       " 'discretized_feature_names': ['7.90 < fixed acidity <= 9.30',\n",
       "  '0.39 < volatile acidity <= 0.52',\n",
       "  'citric acid > 0.42',\n",
       "  '1.90 < residual sugar <= 2.20',\n",
       "  'chlorides > 0.09',\n",
       "  '13.00 < free sulfur dioxide <= 21.00',\n",
       "  'total sulfur dioxide > 60.00',\n",
       "  'density > 1.00',\n",
       "  'pH <= 3.21',\n",
       "  'sulphates > 0.72',\n",
       "  'alcohol <= 9.50'],\n",
       " 'feature_names': ['fixed acidity',\n",
       "  'volatile acidity',\n",
       "  'citric acid',\n",
       "  'residual sugar',\n",
       "  'chlorides',\n",
       "  'free sulfur dioxide',\n",
       "  'total sulfur dioxide',\n",
       "  'density',\n",
       "  'pH',\n",
       "  'sulphates',\n",
       "  'alcohol'],\n",
       " 'feature_values': ['8.60',\n",
       "  '0.49',\n",
       "  '0.51',\n",
       "  '2.00',\n",
       "  '0.42',\n",
       "  '16.00',\n",
       "  '62.00',\n",
       "  '1.00',\n",
       "  '3.03',\n",
       "  '1.17',\n",
       "  '9.00'],\n",
       " 'feature_indexes': None,\n",
       " 'scaled_row': array([1., 1., 1., 1., 1., 1., 1., 1., 1., 1., 1.]),\n",
       " 'all_categorical': True,\n",
       " 'categorical_features': range(0, 11)}"
      ]
     },
     "execution_count": 35,
     "metadata": {},
     "output_type": "execute_result"
    }
   ],
   "source": [
    "jaa[\"domain_mapper\"].__dict__"
   ]
  },
  {
   "cell_type": "code",
   "execution_count": 20,
   "id": "dfa80976-498b-4d56-a3f5-77255926f66e",
   "metadata": {},
   "outputs": [
    {
     "name": "stderr",
     "output_type": "stream",
     "text": [
      "/tmp/ipykernel_275/1374112070.py:70: TqdmDeprecationWarning: This function will be removed in tqdm==5.0.0\n",
      "Please use `tqdm.notebook.tqdm` instead of `tqdm.tqdm_notebook`\n",
      "  for i in tqdm_notebook(range(len(X_test))):\n"
     ]
    },
    {
     "data": {
      "application/vnd.jupyter.widget-view+json": {
       "model_id": "d417e19b86f048acaeb1563e43bc37a0",
       "version_major": 2,
       "version_minor": 0
      },
      "text/plain": [
       "  0%|          | 0/252 [00:00<?, ?it/s]"
      ]
     },
     "metadata": {},
     "output_type": "display_data"
    }
   ],
   "source": [
    "save_to_csv(\"classification\", \"quality\")"
   ]
  },
  {
   "cell_type": "code",
   "execution_count": 7,
   "id": "14a86976-9a15-4fe2-bf5e-db62329d0508",
   "metadata": {},
   "outputs": [
    {
     "data": {
      "text/html": [
       "<div>\n",
       "<style scoped>\n",
       "    .dataframe tbody tr th:only-of-type {\n",
       "        vertical-align: middle;\n",
       "    }\n",
       "\n",
       "    .dataframe tbody tr th {\n",
       "        vertical-align: top;\n",
       "    }\n",
       "\n",
       "    .dataframe thead th {\n",
       "        text-align: right;\n",
       "    }\n",
       "</style>\n",
       "<table border=\"1\" class=\"dataframe\">\n",
       "  <thead>\n",
       "    <tr style=\"text-align: right;\">\n",
       "      <th></th>\n",
       "      <th>fixed acidity</th>\n",
       "      <th>free sulfur dioxide</th>\n",
       "      <th>citric acid</th>\n",
       "      <th>residual sugar</th>\n",
       "      <th>total sulfur dioxide</th>\n",
       "      <th>density</th>\n",
       "      <th>alcohol</th>\n",
       "      <th>chlorides</th>\n",
       "      <th>pH</th>\n",
       "      <th>volatile acidity</th>\n",
       "    </tr>\n",
       "  </thead>\n",
       "  <tbody>\n",
       "    <tr>\n",
       "      <th>0</th>\n",
       "      <td>-0.000294</td>\n",
       "      <td>-0.00029</td>\n",
       "      <td>-0.000284</td>\n",
       "      <td>-0.000279</td>\n",
       "      <td>-0.000276</td>\n",
       "      <td>-0.000118</td>\n",
       "      <td>0.000094</td>\n",
       "      <td>-0.000092</td>\n",
       "      <td>0.000089</td>\n",
       "      <td>-0.000087</td>\n",
       "    </tr>\n",
       "  </tbody>\n",
       "</table>\n",
       "</div>"
      ],
      "text/plain": [
       "   fixed acidity  free sulfur dioxide  citric acid  residual sugar  \\\n",
       "0      -0.000294             -0.00029    -0.000284       -0.000279   \n",
       "\n",
       "   total sulfur dioxide   density   alcohol  chlorides        pH  \\\n",
       "0             -0.000276 -0.000118  0.000094  -0.000092  0.000089   \n",
       "\n",
       "   volatile acidity  \n",
       "0         -0.000087  "
      ]
     },
     "execution_count": 7,
     "metadata": {},
     "output_type": "execute_result"
    }
   ],
   "source": [
    "explainer = _explainer(\"classification\", \"quality\")\n",
    "explaination = explainer.explain_instance(X_test.iloc[2], pred_model)\n",
    "_to_csv_local(explaination)"
   ]
  },
  {
   "cell_type": "code",
   "execution_count": null,
   "id": "cbd5036a-c84e-41c1-b313-53ffbaaeda6f",
   "metadata": {},
   "outputs": [],
   "source": []
  }
 ],
 "metadata": {
  "kernelspec": {
   "display_name": "Python 3 (ipykernel)",
   "language": "python",
   "name": "python3"
  },
  "language_info": {
   "codemirror_mode": {
    "name": "ipython",
    "version": 3
   },
   "file_extension": ".py",
   "mimetype": "text/x-python",
   "name": "python",
   "nbconvert_exporter": "python",
   "pygments_lexer": "ipython3",
   "version": "3.9.13"
  }
 },
 "nbformat": 4,
 "nbformat_minor": 5
}
