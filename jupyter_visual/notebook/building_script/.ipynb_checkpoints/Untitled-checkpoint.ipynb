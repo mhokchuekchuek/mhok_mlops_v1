{
 "cells": [
  {
   "cell_type": "code",
   "execution_count": 12,
   "id": "9b6a6bdd-3e69-45ea-a974-9dc11e832fa8",
   "metadata": {},
   "outputs": [],
   "source": [
    "import numpy as np\n",
    "data = [[7, 2, 3], [4, np.nan, 6], [10, 5, 9]]"
   ]
  },
  {
   "cell_type": "code",
   "execution_count": 13,
   "id": "428ac300-228c-4950-9a1f-7bfb5059bbaa",
   "metadata": {},
   "outputs": [],
   "source": [
    "from sklearn.preprocessing import *\n",
    "from sklearn.pipeline import Pipeline\n",
    "from sklearn.impute import SimpleImputer"
   ]
  },
  {
   "cell_type": "code",
   "execution_count": 14,
   "id": "bb89d11b-6393-485a-9114-ff084ce12b07",
   "metadata": {},
   "outputs": [],
   "source": [
    "a = Pipeline(steps=[('imputer', SimpleImputer(strategy='median', add_indicator=True))])"
   ]
  },
  {
   "cell_type": "code",
   "execution_count": 15,
   "id": "e25dd4cb-ece4-4884-90ec-b20bcce613d7",
   "metadata": {},
   "outputs": [],
   "source": [
    "test = a.fit_transform(data)"
   ]
  },
  {
   "cell_type": "code",
   "execution_count": 16,
   "id": "ba0a7d4a-379a-44dc-9a40-357f954ceb54",
   "metadata": {},
   "outputs": [
    {
     "data": {
      "text/plain": [
       "array([[ 7.,  2.,  3.],\n",
       "       [ 4., nan,  6.],\n",
       "       [10.,  5.,  9.]])"
      ]
     },
     "execution_count": 16,
     "metadata": {},
     "output_type": "execute_result"
    }
   ],
   "source": [
    "a.inverse_transform(test)"
   ]
  },
  {
   "cell_type": "code",
   "execution_count": null,
   "id": "7b43990f-f1ca-44ab-ad45-edbd17a2871f",
   "metadata": {},
   "outputs": [],
   "source": [
    "data = [[7, 2, 3], [4, np.nan, 6], [10, 5, 9], [np.nan, np.nan, 6]]"
   ]
  }
 ],
 "metadata": {
  "kernelspec": {
   "display_name": "Python 3 (ipykernel)",
   "language": "python",
   "name": "python3"
  },
  "language_info": {
   "codemirror_mode": {
    "name": "ipython",
    "version": 3
   },
   "file_extension": ".py",
   "mimetype": "text/x-python",
   "name": "python",
   "nbconvert_exporter": "python",
   "pygments_lexer": "ipython3",
   "version": "3.9.13"
  }
 },
 "nbformat": 4,
 "nbformat_minor": 5
}
