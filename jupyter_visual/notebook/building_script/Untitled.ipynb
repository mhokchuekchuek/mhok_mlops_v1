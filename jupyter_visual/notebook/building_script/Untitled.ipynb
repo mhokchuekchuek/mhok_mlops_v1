{
 "cells": [
  {
   "cell_type": "code",
   "execution_count": 56,
   "id": "9b6a6bdd-3e69-45ea-a974-9dc11e832fa8",
   "metadata": {},
   "outputs": [],
   "source": [
    "import numpy as np\n",
    "data = [[7, 2, 3], [4, np.nan, 6], [10, 5, 9]]"
   ]
  },
  {
   "cell_type": "code",
   "execution_count": 57,
   "id": "428ac300-228c-4950-9a1f-7bfb5059bbaa",
   "metadata": {},
   "outputs": [],
   "source": [
    "from sklearn.preprocessing import *\n",
    "from sklearn.pipeline import Pipeline\n",
    "from sklearn.impute import SimpleImputer"
   ]
  },
  {
   "cell_type": "code",
   "execution_count": 58,
   "id": "bb89d11b-6393-485a-9114-ff084ce12b07",
   "metadata": {},
   "outputs": [],
   "source": [
    "a = Pipeline(steps=[('imputer', SimpleImputer(strategy='median', add_indicator = True, copy =True)),(\"one_hot\", )])"
   ]
  },
  {
   "cell_type": "code",
   "execution_count": 59,
   "id": "e25dd4cb-ece4-4884-90ec-b20bcce613d7",
   "metadata": {},
   "outputs": [],
   "source": [
    "test = a.fit_transform(data)"
   ]
  },
  {
   "cell_type": "code",
   "execution_count": 60,
   "id": "ba0a7d4a-379a-44dc-9a40-357f954ceb54",
   "metadata": {},
   "outputs": [
    {
     "data": {
      "text/plain": [
       "array([[ 7.,  2.,  3.],\n",
       "       [ 4., nan,  6.],\n",
       "       [10.,  5.,  9.]])"
      ]
     },
     "execution_count": 60,
     "metadata": {},
     "output_type": "execute_result"
    }
   ],
   "source": [
    "a.inverse_transform(test)"
   ]
  },
  {
   "cell_type": "code",
   "execution_count": 62,
   "id": "71b89080-1628-4fbc-811b-fdb4a52bb5f0",
   "metadata": {},
   "outputs": [
    {
     "data": {
      "text/plain": [
       "[[nan, 0], [nan, 1], [nan, 1]]"
      ]
     },
     "execution_count": 62,
     "metadata": {},
     "output_type": "execute_result"
    }
   ],
   "source": [
    "data_1 = [[np.nan, 0], [np.nan,1], [np.nan,1]]\n",
    "data_1"
   ]
  },
  {
   "cell_type": "code",
   "execution_count": 54,
   "id": "6c9ec550-d76a-48d0-b802-e0d4bdd77b66",
   "metadata": {},
   "outputs": [],
   "source": [
    "test_2 = a.fit_transform(data_1)"
   ]
  },
  {
   "cell_type": "code",
   "execution_count": 61,
   "id": "b2ce45b3-48ff-4d93-b9cd-91f999a1256b",
   "metadata": {},
   "outputs": [
    {
     "data": {
      "text/plain": [
       "array([[ 0., nan,  0.],\n",
       "       [ 1., nan,  0.],\n",
       "       [ 1., nan,  0.]])"
      ]
     },
     "execution_count": 61,
     "metadata": {},
     "output_type": "execute_result"
    }
   ],
   "source": [
    "a.inverse_transform(test_2)"
   ]
  },
  {
   "cell_type": "code",
   "execution_count": 2,
   "id": "7a5be01b-bade-4c0a-b38f-81908de2d68e",
   "metadata": {},
   "outputs": [],
   "source": [
    "import pandas as pd\n",
    "X_train = pd.read_csv(\"/ml_data/X_train.csv\").drop(columns = \"Unnamed: 0\")"
   ]
  },
  {
   "cell_type": "code",
   "execution_count": 3,
   "id": "89f32cc8-340e-4146-a7bd-33a138422a15",
   "metadata": {},
   "outputs": [
    {
     "data": {
      "text/plain": [
       "(5092, 81)"
      ]
     },
     "execution_count": 3,
     "metadata": {},
     "output_type": "execute_result"
    }
   ],
   "source": [
    "X_train.shape"
   ]
  },
  {
   "cell_type": "code",
   "execution_count": null,
   "id": "109fce65-30bd-4694-a01c-9244602bcab2",
   "metadata": {},
   "outputs": [],
   "source": []
  }
 ],
 "metadata": {
  "kernelspec": {
   "display_name": "Python 3 (ipykernel)",
   "language": "python",
   "name": "python3"
  },
  "language_info": {
   "codemirror_mode": {
    "name": "ipython",
    "version": 3
   },
   "file_extension": ".py",
   "mimetype": "text/x-python",
   "name": "python",
   "nbconvert_exporter": "python",
   "pygments_lexer": "ipython3",
   "version": "3.9.13"
  }
 },
 "nbformat": 4,
 "nbformat_minor": 5
}
