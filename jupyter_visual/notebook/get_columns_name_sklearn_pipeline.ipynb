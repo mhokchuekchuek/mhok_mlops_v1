{
 "cells": [
  {
   "cell_type": "code",
   "execution_count": 107,
   "id": "1ed6c848-240e-4e15-899f-14e77683625a",
   "metadata": {},
   "outputs": [],
   "source": [
    "import numpy as np\n",
    "import warnings\n",
    "from lime import submodular_pick\n",
    "from tqdm import tqdm\n",
    "from lime.lime_tabular import LimeTabularExplainer\n",
    "import pandas as pd\n",
    "import joblib\n",
    "\n",
    "X_train = pd.read_csv(\"/ml_data/X_train.csv\").drop(columns = \"Unnamed: 0\")\n",
    "y_train = pd.read_csv(\"/ml_data/y_train.csv\").drop(columns = \"Unnamed: 0\")\n",
    "X_test = pd.read_csv(\"/ml_data/X_test.csv\").drop(columns = \"Unnamed: 0\")\n",
    "y_test = pd.read_csv(\"/ml_data/y_test.csv\").drop(columns = \"Unnamed: 0\")\n",
    "feature_names = list(X_train.columns)\n",
    "model = joblib.load(\"/artifact/mlruns/813623427044464195/2cfa40c2107c47cebc0450c6ed0ddbd0/artifacts/model/model.pkl\")"
   ]
  },
  {
   "cell_type": "code",
   "execution_count": 108,
   "id": "89aff909-0720-47b0-8a00-4db3369f2906",
   "metadata": {},
   "outputs": [
    {
     "data": {
      "text/plain": [
       "array([-0.5854432 , -0.65707626, -0.4015775 , -0.94800671, -0.6347059 ,\n",
       "       -0.4712445 ,  0.26142951, -0.68110796,  0.66180618,  0.36054573,\n",
       "       -0.72678146, -0.07826411, -0.18011441, -0.10353038, -0.19471199,\n",
       "       -0.42948982, -0.04652879, -0.10353038, -0.20740096, -0.22094265,\n",
       "       -0.02427976, -0.19955024, -0.0313512 , -0.06435212, -0.07435876,\n",
       "       -0.0313512 , -0.39491662, -0.20996304, -0.16249913, -0.02803861,\n",
       "       -0.0313512 , -0.31776245, -0.03966818, -0.09547844, -0.06736011,\n",
       "       -0.31324717, -0.09652023, -0.11011279, -0.19087679, -0.38924947,\n",
       "       -0.24349238, -0.06587299, -0.08785321, -0.11282163, -0.27787766,\n",
       "       -0.16752253, -0.09336125, -0.05787706, -0.01401517, -0.04435909,\n",
       "       -0.19741236, -0.05956087, -0.27042487, -0.30293023, -0.02803861,\n",
       "       -0.03710253, -0.04435909,  2.62110092, -0.04652879, -0.17059504,\n",
       "       -0.03710253, -0.27000648, -0.07568242, -0.13489389, -0.08555399,\n",
       "       -0.1356466 , -0.34084764, -0.43333244, -0.64316334, -0.75188052,\n",
       "       -0.43365208, -1.09005742, -0.41495967, -0.08198795, -1.06075854,\n",
       "       -0.61488087, -1.29288959, -0.3899182 , -0.38387977,  1.        ,\n",
       "        0.        ,  0.        ,  0.        ,  0.        ,  0.        ,\n",
       "        0.        ,  0.        ,  0.        ,  0.        ,  0.        ,\n",
       "        0.        ,  0.        ,  0.        ,  0.        ,  0.        ,\n",
       "        0.        ,  0.        ,  0.        ,  0.        ,  0.        ,\n",
       "        0.        ,  0.        ,  0.        ,  1.        ,  0.        ,\n",
       "        0.        ])"
      ]
     },
     "execution_count": 108,
     "metadata": {},
     "output_type": "execute_result"
    }
   ],
   "source": [
    "model[0].fit_transform(X_train)[0]"
   ]
  },
  {
   "cell_type": "code",
   "execution_count": 109,
   "id": "a7d6c25c-4e87-4605-84c2-727942097828",
   "metadata": {},
   "outputs": [
    {
     "data": {
      "text/plain": [
       "Pipeline(steps=[('imputer', SimpleImputer(strategy='median')),\n",
       "                ('scaler', StandardScaler())])"
      ]
     },
     "execution_count": 109,
     "metadata": {},
     "output_type": "execute_result"
    }
   ],
   "source": [
    "model[0].transformers_[0][1]"
   ]
  },
  {
   "cell_type": "code",
   "execution_count": 171,
   "id": "0c2d613f-0698-44c3-956d-5d8f13ad4cb6",
   "metadata": {},
   "outputs": [],
   "source": [
    "eiei_ja_2 = model[0].transformers_[1][1]"
   ]
  },
  {
   "cell_type": "code",
   "execution_count": 183,
   "id": "79e1c0bc-ac28-4869-b406-00185fe2bf0d",
   "metadata": {},
   "outputs": [
    {
     "data": {
      "text/plain": [
       "[('imputer', SimpleImputer(strategy='median')), ('scaler', StandardScaler())]"
      ]
     },
     "execution_count": 183,
     "metadata": {},
     "output_type": "execute_result"
    }
   ],
   "source": [
    "model[0].transformers_[0][1].steps"
   ]
  },
  {
   "cell_type": "code",
   "execution_count": 192,
   "id": "fe0a5331-a05c-42fa-a704-88eb879843dd",
   "metadata": {},
   "outputs": [
    {
     "data": {
      "text/plain": [
       "[('scaler', StandardScaler()), ('imputer', SimpleImputer(strategy='median'))]"
      ]
     },
     "execution_count": 192,
     "metadata": {},
     "output_type": "execute_result"
    }
   ],
   "source": [
    "model[0].transformers_[0][1].steps[::-1]"
   ]
  },
  {
   "cell_type": "code",
   "execution_count": 191,
   "id": "f371c111-97a8-4cba-a27a-55484ff20e21",
   "metadata": {},
   "outputs": [
    {
     "data": {
      "text/plain": [
       "Pipeline(steps=[('one_hot', OneHotEncoder(handle_unknown='ignore'))])"
      ]
     },
     "execution_count": 191,
     "metadata": {},
     "output_type": "execute_result"
    }
   ],
   "source": [
    "eiei_ja_2"
   ]
  },
  {
   "cell_type": "code",
   "execution_count": 193,
   "id": "19d2f4c7-bcd3-4a2f-a0f8-190e3f4601ff",
   "metadata": {},
   "outputs": [],
   "source": [
    "test_ja = model[0].transformers_[0][1].steps[::-1]"
   ]
  },
  {
   "cell_type": "code",
   "execution_count": 194,
   "id": "1f78a1e9-0fc3-4aa6-bc20-6c2bf9b33dd3",
   "metadata": {},
   "outputs": [
    {
     "data": {
      "text/plain": [
       "[('scaler', StandardScaler()), ('imputer', SimpleImputer(strategy='median'))]"
      ]
     },
     "execution_count": 194,
     "metadata": {},
     "output_type": "execute_result"
    }
   ],
   "source": [
    "test_ja"
   ]
  },
  {
   "cell_type": "code",
   "execution_count": 195,
   "id": "f596887d-309c-4db8-9bd2-a8e8c2a02d43",
   "metadata": {},
   "outputs": [],
   "source": [
    "eiei_ja_2.steps.extend(test_ja)"
   ]
  },
  {
   "cell_type": "code",
   "execution_count": 200,
   "id": "f30c3512-ca73-40c8-a3ea-ad900a879483",
   "metadata": {},
   "outputs": [
    {
     "data": {
      "text/plain": [
       "Pipeline(steps=[('one_hot', OneHotEncoder(handle_unknown='ignore')),\n",
       "                ('scaler', StandardScaler()),\n",
       "                ('imputer', SimpleImputer(strategy='median'))])"
      ]
     },
     "execution_count": 200,
     "metadata": {},
     "output_type": "execute_result"
    }
   ],
   "source": [
    "eiei_ja_2"
   ]
  },
  {
   "cell_type": "code",
   "execution_count": 197,
   "id": "11347ec3-bd71-4a5d-ab05-b84a390e9daf",
   "metadata": {
    "tags": []
   },
   "outputs": [
    {
     "data": {
      "text/plain": [
       "(106,)"
      ]
     },
     "execution_count": 197,
     "metadata": {},
     "output_type": "execute_result"
    }
   ],
   "source": [
    "model[0].fit_transform(X_train)[0].shape"
   ]
  },
  {
   "cell_type": "code",
   "execution_count": 209,
   "id": "afaf6021-ed98-485c-80ed-e4e2c2119c73",
   "metadata": {},
   "outputs": [
    {
     "data": {
      "text/plain": [
       "Pipeline(steps=[('preprocessor',\n",
       "                 ColumnTransformer(transformers=[('num',\n",
       "                                                  Pipeline(steps=[('imputer',\n",
       "                                                                   SimpleImputer(strategy='median')),\n",
       "                                                                  ('scaler',\n",
       "                                                                   StandardScaler())]),\n",
       "                                                  ['bedroom', 'bathroom', 'sqm',\n",
       "                                                   'built_year', 'luxuary',\n",
       "                                                   'public', 'BRT_distance',\n",
       "                                                   'BTS_distance',\n",
       "                                                   'MRT_distance',\n",
       "                                                   'APL_distance',\n",
       "                                                   'Air-Conditioning',\n",
       "                                                   'Audio System', 'BBQ pits',\n",
       "                                                   'Basketball court',\n",
       "                                                   'Bathtub', 'Bed',\n",
       "                                                   'Billiards room',\n",
       "                                                   'Broadband Internet', 'Club',\n",
       "                                                   'Clubhouse',\n",
       "                                                   'Colonial Building',\n",
       "                                                   'Corner Unit', 'DVD Player',\n",
       "                                                   'Dishwasher',\n",
       "                                                   'Driving range', 'Dryer',\n",
       "                                                   'Fridge', 'Function room',\n",
       "                                                   'Game room', 'Ground Floor', ...]),\n",
       "                                                 ('cat',\n",
       "                                                  Pipeline(steps=[('one_hot',\n",
       "                                                                   OneHotEncoder(handle_unknown='ignore'))]),\n",
       "                                                  ['developer', 'district'])])),\n",
       "                ('model', LGBMRegressor())])"
      ]
     },
     "execution_count": 209,
     "metadata": {},
     "output_type": "execute_result"
    }
   ],
   "source": [
    "model"
   ]
  },
  {
   "cell_type": "code",
   "execution_count": 214,
   "id": "429cddba-7551-439e-950d-e74bc3ad8f13",
   "metadata": {},
   "outputs": [],
   "source": [
    "all_columns = []\n",
    "cat_feature = []\n",
    "for i in range(len(model[\"preprocessor\"].transformers_)):\n",
    "    if model[\"preprocessor\"].transformers_[i][0] == \"num\":\n",
    "        all_columns.extend(model[\"preprocessor\"].transformers[i][2])\n",
    "    else:\n",
    "        for j in range(len(model['preprocessor'].transformers_[1][1][0].categories_)):\n",
    "            all_columns.extend(list(model['preprocessor'].transformers_[1][1][0].categories_[j]))\n",
    "            cat_feature.append(list(model['preprocessor'].transformers_[1][1][0].categories_[j]))"
   ]
  },
  {
   "cell_type": "code",
   "execution_count": 213,
   "id": "bbd7736f-2e84-47b9-ae32-819824439cca",
   "metadata": {},
   "outputs": [
    {
     "data": {
      "text/plain": [
       "[array(['AP Thailand - เอพี (ไทยแลนด์) จำกัด (มหาชน)',\n",
       "        'Ananda Development - อนันดา ดีเวลลอปเม้นท์ จํากัด (มหาชน)',\n",
       "        'L.P.N. Development - แอล.พี.เอ็น.ดีเวลลอปเม้นท์ จำกัด (มหาชน)',\n",
       "        'Land and Houses - แลนด์ แอนด์ เฮ้าส์ จำกัด (มหาชน)',\n",
       "        'Magnolia Quality Development - แมกโนเลีย ควอลิตี้ ดีเวล็อปเม้นต์ คอร์ปอเรชั่น จำกัด',\n",
       "        'Major Development - เมเจอร์ ดีเวลลอปเม้นท์ จำกัด (มหาชน)',\n",
       "        'Noble Development - โนเบิล ดีเวลลอปเมนท์ จำกัด (มหาชน)',\n",
       "        'Pace Development - เพซ ดีเวลลอปเมนท์ คอร์ปอเรชั่น จำกัด (มหาชน)',\n",
       "        'Pruksa Real Estate - พฤกษา เรียลเอสเตท จำกัด (มหาชน)',\n",
       "        'Quality Houses - ควอลิตี้ เฮ้าส์ จำกัด (มหาชน)',\n",
       "        'Raimon Land - ไรมอน แลนด์ จำกัด (มหาชน)',\n",
       "        'SC Asset - เอสซี แอสเสท คอร์ปอเรชั่น จำกัด (มหาชน)',\n",
       "        'Sansiri - แสนสิริ จำกัด (มหาชน)',\n",
       "        'Supalai - ศุภาลัย จำกัด (มหาชน)',\n",
       "        'TCC Capital land - ทีซีซี แคปปิตอล แลนด์ จำกัด',\n",
       "        'The Icon Siam Superlux Residence - ดิ ไอคอนสยาม ซูเปอร์ลักซ์ เรสซิเดนซ์ คอร์ปอเรชั่น จำกัด',\n",
       "        'no'], dtype=object),\n",
       " array(['Bang Rak', 'Chatuchak', 'Huai Khwang', 'Khlong San',\n",
       "        'Khlong Toei', 'Pathum Wan', 'Phra Khanong', 'Ratchathewi',\n",
       "        'Sathon', 'Watthana'], dtype=object)]"
      ]
     },
     "execution_count": 213,
     "metadata": {},
     "output_type": "execute_result"
    }
   ],
   "source": [
    "model[\"preprocessor\"].transformers_[1][1][0].categories_"
   ]
  },
  {
   "cell_type": "code",
   "execution_count": null,
   "id": "5dd8218e-d96b-441e-a110-3c690a92a608",
   "metadata": {},
   "outputs": [],
   "source": []
  }
 ],
 "metadata": {
  "kernelspec": {
   "display_name": "Python 3 (ipykernel)",
   "language": "python",
   "name": "python3"
  },
  "language_info": {
   "codemirror_mode": {
    "name": "ipython",
    "version": 3
   },
   "file_extension": ".py",
   "mimetype": "text/x-python",
   "name": "python",
   "nbconvert_exporter": "python",
   "pygments_lexer": "ipython3",
   "version": "3.9.13"
  }
 },
 "nbformat": 4,
 "nbformat_minor": 5
}
