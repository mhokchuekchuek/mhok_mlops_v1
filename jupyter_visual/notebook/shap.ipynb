{
 "cells": [
  {
   "cell_type": "code",
   "execution_count": 1,
   "id": "bed422b7-2b7e-42d2-a234-a7063081513e",
   "metadata": {},
   "outputs": [
    {
     "name": "stdout",
     "output_type": "stream",
     "text": [
      "alembic==1.8.1\n",
      "altair==4.2.0\n",
      "anyio==3.6.2\n",
      "argon2-cffi==21.3.0\n",
      "argon2-cffi-bindings==21.2.0\n",
      "async-generator==1.10\n",
      "attrs==22.1.0\n",
      "Babel==2.11.0\n",
      "backcall==0.2.0\n",
      "beautifulsoup4==4.11.1\n",
      "bleach==5.0.1\n",
      "blinker==1.5\n",
      "CacheControl==0.12.11\n",
      "cachetools==5.2.0\n",
      "certifi==2022.9.24\n",
      "certipy==0.1.3\n",
      "cffi==1.15.1\n",
      "charset-normalizer==2.1.1\n",
      "cleo==2.0.1\n",
      "click==8.1.3\n",
      "cloudpickle==2.2.0\n",
      "commonmark==0.9.1\n",
      "contourpy==1.0.6\n",
      "crashtest==0.4.1\n",
      "cryptography==38.0.4\n",
      "cycler==0.11.0\n",
      "debugpy==1.6.4\n",
      "decorator==5.1.1\n",
      "defusedxml==0.7.1\n",
      "distlib==0.3.6\n",
      "dulwich==0.20.50\n",
      "entrypoints==0.4\n",
      "fastjsonschema==2.16.2\n",
      "filelock==3.8.2\n",
      "fonttools==4.38.0\n",
      "gitdb==4.0.10\n",
      "GitPython==3.1.29\n",
      "greenlet==1.1.2\n",
      "html5lib==1.1\n",
      "htmlmin==0.1.12\n",
      "idna==3.4\n",
      "ImageHash==4.3.1\n",
      "imageio==2.22.4\n",
      "importlib-metadata==5.1.0\n",
      "ipykernel==6.6.0\n",
      "ipython==7.31.1\n",
      "ipython-genutils==0.2.0\n",
      "ipywidgets==7.7.2\n",
      "jaraco.classes==3.2.3\n",
      "jedi==0.18.2\n",
      "jeepney==0.8.0\n",
      "Jinja2==3.1.2\n",
      "joblib==1.2.0\n",
      "json5==0.9.10\n",
      "jsonschema==4.17.3\n",
      "jupyter-contrib-core==0.4.2\n",
      "jupyter-contrib-nbextensions==0.5.1\n",
      "jupyter-highlight-selected-word==0.2.0\n",
      "jupyter-latex-envs==1.4.6\n",
      "jupyter-nbextensions-configurator==0.6.1\n",
      "jupyter-server==1.23.3\n",
      "jupyter-telemetry==0.1.0\n",
      "jupyter_client==7.4.7\n",
      "jupyter_core==5.1.0\n",
      "jupyterhub==3.0.0\n",
      "jupyterlab==3.5.1\n",
      "jupyterlab-pygments==0.2.2\n",
      "jupyterlab-widgets==1.1.1\n",
      "jupyterlab_server==2.16.3\n",
      "keyring==23.13.1\n",
      "kiwisolver==1.4.4\n",
      "lime==0.2.0.1\n",
      "llvmlite==0.39.1\n",
      "lockfile==0.12.2\n",
      "lxml==4.9.1\n",
      "Mako==1.2.4\n",
      "MarkupSafe==2.0.1\n",
      "matplotlib==3.6.2\n",
      "matplotlib-inline==0.1.6\n",
      "mistune==2.0.4\n",
      "more-itertools==9.0.0\n",
      "msgpack==1.0.4\n",
      "multimethod==1.9\n",
      "nbclassic==0.4.8\n",
      "nbclient==0.7.2\n",
      "nbconvert==7.2.5\n",
      "nbformat==5.7.0\n",
      "nest-asyncio==1.5.6\n",
      "networkx==2.5\n",
      "notebook==6.5.2\n",
      "notebook_shim==0.2.2\n",
      "numba==0.56.4\n",
      "numpy==1.22.3\n",
      "oauthlib==3.2.2\n",
      "packaging==21.3\n",
      "pamela==1.0.0\n",
      "pandas==1.5.2\n",
      "pandas-profiling==3.5.0\n",
      "pandocfilters==1.5.0\n",
      "parso==0.8.3\n",
      "patsy==0.5.3\n",
      "pexpect==4.8.0\n",
      "phik==0.12.2\n",
      "pickleshare==0.7.5\n",
      "Pillow==9.3.0\n",
      "pkginfo==1.9.2\n",
      "platformdirs==2.5.4\n",
      "plotly==5.11.0\n",
      "poetry==1.3.1\n",
      "poetry-core==1.4.0\n",
      "poetry-plugin-export==1.2.0\n",
      "prometheus-client==0.15.0\n",
      "prompt-toolkit==3.0.33\n",
      "protobuf==3.20.3\n",
      "ptyprocess==0.7.0\n",
      "pyarrow==10.0.1\n",
      "pycparser==2.21\n",
      "pydantic==1.10.2\n",
      "pydeck==0.8.0\n",
      "Pygments==2.13.0\n",
      "Pympler==1.0.1\n",
      "pyOpenSSL==22.1.0\n",
      "pyparsing==3.0.9\n",
      "pyrsistent==0.19.2\n",
      "python-dateutil==2.8.2\n",
      "python-json-logger==2.0.4\n",
      "pytz==2022.6\n",
      "pytz-deprecation-shim==0.1.0.post0\n",
      "PyWavelets==1.4.1\n",
      "PyYAML==6.0\n",
      "pyzmq==24.0.1\n",
      "rapidfuzz==2.13.7\n",
      "requests==2.28.1\n",
      "requests-toolbelt==0.10.1\n",
      "rich==12.6.0\n",
      "ruamel.yaml==0.17.21\n",
      "ruamel.yaml.clib==0.2.7\n",
      "scikit-image==0.19.3\n",
      "scikit-learn==1.0.2\n",
      "scipy==1.9.3\n",
      "seaborn==0.12.1\n",
      "SecretStorage==3.3.3\n",
      "semver==2.13.0\n",
      "Send2Trash==1.8.0\n",
      "shap==0.41.0\n",
      "shellingham==1.5.0\n",
      "six==1.16.0\n",
      "slicer==0.0.7\n",
      "smmap==5.0.0\n",
      "sniffio==1.3.0\n",
      "soupsieve==2.3.2.post1\n",
      "SQLAlchemy==1.4.44\n",
      "statsmodels==0.13.5\n",
      "streamlit==1.15.1\n",
      "tangled-up-in-unicode==0.2.0\n",
      "tenacity==8.1.0\n",
      "terminado==0.17.0\n",
      "threadpoolctl==3.1.0\n",
      "tifffile==2022.10.10\n",
      "tinycss2==1.2.1\n",
      "toml==0.10.2\n",
      "tomli==2.0.1\n",
      "tomlkit==0.11.6\n",
      "toolz==0.12.0\n",
      "tornado==6.2\n",
      "tqdm==4.64.1\n",
      "traitlets==5.6.0\n",
      "trove-classifiers==2022.12.22\n",
      "typeguard==2.13.3\n",
      "typing_extensions==4.4.0\n",
      "tzdata==2022.7\n",
      "tzlocal==4.2\n",
      "urllib3==1.26.13\n",
      "validators==0.20.0\n",
      "virtualenv==20.17.1\n",
      "visions==0.7.5\n",
      "watchdog==2.1.9\n",
      "wcwidth==0.2.5\n",
      "webencodings==0.5.1\n",
      "websocket-client==1.4.2\n",
      "widgetsnbextension==3.6.1\n",
      "zipp==3.11.0\n",
      "Note: you may need to restart the kernel to use updated packages.\n"
     ]
    }
   ],
   "source": [
    "pip freeze"
   ]
  },
  {
   "cell_type": "code",
   "execution_count": 2,
   "id": "380bcb23-b982-4bc1-99cc-a73cdbfb63ae",
   "metadata": {},
   "outputs": [
    {
     "name": "stdout",
     "output_type": "stream",
     "text": [
      "Requirement already satisfied: shap in /usr/local/lib/python3.9/site-packages (0.41.0)\n",
      "Requirement already satisfied: numba in /usr/local/lib/python3.9/site-packages (from shap) (0.56.4)\n",
      "Requirement already satisfied: slicer==0.0.7 in /usr/local/lib/python3.9/site-packages (from shap) (0.0.7)\n",
      "Requirement already satisfied: cloudpickle in /usr/local/lib/python3.9/site-packages (from shap) (2.2.0)\n",
      "Requirement already satisfied: numpy in /usr/local/lib/python3.9/site-packages (from shap) (1.22.3)\n",
      "Requirement already satisfied: pandas in /usr/local/lib/python3.9/site-packages (from shap) (1.5.2)\n",
      "Requirement already satisfied: packaging>20.9 in /usr/local/lib/python3.9/site-packages (from shap) (21.3)\n",
      "Requirement already satisfied: tqdm>4.25.0 in /usr/local/lib/python3.9/site-packages (from shap) (4.64.1)\n",
      "Requirement already satisfied: scipy in /usr/local/lib/python3.9/site-packages (from shap) (1.9.3)\n",
      "Requirement already satisfied: scikit-learn in /usr/local/lib/python3.9/site-packages (from shap) (1.0.2)\n",
      "Requirement already satisfied: pyparsing!=3.0.5,>=2.0.2 in /usr/local/lib/python3.9/site-packages (from packaging>20.9->shap) (3.0.9)\n",
      "Requirement already satisfied: llvmlite<0.40,>=0.39.0dev0 in /usr/local/lib/python3.9/site-packages (from numba->shap) (0.39.1)\n",
      "Requirement already satisfied: setuptools in /usr/local/lib/python3.9/site-packages (from numba->shap) (65.6.3)\n",
      "Requirement already satisfied: python-dateutil>=2.8.1 in /usr/local/lib/python3.9/site-packages (from pandas->shap) (2.8.2)\n",
      "Requirement already satisfied: pytz>=2020.1 in /usr/local/lib/python3.9/site-packages (from pandas->shap) (2022.6)\n",
      "Requirement already satisfied: threadpoolctl>=2.0.0 in /usr/local/lib/python3.9/site-packages (from scikit-learn->shap) (3.1.0)\n",
      "Requirement already satisfied: joblib>=0.11 in /usr/local/lib/python3.9/site-packages (from scikit-learn->shap) (1.2.0)\n",
      "Requirement already satisfied: six>=1.5 in /usr/local/lib/python3.9/site-packages (from python-dateutil>=2.8.1->pandas->shap) (1.16.0)\n",
      "\u001b[33mWARNING: Running pip as the 'root' user can result in broken permissions and conflicting behaviour with the system package manager. It is recommended to use a virtual environment instead: https://pip.pypa.io/warnings/venv\u001b[0m\u001b[33m\n",
      "\u001b[0m"
     ]
    }
   ],
   "source": [
    "!pip install shap --upgrade"
   ]
  },
  {
   "cell_type": "code",
   "execution_count": 3,
   "id": "20ab8d71-f4d1-441d-8b59-12012c1695b2",
   "metadata": {},
   "outputs": [
    {
     "ename": "ModuleNotFoundError",
     "evalue": "No module named 'lightgbm'",
     "output_type": "error",
     "traceback": [
      "\u001b[0;31m---------------------------------------------------------------------------\u001b[0m",
      "\u001b[0;31mModuleNotFoundError\u001b[0m                       Traceback (most recent call last)",
      "\u001b[0;32m/tmp/ipykernel_41/3283446377.py\u001b[0m in \u001b[0;36m<module>\u001b[0;34m\u001b[0m\n\u001b[1;32m      5\u001b[0m \u001b[0mX_test\u001b[0m \u001b[0;34m=\u001b[0m \u001b[0mpd\u001b[0m\u001b[0;34m.\u001b[0m\u001b[0mread_csv\u001b[0m\u001b[0;34m(\u001b[0m\u001b[0;34m\"/ml_data/X_test.csv\"\u001b[0m\u001b[0;34m)\u001b[0m\u001b[0;34m.\u001b[0m\u001b[0mdrop\u001b[0m\u001b[0;34m(\u001b[0m\u001b[0mcolumns\u001b[0m \u001b[0;34m=\u001b[0m \u001b[0;34m\"Unnamed: 0\"\u001b[0m\u001b[0;34m)\u001b[0m\u001b[0;34m\u001b[0m\u001b[0;34m\u001b[0m\u001b[0m\n\u001b[1;32m      6\u001b[0m \u001b[0my_test\u001b[0m \u001b[0;34m=\u001b[0m \u001b[0mpd\u001b[0m\u001b[0;34m.\u001b[0m\u001b[0mread_csv\u001b[0m\u001b[0;34m(\u001b[0m\u001b[0;34m\"/ml_data/y_test.csv\"\u001b[0m\u001b[0;34m)\u001b[0m\u001b[0;34m.\u001b[0m\u001b[0mdrop\u001b[0m\u001b[0;34m(\u001b[0m\u001b[0mcolumns\u001b[0m \u001b[0;34m=\u001b[0m \u001b[0;34m\"Unnamed: 0\"\u001b[0m\u001b[0;34m)\u001b[0m\u001b[0;34m\u001b[0m\u001b[0;34m\u001b[0m\u001b[0m\n\u001b[0;32m----> 7\u001b[0;31m \u001b[0mmodel\u001b[0m \u001b[0;34m=\u001b[0m \u001b[0mjoblib\u001b[0m\u001b[0;34m.\u001b[0m\u001b[0mload\u001b[0m\u001b[0;34m(\u001b[0m\u001b[0;34m\"/artifact/mlruns/813623427044464195/2cfa40c2107c47cebc0450c6ed0ddbd0/artifacts/model/model.pkl\"\u001b[0m\u001b[0;34m)\u001b[0m\u001b[0;34m\u001b[0m\u001b[0;34m\u001b[0m\u001b[0m\n\u001b[0m",
      "\u001b[0;32m/usr/local/lib/python3.9/site-packages/joblib/numpy_pickle.py\u001b[0m in \u001b[0;36mload\u001b[0;34m(filename, mmap_mode)\u001b[0m\n\u001b[1;32m    656\u001b[0m                     \u001b[0;32mreturn\u001b[0m \u001b[0mload_compatibility\u001b[0m\u001b[0;34m(\u001b[0m\u001b[0mfobj\u001b[0m\u001b[0;34m)\u001b[0m\u001b[0;34m\u001b[0m\u001b[0;34m\u001b[0m\u001b[0m\n\u001b[1;32m    657\u001b[0m \u001b[0;34m\u001b[0m\u001b[0m\n\u001b[0;32m--> 658\u001b[0;31m                 \u001b[0mobj\u001b[0m \u001b[0;34m=\u001b[0m \u001b[0m_unpickle\u001b[0m\u001b[0;34m(\u001b[0m\u001b[0mfobj\u001b[0m\u001b[0;34m,\u001b[0m \u001b[0mfilename\u001b[0m\u001b[0;34m,\u001b[0m \u001b[0mmmap_mode\u001b[0m\u001b[0;34m)\u001b[0m\u001b[0;34m\u001b[0m\u001b[0;34m\u001b[0m\u001b[0m\n\u001b[0m\u001b[1;32m    659\u001b[0m     \u001b[0;32mreturn\u001b[0m \u001b[0mobj\u001b[0m\u001b[0;34m\u001b[0m\u001b[0;34m\u001b[0m\u001b[0m\n",
      "\u001b[0;32m/usr/local/lib/python3.9/site-packages/joblib/numpy_pickle.py\u001b[0m in \u001b[0;36m_unpickle\u001b[0;34m(fobj, filename, mmap_mode)\u001b[0m\n\u001b[1;32m    575\u001b[0m     \u001b[0mobj\u001b[0m \u001b[0;34m=\u001b[0m \u001b[0;32mNone\u001b[0m\u001b[0;34m\u001b[0m\u001b[0;34m\u001b[0m\u001b[0m\n\u001b[1;32m    576\u001b[0m     \u001b[0;32mtry\u001b[0m\u001b[0;34m:\u001b[0m\u001b[0;34m\u001b[0m\u001b[0;34m\u001b[0m\u001b[0m\n\u001b[0;32m--> 577\u001b[0;31m         \u001b[0mobj\u001b[0m \u001b[0;34m=\u001b[0m \u001b[0munpickler\u001b[0m\u001b[0;34m.\u001b[0m\u001b[0mload\u001b[0m\u001b[0;34m(\u001b[0m\u001b[0;34m)\u001b[0m\u001b[0;34m\u001b[0m\u001b[0;34m\u001b[0m\u001b[0m\n\u001b[0m\u001b[1;32m    578\u001b[0m         \u001b[0;32mif\u001b[0m \u001b[0munpickler\u001b[0m\u001b[0;34m.\u001b[0m\u001b[0mcompat_mode\u001b[0m\u001b[0;34m:\u001b[0m\u001b[0;34m\u001b[0m\u001b[0;34m\u001b[0m\u001b[0m\n\u001b[1;32m    579\u001b[0m             warnings.warn(\"The file '%s' has been generated with a \"\n",
      "\u001b[0;32m/usr/local/lib/python3.9/pickle.py\u001b[0m in \u001b[0;36mload\u001b[0;34m(self)\u001b[0m\n\u001b[1;32m   1210\u001b[0m                     \u001b[0;32mraise\u001b[0m \u001b[0mEOFError\u001b[0m\u001b[0;34m\u001b[0m\u001b[0;34m\u001b[0m\u001b[0m\n\u001b[1;32m   1211\u001b[0m                 \u001b[0;32massert\u001b[0m \u001b[0misinstance\u001b[0m\u001b[0;34m(\u001b[0m\u001b[0mkey\u001b[0m\u001b[0;34m,\u001b[0m \u001b[0mbytes_types\u001b[0m\u001b[0;34m)\u001b[0m\u001b[0;34m\u001b[0m\u001b[0;34m\u001b[0m\u001b[0m\n\u001b[0;32m-> 1212\u001b[0;31m                 \u001b[0mdispatch\u001b[0m\u001b[0;34m[\u001b[0m\u001b[0mkey\u001b[0m\u001b[0;34m[\u001b[0m\u001b[0;36m0\u001b[0m\u001b[0;34m]\u001b[0m\u001b[0;34m]\u001b[0m\u001b[0;34m(\u001b[0m\u001b[0mself\u001b[0m\u001b[0;34m)\u001b[0m\u001b[0;34m\u001b[0m\u001b[0;34m\u001b[0m\u001b[0m\n\u001b[0m\u001b[1;32m   1213\u001b[0m         \u001b[0;32mexcept\u001b[0m \u001b[0m_Stop\u001b[0m \u001b[0;32mas\u001b[0m \u001b[0mstopinst\u001b[0m\u001b[0;34m:\u001b[0m\u001b[0;34m\u001b[0m\u001b[0;34m\u001b[0m\u001b[0m\n\u001b[1;32m   1214\u001b[0m             \u001b[0;32mreturn\u001b[0m \u001b[0mstopinst\u001b[0m\u001b[0;34m.\u001b[0m\u001b[0mvalue\u001b[0m\u001b[0;34m\u001b[0m\u001b[0;34m\u001b[0m\u001b[0m\n",
      "\u001b[0;32m/usr/local/lib/python3.9/pickle.py\u001b[0m in \u001b[0;36mload_stack_global\u001b[0;34m(self)\u001b[0m\n\u001b[1;32m   1535\u001b[0m         \u001b[0;32mif\u001b[0m \u001b[0mtype\u001b[0m\u001b[0;34m(\u001b[0m\u001b[0mname\u001b[0m\u001b[0;34m)\u001b[0m \u001b[0;32mis\u001b[0m \u001b[0;32mnot\u001b[0m \u001b[0mstr\u001b[0m \u001b[0;32mor\u001b[0m \u001b[0mtype\u001b[0m\u001b[0;34m(\u001b[0m\u001b[0mmodule\u001b[0m\u001b[0;34m)\u001b[0m \u001b[0;32mis\u001b[0m \u001b[0;32mnot\u001b[0m \u001b[0mstr\u001b[0m\u001b[0;34m:\u001b[0m\u001b[0;34m\u001b[0m\u001b[0;34m\u001b[0m\u001b[0m\n\u001b[1;32m   1536\u001b[0m             \u001b[0;32mraise\u001b[0m \u001b[0mUnpicklingError\u001b[0m\u001b[0;34m(\u001b[0m\u001b[0;34m\"STACK_GLOBAL requires str\"\u001b[0m\u001b[0;34m)\u001b[0m\u001b[0;34m\u001b[0m\u001b[0;34m\u001b[0m\u001b[0m\n\u001b[0;32m-> 1537\u001b[0;31m         \u001b[0mself\u001b[0m\u001b[0;34m.\u001b[0m\u001b[0mappend\u001b[0m\u001b[0;34m(\u001b[0m\u001b[0mself\u001b[0m\u001b[0;34m.\u001b[0m\u001b[0mfind_class\u001b[0m\u001b[0;34m(\u001b[0m\u001b[0mmodule\u001b[0m\u001b[0;34m,\u001b[0m \u001b[0mname\u001b[0m\u001b[0;34m)\u001b[0m\u001b[0;34m)\u001b[0m\u001b[0;34m\u001b[0m\u001b[0;34m\u001b[0m\u001b[0m\n\u001b[0m\u001b[1;32m   1538\u001b[0m     \u001b[0mdispatch\u001b[0m\u001b[0;34m[\u001b[0m\u001b[0mSTACK_GLOBAL\u001b[0m\u001b[0;34m[\u001b[0m\u001b[0;36m0\u001b[0m\u001b[0;34m]\u001b[0m\u001b[0;34m]\u001b[0m \u001b[0;34m=\u001b[0m \u001b[0mload_stack_global\u001b[0m\u001b[0;34m\u001b[0m\u001b[0;34m\u001b[0m\u001b[0m\n\u001b[1;32m   1539\u001b[0m \u001b[0;34m\u001b[0m\u001b[0m\n",
      "\u001b[0;32m/usr/local/lib/python3.9/pickle.py\u001b[0m in \u001b[0;36mfind_class\u001b[0;34m(self, module, name)\u001b[0m\n\u001b[1;32m   1577\u001b[0m             \u001b[0;32melif\u001b[0m \u001b[0mmodule\u001b[0m \u001b[0;32min\u001b[0m \u001b[0m_compat_pickle\u001b[0m\u001b[0;34m.\u001b[0m\u001b[0mIMPORT_MAPPING\u001b[0m\u001b[0;34m:\u001b[0m\u001b[0;34m\u001b[0m\u001b[0;34m\u001b[0m\u001b[0m\n\u001b[1;32m   1578\u001b[0m                 \u001b[0mmodule\u001b[0m \u001b[0;34m=\u001b[0m \u001b[0m_compat_pickle\u001b[0m\u001b[0;34m.\u001b[0m\u001b[0mIMPORT_MAPPING\u001b[0m\u001b[0;34m[\u001b[0m\u001b[0mmodule\u001b[0m\u001b[0;34m]\u001b[0m\u001b[0;34m\u001b[0m\u001b[0;34m\u001b[0m\u001b[0m\n\u001b[0;32m-> 1579\u001b[0;31m         \u001b[0m__import__\u001b[0m\u001b[0;34m(\u001b[0m\u001b[0mmodule\u001b[0m\u001b[0;34m,\u001b[0m \u001b[0mlevel\u001b[0m\u001b[0;34m=\u001b[0m\u001b[0;36m0\u001b[0m\u001b[0;34m)\u001b[0m\u001b[0;34m\u001b[0m\u001b[0;34m\u001b[0m\u001b[0m\n\u001b[0m\u001b[1;32m   1580\u001b[0m         \u001b[0;32mif\u001b[0m \u001b[0mself\u001b[0m\u001b[0;34m.\u001b[0m\u001b[0mproto\u001b[0m \u001b[0;34m>=\u001b[0m \u001b[0;36m4\u001b[0m\u001b[0;34m:\u001b[0m\u001b[0;34m\u001b[0m\u001b[0;34m\u001b[0m\u001b[0m\n\u001b[1;32m   1581\u001b[0m             \u001b[0;32mreturn\u001b[0m \u001b[0m_getattribute\u001b[0m\u001b[0;34m(\u001b[0m\u001b[0msys\u001b[0m\u001b[0;34m.\u001b[0m\u001b[0mmodules\u001b[0m\u001b[0;34m[\u001b[0m\u001b[0mmodule\u001b[0m\u001b[0;34m]\u001b[0m\u001b[0;34m,\u001b[0m \u001b[0mname\u001b[0m\u001b[0;34m)\u001b[0m\u001b[0;34m[\u001b[0m\u001b[0;36m0\u001b[0m\u001b[0;34m]\u001b[0m\u001b[0;34m\u001b[0m\u001b[0;34m\u001b[0m\u001b[0m\n",
      "\u001b[0;31mModuleNotFoundError\u001b[0m: No module named 'lightgbm'"
     ]
    }
   ],
   "source": [
    "import pandas as pd\n",
    "import joblib\n",
    "X_train = pd.read_csv(\"/ml_data/X_train.csv\").drop(columns = \"Unnamed: 0\")\n",
    "y_train = pd.read_csv(\"/ml_data/y_train.csv\").drop(columns = \"Unnamed: 0\")\n",
    "X_test = pd.read_csv(\"/ml_data/X_test.csv\").drop(columns = \"Unnamed: 0\")\n",
    "y_test = pd.read_csv(\"/ml_data/y_test.csv\").drop(columns = \"Unnamed: 0\")\n",
    "model = joblib.load(\"/artifact/mlruns/813623427044464195/2cfa40c2107c47cebc0450c6ed0ddbd0/artifacts/model/model.pkl\")"
   ]
  },
  {
   "cell_type": "code",
   "execution_count": null,
   "id": "f6a70b8d-33e7-4c7d-aba3-45a21157e1e0",
   "metadata": {},
   "outputs": [],
   "source": [
    "all_columns = []\n",
    "cat_feature = []\n",
    "for i in range(len(model[\"preprocessor\"].transformers_)):\n",
    "    if model[\"preprocessor\"].transformers_[i][0] == \"num\":\n",
    "        all_columns.extend(model[\"preprocessor\"].transformers[i][2])\n",
    "    else:\n",
    "        for j in range(len(model['preprocessor'].transformers_[1][1][0].categories_)):\n",
    "            all_columns.extend(list(model['preprocessor'].transformers_[1][1][0].categories_[j]))\n",
    "            cat_feature.append(list(model['preprocessor'].transformers_[1][1][0].categories_[j]))"
   ]
  },
  {
   "cell_type": "code",
   "execution_count": null,
   "id": "35389651-d014-4e29-9261-ef8173cf2d2e",
   "metadata": {},
   "outputs": [],
   "source": [
    "import os\n",
    "print(\"PYTHONPATH:\", os.environ.get('PYTHONPATH'))\n",
    "print(\"PATH:\", os.environ.get('PATH'))"
   ]
  },
  {
   "cell_type": "code",
   "execution_count": null,
   "id": "a0433b48-f444-41cd-b4d4-1d96ec2247c3",
   "metadata": {},
   "outputs": [],
   "source": [
    "!pip install numpy==1.22.3\n",
    "!pip install shap --upgrade"
   ]
  },
  {
   "cell_type": "code",
   "execution_count": null,
   "id": "1b94c66c-400b-4de7-a90d-8c3920de324c",
   "metadata": {},
   "outputs": [],
   "source": [
    "import shap"
   ]
  },
  {
   "cell_type": "code",
   "execution_count": null,
   "id": "2853cf8a-e4e9-4b8c-ad8c-8e70f33d5123",
   "metadata": {},
   "outputs": [],
   "source": [
    "import shap\n",
    "explainer = shap.TreeExplainer(model[1] ,feature_names = all_columns)\n",
    "shap_values = explainer.shap_values(model[0].fit_transform(X_test))"
   ]
  },
  {
   "cell_type": "code",
   "execution_count": null,
   "id": "6ca9821c-1da5-48c7-be97-ff90630b1279",
   "metadata": {},
   "outputs": [],
   "source": [
    "shap_values.shape"
   ]
  },
  {
   "cell_type": "code",
   "execution_count": null,
   "id": "cf010791-bb2f-4806-bf5a-a127312c740d",
   "metadata": {},
   "outputs": [],
   "source": [
    "import numpy as np\n",
    "shap_values.shape"
   ]
  },
  {
   "cell_type": "code",
   "execution_count": null,
   "id": "3fcc877b-14e4-45ce-af76-849a935bdd3e",
   "metadata": {},
   "outputs": [],
   "source": [
    "import pandas as pd\n",
    "global_values = pd.DataFrame(np.reshape(sum(np.abs(shap_values))/len(sum(np.abs(shap_values))), newshape = (1,-1)), columns = all_columns)\n",
    "train_dependency_values = pd.DataFrame(np.abs(shap_values), columns = [\"importance_values_\" + i for i in all_columns])\n",
    "pd.concat([train_dependency_values, X_test], axis = 1)"
   ]
  },
  {
   "cell_type": "code",
   "execution_count": null,
   "id": "820e96bf-df0f-4e5f-98ae-b66639ccec36",
   "metadata": {},
   "outputs": [],
   "source": [
    "pd.concat([train_dependency_values, X_test], axis = 1)"
   ]
  },
  {
   "cell_type": "markdown",
   "id": "2042838b-1900-4bda-9bb2-52010fb6a75e",
   "metadata": {},
   "source": [
    "X_train.shape"
   ]
  },
  {
   "cell_type": "code",
   "execution_count": null,
   "id": "e93e2798-805b-4908-ac11-3459e51db3d7",
   "metadata": {},
   "outputs": [],
   "source": [
    "shap.summary_plot(shap_values, plot_type=\"bar\")"
   ]
  },
  {
   "cell_type": "code",
   "execution_count": null,
   "id": "77b54c4b-a158-4eee-851b-7b4590078eb3",
   "metadata": {},
   "outputs": [],
   "source": []
  }
 ],
 "metadata": {
  "kernelspec": {
   "display_name": "Python 3 (ipykernel)",
   "language": "python",
   "name": "python3"
  },
  "language_info": {
   "codemirror_mode": {
    "name": "ipython",
    "version": 3
   },
   "file_extension": ".py",
   "mimetype": "text/x-python",
   "name": "python",
   "nbconvert_exporter": "python",
   "pygments_lexer": "ipython3",
   "version": "3.9.13"
  }
 },
 "nbformat": 4,
 "nbformat_minor": 5
}
