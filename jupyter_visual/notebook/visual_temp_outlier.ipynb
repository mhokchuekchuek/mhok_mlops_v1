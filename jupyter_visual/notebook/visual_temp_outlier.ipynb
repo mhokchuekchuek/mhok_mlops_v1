{
 "cells": [
  {
   "cell_type": "code",
   "execution_count": 117,
   "id": "8b7649b0-b729-4330-bd79-ec61a4a357ba",
   "metadata": {},
   "outputs": [],
   "source": [
    "import pandas as pd\n",
    "df = pd.read_csv(\"/ml_data/device.csv\")"
   ]
  },
  {
   "cell_type": "code",
   "execution_count": 118,
   "id": "6b97cee4-765c-442b-b69e-222800ee5fb4",
   "metadata": {},
   "outputs": [],
   "source": [
    "df_2 = pd.read_csv(\"/ml_data/sub_distict.csv\")\n",
    "df_wa = pd.read_csv(\"/ml_data/ana.csv\")\n",
    "df2 =df_wa.groupby(['timestamp', 'device']).mean().reset_index()"
   ]
  },
  {
   "cell_type": "code",
   "execution_count": 119,
   "id": "f1db6101-7ada-4f05-b0c6-e2a7e2acba47",
   "metadata": {},
   "outputs": [],
   "source": [
    "df_2_1 = pd.read_csv(\"/ml_data/sala_klang.csv\")"
   ]
  },
  {
   "cell_type": "code",
   "execution_count": 121,
   "id": "482e964d-c0a5-44f5-b8e5-78333fde0cea",
   "metadata": {},
   "outputs": [],
   "source": [
    "df_2= pd.concat([df_2, df_2_1])"
   ]
  },
  {
   "cell_type": "code",
   "execution_count": 122,
   "id": "80717381-dfed-4d20-9950-dceaf1d7e7bf",
   "metadata": {},
   "outputs": [],
   "source": [
    "test_ja = pd.merge(df, df_2 , on = [\"id\"])"
   ]
  },
  {
   "cell_type": "code",
   "execution_count": 123,
   "id": "32a822bb-f410-49b1-930f-44c681d9acc0",
   "metadata": {},
   "outputs": [
    {
     "data": {
      "text/plain": [
       "array(['AA180122', 'AA180133', 'AA180154', 'AA180165', 'AA180167',\n",
       "       'AA180168', 'AA180169', 'AA180170', 'AA180171', 'AA180172',\n",
       "       'AA180206', 'AA180260', 'AA180268', 'AA180277', 'AA180298',\n",
       "       'AA180335'], dtype=object)"
      ]
     },
     "execution_count": 123,
     "metadata": {},
     "output_type": "execute_result"
    }
   ],
   "source": [
    "test_ja[test_ja[\"sub_district\"] == \"Bang Kruai\"][\"device\"].unique()"
   ]
  },
  {
   "cell_type": "code",
   "execution_count": 124,
   "id": "31fc77d7-021d-409a-8057-9911aae4b781",
   "metadata": {},
   "outputs": [
    {
     "data": {
      "text/plain": [
       "array(['Bang Bua Thong', 'Bang Khu Rat', 'Sala Klang', 'Bang Len',\n",
       "       'Bang Khu Wiang', 'Bang Kruai', 'Bang Mae Nang', 'Bang Muang',\n",
       "       'Bang Khanun', 'Bang Khun Kong', 'Bang Khen', 'Bang Krang',\n",
       "       'Bang Kraso'], dtype=object)"
      ]
     },
     "execution_count": 124,
     "metadata": {},
     "output_type": "execute_result"
    }
   ],
   "source": [
    "test_ja[test_ja[\"province\"] == \"Nonthaburi\"][\"sub_district\"].unique()"
   ]
  },
  {
   "cell_type": "code",
   "execution_count": 125,
   "id": "9af1d333-0a63-4124-aaa3-3327e6a10c50",
   "metadata": {},
   "outputs": [],
   "source": [
    "def check_outlier(x):\n",
    "    if x > 40:\n",
    "        return True\n",
    "    return False\n",
    "\n",
    "def check_outlier_2(x):\n",
    "    if x > 100:\n",
    "        return True\n",
    "    return False"
   ]
  },
  {
   "cell_type": "code",
   "execution_count": 126,
   "id": "93454d8e-f746-4cf0-9eea-0fcdfd2d729f",
   "metadata": {},
   "outputs": [],
   "source": [
    "df2[\"outlier\"] = df2[\"temperature\"].apply(check_outlier)\n",
    "df2[\"outlier_2\"] = df2[\"humidity\"].apply(check_outlier_2)"
   ]
  },
  {
   "cell_type": "code",
   "execution_count": 127,
   "id": "eb447814-b0a1-460c-bee8-a197711e68db",
   "metadata": {},
   "outputs": [],
   "source": [
    "test_wa = df2[(df2[\"outlier_2\"] == True) |(df2[\"outlier\"] == True)]"
   ]
  },
  {
   "cell_type": "code",
   "execution_count": 128,
   "id": "1e40e3ec-4600-4c76-a8dd-a275adde3e4d",
   "metadata": {},
   "outputs": [],
   "source": [
    "test_wa = pd.merge(test_wa, test_ja, on = [\"device\"])"
   ]
  },
  {
   "cell_type": "code",
   "execution_count": 129,
   "id": "3fb7a122-28c0-4f7c-b7d9-657e52bffa58",
   "metadata": {},
   "outputs": [],
   "source": [
    "in_brangkruai = test_wa.loc[test_wa['device'].isin(test_ja[test_ja[\"sub_district\"] == \"Bang Kruai\"][\"device\"].unique())]"
   ]
  },
  {
   "cell_type": "code",
   "execution_count": 130,
   "id": "65890464-b782-4047-96ac-27ad2648e180",
   "metadata": {},
   "outputs": [],
   "source": [
    "in_brangkruai = in_brangkruai.groupby(['device', 'id', 'sub_district', 'district', 'province', 'timestamp']).mean().reset_index()"
   ]
  },
  {
   "cell_type": "code",
   "execution_count": 136,
   "id": "200de274-3b25-4bcb-bb7c-51df91f5ea99",
   "metadata": {},
   "outputs": [],
   "source": [
    "in_brangkruai = in_brangkruai[in_brangkruai[\"sub_district\"] == \"Sala Klang\"].drop(columns = [\"outlier\", \"outlier_2\", \"id\"])"
   ]
  },
  {
   "cell_type": "code",
   "execution_count": 137,
   "id": "ccf441a8-d1ee-41cd-af37-3e38e5f8fff6",
   "metadata": {},
   "outputs": [],
   "source": [
    "in_brangkruai.to_csv(\"bangkruai_outlier.csv\", index = False)"
   ]
  },
  {
   "cell_type": "code",
   "execution_count": 133,
   "id": "369cb09e-2055-4913-b595-c0487fc728b1",
   "metadata": {},
   "outputs": [
    {
     "data": {
      "text/html": [
       "<div>\n",
       "<style scoped>\n",
       "    .dataframe tbody tr th:only-of-type {\n",
       "        vertical-align: middle;\n",
       "    }\n",
       "\n",
       "    .dataframe tbody tr th {\n",
       "        vertical-align: top;\n",
       "    }\n",
       "\n",
       "    .dataframe thead th {\n",
       "        text-align: right;\n",
       "    }\n",
       "</style>\n",
       "<table border=\"1\" class=\"dataframe\">\n",
       "  <thead>\n",
       "    <tr style=\"text-align: right;\">\n",
       "      <th></th>\n",
       "      <th>device</th>\n",
       "      <th>sub_district</th>\n",
       "      <th>district</th>\n",
       "      <th>province</th>\n",
       "      <th>timestamp</th>\n",
       "      <th>temperature</th>\n",
       "      <th>humidity</th>\n",
       "    </tr>\n",
       "  </thead>\n",
       "  <tbody>\n",
       "    <tr>\n",
       "      <th>0</th>\n",
       "      <td>AA180115</td>\n",
       "      <td>Bang Khian</td>\n",
       "      <td>Chum Saeng</td>\n",
       "      <td>Nakhon Sawan</td>\n",
       "      <td>2022-12-04</td>\n",
       "      <td>42.182964</td>\n",
       "      <td>99.847119</td>\n",
       "    </tr>\n",
       "    <tr>\n",
       "      <th>1</th>\n",
       "      <td>AA180115</td>\n",
       "      <td>Bang Khian</td>\n",
       "      <td>Chum Saeng</td>\n",
       "      <td>Nakhon Sawan</td>\n",
       "      <td>2022-12-05</td>\n",
       "      <td>50.000000</td>\n",
       "      <td>100.000000</td>\n",
       "    </tr>\n",
       "    <tr>\n",
       "      <th>2</th>\n",
       "      <td>AA180115</td>\n",
       "      <td>Ban Dai</td>\n",
       "      <td>Mae Sai</td>\n",
       "      <td>Chiang Rai</td>\n",
       "      <td>2022-12-04</td>\n",
       "      <td>42.182964</td>\n",
       "      <td>99.847119</td>\n",
       "    </tr>\n",
       "    <tr>\n",
       "      <th>3</th>\n",
       "      <td>AA180115</td>\n",
       "      <td>Ban Dai</td>\n",
       "      <td>Mae Sai</td>\n",
       "      <td>Chiang Rai</td>\n",
       "      <td>2022-12-05</td>\n",
       "      <td>50.000000</td>\n",
       "      <td>100.000000</td>\n",
       "    </tr>\n",
       "    <tr>\n",
       "      <th>4</th>\n",
       "      <td>AA180115</td>\n",
       "      <td>Bang Krut</td>\n",
       "      <td>Ban Pho</td>\n",
       "      <td>Chachoengsao</td>\n",
       "      <td>2022-12-04</td>\n",
       "      <td>42.182964</td>\n",
       "      <td>99.847119</td>\n",
       "    </tr>\n",
       "    <tr>\n",
       "      <th>...</th>\n",
       "      <td>...</td>\n",
       "      <td>...</td>\n",
       "      <td>...</td>\n",
       "      <td>...</td>\n",
       "      <td>...</td>\n",
       "      <td>...</td>\n",
       "      <td>...</td>\n",
       "    </tr>\n",
       "    <tr>\n",
       "      <th>1455</th>\n",
       "      <td>AA180338</td>\n",
       "      <td>Bang Khian</td>\n",
       "      <td>Chum Saeng</td>\n",
       "      <td>Nakhon Sawan</td>\n",
       "      <td>2022-12-03</td>\n",
       "      <td>41.502367</td>\n",
       "      <td>96.261736</td>\n",
       "    </tr>\n",
       "    <tr>\n",
       "      <th>1456</th>\n",
       "      <td>AA180338</td>\n",
       "      <td>Bang Khian</td>\n",
       "      <td>Chum Saeng</td>\n",
       "      <td>Nakhon Sawan</td>\n",
       "      <td>2022-12-05</td>\n",
       "      <td>43.567222</td>\n",
       "      <td>96.949830</td>\n",
       "    </tr>\n",
       "    <tr>\n",
       "      <th>1457</th>\n",
       "      <td>AA180338</td>\n",
       "      <td>Ban Duea</td>\n",
       "      <td>Mueang Nong Khai</td>\n",
       "      <td>Nong Khai</td>\n",
       "      <td>2022-12-02</td>\n",
       "      <td>45.249608</td>\n",
       "      <td>98.674812</td>\n",
       "    </tr>\n",
       "    <tr>\n",
       "      <th>1458</th>\n",
       "      <td>AA180338</td>\n",
       "      <td>Ban Duea</td>\n",
       "      <td>Mueang Nong Khai</td>\n",
       "      <td>Nong Khai</td>\n",
       "      <td>2022-12-03</td>\n",
       "      <td>41.502367</td>\n",
       "      <td>96.261736</td>\n",
       "    </tr>\n",
       "    <tr>\n",
       "      <th>1459</th>\n",
       "      <td>AA180338</td>\n",
       "      <td>Ban Duea</td>\n",
       "      <td>Mueang Nong Khai</td>\n",
       "      <td>Nong Khai</td>\n",
       "      <td>2022-12-05</td>\n",
       "      <td>43.567222</td>\n",
       "      <td>96.949830</td>\n",
       "    </tr>\n",
       "  </tbody>\n",
       "</table>\n",
       "<p>1460 rows × 7 columns</p>\n",
       "</div>"
      ],
      "text/plain": [
       "        device sub_district          district      province   timestamp  \\\n",
       "0     AA180115   Bang Khian        Chum Saeng  Nakhon Sawan  2022-12-04   \n",
       "1     AA180115   Bang Khian        Chum Saeng  Nakhon Sawan  2022-12-05   \n",
       "2     AA180115      Ban Dai           Mae Sai    Chiang Rai  2022-12-04   \n",
       "3     AA180115      Ban Dai           Mae Sai    Chiang Rai  2022-12-05   \n",
       "4     AA180115    Bang Krut           Ban Pho  Chachoengsao  2022-12-04   \n",
       "...        ...          ...               ...           ...         ...   \n",
       "1455  AA180338   Bang Khian        Chum Saeng  Nakhon Sawan  2022-12-03   \n",
       "1456  AA180338   Bang Khian        Chum Saeng  Nakhon Sawan  2022-12-05   \n",
       "1457  AA180338     Ban Duea  Mueang Nong Khai     Nong Khai  2022-12-02   \n",
       "1458  AA180338     Ban Duea  Mueang Nong Khai     Nong Khai  2022-12-03   \n",
       "1459  AA180338     Ban Duea  Mueang Nong Khai     Nong Khai  2022-12-05   \n",
       "\n",
       "      temperature    humidity  \n",
       "0       42.182964   99.847119  \n",
       "1       50.000000  100.000000  \n",
       "2       42.182964   99.847119  \n",
       "3       50.000000  100.000000  \n",
       "4       42.182964   99.847119  \n",
       "...           ...         ...  \n",
       "1455    41.502367   96.261736  \n",
       "1456    43.567222   96.949830  \n",
       "1457    45.249608   98.674812  \n",
       "1458    41.502367   96.261736  \n",
       "1459    43.567222   96.949830  \n",
       "\n",
       "[1460 rows x 7 columns]"
      ]
     },
     "execution_count": 133,
     "metadata": {},
     "output_type": "execute_result"
    }
   ],
   "source": [
    "not_in_brangkruai = test_wa.loc[~(test_wa['device'].isin(test_ja[test_ja[\"sub_district\"] == \"Bang Kruai\"][\"device\"].unique()))]\n",
    "not_in_brangkruai = not_in_brangkruai.groupby(['device', 'id', 'sub_district', 'district', 'province', 'timestamp']).mean().reset_index()\n",
    "not_in_brangkruai.drop(columns = [\"outlier\", \"outlier_2\", \"id\"])"
   ]
  },
  {
   "cell_type": "code",
   "execution_count": null,
   "id": "6b144268-697f-4214-9d49-1085905a38ac",
   "metadata": {},
   "outputs": [],
   "source": []
  },
  {
   "cell_type": "code",
   "execution_count": null,
   "id": "edff8405-27a0-43c1-9392-1a3b8e4033eb",
   "metadata": {},
   "outputs": [],
   "source": []
  }
 ],
 "metadata": {
  "kernelspec": {
   "display_name": "Python 3 (ipykernel)",
   "language": "python",
   "name": "python3"
  },
  "language_info": {
   "codemirror_mode": {
    "name": "ipython",
    "version": 3
   },
   "file_extension": ".py",
   "mimetype": "text/x-python",
   "name": "python",
   "nbconvert_exporter": "python",
   "pygments_lexer": "ipython3",
   "version": "3.9.13"
  }
 },
 "nbformat": 4,
 "nbformat_minor": 5
}
