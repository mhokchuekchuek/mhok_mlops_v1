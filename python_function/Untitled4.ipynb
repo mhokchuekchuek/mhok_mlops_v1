{
 "cells": [
  {
   "cell_type": "code",
   "execution_count": 2,
   "id": "0a6a5add-d2bd-4730-89b1-fd58e2c73557",
   "metadata": {},
   "outputs": [],
   "source": [
    "import pandas as pd\n",
    "global_ex = pd.read_csv(\"/model_interpret/global.csv\").drop(columns = [\"Unnamed: 0\"])\n",
    "feature_importance_plot= pd.DataFrame(global_ex.mean().sort_values()).reset_index().rename(columns={\"index\": \"feature\", 0: \"lime_values\"})"
   ]
  },
  {
   "cell_type": "code",
   "execution_count": 6,
   "id": "87be5dde-0ca1-4d50-aaf6-deda0f150003",
   "metadata": {},
   "outputs": [
    {
     "data": {
      "text/html": [
       "<div>\n",
       "<style scoped>\n",
       "    .dataframe tbody tr th:only-of-type {\n",
       "        vertical-align: middle;\n",
       "    }\n",
       "\n",
       "    .dataframe tbody tr th {\n",
       "        vertical-align: top;\n",
       "    }\n",
       "\n",
       "    .dataframe thead th {\n",
       "        text-align: right;\n",
       "    }\n",
       "</style>\n",
       "<table border=\"1\" class=\"dataframe\">\n",
       "  <thead>\n",
       "    <tr style=\"text-align: right;\">\n",
       "      <th></th>\n",
       "      <th>feature</th>\n",
       "      <th>lime_values</th>\n",
       "    </tr>\n",
       "  </thead>\n",
       "  <tbody>\n",
       "    <tr>\n",
       "      <th>59</th>\n",
       "      <td>L.P.N. Development - แอล.พี.เอ็น.ดีเวลลอปเม้นท...</td>\n",
       "      <td>0.0</td>\n",
       "    </tr>\n",
       "  </tbody>\n",
       "</table>\n",
       "</div>"
      ],
      "text/plain": [
       "                                              feature  lime_values\n",
       "59  L.P.N. Development - แอล.พี.เอ็น.ดีเวลลอปเม้นท...          0.0"
      ]
     },
     "execution_count": 6,
     "metadata": {},
     "output_type": "execute_result"
    }
   ],
   "source": [
    "feature_importance_plot[feature_importance_plot[\"feature\"] == \"L.P.N. Development - แอล.พี.เอ็น.ดีเวลลอปเม้นท์ จำกัด (มหาชน)\"]"
   ]
  },
  {
   "cell_type": "code",
   "execution_count": 17,
   "id": "61afc715-ad14-4ce6-9e6e-e755dbfc5dbf",
   "metadata": {},
   "outputs": [],
   "source": [
    "feature_importance_plot_sort = pd.DataFrame(abs(global_ex.mean()).sort_values(ascending = False)).reset_index().rename(columns={\"index\": \"feature\", 0: \"lime_values\"})[\"feature\"].values[:15]"
   ]
  },
  {
   "cell_type": "code",
   "execution_count": 19,
   "id": "03a3255a-b8a7-42f2-bc00-b5c7af6d1e46",
   "metadata": {},
   "outputs": [
    {
     "data": {
      "text/plain": [
       "['Multi-purpose hall',\n",
       " 'BTS_distance',\n",
       " 'MRT_distance',\n",
       " 'no',\n",
       " 'BRT_distance',\n",
       " 'Sky Lounge',\n",
       " 'car park',\n",
       " 'Sathon',\n",
       " 'Ratchathewi',\n",
       " 'APL_distance',\n",
       " 'High Floor',\n",
       " 'Washing Machine',\n",
       " 'Jacuzzi',\n",
       " 'Private Garden',\n",
       " 'fitness']"
      ]
     },
     "execution_count": 19,
     "metadata": {},
     "output_type": "execute_result"
    }
   ],
   "source": [
    "list(feature_importance_plot_sort)"
   ]
  },
  {
   "cell_type": "code",
   "execution_count": null,
   "id": "6582aeee-6227-42b9-8300-d4ab54b20632",
   "metadata": {},
   "outputs": [],
   "source": []
  }
 ],
 "metadata": {
  "kernelspec": {
   "display_name": "Python 3 (ipykernel)",
   "language": "python",
   "name": "python3"
  },
  "language_info": {
   "codemirror_mode": {
    "name": "ipython",
    "version": 3
   },
   "file_extension": ".py",
   "mimetype": "text/x-python",
   "name": "python",
   "nbconvert_exporter": "python",
   "pygments_lexer": "ipython3",
   "version": "3.9.13"
  }
 },
 "nbformat": 4,
 "nbformat_minor": 5
}
