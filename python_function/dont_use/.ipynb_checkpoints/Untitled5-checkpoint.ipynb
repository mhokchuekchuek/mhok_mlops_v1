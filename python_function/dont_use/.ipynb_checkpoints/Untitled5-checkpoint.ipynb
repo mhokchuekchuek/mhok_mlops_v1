{
 "cells": [
  {
   "cell_type": "code",
   "execution_count": 9,
   "id": "2ca29919-6f85-44c0-bb00-d4e9fbe72b16",
   "metadata": {},
   "outputs": [
    {
     "data": {
      "text/plain": [
       "2"
      ]
     },
     "execution_count": 9,
     "metadata": {},
     "output_type": "execute_result"
    }
   ],
   "source": [
    "import joblib\n",
    "len(joblib.load(\"/save_pipeline/pipeline_27_12_22_17:38:17.pkl\").transformers)"
   ]
  },
  {
   "cell_type": "code",
   "execution_count": 50,
   "id": "8b2b7467-bc21-4e08-af3d-6ae76d9c7efc",
   "metadata": {
    "tags": []
   },
   "outputs": [],
   "source": [
    "preprocessor = joblib.load(\"/save_pipeline/pipeline_27_12_22_17:38:17.pkl\")\n",
    "\n",
    "all_columns = []\n",
    "cat_feature = []\n",
    "for i in range(len(preprocessor.transformers)):\n",
    "    if preprocessor.transformers[i][0] == \"num\":\n",
    "        all_columns.extend(preprocessor.transformers[i][2])\n",
    "    else:\n",
    "        all_columns.extend(preprocessor.transformers[1][2])\n",
    "        cat_feature.append(preprocessor.transformers[1][2])"
   ]
  },
  {
   "cell_type": "code",
   "execution_count": 49,
   "id": "ed6cc8ef-e249-4e63-8496-489bc2e88aae",
   "metadata": {},
   "outputs": [
    {
     "data": {
      "text/plain": [
       "('cat',\n",
       " Pipeline(steps=[('one_hot', OneHotEncoder(handle_unknown='ignore'))]),\n",
       " ['developer', 'district'])"
      ]
     },
     "execution_count": 49,
     "metadata": {},
     "output_type": "execute_result"
    }
   ],
   "source": [
    "preprocessor.transformers[1]"
   ]
  },
  {
   "cell_type": "code",
   "execution_count": 53,
   "id": "97168d48-8154-4716-bc84-b21d9002ba93",
   "metadata": {},
   "outputs": [
    {
     "data": {
      "text/plain": [
       "StandardScaler()"
      ]
     },
     "execution_count": 53,
     "metadata": {},
     "output_type": "execute_result"
    }
   ],
   "source": [
    "preprocessor.transformers[0][1].steps[1][1]"
   ]
  },
  {
   "cell_type": "code",
   "execution_count": 54,
   "id": "b9963ee0-a876-4457-aa14-af966b4647de",
   "metadata": {},
   "outputs": [
    {
     "data": {
      "text/plain": [
       "ColumnTransformer(transformers=[('num',\n",
       "                                 Pipeline(steps=[('imputer',\n",
       "                                                  SimpleImputer(strategy='median')),\n",
       "                                                 ('scaler', StandardScaler())]),\n",
       "                                 ['bedroom', 'bathroom', 'sqm', 'built_year',\n",
       "                                  'luxuary', 'public', 'BRT_distance',\n",
       "                                  'BTS_distance', 'MRT_distance',\n",
       "                                  'APL_distance', 'Air-Conditioning',\n",
       "                                  'Audio System', 'BBQ pits',\n",
       "                                  'Basketball court', 'Bathtub', 'Bed',\n",
       "                                  'Billiards room', 'Broadband Internet',\n",
       "                                  'Club', 'Clubhouse', 'Colonial Building',\n",
       "                                  'Corner Unit', 'DVD Player', 'Dishwasher',\n",
       "                                  'Driving range', 'Dryer', 'Fridge',\n",
       "                                  'Function room', 'Game room', 'Ground Floor', ...]),\n",
       "                                ('cat',\n",
       "                                 Pipeline(steps=[('one_hot',\n",
       "                                                  OneHotEncoder(handle_unknown='ignore'))]),\n",
       "                                 ['developer', 'district'])])"
      ]
     },
     "execution_count": 54,
     "metadata": {},
     "output_type": "execute_result"
    }
   ],
   "source": [
    "preprocessor"
   ]
  },
  {
   "cell_type": "code",
   "execution_count": 56,
   "id": "36e4d054-ceeb-4833-a641-b81f1e55201b",
   "metadata": {},
   "outputs": [],
   "source": [
    "import pandas as pd\n",
    "X_test = pd.read_csv(\"/ml_data/X_test.csv\").drop(columns = \"Unnamed: 0\")"
   ]
  },
  {
   "cell_type": "code",
   "execution_count": 74,
   "id": "592001f0-9323-48f7-b1d5-8c54a95fecc8",
   "metadata": {},
   "outputs": [],
   "source": [
    "preprocessor = preprocessor.fit(X_test)"
   ]
  },
  {
   "cell_type": "code",
   "execution_count": 75,
   "id": "8774b055-a33c-4130-b534-70ed099032dd",
   "metadata": {},
   "outputs": [
    {
     "ename": "AttributeError",
     "evalue": "'Pipeline' object has no attribute 'categories_'",
     "output_type": "error",
     "traceback": [
      "\u001b[0;31m---------------------------------------------------------------------------\u001b[0m",
      "\u001b[0;31mAttributeError\u001b[0m                            Traceback (most recent call last)",
      "\u001b[0;32m/tmp/ipykernel_43/2584773580.py\u001b[0m in \u001b[0;36m<module>\u001b[0;34m\u001b[0m\n\u001b[1;32m      5\u001b[0m         \u001b[0mall_columns\u001b[0m\u001b[0;34m.\u001b[0m\u001b[0mextend\u001b[0m\u001b[0;34m(\u001b[0m\u001b[0mpreprocessor\u001b[0m\u001b[0;34m.\u001b[0m\u001b[0mtransformers\u001b[0m\u001b[0;34m[\u001b[0m\u001b[0mi\u001b[0m\u001b[0;34m]\u001b[0m\u001b[0;34m[\u001b[0m\u001b[0;36m2\u001b[0m\u001b[0;34m]\u001b[0m\u001b[0;34m)\u001b[0m\u001b[0;34m\u001b[0m\u001b[0;34m\u001b[0m\u001b[0m\n\u001b[1;32m      6\u001b[0m     \u001b[0;32melse\u001b[0m\u001b[0;34m:\u001b[0m\u001b[0;34m\u001b[0m\u001b[0;34m\u001b[0m\u001b[0m\n\u001b[0;32m----> 7\u001b[0;31m         \u001b[0;32mfor\u001b[0m \u001b[0mj\u001b[0m \u001b[0;32min\u001b[0m \u001b[0mrange\u001b[0m\u001b[0;34m(\u001b[0m\u001b[0mlen\u001b[0m\u001b[0;34m(\u001b[0m\u001b[0mpreprocessor\u001b[0m\u001b[0;34m.\u001b[0m\u001b[0mtransformers_\u001b[0m\u001b[0;34m[\u001b[0m\u001b[0;36m1\u001b[0m\u001b[0;34m]\u001b[0m\u001b[0;34m[\u001b[0m\u001b[0;36m1\u001b[0m\u001b[0;34m]\u001b[0m\u001b[0;34m.\u001b[0m\u001b[0mcategories_\u001b[0m\u001b[0;34m)\u001b[0m\u001b[0;34m)\u001b[0m\u001b[0;34m:\u001b[0m\u001b[0;34m\u001b[0m\u001b[0;34m\u001b[0m\u001b[0m\n\u001b[0m\u001b[1;32m      8\u001b[0m             \u001b[0mall_columns\u001b[0m\u001b[0;34m.\u001b[0m\u001b[0mextend\u001b[0m\u001b[0;34m(\u001b[0m\u001b[0mlist\u001b[0m\u001b[0;34m(\u001b[0m\u001b[0mpreprocessor\u001b[0m\u001b[0;34m.\u001b[0m\u001b[0mtransformers_\u001b[0m\u001b[0;34m[\u001b[0m\u001b[0;36m1\u001b[0m\u001b[0;34m]\u001b[0m\u001b[0;34m[\u001b[0m\u001b[0;36m1\u001b[0m\u001b[0;34m]\u001b[0m\u001b[0;34m.\u001b[0m\u001b[0mcategories_\u001b[0m\u001b[0;34m[\u001b[0m\u001b[0mj\u001b[0m\u001b[0;34m]\u001b[0m\u001b[0;34m)\u001b[0m\u001b[0;34m)\u001b[0m\u001b[0;34m\u001b[0m\u001b[0;34m\u001b[0m\u001b[0m\n\u001b[1;32m      9\u001b[0m             \u001b[0mcat_feature\u001b[0m\u001b[0;34m.\u001b[0m\u001b[0mappend\u001b[0m\u001b[0;34m(\u001b[0m\u001b[0mlist\u001b[0m\u001b[0;34m(\u001b[0m\u001b[0mpreprocessor\u001b[0m\u001b[0;34m.\u001b[0m\u001b[0mtransformers_\u001b[0m\u001b[0;34m[\u001b[0m\u001b[0;36m1\u001b[0m\u001b[0;34m]\u001b[0m\u001b[0;34m[\u001b[0m\u001b[0;36m1\u001b[0m\u001b[0;34m]\u001b[0m\u001b[0;34m.\u001b[0m\u001b[0mcategories_\u001b[0m\u001b[0;34m[\u001b[0m\u001b[0mj\u001b[0m\u001b[0;34m]\u001b[0m\u001b[0;34m)\u001b[0m\u001b[0;34m)\u001b[0m\u001b[0;34m\u001b[0m\u001b[0;34m\u001b[0m\u001b[0m\n",
      "\u001b[0;31mAttributeError\u001b[0m: 'Pipeline' object has no attribute 'categories_'"
     ]
    }
   ],
   "source": [
    "all_columns = []\n",
    "cat_feature = []\n",
    "for i in range(len(preprocessor.transformers_)):\n",
    "    if preprocessor.transformers_[i][0] == \"num\":\n",
    "        all_columns.extend(preprocessor.transformers[i][2])\n",
    "    else:\n",
    "        for j in preprocessor.transformers_[1][1].steps:\n",
    "            for array_ja in preprocessor.transformers_[1][1].steps[j][1].categories_:\n",
    "            all_columns.extend(list(array_ja))\n",
    "            cat_feature.append(list(array_ja))"
   ]
  },
  {
   "cell_type": "code",
   "execution_count": 91,
   "id": "6a9ff01a-c27f-4c62-bd51-9a80682babbb",
   "metadata": {},
   "outputs": [
    {
     "data": {
      "text/plain": [
       "[('one_hot', OneHotEncoder(handle_unknown='ignore'))]"
      ]
     },
     "execution_count": 91,
     "metadata": {},
     "output_type": "execute_result"
    }
   ],
   "source": [
    "preprocessor.transformers_[1][1].steps"
   ]
  },
  {
   "cell_type": "code",
   "execution_count": 97,
   "id": "8e786047-8a1c-4627-91c6-64dd6d63df2f",
   "metadata": {},
   "outputs": [
    {
     "data": {
      "text/plain": [
       "array(['AP Thailand - เอพี (ไทยแลนด์) จำกัด (มหาชน)',\n",
       "       'Ananda Development - อนันดา ดีเวลลอปเม้นท์ จํากัด (มหาชน)',\n",
       "       'L.P.N. Development - แอล.พี.เอ็น.ดีเวลลอปเม้นท์ จำกัด (มหาชน)',\n",
       "       'Land and Houses - แลนด์ แอนด์ เฮ้าส์ จำกัด (มหาชน)',\n",
       "       'Magnolia Quality Development - แมกโนเลีย ควอลิตี้ ดีเวล็อปเม้นต์ คอร์ปอเรชั่น จำกัด',\n",
       "       'Major Development - เมเจอร์ ดีเวลลอปเม้นท์ จำกัด (มหาชน)',\n",
       "       'Noble Development - โนเบิล ดีเวลลอปเมนท์ จำกัด (มหาชน)',\n",
       "       'Pace Development - เพซ ดีเวลลอปเมนท์ คอร์ปอเรชั่น จำกัด (มหาชน)',\n",
       "       'Pruksa Real Estate - พฤกษา เรียลเอสเตท จำกัด (มหาชน)',\n",
       "       'Quality Houses - ควอลิตี้ เฮ้าส์ จำกัด (มหาชน)',\n",
       "       'Raimon Land - ไรมอน แลนด์ จำกัด (มหาชน)',\n",
       "       'SC Asset - เอสซี แอสเสท คอร์ปอเรชั่น จำกัด (มหาชน)',\n",
       "       'Sansiri - แสนสิริ จำกัด (มหาชน)',\n",
       "       'Supalai - ศุภาลัย จำกัด (มหาชน)',\n",
       "       'TCC Capital land - ทีซีซี แคปปิตอล แลนด์ จำกัด',\n",
       "       'The Icon Siam Superlux Residence - ดิ ไอคอนสยาม ซูเปอร์ลักซ์ เรสซิเดนซ์ คอร์ปอเรชั่น จำกัด',\n",
       "       'no'], dtype=object)"
      ]
     },
     "execution_count": 97,
     "metadata": {},
     "output_type": "execute_result"
    }
   ],
   "source": [
    "preprocessor.transformers_[1][1].steps[0][1].categories_[0]"
   ]
  },
  {
   "cell_type": "code",
   "execution_count": null,
   "id": "812965cc-d19d-43f7-bbb9-fd26404568bf",
   "metadata": {},
   "outputs": [],
   "source": []
  }
 ],
 "metadata": {
  "kernelspec": {
   "display_name": "Python 3 (ipykernel)",
   "language": "python",
   "name": "python3"
  },
  "language_info": {
   "codemirror_mode": {
    "name": "ipython",
    "version": 3
   },
   "file_extension": ".py",
   "mimetype": "text/x-python",
   "name": "python",
   "nbconvert_exporter": "python",
   "pygments_lexer": "ipython3",
   "version": "3.9.13"
  }
 },
 "nbformat": 4,
 "nbformat_minor": 5
}
