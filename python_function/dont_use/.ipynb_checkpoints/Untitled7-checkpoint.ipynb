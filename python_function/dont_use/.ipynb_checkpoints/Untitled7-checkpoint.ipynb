{
 "cells": [
  {
   "cell_type": "code",
   "execution_count": 1,
   "id": "d19defff-e5e1-4de3-8568-d5a2ebc83b52",
   "metadata": {},
   "outputs": [],
   "source": [
    "import numpy as np\n",
    "import warnings\n",
    "from tqdm import tqdm\n",
    "import shap\n",
    "import pandas as pd\n",
    "import joblib\n",
    "import shap\n",
    "\n",
    "X_test = pd.read_csv(\"/ml_data/X_test.csv\").drop(columns = \"Unnamed: 0\")\n",
    "X_test[\"built_year\"] = X_test[\"built_year\"].astype(str)\n",
    "y_test = pd.read_csv(\"/ml_data/y_test.csv\").drop(columns = \"Unnamed: 0\")\n",
    "X_train_1 = pd.read_csv(\"/ml_data/transform.csv\").drop(columns = [\"Unnamed: 0\"])\n",
    "feature_names = list(X_test.columns)\n",
    "model = joblib.load(\"/artifact/mlruns/286978358198217900/1e69c74027c745b6819ce40a8f6de458/artifacts/model/model.pkl\")\n",
    "preprocessor_1 = joblib.load(\"/save_pipeline/pipeline_09_01_23_02:13:43.pkl\")\n",
    "preprocessor_1_ = joblib.load(\"/save_pipeline/pipeline_09_01_23_02:13:43.pkl\")\n",
    "preprocessor_2 = preprocessor_1_.fit(X_test)\n",
    "\n",
    "def check_cols(preprocessor):\n",
    "    all_columns = []\n",
    "    for i in range(len(preprocessor.transformers_)):\n",
    "        if preprocessor.transformers_[i][0] == \"num\":\n",
    "            all_columns.extend(preprocessor.transformers[i][2])\n",
    "        else:\n",
    "            for j in range(len(preprocessor.transformers_[1][1].steps)):\n",
    "                for array_ja in preprocessor.transformers_[1][1].steps[j][1].categories_:\n",
    "                    all_columns.extend(list(array_ja))\n",
    "    return all_columns\n",
    "\n",
    "def check_type(df)-> list[str]:\n",
    "    df_columns = list(df.columns)\n",
    "    numeric = []\n",
    "    catagories = []\n",
    "    for values in df.columns:\n",
    "        if df[values].dtypes == int or df[values].dtypes == float or df[values].dtypes == 'uint8':\n",
    "            numeric.append(values)\n",
    "        else:\n",
    "            catagories.append(values)\n",
    "    return numeric\n",
    "\n",
    "def insert_cols(prepro_1, prepro_2):\n",
    "    num = []\n",
    "    j = -1\n",
    "    a = check_cols(prepro_1)\n",
    "    b= check_cols(prepro_2)\n",
    "    if len(a) > len(b):\n",
    "        for i in a:\n",
    "            j += 1\n",
    "            if i not in b:\n",
    "                num.append(j)\n",
    "    else:\n",
    "        for i in b:\n",
    "            j += 1\n",
    "            if i not in a:\n",
    "                num.append(j)\n",
    "    return num\n",
    "\n",
    "\n",
    "def save_to_csv():\n",
    "    all_columns = check_cols(preprocessor_1)\n",
    "    explainer = shap.TreeExplainer(model[0] ,feature_names = all_columns)\n",
    "    count_num = len(check_type(X_test))\n",
    "    for_pandas = preprocessor_1.fit_transform(X_test)\n",
    "    X_test_ja = pd.DataFrame(np.insert(for_pandas, insert_cols(preprocessor_1, preprocessor_2), 0, axis = 1), columns = all_columns)\n",
    "    X_test_ja.iloc[:,:count_num] = preprocessor_1.transformers_[0][1].steps[1][1].inverse_transform(X_test_ja.iloc[:,:count_num])\n",
    "    shap_values = explainer.shap_values(np.insert(for_pandas, insert_cols(preprocessor_1, preprocessor_2), 0, axis = 1), y = y_test.values)\n",
    "    global_values = pd.DataFrame(np.reshape(sum(np.abs(shap_values))/len(sum(np.abs(shap_values))), newshape = (1,-1)), columns = all_columns)\n",
    "    train_dependency_values = pd.DataFrame(np.abs(shap_values), columns = [\"importance_values_\" + i for i in all_columns])\n",
    "    pd.concat([train_dependency_values, X_test_ja], axis = 1).to_csv(\"/model_interpret/local.csv\")\n",
    "    global_values.to_csv(\"/model_interpret/global.csv\")\n"
   ]
  },
  {
   "cell_type": "code",
   "execution_count": 3,
   "id": "c23081ea-0d36-47cd-8181-a16ccf3fd89b",
   "metadata": {},
   "outputs": [
    {
     "data": {
      "text/plain": [
       "138"
      ]
     },
     "execution_count": 3,
     "metadata": {},
     "output_type": "execute_result"
    }
   ],
   "source": [
    "len(check_cols(preprocessor_1))\n",
    "# insert_cols(preprocessor_1, preprocessor_2)"
   ]
  },
  {
   "cell_type": "code",
   "execution_count": 10,
   "id": "8853173b-16b0-4318-a28d-2e32b195fb81",
   "metadata": {},
   "outputs": [
    {
     "data": {
      "text/plain": [
       "134"
      ]
     },
     "execution_count": 10,
     "metadata": {},
     "output_type": "execute_result"
    }
   ],
   "source": [
    "len(check_cols(preprocessor_2))"
   ]
  },
  {
   "cell_type": "code",
   "execution_count": 11,
   "id": "39cba3bb-8a38-41c9-9dc9-d017a53a4d4c",
   "metadata": {},
   "outputs": [
    {
     "ename": "AttributeError",
     "evalue": "'list' object has no attribute 'transformers_'",
     "output_type": "error",
     "traceback": [
      "\u001b[0;31m---------------------------------------------------------------------------\u001b[0m",
      "\u001b[0;31mAttributeError\u001b[0m                            Traceback (most recent call last)",
      "\u001b[0;32m/tmp/ipykernel_255/837157143.py\u001b[0m in \u001b[0;36m<module>\u001b[0;34m\u001b[0m\n\u001b[1;32m      3\u001b[0m \u001b[0mcount_num\u001b[0m \u001b[0;34m=\u001b[0m \u001b[0mlen\u001b[0m\u001b[0;34m(\u001b[0m\u001b[0mcheck_type\u001b[0m\u001b[0;34m(\u001b[0m\u001b[0mX_test\u001b[0m\u001b[0;34m)\u001b[0m\u001b[0;34m)\u001b[0m\u001b[0;34m\u001b[0m\u001b[0;34m\u001b[0m\u001b[0m\n\u001b[1;32m      4\u001b[0m \u001b[0mfor_pandas\u001b[0m \u001b[0;34m=\u001b[0m \u001b[0mpreprocessor_1\u001b[0m\u001b[0;34m.\u001b[0m\u001b[0mfit_transform\u001b[0m\u001b[0;34m(\u001b[0m\u001b[0mX_test\u001b[0m\u001b[0;34m)\u001b[0m\u001b[0;34m\u001b[0m\u001b[0;34m\u001b[0m\u001b[0m\n\u001b[0;32m----> 5\u001b[0;31m \u001b[0mX_test_ja\u001b[0m \u001b[0;34m=\u001b[0m \u001b[0mpd\u001b[0m\u001b[0;34m.\u001b[0m\u001b[0mDataFrame\u001b[0m\u001b[0;34m(\u001b[0m\u001b[0mnp\u001b[0m\u001b[0;34m.\u001b[0m\u001b[0minsert\u001b[0m\u001b[0;34m(\u001b[0m\u001b[0mfor_pandas\u001b[0m\u001b[0;34m,\u001b[0m \u001b[0minsert_cols\u001b[0m\u001b[0;34m(\u001b[0m\u001b[0mpreprocessor_1\u001b[0m\u001b[0;34m,\u001b[0m \u001b[0mpreprocessor_2\u001b[0m\u001b[0;34m)\u001b[0m\u001b[0;34m,\u001b[0m \u001b[0;36m0\u001b[0m\u001b[0;34m,\u001b[0m \u001b[0maxis\u001b[0m \u001b[0;34m=\u001b[0m \u001b[0;36m1\u001b[0m\u001b[0;34m)\u001b[0m\u001b[0;34m,\u001b[0m \u001b[0mcolumns\u001b[0m \u001b[0;34m=\u001b[0m \u001b[0mall_columns\u001b[0m\u001b[0;34m)\u001b[0m\u001b[0;34m\u001b[0m\u001b[0;34m\u001b[0m\u001b[0m\n\u001b[0m\u001b[1;32m      6\u001b[0m \u001b[0mX_test_ja\u001b[0m\u001b[0;34m.\u001b[0m\u001b[0miloc\u001b[0m\u001b[0;34m[\u001b[0m\u001b[0;34m:\u001b[0m\u001b[0;34m,\u001b[0m\u001b[0;34m:\u001b[0m\u001b[0mcount_num\u001b[0m\u001b[0;34m]\u001b[0m \u001b[0;34m=\u001b[0m \u001b[0mpreprocessor_1\u001b[0m\u001b[0;34m.\u001b[0m\u001b[0mtransformers_\u001b[0m\u001b[0;34m[\u001b[0m\u001b[0;36m0\u001b[0m\u001b[0;34m]\u001b[0m\u001b[0;34m[\u001b[0m\u001b[0;36m1\u001b[0m\u001b[0;34m]\u001b[0m\u001b[0;34m.\u001b[0m\u001b[0msteps\u001b[0m\u001b[0;34m[\u001b[0m\u001b[0;36m1\u001b[0m\u001b[0;34m]\u001b[0m\u001b[0;34m[\u001b[0m\u001b[0;36m1\u001b[0m\u001b[0;34m]\u001b[0m\u001b[0;34m.\u001b[0m\u001b[0minverse_transform\u001b[0m\u001b[0;34m(\u001b[0m\u001b[0mX_test_ja\u001b[0m\u001b[0;34m.\u001b[0m\u001b[0miloc\u001b[0m\u001b[0;34m[\u001b[0m\u001b[0;34m:\u001b[0m\u001b[0;34m,\u001b[0m\u001b[0;34m:\u001b[0m\u001b[0mcount_num\u001b[0m\u001b[0;34m]\u001b[0m\u001b[0;34m)\u001b[0m\u001b[0;34m\u001b[0m\u001b[0;34m\u001b[0m\u001b[0m\n\u001b[1;32m      7\u001b[0m \u001b[0mshap_values\u001b[0m \u001b[0;34m=\u001b[0m \u001b[0mexplainer\u001b[0m\u001b[0;34m.\u001b[0m\u001b[0mshap_values\u001b[0m\u001b[0;34m(\u001b[0m\u001b[0mnp\u001b[0m\u001b[0;34m.\u001b[0m\u001b[0minsert\u001b[0m\u001b[0;34m(\u001b[0m\u001b[0mfor_pandas\u001b[0m\u001b[0;34m,\u001b[0m \u001b[0minsert_cols\u001b[0m\u001b[0;34m(\u001b[0m\u001b[0mpreprocessor_1\u001b[0m\u001b[0;34m,\u001b[0m \u001b[0mpreprocessor_2\u001b[0m\u001b[0;34m)\u001b[0m\u001b[0;34m,\u001b[0m \u001b[0;36m0\u001b[0m\u001b[0;34m,\u001b[0m \u001b[0maxis\u001b[0m \u001b[0;34m=\u001b[0m \u001b[0;36m1\u001b[0m\u001b[0;34m)\u001b[0m\u001b[0;34m,\u001b[0m \u001b[0my\u001b[0m \u001b[0;34m=\u001b[0m \u001b[0my_test\u001b[0m\u001b[0;34m.\u001b[0m\u001b[0mvalues\u001b[0m\u001b[0;34m)\u001b[0m\u001b[0;34m\u001b[0m\u001b[0;34m\u001b[0m\u001b[0m\n",
      "\u001b[0;32m/tmp/ipykernel_255/1632674994.py\u001b[0m in \u001b[0;36minsert_cols\u001b[0;34m(prepro_1, prepro_2)\u001b[0m\n\u001b[1;32m     50\u001b[0m                 \u001b[0mnum\u001b[0m\u001b[0;34m.\u001b[0m\u001b[0mappend\u001b[0m\u001b[0;34m(\u001b[0m\u001b[0mj\u001b[0m\u001b[0;34m)\u001b[0m\u001b[0;34m\u001b[0m\u001b[0;34m\u001b[0m\u001b[0m\n\u001b[1;32m     51\u001b[0m     \u001b[0;32melse\u001b[0m\u001b[0;34m:\u001b[0m\u001b[0;34m\u001b[0m\u001b[0;34m\u001b[0m\u001b[0m\n\u001b[0;32m---> 52\u001b[0;31m         \u001b[0;32mfor\u001b[0m \u001b[0mi\u001b[0m \u001b[0;32min\u001b[0m \u001b[0mcheck_cols\u001b[0m\u001b[0;34m(\u001b[0m\u001b[0mb\u001b[0m\u001b[0;34m)\u001b[0m\u001b[0;34m:\u001b[0m\u001b[0;34m\u001b[0m\u001b[0;34m\u001b[0m\u001b[0m\n\u001b[0m\u001b[1;32m     53\u001b[0m             \u001b[0mj\u001b[0m \u001b[0;34m+=\u001b[0m \u001b[0;36m1\u001b[0m\u001b[0;34m\u001b[0m\u001b[0;34m\u001b[0m\u001b[0m\n\u001b[1;32m     54\u001b[0m             \u001b[0;32mif\u001b[0m \u001b[0mi\u001b[0m \u001b[0;32mnot\u001b[0m \u001b[0;32min\u001b[0m \u001b[0mcheck_cols\u001b[0m\u001b[0;34m(\u001b[0m\u001b[0ma\u001b[0m\u001b[0;34m)\u001b[0m\u001b[0;34m:\u001b[0m\u001b[0;34m\u001b[0m\u001b[0;34m\u001b[0m\u001b[0m\n",
      "\u001b[0;32m/tmp/ipykernel_255/1632674994.py\u001b[0m in \u001b[0;36mcheck_cols\u001b[0;34m(preprocessor)\u001b[0m\n\u001b[1;32m     19\u001b[0m \u001b[0;32mdef\u001b[0m \u001b[0mcheck_cols\u001b[0m\u001b[0;34m(\u001b[0m\u001b[0mpreprocessor\u001b[0m\u001b[0;34m)\u001b[0m\u001b[0;34m:\u001b[0m\u001b[0;34m\u001b[0m\u001b[0;34m\u001b[0m\u001b[0m\n\u001b[1;32m     20\u001b[0m     \u001b[0mall_columns\u001b[0m \u001b[0;34m=\u001b[0m \u001b[0;34m[\u001b[0m\u001b[0;34m]\u001b[0m\u001b[0;34m\u001b[0m\u001b[0;34m\u001b[0m\u001b[0m\n\u001b[0;32m---> 21\u001b[0;31m     \u001b[0;32mfor\u001b[0m \u001b[0mi\u001b[0m \u001b[0;32min\u001b[0m \u001b[0mrange\u001b[0m\u001b[0;34m(\u001b[0m\u001b[0mlen\u001b[0m\u001b[0;34m(\u001b[0m\u001b[0mpreprocessor\u001b[0m\u001b[0;34m.\u001b[0m\u001b[0mtransformers_\u001b[0m\u001b[0;34m)\u001b[0m\u001b[0;34m)\u001b[0m\u001b[0;34m:\u001b[0m\u001b[0;34m\u001b[0m\u001b[0;34m\u001b[0m\u001b[0m\n\u001b[0m\u001b[1;32m     22\u001b[0m         \u001b[0;32mif\u001b[0m \u001b[0mpreprocessor\u001b[0m\u001b[0;34m.\u001b[0m\u001b[0mtransformers_\u001b[0m\u001b[0;34m[\u001b[0m\u001b[0mi\u001b[0m\u001b[0;34m]\u001b[0m\u001b[0;34m[\u001b[0m\u001b[0;36m0\u001b[0m\u001b[0;34m]\u001b[0m \u001b[0;34m==\u001b[0m \u001b[0;34m\"num\"\u001b[0m\u001b[0;34m:\u001b[0m\u001b[0;34m\u001b[0m\u001b[0;34m\u001b[0m\u001b[0m\n\u001b[1;32m     23\u001b[0m             \u001b[0mall_columns\u001b[0m\u001b[0;34m.\u001b[0m\u001b[0mextend\u001b[0m\u001b[0;34m(\u001b[0m\u001b[0mpreprocessor\u001b[0m\u001b[0;34m.\u001b[0m\u001b[0mtransformers\u001b[0m\u001b[0;34m[\u001b[0m\u001b[0mi\u001b[0m\u001b[0;34m]\u001b[0m\u001b[0;34m[\u001b[0m\u001b[0;36m2\u001b[0m\u001b[0;34m]\u001b[0m\u001b[0;34m)\u001b[0m\u001b[0;34m\u001b[0m\u001b[0;34m\u001b[0m\u001b[0m\n",
      "\u001b[0;31mAttributeError\u001b[0m: 'list' object has no attribute 'transformers_'"
     ]
    }
   ],
   "source": [
    "all_columns = check_cols(preprocessor_1)\n",
    "explainer = shap.TreeExplainer(model[0] ,feature_names = all_columns)\n",
    "count_num = len(check_type(X_test))\n",
    "for_pandas = preprocessor_1.fit_transform(X_test)\n",
    "X_test_ja = pd.DataFrame(np.insert(for_pandas, insert_cols(preprocessor_1, preprocessor_2), 0, axis = 1), columns = all_columns)\n",
    "X_test_ja.iloc[:,:count_num] = preprocessor_1.transformers_[0][1].steps[1][1].inverse_transform(X_test_ja.iloc[:,:count_num])\n",
    "shap_values = explainer.shap_values(np.insert(for_pandas, insert_cols(preprocessor_1, preprocessor_2), 0, axis = 1), y = y_test.values)\n",
    "global_values = pd.DataFrame(np.reshape(sum(np.abs(shap_values))/len(sum(np.abs(shap_values))), newshape = (1,-1)), columns = all_columns)\n",
    "train_dependency_values = pd.DataFrame(np.abs(shap_values), columns = [\"importance_values_\" + i for i in all_columns])\n",
    "pd.concat([train_dependency_values, X_test_ja], axis = 1).to_csv(\"/model_interpret/local.csv\")\n",
    "global_values.to_csv(\"/model_interpret/global.csv\")"
   ]
  },
  {
   "cell_type": "code",
   "execution_count": null,
   "id": "074a1f37-a4b0-4195-9b71-cabb45f50eee",
   "metadata": {},
   "outputs": [],
   "source": []
  }
 ],
 "metadata": {
  "kernelspec": {
   "display_name": "Python 3 (ipykernel)",
   "language": "python",
   "name": "python3"
  },
  "language_info": {
   "codemirror_mode": {
    "name": "ipython",
    "version": 3
   },
   "file_extension": ".py",
   "mimetype": "text/x-python",
   "name": "python",
   "nbconvert_exporter": "python",
   "pygments_lexer": "ipython3",
   "version": "3.9.13"
  }
 },
 "nbformat": 4,
 "nbformat_minor": 5
}
