{
 "cells": [
  {
   "cell_type": "code",
   "execution_count": 2,
   "id": "1efc1278-e3ea-4682-a72f-2ae07d87d57c",
   "metadata": {},
   "outputs": [
    {
     "data": {
      "text/plain": [
       "'/code/notebook/script'"
      ]
     },
     "execution_count": 2,
     "metadata": {},
     "output_type": "execute_result"
    }
   ],
   "source": [
    "import os \n",
    "os.getcwd()"
   ]
  },
  {
   "cell_type": "code",
   "execution_count": 3,
   "id": "73a2c412-ddba-46b9-93ce-fb1a94a25e6a",
   "metadata": {},
   "outputs": [],
   "source": [
    "f = open(\"/code/notebook/script/myFile1.txt\", \"r\")\n",
    "task = f.readlines(0)[0]"
   ]
  },
  {
   "cell_type": "code",
   "execution_count": 4,
   "id": "c8052156-0671-4e7e-973a-23c8b04e6b4a",
   "metadata": {},
   "outputs": [
    {
     "data": {
      "text/plain": [
       "'regression'"
      ]
     },
     "execution_count": 4,
     "metadata": {},
     "output_type": "execute_result"
    }
   ],
   "source": [
    "task"
   ]
  },
  {
   "cell_type": "code",
   "execution_count": null,
   "id": "775ede3c-bbdc-42a2-96c6-578af9202536",
   "metadata": {},
   "outputs": [],
   "source": []
  }
 ],
 "metadata": {
  "kernelspec": {
   "display_name": "Python 3 (ipykernel)",
   "language": "python",
   "name": "python3"
  },
  "language_info": {
   "codemirror_mode": {
    "name": "ipython",
    "version": 3
   },
   "file_extension": ".py",
   "mimetype": "text/x-python",
   "name": "python",
   "nbconvert_exporter": "python",
   "pygments_lexer": "ipython3",
   "version": "3.9.13"
  }
 },
 "nbformat": 4,
 "nbformat_minor": 5
}
