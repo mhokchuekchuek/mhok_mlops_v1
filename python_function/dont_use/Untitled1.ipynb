{
 "cells": [
  {
   "cell_type": "code",
   "execution_count": 3,
   "id": "e1db898d-a68a-4bc6-adda-b59c0772d40a",
   "metadata": {},
   "outputs": [],
   "source": [
    "import json\n",
    "with open('/great_expectation/path.json') as json_file:\n",
    "    data = json.load(json_file)"
   ]
  },
  {
   "cell_type": "code",
   "execution_count": 6,
   "id": "732a0ec0-aa12-4ef8-a016-b4bf57bd4b24",
   "metadata": {},
   "outputs": [
    {
     "data": {
      "text/plain": [
       "'/great_expectation/uncommitted/data_docs/local_site/validations/wine_quality_expectation_suite/20221220-182114/20221220T182114.577472Z/af8e254e6219ca5c4bd032eb0d933b16.html'"
      ]
     },
     "execution_count": 6,
     "metadata": {},
     "output_type": "execute_result"
    }
   ],
   "source": [
    "f\"{data['flask_path']}/{data['html_path']}\""
   ]
  },
  {
   "cell_type": "code",
   "execution_count": null,
   "id": "7efb0da5-5d0b-44f5-8238-6a73b90451b3",
   "metadata": {},
   "outputs": [],
   "source": []
  }
 ],
 "metadata": {
  "kernelspec": {
   "display_name": "Python 3 (ipykernel)",
   "language": "python",
   "name": "python3"
  },
  "language_info": {
   "codemirror_mode": {
    "name": "ipython",
    "version": 3
   },
   "file_extension": ".py",
   "mimetype": "text/x-python",
   "name": "python",
   "nbconvert_exporter": "python",
   "pygments_lexer": "ipython3",
   "version": "3.9.13"
  }
 },
 "nbformat": 4,
 "nbformat_minor": 5
}
