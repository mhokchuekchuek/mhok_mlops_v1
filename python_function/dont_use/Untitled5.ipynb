{
 "cells": [
  {
   "cell_type": "code",
   "execution_count": 1,
   "id": "2ca29919-6f85-44c0-bb00-d4e9fbe72b16",
   "metadata": {},
   "outputs": [
    {
     "data": {
      "text/plain": [
       "2"
      ]
     },
     "execution_count": 1,
     "metadata": {},
     "output_type": "execute_result"
    }
   ],
   "source": [
    "import joblib\n",
    "len(joblib.load(\"/save_pipeline/pipeline_27_12_22_17:38:17.pkl\").transformers)"
   ]
  },
  {
   "cell_type": "code",
   "execution_count": 2,
   "id": "5225d454-7558-4bc1-98d7-8d0cde21a9b4",
   "metadata": {},
   "outputs": [],
   "source": [
    "model = joblib.load(\"/artifact/mlruns/286978358198217900/95b9a3ebc32b49b892b1282621f4b456/artifacts/model/model.pkl\")"
   ]
  },
  {
   "cell_type": "code",
   "execution_count": 29,
   "id": "6fa38f69-4342-4a73-9dcd-3f9ada2b8503",
   "metadata": {},
   "outputs": [],
   "source": [
    "model[0].verbosity = 0"
   ]
  },
  {
   "cell_type": "code",
   "execution_count": 30,
   "id": "6234b479-c82b-43e9-915a-2b5efbe34332",
   "metadata": {},
   "outputs": [
    {
     "data": {
      "text/plain": [
       "{'n_estimators': 100,\n",
       " 'objective': 'reg:squarederror',\n",
       " 'max_depth': None,\n",
       " 'max_leaves': None,\n",
       " 'max_bin': None,\n",
       " 'grow_policy': None,\n",
       " 'learning_rate': None,\n",
       " 'verbosity': 0,\n",
       " 'booster': None,\n",
       " 'tree_method': None,\n",
       " 'gamma': None,\n",
       " 'min_child_weight': None,\n",
       " 'max_delta_step': None,\n",
       " 'subsample': None,\n",
       " 'sampling_method': None,\n",
       " 'colsample_bytree': None,\n",
       " 'colsample_bylevel': None,\n",
       " 'colsample_bynode': None,\n",
       " 'reg_alpha': None,\n",
       " 'reg_lambda': None,\n",
       " 'scale_pos_weight': None,\n",
       " 'base_score': None,\n",
       " 'missing': nan,\n",
       " 'num_parallel_tree': None,\n",
       " 'random_state': None,\n",
       " 'n_jobs': -1,\n",
       " 'monotone_constraints': None,\n",
       " 'interaction_constraints': None,\n",
       " 'importance_type': None,\n",
       " 'gpu_id': None,\n",
       " 'validate_parameters': None,\n",
       " 'predictor': None,\n",
       " 'enable_categorical': False,\n",
       " 'feature_types': None,\n",
       " 'max_cat_to_onehot': None,\n",
       " 'max_cat_threshold': None,\n",
       " 'eval_metric': None,\n",
       " 'early_stopping_rounds': None,\n",
       " 'callbacks': None,\n",
       " '_Booster': <xgboost.core.Booster at 0x7f42252534f0>}"
      ]
     },
     "execution_count": 30,
     "metadata": {},
     "output_type": "execute_result"
    }
   ],
   "source": [
    "model[0].__dict__"
   ]
  },
  {
   "cell_type": "code",
   "execution_count": 50,
   "id": "8b2b7467-bc21-4e08-af3d-6ae76d9c7efc",
   "metadata": {
    "tags": []
   },
   "outputs": [],
   "source": [
    "preprocessor = joblib.load(\"/save_pipeline/pipeline_27_12_22_17:38:17.pkl\")\n",
    "\n",
    "all_columns = []\n",
    "cat_feature = []\n",
    "for i in range(len(preprocessor.transformers)):\n",
    "    if preprocessor.transformers[i][0] == \"num\":\n",
    "        all_columns.extend(preprocessor.transformers[i][2])\n",
    "    else:\n",
    "        all_columns.extend(preprocessor.transformers[1][2])\n",
    "        cat_feature.append(preprocessor.transformers[1][2])"
   ]
  },
  {
   "cell_type": "code",
   "execution_count": 49,
   "id": "ed6cc8ef-e249-4e63-8496-489bc2e88aae",
   "metadata": {},
   "outputs": [
    {
     "data": {
      "text/plain": [
       "('cat',\n",
       " Pipeline(steps=[('one_hot', OneHotEncoder(handle_unknown='ignore'))]),\n",
       " ['developer', 'district'])"
      ]
     },
     "execution_count": 49,
     "metadata": {},
     "output_type": "execute_result"
    }
   ],
   "source": [
    "preprocessor.transformers[1]"
   ]
  },
  {
   "cell_type": "code",
   "execution_count": 53,
   "id": "97168d48-8154-4716-bc84-b21d9002ba93",
   "metadata": {},
   "outputs": [
    {
     "data": {
      "text/plain": [
       "StandardScaler()"
      ]
     },
     "execution_count": 53,
     "metadata": {},
     "output_type": "execute_result"
    }
   ],
   "source": [
    "preprocessor.transformers[0][1].steps[1][1]"
   ]
  },
  {
   "cell_type": "code",
   "execution_count": 54,
   "id": "b9963ee0-a876-4457-aa14-af966b4647de",
   "metadata": {},
   "outputs": [
    {
     "data": {
      "text/plain": [
       "ColumnTransformer(transformers=[('num',\n",
       "                                 Pipeline(steps=[('imputer',\n",
       "                                                  SimpleImputer(strategy='median')),\n",
       "                                                 ('scaler', StandardScaler())]),\n",
       "                                 ['bedroom', 'bathroom', 'sqm', 'built_year',\n",
       "                                  'luxuary', 'public', 'BRT_distance',\n",
       "                                  'BTS_distance', 'MRT_distance',\n",
       "                                  'APL_distance', 'Air-Conditioning',\n",
       "                                  'Audio System', 'BBQ pits',\n",
       "                                  'Basketball court', 'Bathtub', 'Bed',\n",
       "                                  'Billiards room', 'Broadband Internet',\n",
       "                                  'Club', 'Clubhouse', 'Colonial Building',\n",
       "                                  'Corner Unit', 'DVD Player', 'Dishwasher',\n",
       "                                  'Driving range', 'Dryer', 'Fridge',\n",
       "                                  'Function room', 'Game room', 'Ground Floor', ...]),\n",
       "                                ('cat',\n",
       "                                 Pipeline(steps=[('one_hot',\n",
       "                                                  OneHotEncoder(handle_unknown='ignore'))]),\n",
       "                                 ['developer', 'district'])])"
      ]
     },
     "execution_count": 54,
     "metadata": {},
     "output_type": "execute_result"
    }
   ],
   "source": [
    "preprocessor"
   ]
  },
  {
   "cell_type": "code",
   "execution_count": 56,
   "id": "36e4d054-ceeb-4833-a641-b81f1e55201b",
   "metadata": {},
   "outputs": [],
   "source": [
    "import pandas as pd\n",
    "X_test = pd.read_csv(\"/ml_data/X_test.csv\").drop(columns = \"Unnamed: 0\")"
   ]
  },
  {
   "cell_type": "code",
   "execution_count": 74,
   "id": "592001f0-9323-48f7-b1d5-8c54a95fecc8",
   "metadata": {},
   "outputs": [],
   "source": [
    "preprocessor = preprocessor.fit(X_test)"
   ]
  },
  {
   "cell_type": "code",
   "execution_count": 108,
   "id": "8774b055-a33c-4130-b534-70ed099032dd",
   "metadata": {},
   "outputs": [],
   "source": [
    "all_columns = []\n",
    "cat_feature = []\n",
    "for i in range(len(preprocessor.transformers_)):\n",
    "    if preprocessor.transformers_[i][0] == \"num\":\n",
    "        all_columns.extend(preprocessor.transformers[i][2])\n",
    "    else:\n",
    "        for j in range(len(preprocessor.transformers_[1][1].steps)):\n",
    "            for array_ja in preprocessor.transformers_[1][1].steps[j][1].categories_:\n",
    "                all_columns.extend(list(array_ja))\n",
    "                cat_feature.extend(list(array_ja))"
   ]
  },
  {
   "cell_type": "code",
   "execution_count": 109,
   "id": "5b4d7c7d-9be6-4151-922b-96fbe65a69a0",
   "metadata": {},
   "outputs": [
    {
     "data": {
      "text/plain": [
       "['AP Thailand - เอพี (ไทยแลนด์) จำกัด (มหาชน)',\n",
       " 'Ananda Development - อนันดา ดีเวลลอปเม้นท์ จํากัด (มหาชน)',\n",
       " 'L.P.N. Development - แอล.พี.เอ็น.ดีเวลลอปเม้นท์ จำกัด (มหาชน)',\n",
       " 'Land and Houses - แลนด์ แอนด์ เฮ้าส์ จำกัด (มหาชน)',\n",
       " 'Magnolia Quality Development - แมกโนเลีย ควอลิตี้ ดีเวล็อปเม้นต์ คอร์ปอเรชั่น จำกัด',\n",
       " 'Major Development - เมเจอร์ ดีเวลลอปเม้นท์ จำกัด (มหาชน)',\n",
       " 'Noble Development - โนเบิล ดีเวลลอปเมนท์ จำกัด (มหาชน)',\n",
       " 'Pace Development - เพซ ดีเวลลอปเมนท์ คอร์ปอเรชั่น จำกัด (มหาชน)',\n",
       " 'Pruksa Real Estate - พฤกษา เรียลเอสเตท จำกัด (มหาชน)',\n",
       " 'Quality Houses - ควอลิตี้ เฮ้าส์ จำกัด (มหาชน)',\n",
       " 'Raimon Land - ไรมอน แลนด์ จำกัด (มหาชน)',\n",
       " 'SC Asset - เอสซี แอสเสท คอร์ปอเรชั่น จำกัด (มหาชน)',\n",
       " 'Sansiri - แสนสิริ จำกัด (มหาชน)',\n",
       " 'Supalai - ศุภาลัย จำกัด (มหาชน)',\n",
       " 'TCC Capital land - ทีซีซี แคปปิตอล แลนด์ จำกัด',\n",
       " 'The Icon Siam Superlux Residence - ดิ ไอคอนสยาม ซูเปอร์ลักซ์ เรสซิเดนซ์ คอร์ปอเรชั่น จำกัด',\n",
       " 'no',\n",
       " 'Bang Rak',\n",
       " 'Chatuchak',\n",
       " 'Huai Khwang',\n",
       " 'Khlong San',\n",
       " 'Khlong Toei',\n",
       " 'Pathum Wan',\n",
       " 'Phra Khanong',\n",
       " 'Ratchathewi',\n",
       " 'Sathon',\n",
       " 'Watthana']"
      ]
     },
     "execution_count": 109,
     "metadata": {},
     "output_type": "execute_result"
    }
   ],
   "source": [
    "cat_feature "
   ]
  },
  {
   "cell_type": "code",
   "execution_count": 101,
   "id": "6a9ff01a-c27f-4c62-bd51-9a80682babbb",
   "metadata": {},
   "outputs": [
    {
     "data": {
      "text/plain": [
       "[array(['AP Thailand - เอพี (ไทยแลนด์) จำกัด (มหาชน)',\n",
       "        'Ananda Development - อนันดา ดีเวลลอปเม้นท์ จํากัด (มหาชน)',\n",
       "        'L.P.N. Development - แอล.พี.เอ็น.ดีเวลลอปเม้นท์ จำกัด (มหาชน)',\n",
       "        'Land and Houses - แลนด์ แอนด์ เฮ้าส์ จำกัด (มหาชน)',\n",
       "        'Magnolia Quality Development - แมกโนเลีย ควอลิตี้ ดีเวล็อปเม้นต์ คอร์ปอเรชั่น จำกัด',\n",
       "        'Major Development - เมเจอร์ ดีเวลลอปเม้นท์ จำกัด (มหาชน)',\n",
       "        'Noble Development - โนเบิล ดีเวลลอปเมนท์ จำกัด (มหาชน)',\n",
       "        'Pace Development - เพซ ดีเวลลอปเมนท์ คอร์ปอเรชั่น จำกัด (มหาชน)',\n",
       "        'Pruksa Real Estate - พฤกษา เรียลเอสเตท จำกัด (มหาชน)',\n",
       "        'Quality Houses - ควอลิตี้ เฮ้าส์ จำกัด (มหาชน)',\n",
       "        'Raimon Land - ไรมอน แลนด์ จำกัด (มหาชน)',\n",
       "        'SC Asset - เอสซี แอสเสท คอร์ปอเรชั่น จำกัด (มหาชน)',\n",
       "        'Sansiri - แสนสิริ จำกัด (มหาชน)',\n",
       "        'Supalai - ศุภาลัย จำกัด (มหาชน)',\n",
       "        'TCC Capital land - ทีซีซี แคปปิตอล แลนด์ จำกัด',\n",
       "        'The Icon Siam Superlux Residence - ดิ ไอคอนสยาม ซูเปอร์ลักซ์ เรสซิเดนซ์ คอร์ปอเรชั่น จำกัด',\n",
       "        'no'], dtype=object),\n",
       " array(['Bang Rak', 'Chatuchak', 'Huai Khwang', 'Khlong San',\n",
       "        'Khlong Toei', 'Pathum Wan', 'Phra Khanong', 'Ratchathewi',\n",
       "        'Sathon', 'Watthana'], dtype=object)]"
      ]
     },
     "execution_count": 101,
     "metadata": {},
     "output_type": "execute_result"
    }
   ],
   "source": [
    "preprocessor.transformers_[1][1].steps[0][1].categories_"
   ]
  },
  {
   "cell_type": "code",
   "execution_count": 97,
   "id": "8e786047-8a1c-4627-91c6-64dd6d63df2f",
   "metadata": {},
   "outputs": [
    {
     "data": {
      "text/plain": [
       "array(['AP Thailand - เอพี (ไทยแลนด์) จำกัด (มหาชน)',\n",
       "       'Ananda Development - อนันดา ดีเวลลอปเม้นท์ จํากัด (มหาชน)',\n",
       "       'L.P.N. Development - แอล.พี.เอ็น.ดีเวลลอปเม้นท์ จำกัด (มหาชน)',\n",
       "       'Land and Houses - แลนด์ แอนด์ เฮ้าส์ จำกัด (มหาชน)',\n",
       "       'Magnolia Quality Development - แมกโนเลีย ควอลิตี้ ดีเวล็อปเม้นต์ คอร์ปอเรชั่น จำกัด',\n",
       "       'Major Development - เมเจอร์ ดีเวลลอปเม้นท์ จำกัด (มหาชน)',\n",
       "       'Noble Development - โนเบิล ดีเวลลอปเมนท์ จำกัด (มหาชน)',\n",
       "       'Pace Development - เพซ ดีเวลลอปเมนท์ คอร์ปอเรชั่น จำกัด (มหาชน)',\n",
       "       'Pruksa Real Estate - พฤกษา เรียลเอสเตท จำกัด (มหาชน)',\n",
       "       'Quality Houses - ควอลิตี้ เฮ้าส์ จำกัด (มหาชน)',\n",
       "       'Raimon Land - ไรมอน แลนด์ จำกัด (มหาชน)',\n",
       "       'SC Asset - เอสซี แอสเสท คอร์ปอเรชั่น จำกัด (มหาชน)',\n",
       "       'Sansiri - แสนสิริ จำกัด (มหาชน)',\n",
       "       'Supalai - ศุภาลัย จำกัด (มหาชน)',\n",
       "       'TCC Capital land - ทีซีซี แคปปิตอล แลนด์ จำกัด',\n",
       "       'The Icon Siam Superlux Residence - ดิ ไอคอนสยาม ซูเปอร์ลักซ์ เรสซิเดนซ์ คอร์ปอเรชั่น จำกัด',\n",
       "       'no'], dtype=object)"
      ]
     },
     "execution_count": 97,
     "metadata": {},
     "output_type": "execute_result"
    }
   ],
   "source": [
    "preprocessor.transformers_[1][1].steps[0][1].categories_[0]"
   ]
  },
  {
   "cell_type": "code",
   "execution_count": 96,
   "id": "812965cc-d19d-43f7-bbb9-fd26404568bf",
   "metadata": {},
   "outputs": [],
   "source": [
    "preprocessor = joblib.load(\"/save_pipeline/pipeline_06_01_23_00:28:19.pkl\")\n",
    "all_columns_1 = []\n",
    "cat_feature_1 = []\n",
    "for i in range(len(preprocessor.transformers_)):\n",
    "    if preprocessor.transformers_[i][0] == \"num\":\n",
    "        all_columns.extend(preprocessor.transformers[i][2])\n",
    "    else:\n",
    "        for j in range(len(preprocessor.transformers_[1][1].steps)):\n",
    "            for array_ja in preprocessor.transformers_[1][1].steps[j][1].categories_:\n",
    "                all_columns_1.extend(list(array_ja))\n",
    "                cat_feature_1.extend(list(array_ja))"
   ]
  },
  {
   "cell_type": "code",
   "execution_count": 99,
   "id": "1a3f9c47-4764-46c1-ab49-b891da81b719",
   "metadata": {},
   "outputs": [
    {
     "data": {
      "text/plain": [
       "60"
      ]
     },
     "execution_count": 99,
     "metadata": {},
     "output_type": "execute_result"
    }
   ],
   "source": [
    "len(all_columns_1)"
   ]
  },
  {
   "cell_type": "code",
   "execution_count": 85,
   "id": "7f8e042a-c609-498b-baa6-2c395c750543",
   "metadata": {},
   "outputs": [
    {
     "data": {
      "text/plain": [
       "60"
      ]
     },
     "execution_count": 85,
     "metadata": {},
     "output_type": "execute_result"
    }
   ],
   "source": [
    "len(cat_feature)"
   ]
  },
  {
   "cell_type": "code",
   "execution_count": 46,
   "id": "7346de33-0086-422f-a4b2-f96fddb9d430",
   "metadata": {},
   "outputs": [],
   "source": [
    "import pandas as pd\n",
    "X_test = pd.read_csv(\"/ml_data/X_test.csv\").drop(columns = \"Unnamed: 0\")\n",
    "X_test[\"built_year\"] = X_test[\"built_year\"].astype(str)"
   ]
  },
  {
   "cell_type": "code",
   "execution_count": 78,
   "id": "c73140e0-c7af-4a2f-bfc5-bb1c2d2d1bd6",
   "metadata": {},
   "outputs": [],
   "source": [
    "a = []\n",
    "for i in [\"developer\", \"built_year\", \"district\"]:\n",
    "    a.extend([j for j in X_test[i].unique()])"
   ]
  },
  {
   "cell_type": "code",
   "execution_count": 87,
   "id": "ddd786f0-98de-44da-bd79-95501cdffc58",
   "metadata": {},
   "outputs": [
    {
     "data": {
      "text/plain": [
       "['no',\n",
       " 'Noble Development - โนเบิล ดีเวลลอปเมนท์ จำกัด (มหาชน)',\n",
       " 'Sansiri - แสนสิริ จำกัด (มหาชน)',\n",
       " 'Raimon Land - ไรมอน แลนด์ จำกัด (มหาชน)',\n",
       " 'Ananda Development - อนันดา ดีเวลลอปเม้นท์ จํากัด (มหาชน)',\n",
       " 'Pruksa Real Estate - พฤกษา เรียลเอสเตท จำกัด (มหาชน)',\n",
       " 'AP Thailand - เอพี (ไทยแลนด์) จำกัด (มหาชน)',\n",
       " 'TCC Capital land - ทีซีซี แคปปิตอล แลนด์ จำกัด',\n",
       " 'Quality Houses - ควอลิตี้ เฮ้าส์ จำกัด (มหาชน)',\n",
       " 'The Icon Siam Superlux Residence - ดิ ไอคอนสยาม ซูเปอร์ลักซ์ เรสซิเดนซ์ คอร์ปอเรชั่น จำกัด',\n",
       " 'Supalai - ศุภาลัย จำกัด (มหาชน)',\n",
       " 'Major Development - เมเจอร์ ดีเวลลอปเม้นท์ จำกัด (มหาชน)',\n",
       " 'Pace Development - เพซ ดีเวลลอปเมนท์ คอร์ปอเรชั่น จำกัด (มหาชน)',\n",
       " 'Land and Houses - แลนด์ แอนด์ เฮ้าส์ จำกัด (มหาชน)',\n",
       " 'L.P.N. Development - แอล.พี.เอ็น.ดีเวลลอปเม้นท์ จำกัด (มหาชน)',\n",
       " 'SC Asset - เอสซี แอสเสท คอร์ปอเรชั่น จำกัด (มหาชน)',\n",
       " 'Magnolia Quality Development - แมกโนเลีย ควอลิตี้ ดีเวล็อปเม้นต์ คอร์ปอเรชั่น จำกัด',\n",
       " '2013',\n",
       " '2014',\n",
       " '2016',\n",
       " '2009',\n",
       " '2012',\n",
       " '2017',\n",
       " '2004',\n",
       " '2010',\n",
       " '2015',\n",
       " '2018',\n",
       " '2005',\n",
       " '2008',\n",
       " '2020',\n",
       " '2007',\n",
       " '1998',\n",
       " '2011',\n",
       " '2006',\n",
       " '2019',\n",
       " '2022',\n",
       " '2021',\n",
       " '1999',\n",
       " '1994',\n",
       " '1995',\n",
       " '2001',\n",
       " '1997',\n",
       " '2000',\n",
       " '1981',\n",
       " '2024',\n",
       " '1996',\n",
       " 'Huai Khwang',\n",
       " 'Chatuchak',\n",
       " 'Bang Rak',\n",
       " 'Phra Khanong',\n",
       " 'Sathon',\n",
       " 'Pathum Wan',\n",
       " 'Khlong San',\n",
       " 'Watthana',\n",
       " 'Ratchathewi',\n",
       " 'Khlong Toei']"
      ]
     },
     "execution_count": 87,
     "metadata": {},
     "output_type": "execute_result"
    }
   ],
   "source": [
    "a"
   ]
  },
  {
   "cell_type": "code",
   "execution_count": 88,
   "id": "036fbaa1-b1bb-4097-a522-c4c025bd4aaa",
   "metadata": {},
   "outputs": [
    {
     "data": {
      "text/plain": [
       "['AP Thailand - เอพี (ไทยแลนด์) จำกัด (มหาชน)',\n",
       " 'Ananda Development - อนันดา ดีเวลลอปเม้นท์ จํากัด (มหาชน)',\n",
       " 'L.P.N. Development - แอล.พี.เอ็น.ดีเวลลอปเม้นท์ จำกัด (มหาชน)',\n",
       " 'Land and Houses - แลนด์ แอนด์ เฮ้าส์ จำกัด (มหาชน)',\n",
       " 'Magnolia Quality Development - แมกโนเลีย ควอลิตี้ ดีเวล็อปเม้นต์ คอร์ปอเรชั่น จำกัด',\n",
       " 'Major Development - เมเจอร์ ดีเวลลอปเม้นท์ จำกัด (มหาชน)',\n",
       " 'Noble Development - โนเบิล ดีเวลลอปเมนท์ จำกัด (มหาชน)',\n",
       " 'Pace Development - เพซ ดีเวลลอปเมนท์ คอร์ปอเรชั่น จำกัด (มหาชน)',\n",
       " 'Pruksa Real Estate - พฤกษา เรียลเอสเตท จำกัด (มหาชน)',\n",
       " 'Quality Houses - ควอลิตี้ เฮ้าส์ จำกัด (มหาชน)',\n",
       " 'Raimon Land - ไรมอน แลนด์ จำกัด (มหาชน)',\n",
       " 'SC Asset - เอสซี แอสเสท คอร์ปอเรชั่น จำกัด (มหาชน)',\n",
       " 'Sansiri - แสนสิริ จำกัด (มหาชน)',\n",
       " 'Supalai - ศุภาลัย จำกัด (มหาชน)',\n",
       " 'TCC Capital land - ทีซีซี แคปปิตอล แลนด์ จำกัด',\n",
       " 'The Icon Siam Superlux Residence - ดิ ไอคอนสยาม ซูเปอร์ลักซ์ เรสซิเดนซ์ คอร์ปอเรชั่น จำกัด',\n",
       " 'no',\n",
       " '1981',\n",
       " '1982',\n",
       " '1992',\n",
       " '1993',\n",
       " '1994',\n",
       " '1995',\n",
       " '1996',\n",
       " '1997',\n",
       " '1998',\n",
       " '1999',\n",
       " '2000',\n",
       " '2001',\n",
       " '2004',\n",
       " '2005',\n",
       " '2006',\n",
       " '2007',\n",
       " '2008',\n",
       " '2009',\n",
       " '2010',\n",
       " '2011',\n",
       " '2012',\n",
       " '2013',\n",
       " '2014',\n",
       " '2015',\n",
       " '2016',\n",
       " '2017',\n",
       " '2018',\n",
       " '2019',\n",
       " '2020',\n",
       " '2021',\n",
       " '2022',\n",
       " '2023',\n",
       " '2024',\n",
       " 'Bang Rak',\n",
       " 'Chatuchak',\n",
       " 'Huai Khwang',\n",
       " 'Khlong San',\n",
       " 'Khlong Toei',\n",
       " 'Pathum Wan',\n",
       " 'Phra Khanong',\n",
       " 'Ratchathewi',\n",
       " 'Sathon',\n",
       " 'Watthana']"
      ]
     },
     "execution_count": 88,
     "metadata": {},
     "output_type": "execute_result"
    }
   ],
   "source": [
    "cat_feature"
   ]
  },
  {
   "cell_type": "code",
   "execution_count": 70,
   "id": "5ff1b5ee-5cd7-4436-9a4b-890cf50887ea",
   "metadata": {},
   "outputs": [
    {
     "data": {
      "text/plain": [
       "array(['Huai Khwang', 'Chatuchak', 'Bang Rak', 'Phra Khanong', 'Sathon',\n",
       "       'Pathum Wan', 'Khlong San', 'Watthana', 'Ratchathewi',\n",
       "       'Khlong Toei'], dtype=object)"
      ]
     },
     "execution_count": 70,
     "metadata": {},
     "output_type": "execute_result"
    }
   ],
   "source": [
    "X_test[\"district\"].unique()"
   ]
  },
  {
   "cell_type": "code",
   "execution_count": 84,
   "id": "b04f515c-ff76-41ce-a45a-c31f12ff95dd",
   "metadata": {},
   "outputs": [
    {
     "data": {
      "text/plain": [
       "(1274, 81)"
      ]
     },
     "execution_count": 84,
     "metadata": {},
     "output_type": "execute_result"
    }
   ],
   "source": [
    "X_test.shape"
   ]
  },
  {
   "cell_type": "code",
   "execution_count": 83,
   "id": "14e2d352-eb78-44a7-a48c-9f75b07c8cdd",
   "metadata": {},
   "outputs": [
    {
     "data": {
      "text/plain": [
       "56"
      ]
     },
     "execution_count": 83,
     "metadata": {},
     "output_type": "execute_result"
    }
   ],
   "source": [
    "len(a)"
   ]
  },
  {
   "cell_type": "code",
   "execution_count": 48,
   "id": "c876deaf-4fa0-49cd-a1ab-ed62adb12f71",
   "metadata": {},
   "outputs": [
    {
     "data": {
      "text/plain": [
       "(1274, 134)"
      ]
     },
     "execution_count": 48,
     "metadata": {},
     "output_type": "execute_result"
    }
   ],
   "source": [
    "preprocessor.fit_transform(X_test).shape"
   ]
  },
  {
   "cell_type": "code",
   "execution_count": 89,
   "id": "cac11bd7-f94c-4434-93fd-3d103ecac2c1",
   "metadata": {},
   "outputs": [
    {
     "data": {
      "text/plain": [
       "ColumnTransformer(n_jobs=-1,\n",
       "                  transformers=[('num',\n",
       "                                 Pipeline(steps=[('imputer',\n",
       "                                                  SimpleImputer(strategy='median')),\n",
       "                                                 ('scaler', StandardScaler())]),\n",
       "                                 ['bedroom', 'bathroom', 'sqm', 'luxuary',\n",
       "                                  'public', 'BRT_distance', 'BTS_distance',\n",
       "                                  'MRT_distance', 'APL_distance',\n",
       "                                  'Air-Conditioning', 'Audio System',\n",
       "                                  'BBQ pits', 'Basketball court', 'Bathtub',\n",
       "                                  'Bed', 'Billiards room', 'Broadband Internet',\n",
       "                                  'Club', 'Clubhouse', 'Colonial Building',\n",
       "                                  'Corner Unit', 'DVD Player', 'Dishwasher',\n",
       "                                  'Driving range', 'Dryer', 'Fridge',\n",
       "                                  'Function room', 'Game room', 'Ground Floor',\n",
       "                                  'Hairdryer', ...]),\n",
       "                                ('cat',\n",
       "                                 Pipeline(steps=[('one_hot',\n",
       "                                                  OneHotEncoder(handle_unknown='ignore'))]),\n",
       "                                 ['developer', 'built_year', 'district'])])"
      ]
     },
     "execution_count": 89,
     "metadata": {},
     "output_type": "execute_result"
    }
   ],
   "source": [
    "preprocessor.fit(X_test)"
   ]
  },
  {
   "cell_type": "code",
   "execution_count": 68,
   "id": "5cdfabc8-976d-4824-af89-3f9cbe8bbeda",
   "metadata": {},
   "outputs": [
    {
     "data": {
      "text/plain": [
       "['Bang Rak',\n",
       " 'Chatuchak',\n",
       " 'Huai Khwang',\n",
       " 'Khlong San',\n",
       " 'Khlong Toei',\n",
       " 'Pathum Wan',\n",
       " 'Phra Khanong',\n",
       " 'Ratchathewi',\n",
       " 'Sathon',\n",
       " 'Watthana']"
      ]
     },
     "execution_count": 68,
     "metadata": {},
     "output_type": "execute_result"
    }
   ],
   "source": [
    "cat_feature[-10:]"
   ]
  },
  {
   "cell_type": "code",
   "execution_count": 100,
   "id": "e6b1e0c5-5cec-4818-ac02-486ed97371bc",
   "metadata": {},
   "outputs": [],
   "source": [
    "preprocessor = preprocessor.fit(X_test)"
   ]
  },
  {
   "cell_type": "code",
   "execution_count": 101,
   "id": "a957bb6a-3bd4-4b22-8ab0-0ba57900a0f9",
   "metadata": {},
   "outputs": [],
   "source": [
    "all_columns = []\n",
    "cat_feature = []\n",
    "for i in range(len(preprocessor.transformers_)):\n",
    "    if preprocessor.transformers_[i][0] == \"num\":\n",
    "        all_columns.extend(preprocessor.transformers[i][2])\n",
    "    else:\n",
    "        for j in range(len(preprocessor.transformers_[1][1].steps)):\n",
    "            for array_ja in preprocessor.transformers_[1][1].steps[j][1].categories_:\n",
    "                all_columns.extend(list(array_ja))\n",
    "                cat_feature.extend(list(array_ja))"
   ]
  },
  {
   "cell_type": "code",
   "execution_count": 102,
   "id": "46735921-08c7-4f8c-9210-f0449bce7503",
   "metadata": {},
   "outputs": [
    {
     "name": "stdout",
     "output_type": "stream",
     "text": [
      "0\n",
      "1\n",
      "2\n",
      "3\n"
     ]
    }
   ],
   "source": [
    "j = -1\n",
    "for i in all_columns_1:\n",
    "    if i not in all_columns:\n",
    "        j+= 1\n",
    "        print(j)"
   ]
  },
  {
   "cell_type": "code",
   "execution_count": 103,
   "id": "a17e854e-7f92-4768-96bc-c1f25a6c78bd",
   "metadata": {},
   "outputs": [
    {
     "data": {
      "text/plain": [
       "['AP Thailand - เอพี (ไทยแลนด์) จำกัด (มหาชน)',\n",
       " 'Ananda Development - อนันดา ดีเวลลอปเม้นท์ จํากัด (มหาชน)',\n",
       " 'L.P.N. Development - แอล.พี.เอ็น.ดีเวลลอปเม้นท์ จำกัด (มหาชน)',\n",
       " 'Land and Houses - แลนด์ แอนด์ เฮ้าส์ จำกัด (มหาชน)',\n",
       " 'Magnolia Quality Development - แมกโนเลีย ควอลิตี้ ดีเวล็อปเม้นต์ คอร์ปอเรชั่น จำกัด',\n",
       " 'Major Development - เมเจอร์ ดีเวลลอปเม้นท์ จำกัด (มหาชน)',\n",
       " 'Noble Development - โนเบิล ดีเวลลอปเมนท์ จำกัด (มหาชน)',\n",
       " 'Pace Development - เพซ ดีเวลลอปเมนท์ คอร์ปอเรชั่น จำกัด (มหาชน)',\n",
       " 'Pruksa Real Estate - พฤกษา เรียลเอสเตท จำกัด (มหาชน)',\n",
       " 'Quality Houses - ควอลิตี้ เฮ้าส์ จำกัด (มหาชน)',\n",
       " 'Raimon Land - ไรมอน แลนด์ จำกัด (มหาชน)',\n",
       " 'SC Asset - เอสซี แอสเสท คอร์ปอเรชั่น จำกัด (มหาชน)',\n",
       " 'Sansiri - แสนสิริ จำกัด (มหาชน)',\n",
       " 'Supalai - ศุภาลัย จำกัด (มหาชน)',\n",
       " 'TCC Capital land - ทีซีซี แคปปิตอล แลนด์ จำกัด',\n",
       " 'The Icon Siam Superlux Residence - ดิ ไอคอนสยาม ซูเปอร์ลักซ์ เรสซิเดนซ์ คอร์ปอเรชั่น จำกัด',\n",
       " 'no',\n",
       " '1981',\n",
       " '1982',\n",
       " '1992',\n",
       " '1993',\n",
       " '1994',\n",
       " '1995',\n",
       " '1996',\n",
       " '1997',\n",
       " '1998',\n",
       " '1999',\n",
       " '2000',\n",
       " '2001',\n",
       " '2004',\n",
       " '2005',\n",
       " '2006',\n",
       " '2007',\n",
       " '2008',\n",
       " '2009',\n",
       " '2010',\n",
       " '2011',\n",
       " '2012',\n",
       " '2013',\n",
       " '2014',\n",
       " '2015',\n",
       " '2016',\n",
       " '2017',\n",
       " '2018',\n",
       " '2019',\n",
       " '2020',\n",
       " '2021',\n",
       " '2022',\n",
       " '2023',\n",
       " '2024',\n",
       " 'Bang Rak',\n",
       " 'Chatuchak',\n",
       " 'Huai Khwang',\n",
       " 'Khlong San',\n",
       " 'Khlong Toei',\n",
       " 'Pathum Wan',\n",
       " 'Phra Khanong',\n",
       " 'Ratchathewi',\n",
       " 'Sathon',\n",
       " 'Watthana']"
      ]
     },
     "execution_count": 103,
     "metadata": {},
     "output_type": "execute_result"
    }
   ],
   "source": [
    "all_columns_1"
   ]
  },
  {
   "cell_type": "code",
   "execution_count": null,
   "id": "4035323b-c892-4fce-926f-98cc16b40783",
   "metadata": {},
   "outputs": [],
   "source": []
  }
 ],
 "metadata": {
  "kernelspec": {
   "display_name": "Python 3 (ipykernel)",
   "language": "python",
   "name": "python3"
  },
  "language_info": {
   "codemirror_mode": {
    "name": "ipython",
    "version": 3
   },
   "file_extension": ".py",
   "mimetype": "text/x-python",
   "name": "python",
   "nbconvert_exporter": "python",
   "pygments_lexer": "ipython3",
   "version": "3.9.13"
  }
 },
 "nbformat": 4,
 "nbformat_minor": 5
}
