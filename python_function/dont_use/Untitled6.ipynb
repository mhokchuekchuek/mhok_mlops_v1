{
 "cells": [
  {
   "cell_type": "code",
   "execution_count": 34,
   "id": "80d94b34-6416-4dab-b47d-d99e42873f9e",
   "metadata": {},
   "outputs": [],
   "source": [
    "def check_cols(preprocessor):\n",
    "    all_columns = []\n",
    "    for i in range(len(preprocessor.transformers_)):\n",
    "        if preprocessor.transformers_[i][0] == \"num\":\n",
    "            all_columns.extend(preprocessor.transformers[i][2])\n",
    "        else:\n",
    "            for j in range(len(preprocessor.transformers_[1][1].steps)):\n",
    "                for array_ja in preprocessor.transformers_[1][1].steps[j][1].categories_:\n",
    "                    all_columns.extend(list(array_ja))\n",
    "    return all_columns"
   ]
  },
  {
   "cell_type": "code",
   "execution_count": 35,
   "id": "f48f01b6-035a-45b0-91b2-5da847778d0c",
   "metadata": {},
   "outputs": [],
   "source": [
    "import joblib\n",
    "preprocessor_1 = joblib.load(\"/save_pipeline/pipeline_06_01_23_01:58:18.pkl\")"
   ]
  },
  {
   "cell_type": "code",
   "execution_count": 36,
   "id": "be07aa17-2349-4949-8515-dd70898aba44",
   "metadata": {},
   "outputs": [],
   "source": [
    "import pandas as pd\n",
    "X_test = pd.read_csv(\"/ml_data/X_test.csv\").drop(columns = \"Unnamed: 0\")\n",
    "X_test[\"built_year\"] = X_test[\"built_year\"].astype(str)"
   ]
  },
  {
   "cell_type": "code",
   "execution_count": 37,
   "id": "b1cefbc6-a3b9-448d-8ef9-2c66dff2b91b",
   "metadata": {},
   "outputs": [],
   "source": [
    "preprocessor_2 = preprocessor_1.fit(X_test)"
   ]
  },
  {
   "cell_type": "code",
   "execution_count": 53,
   "id": "c1a379cb-f835-419b-b42c-116b376a01d0",
   "metadata": {},
   "outputs": [
    {
     "data": {
      "text/plain": [
       "array([-1.92133845, -0.63431634, -0.75415444, -0.63828218, -0.48117823,\n",
       "        0.27562872,  1.57627616, -1.49369187,  0.37208382, -0.73139576,\n",
       "       -0.05612135, -0.20834357, -0.10153462, -0.17770466,  2.38856927,\n",
       "       -0.02802759, -0.09751265, -0.21442251, -0.22425107, -0.02802759,\n",
       "       -0.17052613, -0.02802759, -0.05612135, -0.08894601, -0.02802759,\n",
       "        2.61996136, -0.20420758, -0.18004141,  0.        , -0.02802759,\n",
       "       -0.31949354,  0.        , -0.07949286, -0.04858339, -0.31799936,\n",
       "       -0.11277677, -0.09751265, -0.19135081, -0.39639612, -0.27072868,\n",
       "       -0.0627703 , -0.08434823, -0.12304244, -0.2870765 , -0.14990634,\n",
       "       -0.09332428, -0.04858339,  0.        , -0.02802759, -0.21839727,\n",
       "       -0.02802759, -0.26737361, -0.32246881,  0.        ,  0.        ,\n",
       "       -0.06878853, -0.37354368, -0.05612135, -0.18004141,  0.        ,\n",
       "       -0.28867513, -0.06878853, -0.12304244, -0.08894601, -0.12628921,\n",
       "       -0.33420479, -0.44426166, -0.65074088, -0.7581449 , -0.44552758,\n",
       "       -1.09387007, -0.4069389 , -0.04858339, -1.05987421, -0.62880822,\n",
       "       -1.2991396 , -0.38572359, -0.37354368,  0.        ,  0.        ,\n",
       "        0.        ,  0.        ,  0.        ,  0.        ,  0.        ,\n",
       "        0.        ,  0.        ,  0.        ,  0.        ,  0.        ,\n",
       "        0.        ,  0.        ,  0.        ,  0.        ,  1.        ,\n",
       "        0.        ,  0.        ,  0.        ,  0.        ,  0.        ,\n",
       "        0.        ,  0.        ,  0.        ,  0.        ,  0.        ,\n",
       "        0.        ,  0.        ,  0.        ,  0.        ,  0.        ,\n",
       "        0.        ,  0.        ,  0.        ,  1.        ,  0.        ,\n",
       "        0.        ,  0.        ,  0.        ,  0.        ,  0.        ,\n",
       "        0.        ,  0.        ,  0.        ,  0.        ,  0.        ,\n",
       "        0.        ,  1.        ,  0.        ,  0.        ,  0.        ,\n",
       "        0.        ,  0.        ,  0.        ,  0.        ])"
      ]
     },
     "execution_count": 53,
     "metadata": {},
     "output_type": "execute_result"
    }
   ],
   "source": [
    "preprocessor_1.fit_transform(X_test)[0]"
   ]
  },
  {
   "cell_type": "code",
   "execution_count": 38,
   "id": "f4a98db3-9dde-438f-a4fe-6e7d2caab2cb",
   "metadata": {},
   "outputs": [
    {
     "data": {
      "text/plain": [
       "134"
      ]
     },
     "execution_count": 38,
     "metadata": {},
     "output_type": "execute_result"
    }
   ],
   "source": [
    "len(check_cols(preprocessor_2))"
   ]
  },
  {
   "cell_type": "code",
   "execution_count": 39,
   "id": "2b89cbbe-ce18-4f85-ac85-f334d84bbcc8",
   "metadata": {},
   "outputs": [],
   "source": [
    "j = -1\n",
    "for i in check_cols(preprocessor_1):\n",
    "    if i not in check_cols(preprocessor_2):\n",
    "        j += 1\n",
    "        print(j)"
   ]
  },
  {
   "cell_type": "code",
   "execution_count": 40,
   "id": "3ac58851-fed0-4058-94aa-38a8b3d9bf7c",
   "metadata": {},
   "outputs": [
    {
     "data": {
      "text/plain": [
       "134"
      ]
     },
     "execution_count": 40,
     "metadata": {},
     "output_type": "execute_result"
    }
   ],
   "source": [
    "len(check_cols(preprocessor_1))"
   ]
  },
  {
   "cell_type": "code",
   "execution_count": 41,
   "id": "002e0f90-1304-4df5-9f2d-538577d4605d",
   "metadata": {},
   "outputs": [],
   "source": [
    "X_train_1 = pd.read_csv(\"/ml_data/transform.csv\").drop(columns = [\"Unnamed: 0\"])"
   ]
  },
  {
   "cell_type": "code",
   "execution_count": 42,
   "id": "e21e914e-e6cc-4180-a193-51d0a9333bb4",
   "metadata": {},
   "outputs": [
    {
     "data": {
      "text/html": [
       "<div>\n",
       "<style scoped>\n",
       "    .dataframe tbody tr th:only-of-type {\n",
       "        vertical-align: middle;\n",
       "    }\n",
       "\n",
       "    .dataframe tbody tr th {\n",
       "        vertical-align: top;\n",
       "    }\n",
       "\n",
       "    .dataframe thead th {\n",
       "        text-align: right;\n",
       "    }\n",
       "</style>\n",
       "<table border=\"1\" class=\"dataframe\">\n",
       "  <thead>\n",
       "    <tr style=\"text-align: right;\">\n",
       "      <th></th>\n",
       "      <th>bedroom</th>\n",
       "      <th>bathroom</th>\n",
       "      <th>sqm</th>\n",
       "      <th>luxuary</th>\n",
       "      <th>public</th>\n",
       "      <th>BRT_distance</th>\n",
       "      <th>BTS_distance</th>\n",
       "      <th>MRT_distance</th>\n",
       "      <th>APL_distance</th>\n",
       "      <th>Air-Conditioning</th>\n",
       "      <th>...</th>\n",
       "      <th>Bang Rak</th>\n",
       "      <th>Chatuchak</th>\n",
       "      <th>Huai Khwang</th>\n",
       "      <th>Khlong San</th>\n",
       "      <th>Khlong Toei</th>\n",
       "      <th>Pathum Wan</th>\n",
       "      <th>Phra Khanong</th>\n",
       "      <th>Ratchathewi</th>\n",
       "      <th>Sathon</th>\n",
       "      <th>Watthana</th>\n",
       "    </tr>\n",
       "  </thead>\n",
       "  <tbody>\n",
       "    <tr>\n",
       "      <th>0</th>\n",
       "      <td>-0.585443</td>\n",
       "      <td>-0.657076</td>\n",
       "      <td>-0.401577</td>\n",
       "      <td>-0.634706</td>\n",
       "      <td>-0.471245</td>\n",
       "      <td>0.261430</td>\n",
       "      <td>-0.681108</td>\n",
       "      <td>0.661806</td>\n",
       "      <td>0.360546</td>\n",
       "      <td>-0.726781</td>\n",
       "      <td>...</td>\n",
       "      <td>0.0</td>\n",
       "      <td>0.0</td>\n",
       "      <td>0.0</td>\n",
       "      <td>0.0</td>\n",
       "      <td>0.0</td>\n",
       "      <td>0.0</td>\n",
       "      <td>0.0</td>\n",
       "      <td>1.0</td>\n",
       "      <td>0.0</td>\n",
       "      <td>0.0</td>\n",
       "    </tr>\n",
       "    <tr>\n",
       "      <th>1</th>\n",
       "      <td>0.782651</td>\n",
       "      <td>0.754667</td>\n",
       "      <td>0.768944</td>\n",
       "      <td>-0.634706</td>\n",
       "      <td>-0.471245</td>\n",
       "      <td>-3.876210</td>\n",
       "      <td>-0.688147</td>\n",
       "      <td>0.661806</td>\n",
       "      <td>0.360546</td>\n",
       "      <td>1.375929</td>\n",
       "      <td>...</td>\n",
       "      <td>1.0</td>\n",
       "      <td>0.0</td>\n",
       "      <td>0.0</td>\n",
       "      <td>0.0</td>\n",
       "      <td>0.0</td>\n",
       "      <td>0.0</td>\n",
       "      <td>0.0</td>\n",
       "      <td>0.0</td>\n",
       "      <td>0.0</td>\n",
       "      <td>0.0</td>\n",
       "    </tr>\n",
       "    <tr>\n",
       "      <th>2</th>\n",
       "      <td>0.782651</td>\n",
       "      <td>0.754667</td>\n",
       "      <td>0.624438</td>\n",
       "      <td>-0.634706</td>\n",
       "      <td>-0.471245</td>\n",
       "      <td>0.261430</td>\n",
       "      <td>-0.655297</td>\n",
       "      <td>0.661806</td>\n",
       "      <td>0.360546</td>\n",
       "      <td>1.375929</td>\n",
       "      <td>...</td>\n",
       "      <td>0.0</td>\n",
       "      <td>0.0</td>\n",
       "      <td>0.0</td>\n",
       "      <td>1.0</td>\n",
       "      <td>0.0</td>\n",
       "      <td>0.0</td>\n",
       "      <td>0.0</td>\n",
       "      <td>0.0</td>\n",
       "      <td>0.0</td>\n",
       "      <td>0.0</td>\n",
       "    </tr>\n",
       "    <tr>\n",
       "      <th>3</th>\n",
       "      <td>-0.585443</td>\n",
       "      <td>-0.657076</td>\n",
       "      <td>0.087913</td>\n",
       "      <td>-0.634706</td>\n",
       "      <td>-0.471245</td>\n",
       "      <td>0.261430</td>\n",
       "      <td>-0.664683</td>\n",
       "      <td>0.661806</td>\n",
       "      <td>0.360546</td>\n",
       "      <td>-0.726781</td>\n",
       "      <td>...</td>\n",
       "      <td>1.0</td>\n",
       "      <td>0.0</td>\n",
       "      <td>0.0</td>\n",
       "      <td>0.0</td>\n",
       "      <td>0.0</td>\n",
       "      <td>0.0</td>\n",
       "      <td>0.0</td>\n",
       "      <td>0.0</td>\n",
       "      <td>0.0</td>\n",
       "      <td>0.0</td>\n",
       "    </tr>\n",
       "    <tr>\n",
       "      <th>4</th>\n",
       "      <td>0.782651</td>\n",
       "      <td>0.754667</td>\n",
       "      <td>0.784267</td>\n",
       "      <td>-0.634706</td>\n",
       "      <td>-0.471245</td>\n",
       "      <td>0.261430</td>\n",
       "      <td>-0.655297</td>\n",
       "      <td>0.661806</td>\n",
       "      <td>0.360546</td>\n",
       "      <td>-0.726781</td>\n",
       "      <td>...</td>\n",
       "      <td>0.0</td>\n",
       "      <td>0.0</td>\n",
       "      <td>0.0</td>\n",
       "      <td>1.0</td>\n",
       "      <td>0.0</td>\n",
       "      <td>0.0</td>\n",
       "      <td>0.0</td>\n",
       "      <td>0.0</td>\n",
       "      <td>0.0</td>\n",
       "      <td>0.0</td>\n",
       "    </tr>\n",
       "    <tr>\n",
       "      <th>...</th>\n",
       "      <td>...</td>\n",
       "      <td>...</td>\n",
       "      <td>...</td>\n",
       "      <td>...</td>\n",
       "      <td>...</td>\n",
       "      <td>...</td>\n",
       "      <td>...</td>\n",
       "      <td>...</td>\n",
       "      <td>...</td>\n",
       "      <td>...</td>\n",
       "      <td>...</td>\n",
       "      <td>...</td>\n",
       "      <td>...</td>\n",
       "      <td>...</td>\n",
       "      <td>...</td>\n",
       "      <td>...</td>\n",
       "      <td>...</td>\n",
       "      <td>...</td>\n",
       "      <td>...</td>\n",
       "      <td>...</td>\n",
       "      <td>...</td>\n",
       "    </tr>\n",
       "    <tr>\n",
       "      <th>5087</th>\n",
       "      <td>0.782651</td>\n",
       "      <td>2.166411</td>\n",
       "      <td>1.641514</td>\n",
       "      <td>1.576668</td>\n",
       "      <td>1.062522</td>\n",
       "      <td>0.261430</td>\n",
       "      <td>-0.552051</td>\n",
       "      <td>0.661806</td>\n",
       "      <td>0.360546</td>\n",
       "      <td>-0.726781</td>\n",
       "      <td>...</td>\n",
       "      <td>0.0</td>\n",
       "      <td>0.0</td>\n",
       "      <td>0.0</td>\n",
       "      <td>0.0</td>\n",
       "      <td>0.0</td>\n",
       "      <td>1.0</td>\n",
       "      <td>0.0</td>\n",
       "      <td>0.0</td>\n",
       "      <td>0.0</td>\n",
       "      <td>0.0</td>\n",
       "    </tr>\n",
       "    <tr>\n",
       "      <th>5088</th>\n",
       "      <td>0.782651</td>\n",
       "      <td>0.754667</td>\n",
       "      <td>0.002784</td>\n",
       "      <td>-0.634706</td>\n",
       "      <td>-0.471245</td>\n",
       "      <td>0.261430</td>\n",
       "      <td>-0.638871</td>\n",
       "      <td>0.661806</td>\n",
       "      <td>0.360546</td>\n",
       "      <td>1.375929</td>\n",
       "      <td>...</td>\n",
       "      <td>0.0</td>\n",
       "      <td>0.0</td>\n",
       "      <td>0.0</td>\n",
       "      <td>0.0</td>\n",
       "      <td>0.0</td>\n",
       "      <td>0.0</td>\n",
       "      <td>0.0</td>\n",
       "      <td>0.0</td>\n",
       "      <td>1.0</td>\n",
       "      <td>0.0</td>\n",
       "    </tr>\n",
       "    <tr>\n",
       "      <th>5089</th>\n",
       "      <td>-0.585443</td>\n",
       "      <td>-0.657076</td>\n",
       "      <td>-0.678246</td>\n",
       "      <td>-0.634706</td>\n",
       "      <td>0.295639</td>\n",
       "      <td>0.261430</td>\n",
       "      <td>1.634881</td>\n",
       "      <td>-1.536560</td>\n",
       "      <td>0.360546</td>\n",
       "      <td>-0.726781</td>\n",
       "      <td>...</td>\n",
       "      <td>0.0</td>\n",
       "      <td>0.0</td>\n",
       "      <td>1.0</td>\n",
       "      <td>0.0</td>\n",
       "      <td>0.0</td>\n",
       "      <td>0.0</td>\n",
       "      <td>0.0</td>\n",
       "      <td>0.0</td>\n",
       "      <td>0.0</td>\n",
       "      <td>0.0</td>\n",
       "    </tr>\n",
       "    <tr>\n",
       "      <th>5090</th>\n",
       "      <td>0.782651</td>\n",
       "      <td>0.754667</td>\n",
       "      <td>-0.039780</td>\n",
       "      <td>-0.634706</td>\n",
       "      <td>0.295639</td>\n",
       "      <td>0.261430</td>\n",
       "      <td>-0.664683</td>\n",
       "      <td>0.661806</td>\n",
       "      <td>-2.771656</td>\n",
       "      <td>-0.726781</td>\n",
       "      <td>...</td>\n",
       "      <td>0.0</td>\n",
       "      <td>0.0</td>\n",
       "      <td>0.0</td>\n",
       "      <td>0.0</td>\n",
       "      <td>0.0</td>\n",
       "      <td>0.0</td>\n",
       "      <td>0.0</td>\n",
       "      <td>1.0</td>\n",
       "      <td>0.0</td>\n",
       "      <td>0.0</td>\n",
       "    </tr>\n",
       "    <tr>\n",
       "      <th>5091</th>\n",
       "      <td>0.782651</td>\n",
       "      <td>0.754667</td>\n",
       "      <td>1.556385</td>\n",
       "      <td>-0.634706</td>\n",
       "      <td>-0.471245</td>\n",
       "      <td>-3.722806</td>\n",
       "      <td>-0.559090</td>\n",
       "      <td>0.661806</td>\n",
       "      <td>0.360546</td>\n",
       "      <td>-0.726781</td>\n",
       "      <td>...</td>\n",
       "      <td>0.0</td>\n",
       "      <td>0.0</td>\n",
       "      <td>0.0</td>\n",
       "      <td>0.0</td>\n",
       "      <td>0.0</td>\n",
       "      <td>0.0</td>\n",
       "      <td>0.0</td>\n",
       "      <td>0.0</td>\n",
       "      <td>1.0</td>\n",
       "      <td>0.0</td>\n",
       "    </tr>\n",
       "  </tbody>\n",
       "</table>\n",
       "<p>5092 rows × 138 columns</p>\n",
       "</div>"
      ],
      "text/plain": [
       "       bedroom  bathroom       sqm   luxuary    public  BRT_distance  \\\n",
       "0    -0.585443 -0.657076 -0.401577 -0.634706 -0.471245      0.261430   \n",
       "1     0.782651  0.754667  0.768944 -0.634706 -0.471245     -3.876210   \n",
       "2     0.782651  0.754667  0.624438 -0.634706 -0.471245      0.261430   \n",
       "3    -0.585443 -0.657076  0.087913 -0.634706 -0.471245      0.261430   \n",
       "4     0.782651  0.754667  0.784267 -0.634706 -0.471245      0.261430   \n",
       "...        ...       ...       ...       ...       ...           ...   \n",
       "5087  0.782651  2.166411  1.641514  1.576668  1.062522      0.261430   \n",
       "5088  0.782651  0.754667  0.002784 -0.634706 -0.471245      0.261430   \n",
       "5089 -0.585443 -0.657076 -0.678246 -0.634706  0.295639      0.261430   \n",
       "5090  0.782651  0.754667 -0.039780 -0.634706  0.295639      0.261430   \n",
       "5091  0.782651  0.754667  1.556385 -0.634706 -0.471245     -3.722806   \n",
       "\n",
       "      BTS_distance  MRT_distance  APL_distance  Air-Conditioning  ...  \\\n",
       "0        -0.681108      0.661806      0.360546         -0.726781  ...   \n",
       "1        -0.688147      0.661806      0.360546          1.375929  ...   \n",
       "2        -0.655297      0.661806      0.360546          1.375929  ...   \n",
       "3        -0.664683      0.661806      0.360546         -0.726781  ...   \n",
       "4        -0.655297      0.661806      0.360546         -0.726781  ...   \n",
       "...            ...           ...           ...               ...  ...   \n",
       "5087     -0.552051      0.661806      0.360546         -0.726781  ...   \n",
       "5088     -0.638871      0.661806      0.360546          1.375929  ...   \n",
       "5089      1.634881     -1.536560      0.360546         -0.726781  ...   \n",
       "5090     -0.664683      0.661806     -2.771656         -0.726781  ...   \n",
       "5091     -0.559090      0.661806      0.360546         -0.726781  ...   \n",
       "\n",
       "      Bang Rak  Chatuchak  Huai Khwang  Khlong San  Khlong Toei  Pathum Wan  \\\n",
       "0          0.0        0.0          0.0         0.0          0.0         0.0   \n",
       "1          1.0        0.0          0.0         0.0          0.0         0.0   \n",
       "2          0.0        0.0          0.0         1.0          0.0         0.0   \n",
       "3          1.0        0.0          0.0         0.0          0.0         0.0   \n",
       "4          0.0        0.0          0.0         1.0          0.0         0.0   \n",
       "...        ...        ...          ...         ...          ...         ...   \n",
       "5087       0.0        0.0          0.0         0.0          0.0         1.0   \n",
       "5088       0.0        0.0          0.0         0.0          0.0         0.0   \n",
       "5089       0.0        0.0          1.0         0.0          0.0         0.0   \n",
       "5090       0.0        0.0          0.0         0.0          0.0         0.0   \n",
       "5091       0.0        0.0          0.0         0.0          0.0         0.0   \n",
       "\n",
       "      Phra Khanong  Ratchathewi  Sathon  Watthana  \n",
       "0              0.0          1.0     0.0       0.0  \n",
       "1              0.0          0.0     0.0       0.0  \n",
       "2              0.0          0.0     0.0       0.0  \n",
       "3              0.0          0.0     0.0       0.0  \n",
       "4              0.0          0.0     0.0       0.0  \n",
       "...            ...          ...     ...       ...  \n",
       "5087           0.0          0.0     0.0       0.0  \n",
       "5088           0.0          0.0     1.0       0.0  \n",
       "5089           0.0          0.0     0.0       0.0  \n",
       "5090           0.0          1.0     0.0       0.0  \n",
       "5091           0.0          0.0     1.0       0.0  \n",
       "\n",
       "[5092 rows x 138 columns]"
      ]
     },
     "execution_count": 42,
     "metadata": {},
     "output_type": "execute_result"
    }
   ],
   "source": [
    "X_train_1"
   ]
  },
  {
   "cell_type": "code",
   "execution_count": 47,
   "id": "13296d77-f22a-45c0-83c3-da3aaa54515f",
   "metadata": {},
   "outputs": [
    {
     "name": "stdout",
     "output_type": "stream",
     "text": [
      "96\n",
      "97\n",
      "98\n",
      "126\n"
     ]
    }
   ],
   "source": [
    "def insert_cols(preprocessor_2):\n",
    "    num = []\n",
    "    j = -1\n",
    "    for i in X_train_1.columns:\n",
    "        j += 1\n",
    "        if i not in check_cols(preprocessor_2):\n",
    "            num.append(j)\n",
    "    return num"
   ]
  },
  {
   "cell_type": "code",
   "execution_count": 55,
   "id": "f29c45b6-beff-4f66-9b1f-45f0d9b50920",
   "metadata": {},
   "outputs": [],
   "source": [
    "import numpy as np\n",
    "a = np.array([[1, 1], [2, 2], [3, 3]])"
   ]
  },
  {
   "cell_type": "code",
   "execution_count": 63,
   "id": "70f25c33-22c6-4acb-ae0e-0780e752fb06",
   "metadata": {},
   "outputs": [
    {
     "data": {
      "text/plain": [
       "(3, 2)"
      ]
     },
     "execution_count": 63,
     "metadata": {},
     "output_type": "execute_result"
    }
   ],
   "source": [
    "a.shape"
   ]
  },
  {
   "cell_type": "code",
   "execution_count": 59,
   "id": "599b6e78-c7d2-4828-85ab-3f10888fcb30",
   "metadata": {},
   "outputs": [
    {
     "data": {
      "text/plain": [
       "array([1, 5, 1, 2, 2, 3, 3])"
      ]
     },
     "execution_count": 59,
     "metadata": {},
     "output_type": "execute_result"
    }
   ],
   "source": [
    "np.insert(a, 1, 5)"
   ]
  },
  {
   "cell_type": "code",
   "execution_count": 68,
   "id": "423fb149-d65a-4b91-9f08-88b9de4eea57",
   "metadata": {},
   "outputs": [
    {
     "data": {
      "text/plain": [
       "(1274, 138)"
      ]
     },
     "execution_count": 68,
     "metadata": {},
     "output_type": "execute_result"
    }
   ],
   "source": [
    "np.insert(preprocessor_1.fit_transform(X_test),[96, 97, 98, 126],0, axis = 1).shape"
   ]
  },
  {
   "cell_type": "code",
   "execution_count": null,
   "id": "d2871d3c-fa94-4a84-9a08-07a2943b0d6e",
   "metadata": {},
   "outputs": [],
   "source": [
    ".insert(arr, 1, 9, axis = 1)"
   ]
  }
 ],
 "metadata": {
  "kernelspec": {
   "display_name": "Python 3 (ipykernel)",
   "language": "python",
   "name": "python3"
  },
  "language_info": {
   "codemirror_mode": {
    "name": "ipython",
    "version": 3
   },
   "file_extension": ".py",
   "mimetype": "text/x-python",
   "name": "python",
   "nbconvert_exporter": "python",
   "pygments_lexer": "ipython3",
   "version": "3.9.13"
  }
 },
 "nbformat": 4,
 "nbformat_minor": 5
}
