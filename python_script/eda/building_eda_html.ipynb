{
 "cells": [
  {
   "cell_type": "code",
   "execution_count": 1,
   "id": "0cdd0cc9-7ff5-4c5f-9ce8-d56cdfd4c597",
   "metadata": {
    "tags": []
   },
   "outputs": [],
   "source": [
    "from pandas_profiling import ProfileReport"
   ]
  },
  {
   "cell_type": "code",
   "execution_count": 2,
   "id": "7be90ce9-a9a8-4d2f-a684-687e7642d00f",
   "metadata": {},
   "outputs": [],
   "source": [
    "import pandas as pd\n",
    "csv_url = (\"http://archive.ics.uci.edu/ml/machine-learning-databases/wine-quality/winequality-red.csv\")\n",
    "data = pd.read_csv(csv_url, sep=\";\")"
   ]
  },
  {
   "cell_type": "code",
   "execution_count": 5,
   "id": "94b1b6a5-427e-4d9c-8b07-c68ca2780ee3",
   "metadata": {},
   "outputs": [
    {
     "data": {
      "application/vnd.jupyter.widget-view+json": {
       "model_id": "28bf314b1e9c46a5b5d6c710f01ed333",
       "version_major": 2,
       "version_minor": 0
      },
      "text/plain": [
       "Summarize dataset:   0%|          | 0/5 [00:00<?, ?it/s]"
      ]
     },
     "metadata": {},
     "output_type": "display_data"
    },
    {
     "name": "stderr",
     "output_type": "stream",
     "text": [
      "/usr/local/lib/python3.9/site-packages/multimethod/__init__.py:315: FutureWarning: iteritems is deprecated and will be removed in a future version. Use .items instead.\n",
      "  return func(*args, **kwargs)\n",
      "/usr/local/lib/python3.9/site-packages/multimethod/__init__.py:315: FutureWarning: In a future version, `df.iloc[:, i] = newvals` will attempt to set the values inplace instead of always setting a new array. To retain the old behavior, use either `df[df.columns[i]] = newvals` or, if columns are non-unique, `df.isetitem(i, newvals)`\n",
      "  return func(*args, **kwargs)\n"
     ]
    },
    {
     "data": {
      "application/vnd.jupyter.widget-view+json": {
       "model_id": "f3b1336455a04509be74d94b160c5fe2",
       "version_major": 2,
       "version_minor": 0
      },
      "text/plain": [
       "Generate report structure:   0%|          | 0/1 [00:00<?, ?it/s]"
      ]
     },
     "metadata": {},
     "output_type": "display_data"
    },
    {
     "data": {
      "application/vnd.jupyter.widget-view+json": {
       "model_id": "e8ac39133d39481db7deebc7c0214282",
       "version_major": 2,
       "version_minor": 0
      },
      "text/plain": [
       "Render HTML:   0%|          | 0/1 [00:00<?, ?it/s]"
      ]
     },
     "metadata": {},
     "output_type": "display_data"
    },
    {
     "data": {
      "application/vnd.jupyter.widget-view+json": {
       "model_id": "aa4efdd87def4bf9927708424a40d7c0",
       "version_major": 2,
       "version_minor": 0
      },
      "text/plain": [
       "Export report to file:   0%|          | 0/1 [00:00<?, ?it/s]"
      ]
     },
     "metadata": {},
     "output_type": "display_data"
    }
   ],
   "source": [
    "profile = ProfileReport(data)\n",
    "profile.to_file(output_file=\"output_min.html\")"
   ]
  },
  {
   "cell_type": "code",
   "execution_count": 9,
   "id": "395245a8-217f-49eb-80d1-2b23d5c322a4",
   "metadata": {},
   "outputs": [],
   "source": [
    "from typing import TypeVar\n",
    "Pandas_df= TypeVar('pandas')"
   ]
  },
  {
   "cell_type": "code",
   "execution_count": 11,
   "id": "42700525-673d-4c04-90ba-0fabc0d007f2",
   "metadata": {},
   "outputs": [
    {
     "ename": "SyntaxError",
     "evalue": "invalid syntax (1231875060.py, line 13)",
     "output_type": "error",
     "traceback": [
      "\u001b[0;36m  Cell \u001b[0;32mIn [11], line 13\u001b[0;36m\u001b[0m\n\u001b[0;31m    def _eda(df: Pandas_df, name: str, overwrite = False: bool) -> str:\u001b[0m\n\u001b[0m                                                        ^\u001b[0m\n\u001b[0;31mSyntaxError\u001b[0m\u001b[0;31m:\u001b[0m invalid syntax\n"
     ]
    }
   ],
   "source": [
    "from typing import TypeVar\n",
    "Pandas_df= TypeVar('pandas')\n",
    "\n",
    "def _check(name:str):\n",
    "    f = open('/code/script/eda/myfile.txt', 'r')\n",
    "    list_datasource = [x for x in f.readlines()]\n",
    "    if name not in list_datasource:\n",
    "        file1 = open('/code/script/eda/myfile.txt', 'w')\n",
    "        file1.writelines([name])\n",
    "        return True\n",
    "    return False\n",
    "    \n",
    "def _eda(df: Pandas_df, name: str, overwrite = False: bool) -> str:\n",
    "    root_path = \"/eda_html\"\n",
    "    html_path = f\"{root_path}/{name}.html\"\n",
    "    if _check(name):\n",
    "        profile = ProfileReport(df)\n",
    "        profile.to_file(output_file= html_path)\n",
    "    else:\n",
    "        if overwrite:\n",
    "            profile = ProfileReport(df)\n",
    "            profile.to_file(output_file= html_path)\n",
    "    return html_path\n",
    "\n",
    "def eda(df: Pandas_df, name: str, overwrite = False: bool) -> str:\n",
    "    path_to_list  = _eda(df, name, overwrite).split(\"/\")\n",
    "    template_dir = os.path.abspath(\"/\".join(path_to_list[:-1]))\n",
    "    a = {}\n",
    "    a[\"flask_path\"] = template_dir\n",
    "    a[\"html_path\"] = path_to_list[-1]\n",
    "    with open(\"/script/eda/path.json\", \"w\") as outfile:\n",
    "        json.dump(a, outfile)\n",
    "    "
   ]
  },
  {
   "cell_type": "code",
   "execution_count": null,
   "id": "a45f81fc-e358-40b1-b8ed-7de781811493",
   "metadata": {},
   "outputs": [],
   "source": []
  }
 ],
 "metadata": {
  "kernelspec": {
   "display_name": "Python 3 (ipykernel)",
   "language": "python",
   "name": "python3"
  },
  "language_info": {
   "codemirror_mode": {
    "name": "ipython",
    "version": 3
   },
   "file_extension": ".py",
   "mimetype": "text/x-python",
   "name": "python",
   "nbconvert_exporter": "python",
   "pygments_lexer": "ipython3",
   "version": "3.9.13"
  }
 },
 "nbformat": 4,
 "nbformat_minor": 5
}
