{
 "cells": [
  {
   "cell_type": "code",
   "execution_count": 7,
   "id": "70ae4804-7572-4521-82c9-36e447be9f25",
   "metadata": {},
   "outputs": [],
   "source": [
    "f = open('/code/notebook/script/model/myfile.txt', 'r')\n",
    "list_pipeline = [x for x in f.readlines()]"
   ]
  },
  {
   "cell_type": "code",
   "execution_count": 8,
   "id": "e72599ff-46ce-45fa-b374-c01efc375f5c",
   "metadata": {},
   "outputs": [
    {
     "data": {
      "text/plain": [
       "'/save_pipeline/pipeline_09_01_23_02:07:37.pkl \\n'"
      ]
     },
     "execution_count": 8,
     "metadata": {},
     "output_type": "execute_result"
    }
   ],
   "source": [
    "list_pipeline[-1]"
   ]
  },
  {
   "cell_type": "code",
   "execution_count": 9,
   "id": "37534826-f177-49cd-a756-9201db50f86f",
   "metadata": {},
   "outputs": [],
   "source": [
    "import joblib\n",
    "f = open('/code/notebook/script/model/myfile.txt', 'r')\n",
    "list_pipeline = [x for x in f.readlines()]\n",
    "if list_pipeline:\n",
    "    last_timestamp = list_pipeline[-1].replace(\" \\n\",\"\")\n",
    "    pipeline_ja = joblib.load(last_timestamp)"
   ]
  },
  {
   "cell_type": "code",
   "execution_count": 10,
   "id": "887e8708-b6f7-487c-967b-4961bcd8596d",
   "metadata": {},
   "outputs": [
    {
     "data": {
      "text/plain": [
       "'/save_pipeline/pipeline_09_01_23_02:07:37.pkl'"
      ]
     },
     "execution_count": 10,
     "metadata": {},
     "output_type": "execute_result"
    }
   ],
   "source": [
    "last_timestamp"
   ]
  },
  {
   "cell_type": "code",
   "execution_count": null,
   "id": "8cf7a81c-1e9f-40a7-9e29-0c1d2e6b44ec",
   "metadata": {},
   "outputs": [],
   "source": []
  }
 ],
 "metadata": {
  "kernelspec": {
   "display_name": "Python 3 (ipykernel)",
   "language": "python",
   "name": "python3"
  },
  "language_info": {
   "codemirror_mode": {
    "name": "ipython",
    "version": 3
   },
   "file_extension": ".py",
   "mimetype": "text/x-python",
   "name": "python",
   "nbconvert_exporter": "python",
   "pygments_lexer": "ipython3",
   "version": "3.9.13"
  }
 },
 "nbformat": 4,
 "nbformat_minor": 5
}
