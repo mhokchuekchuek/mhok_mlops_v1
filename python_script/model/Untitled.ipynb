{
 "cells": [
  {
   "cell_type": "code",
   "execution_count": 9,
   "id": "f89d4a27-87a1-4aa7-9308-5ced88f28751",
   "metadata": {},
   "outputs": [
    {
     "name": "stdout",
     "output_type": "stream",
     "text": [
      ".\n",
      "..\n",
      ".bashrc\n",
      ".cache\n",
      ".config\n",
      ".ipython\n",
      ".jupyter\n",
      ".local\n",
      ".profile\n",
      ".python_history\n",
      ".wget-hsts\n"
     ]
    },
    {
     "data": {
      "text/plain": [
       "0"
      ]
     },
     "execution_count": 9,
     "metadata": {},
     "output_type": "execute_result"
    }
   ],
   "source": [
    "import os\n",
    "os.system(\"cd ~ ; ls -a\")"
   ]
  },
  {
   "cell_type": "code",
   "execution_count": null,
   "id": "50ef9a50-29ab-4d40-b650-2626bc9a0235",
   "metadata": {},
   "outputs": [],
   "source": []
  }
 ],
 "metadata": {
  "kernelspec": {
   "display_name": "Python 3 (ipykernel)",
   "language": "python",
   "name": "python3"
  },
  "language_info": {
   "codemirror_mode": {
    "name": "ipython",
    "version": 3
   },
   "file_extension": ".py",
   "mimetype": "text/x-python",
   "name": "python",
   "nbconvert_exporter": "python",
   "pygments_lexer": "ipython3",
   "version": "3.9.13"
  }
 },
 "nbformat": 4,
 "nbformat_minor": 5
}
