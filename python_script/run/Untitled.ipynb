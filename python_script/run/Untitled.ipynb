{
 "cells": [
  {
   "cell_type": "code",
   "execution_count": 2,
   "id": "bd3993d5-8232-4504-bafb-028b63b39aff",
   "metadata": {},
   "outputs": [],
   "source": [
    "import sys\n",
    "sys.path.append('../..')\n",
    "sys.path.append('/code/notebook/')\n",
    "from hyperopt import Trials, STATUS_OK, tpe, hp, fmin, STATUS_FAIL, space_eval\n",
    "from script.data_preparation.data_prep import preparation\n",
    "from script.model.hyperparams_v2 import *"
   ]
  },
  {
   "cell_type": "code",
   "execution_count": 3,
   "id": "8cf987ff-057d-4d72-b107-f857926a1037",
   "metadata": {},
   "outputs": [
    {
     "data": {
      "text/plain": [
       "['/code/notebook/script/run',\n",
       " '/usr/local/lib/python39.zip',\n",
       " '/usr/local/lib/python3.9',\n",
       " '/usr/local/lib/python3.9/lib-dynload',\n",
       " '',\n",
       " '/root/.local/lib/python3.9/site-packages',\n",
       " '/usr/local/lib/python3.9/site-packages',\n",
       " '/usr/local/lib/python3.9/site-packages/IPython/extensions',\n",
       " '/root/.ipython',\n",
       " '../..',\n",
       " '/code/notebook/']"
      ]
     },
     "execution_count": 3,
     "metadata": {},
     "output_type": "execute_result"
    }
   ],
   "source": [
    "sys.path"
   ]
  },
  {
   "cell_type": "code",
   "execution_count": null,
   "id": "e4e621d0-e9b1-462b-b997-efa4781b1511",
   "metadata": {},
   "outputs": [],
   "source": []
  }
 ],
 "metadata": {
  "kernelspec": {
   "display_name": "Python 3 (ipykernel)",
   "language": "python",
   "name": "python3"
  },
  "language_info": {
   "codemirror_mode": {
    "name": "ipython",
    "version": 3
   },
   "file_extension": ".py",
   "mimetype": "text/x-python",
   "name": "python",
   "nbconvert_exporter": "python",
   "pygments_lexer": "ipython3",
   "version": "3.9.13"
  }
 },
 "nbformat": 4,
 "nbformat_minor": 5
}
