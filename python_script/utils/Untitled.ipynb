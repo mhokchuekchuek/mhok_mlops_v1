{
 "cells": [
  {
   "cell_type": "code",
   "execution_count": 7,
   "id": "0f70ac90-685a-4cec-a32d-55e98b9472c0",
   "metadata": {},
   "outputs": [],
   "source": [
    "from data_preparation.data_prep import preparation"
   ]
  },
  {
   "cell_type": "code",
   "execution_count": 6,
   "id": "9578c12d-fdc0-4250-9664-63f2f7dc3b38",
   "metadata": {},
   "outputs": [],
   "source": [
    "# importing module\n",
    "import sys\n",
    "  \n",
    "# printing all directories\n",
    "sys.path.append('../..')"
   ]
  },
  {
   "cell_type": "code",
   "execution_count": null,
   "id": "4efde918-14fe-419f-a9f0-4e60562f1f51",
   "metadata": {},
   "outputs": [],
   "source": []
  }
 ],
 "metadata": {
  "kernelspec": {
   "display_name": "Python 3 (ipykernel)",
   "language": "python",
   "name": "python3"
  },
  "language_info": {
   "codemirror_mode": {
    "name": "ipython",
    "version": 3
   },
   "file_extension": ".py",
   "mimetype": "text/x-python",
   "name": "python",
   "nbconvert_exporter": "python",
   "pygments_lexer": "ipython3",
   "version": "3.9.13"
  }
 },
 "nbformat": 4,
 "nbformat_minor": 5
}
